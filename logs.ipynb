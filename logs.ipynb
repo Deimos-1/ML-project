{
 "cells": [
  {
   "cell_type": "markdown",
   "id": "2bb39a79",
   "metadata": {},
   "source": [
    "# Logging of the project\n",
    "\n",
    "In this notebook you will find all the steps it took us to acurately predict the temperature of nuclear waste canister. "
   ]
  },
  {
   "cell_type": "markdown",
   "id": "8638b4c9",
   "metadata": {},
   "source": []
  }
 ],
 "metadata": {
  "language_info": {
   "name": "python"
  }
 },
 "nbformat": 4,
 "nbformat_minor": 5
}
