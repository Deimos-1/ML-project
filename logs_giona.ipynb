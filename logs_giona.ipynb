{
 "cells": [
  {
   "cell_type": "markdown",
   "id": "2bb39a79",
   "metadata": {},
   "source": [
    "# Logging of the project\n",
    "\n",
    "In this notebook you will find all the steps it took us to acurately predict the temperature of nuclear waste canister. \n",
    "\n",
    "Regarding the model:\n",
    "- type of architecture -> Already did (added 1 layer)\n",
    "- Batch normalization\n",
    "- Randomly drop neurons\n",
    "\n",
    "True hyperparameters:\n",
    "- Number of neighbours in the NKK data preparation -> in progress\n",
    "- Type of regularization\n",
    "- Weights_decay (alpha) -> Done\n",
    "- Learning rate -> Already did\n",
    "- Hyperparameters search in log scale\n",
    "\n",
    "<font color=\"red\"> 109 score was achieved by having dropout rate fixed at 0.5, without searching its best value (when I did it, the result deteriorated)"
   ]
  },
  {
   "cell_type": "markdown",
   "id": "23d6489a",
   "metadata": {},
   "source": [
    "### **Imports** "
   ]
  },
  {
   "cell_type": "code",
   "execution_count": 1,
   "id": "7160116a",
   "metadata": {},
   "outputs": [],
   "source": [
    "## data handling \n",
    "import numpy as np\n",
    "import pandas as pd\n",
    "import random\n",
    "\n",
    "## plotting\n",
    "import seaborn as sns\n",
    "import matplotlib.pyplot as plt\n",
    "from mpl_toolkits.mplot3d import Axes3D\n",
    "\n",
    "## ML things\n",
    "from sklearn.impute import KNNImputer\n",
    "from sklearn.utils import shuffle\n",
    "from sklearn.model_selection import KFold\n",
    "k_fold = KFold(n_splits=4, shuffle=True) # can specify a random_state if needed\n",
    "import functions as func\n",
    "\n",
    "## comfort things\n",
    "from typing import Tuple\n",
    "from sys import exit"
   ]
  },
  {
   "cell_type": "markdown",
   "id": "5ce9cb1e",
   "metadata": {},
   "source": [
    "### **Loading of the datasets** "
   ]
  },
  {
   "cell_type": "code",
   "execution_count": 2,
   "id": "bed4c56f",
   "metadata": {},
   "outputs": [],
   "source": [
    "coordinates_pred = pd.read_csv(\"data/Coordinates_Test.csv\")\n",
    "coordinates_train = pd.read_csv(\"data/Coordinates_Training.csv\")\n",
    "humidity_pred = pd.read_csv(\"data/Test_Time_humidity.csv\")\n",
    "humidity_train = pd.read_csv(\"data/Training_data_humidity.csv\")\n",
    "pressure_pred = pd.read_csv(\"data/Test_Time_pressure.csv\")\n",
    "pressure_train = pd.read_csv(\"data/Training_data_pressure.csv\")\n",
    "temperature_train = pd.read_csv(\"data/Training_data_temperature.csv\")"
   ]
  },
  {
   "cell_type": "markdown",
   "id": "4d821cd9",
   "metadata": {},
   "source": [
    "Let's get the sensor IDs in a list before some of them are deleted, and also the time stamps:"
   ]
  },
  {
   "cell_type": "code",
   "execution_count": 3,
   "id": "9de92ef2",
   "metadata": {},
   "outputs": [],
   "source": [
    "sensor_IDs = pressure_train.columns[1:]\n",
    "\n",
    "## Chech that none is missing: \n",
    "for i, sens in enumerate(sensor_IDs):\n",
    "    assert 'N_'+str(i+1) == sens\n",
    "\n",
    "## We will also need the mean and std of the time to add it as a feature in the model later\n",
    "time: list = pressure_train['M.Time[d]'].to_list()\n",
    "time_mean = np.mean(time)\n",
    "time_std = np.std(time)\n",
    "\n",
    "time_pred: list = pressure_pred['M.Time[d]'].to_list()\n",
    "time_pred_mean = np.mean(time)\n",
    "time_pred_std = np.std(time)"
   ]
  },
  {
   "cell_type": "markdown",
   "id": "581247cf",
   "metadata": {},
   "source": [
    "### **Imputing the datasets**\n",
    "\n",
    "\n",
    "Actually, the sensor N_442 has not temperature values so as the data must coordinate well with the indices, we will remove it as well as other sensors with no data from all the datasets.\n",
    "\n",
    "<font color=\"red\"> KNNImputer will look at values in the same row as the one missing: meaning it will look at other sensors (columns) instead of looking at other time stamps (rows). We have to transpose before and after each imputing !"
   ]
  },
  {
   "cell_type": "code",
   "execution_count": 4,
   "id": "8109f20c",
   "metadata": {},
   "outputs": [
    {
     "name": "stdout",
     "output_type": "stream",
     "text": [
      "Faulty sensors in train datasets: ['N_442', 'N_518', 'N_693']\n",
      "Faulty sensors in prediction datasets: []\n"
     ]
    }
   ],
   "source": [
    "imputer = KNNImputer(missing_values = np.nan, n_neighbors=2).set_output(transform=\"pandas\")\n",
    "\n",
    "## The imputer actually deletes columns with no data so we need to identify the columns with no data first\n",
    "## We need to know those sensors to remove the associated data in the other dataframes. \n",
    "## It is needed because the values are only linked by having the same index in all dataframes.\n",
    "\n",
    "train_faulty_sensors = []\n",
    "for sensor in pressure_train.columns[1:]:\n",
    "    if temperature_train[sensor].isna().all():\n",
    "        train_faulty_sensors.append(sensor)\n",
    "    elif pressure_train[sensor].isna().all():\n",
    "        train_faulty_sensors.append(sensor)\n",
    "    elif humidity_train[sensor].isna().all():\n",
    "        train_faulty_sensors.append(sensor)\n",
    "print(f'Faulty sensors in train datasets: {train_faulty_sensors}')\n",
    "\n",
    "test_faulty_sensors = []\n",
    "for sensor in pressure_pred.columns[1:]:\n",
    "    if pressure_pred[sensor].isna().all():\n",
    "        test_faulty_sensors.append(sensor)\n",
    "    elif humidity_pred[sensor].isna().all():\n",
    "        test_faulty_sensors.append(sensor)\n",
    "print(f'Faulty sensors in prediction datasets: {test_faulty_sensors}')\n",
    "# Actually no sensors in the test dataset has no data\n",
    "\n",
    "## Deleting the corresponding entries in all training datasets:\n",
    "# we have to work with indices when dealing with rows...\n",
    "# used ChatGPT to get this heavy syntax and might not be efficient...\n",
    " \n",
    "## We will remove the corresponding data as it's only 3 points. \n",
    "## But keep the coordinates of the faulty sensor so we have a \n",
    "# pressure_train.drop(train_faulty_sensors, axis=1, inplace=True)\n",
    "# humidity_train.drop(train_faulty_sensors, axis=1, inplace=True)\n",
    "# temperature_train.drop(train_faulty_sensors, axis=1, inplace=True)\n",
    "\n",
    "## We need to impute the missing values with a KNN imputer so it can be plotted a first time: \n",
    "## Which requires renaming the columns: \n",
    "\n",
    "## Not keeping useless columns:\n",
    "coordinates_train = coordinates_train[[\"Sensor ID\",\"Material\", \"Coor X [m]\", \"Coor Y [m]\", \"Coor Z [m]\", \"R [m]\"]]\n",
    "coordinates_pred = coordinates_pred[[\"Sensor ID\",\"Material\", \"Coor X [m]\", \"Coor Y [m]\", \"Coor Z [m]\", \"R [m]\"]]\n",
    "# The sensor ID will be usefull to group the data into a numpy array\n",
    "\n",
    "# changing the column names for faster typing later\n",
    "new_col_names: dict = {\n",
    "    \"Sensor ID\": \"id\",\n",
    "    \"Coor X [m]\": \"x\",\n",
    "    \"Coor Y [m]\": \"y\",\n",
    "    \"Coor Z [m]\": \"z\",\n",
    "    \"R [m]\": \"r\"\n",
    "}\n",
    "\n",
    "coordinates_train.rename(columns = new_col_names, inplace=True)\n",
    "coordinates_pred.rename(columns = new_col_names, inplace=True)\n",
    "\n",
    "pressure_train = func.fill_NaN_columns(\n",
    "    K = 5,\n",
    "    df = pressure_train,\n",
    "    imputer = imputer,\n",
    "    coords = coordinates_train\n",
    ")\n",
    "\n",
    "pressure_pred = func.fill_NaN_columns(\n",
    "    K = 5,\n",
    "    df = pressure_pred,\n",
    "    imputer = imputer,\n",
    "    coords = coordinates_pred\n",
    ")\n",
    "\n",
    "\n"
   ]
  },
  {
   "cell_type": "markdown",
   "id": "a2e5f02f",
   "metadata": {},
   "source": [
    "#### **Coordinates**"
   ]
  },
  {
   "cell_type": "code",
   "execution_count": 5,
   "id": "b11968ec",
   "metadata": {},
   "outputs": [
    {
     "data": {
      "text/html": [
       "<div>\n",
       "<style scoped>\n",
       "    .dataframe tbody tr th:only-of-type {\n",
       "        vertical-align: middle;\n",
       "    }\n",
       "\n",
       "    .dataframe tbody tr th {\n",
       "        vertical-align: top;\n",
       "    }\n",
       "\n",
       "    .dataframe thead th {\n",
       "        text-align: right;\n",
       "    }\n",
       "</style>\n",
       "<table border=\"1\" class=\"dataframe\">\n",
       "  <thead>\n",
       "    <tr style=\"text-align: right;\">\n",
       "      <th></th>\n",
       "      <th>id</th>\n",
       "      <th>Material</th>\n",
       "      <th>x</th>\n",
       "      <th>y</th>\n",
       "      <th>z</th>\n",
       "      <th>r</th>\n",
       "    </tr>\n",
       "  </thead>\n",
       "  <tbody>\n",
       "    <tr>\n",
       "      <th>695</th>\n",
       "      <td>N_696</td>\n",
       "      <td>OPA</td>\n",
       "      <td>-0.709773</td>\n",
       "      <td>40.237290</td>\n",
       "      <td>-3.925891</td>\n",
       "      <td>3.989536</td>\n",
       "    </tr>\n",
       "    <tr>\n",
       "      <th>181</th>\n",
       "      <td>N_182</td>\n",
       "      <td>OPA</td>\n",
       "      <td>-7.262857</td>\n",
       "      <td>21.165394</td>\n",
       "      <td>15.748813</td>\n",
       "      <td>17.342843</td>\n",
       "    </tr>\n",
       "    <tr>\n",
       "      <th>725</th>\n",
       "      <td>N_726</td>\n",
       "      <td>OPA</td>\n",
       "      <td>-2.397172</td>\n",
       "      <td>23.959516</td>\n",
       "      <td>0.309485</td>\n",
       "      <td>2.417068</td>\n",
       "    </tr>\n",
       "    <tr>\n",
       "      <th>143</th>\n",
       "      <td>N_144</td>\n",
       "      <td>OPA</td>\n",
       "      <td>-16.555579</td>\n",
       "      <td>6.441462</td>\n",
       "      <td>7.352000</td>\n",
       "      <td>18.114610</td>\n",
       "    </tr>\n",
       "    <tr>\n",
       "      <th>583</th>\n",
       "      <td>N_584</td>\n",
       "      <td>OPA</td>\n",
       "      <td>-1.357569</td>\n",
       "      <td>35.131837</td>\n",
       "      <td>-2.901339</td>\n",
       "      <td>3.203242</td>\n",
       "    </tr>\n",
       "  </tbody>\n",
       "</table>\n",
       "</div>"
      ],
      "text/plain": [
       "        id Material          x          y          z          r\n",
       "695  N_696      OPA  -0.709773  40.237290  -3.925891   3.989536\n",
       "181  N_182      OPA  -7.262857  21.165394  15.748813  17.342843\n",
       "725  N_726      OPA  -2.397172  23.959516   0.309485   2.417068\n",
       "143  N_144      OPA -16.555579   6.441462   7.352000  18.114610\n",
       "583  N_584      OPA  -1.357569  35.131837  -2.901339   3.203242"
      ]
     },
     "metadata": {},
     "output_type": "display_data"
    },
    {
     "name": "stdout",
     "output_type": "stream",
     "text": [
      "<class 'pandas.core.frame.DataFrame'>\n",
      "RangeIndex: 900 entries, 0 to 899\n",
      "Data columns (total 6 columns):\n",
      " #   Column    Non-Null Count  Dtype  \n",
      "---  ------    --------------  -----  \n",
      " 0   id        900 non-null    object \n",
      " 1   Material  900 non-null    object \n",
      " 2   x         900 non-null    float64\n",
      " 3   y         900 non-null    float64\n",
      " 4   z         900 non-null    float64\n",
      " 5   r         900 non-null    float64\n",
      "dtypes: float64(4), object(2)\n",
      "memory usage: 42.3+ KB\n"
     ]
    },
    {
     "data": {
      "text/plain": [
       "array(['OPA', 'SHCR', 'GBM', 'EDZ', 'VOID', 'CAN', 'BBLOCK'], dtype=object)"
      ]
     },
     "execution_count": 5,
     "metadata": {},
     "output_type": "execute_result"
    }
   ],
   "source": [
    "display(coordinates_train.sample(5))\n",
    "coordinates_train.info()\n",
    "coordinates_train[\"Material\"].unique()"
   ]
  },
  {
   "cell_type": "markdown",
   "id": "fbba29f6",
   "metadata": {},
   "source": [
    "We can see there are no missing data and apparently no false measures (outliers) on the position and the material, but some columns are useless like the numbering of rows and the index. Because the rows are in an ascending order and as long as the indices match between the files, the number doesn't matter. We are also renaming the columns to make it easier later.  \n",
    "\n",
    "We will also one-hot encode the Material column to feed it later in the model, as they are caterogical features. "
   ]
  },
  {
   "cell_type": "code",
   "execution_count": 6,
   "id": "6010cf49",
   "metadata": {},
   "outputs": [
    {
     "data": {
      "text/html": [
       "<div>\n",
       "<style scoped>\n",
       "    .dataframe tbody tr th:only-of-type {\n",
       "        vertical-align: middle;\n",
       "    }\n",
       "\n",
       "    .dataframe tbody tr th {\n",
       "        vertical-align: top;\n",
       "    }\n",
       "\n",
       "    .dataframe thead th {\n",
       "        text-align: right;\n",
       "    }\n",
       "</style>\n",
       "<table border=\"1\" class=\"dataframe\">\n",
       "  <thead>\n",
       "    <tr style=\"text-align: right;\">\n",
       "      <th></th>\n",
       "      <th>id</th>\n",
       "      <th>x</th>\n",
       "      <th>y</th>\n",
       "      <th>z</th>\n",
       "      <th>r</th>\n",
       "      <th>Material_CAN</th>\n",
       "      <th>Material_EDZ</th>\n",
       "      <th>Material_GBM</th>\n",
       "      <th>Material_OPA</th>\n",
       "      <th>Material_SHCR</th>\n",
       "    </tr>\n",
       "  </thead>\n",
       "  <tbody>\n",
       "    <tr>\n",
       "      <th>0</th>\n",
       "      <td>N_901</td>\n",
       "      <td>0.295918</td>\n",
       "      <td>30.011150</td>\n",
       "      <td>1.776254</td>\n",
       "      <td>1.800735</td>\n",
       "      <td>False</td>\n",
       "      <td>False</td>\n",
       "      <td>False</td>\n",
       "      <td>True</td>\n",
       "      <td>False</td>\n",
       "    </tr>\n",
       "    <tr>\n",
       "      <th>1</th>\n",
       "      <td>N_902</td>\n",
       "      <td>2.274456</td>\n",
       "      <td>25.204297</td>\n",
       "      <td>2.957595</td>\n",
       "      <td>3.731021</td>\n",
       "      <td>False</td>\n",
       "      <td>False</td>\n",
       "      <td>False</td>\n",
       "      <td>True</td>\n",
       "      <td>False</td>\n",
       "    </tr>\n",
       "    <tr>\n",
       "      <th>2</th>\n",
       "      <td>N_903</td>\n",
       "      <td>-0.586165</td>\n",
       "      <td>27.600980</td>\n",
       "      <td>-1.869516</td>\n",
       "      <td>1.959255</td>\n",
       "      <td>False</td>\n",
       "      <td>False</td>\n",
       "      <td>False</td>\n",
       "      <td>True</td>\n",
       "      <td>False</td>\n",
       "    </tr>\n",
       "    <tr>\n",
       "      <th>3</th>\n",
       "      <td>N_904</td>\n",
       "      <td>-1.680052</td>\n",
       "      <td>40.394076</td>\n",
       "      <td>-0.297226</td>\n",
       "      <td>1.706142</td>\n",
       "      <td>False</td>\n",
       "      <td>True</td>\n",
       "      <td>False</td>\n",
       "      <td>False</td>\n",
       "      <td>False</td>\n",
       "    </tr>\n",
       "    <tr>\n",
       "      <th>4</th>\n",
       "      <td>N_905</td>\n",
       "      <td>2.840656</td>\n",
       "      <td>38.093588</td>\n",
       "      <td>2.125899</td>\n",
       "      <td>3.548066</td>\n",
       "      <td>False</td>\n",
       "      <td>False</td>\n",
       "      <td>False</td>\n",
       "      <td>True</td>\n",
       "      <td>False</td>\n",
       "    </tr>\n",
       "  </tbody>\n",
       "</table>\n",
       "</div>"
      ],
      "text/plain": [
       "      id         x          y         z         r  Material_CAN  Material_EDZ  \\\n",
       "0  N_901  0.295918  30.011150  1.776254  1.800735         False         False   \n",
       "1  N_902  2.274456  25.204297  2.957595  3.731021         False         False   \n",
       "2  N_903 -0.586165  27.600980 -1.869516  1.959255         False         False   \n",
       "3  N_904 -1.680052  40.394076 -0.297226  1.706142         False          True   \n",
       "4  N_905  2.840656  38.093588  2.125899  3.548066         False         False   \n",
       "\n",
       "   Material_GBM  Material_OPA  Material_SHCR  \n",
       "0         False          True          False  \n",
       "1         False          True          False  \n",
       "2         False          True          False  \n",
       "3         False         False          False  \n",
       "4         False          True          False  "
      ]
     },
     "metadata": {},
     "output_type": "display_data"
    },
    {
     "data": {
      "text/html": [
       "<div>\n",
       "<style scoped>\n",
       "    .dataframe tbody tr th:only-of-type {\n",
       "        vertical-align: middle;\n",
       "    }\n",
       "\n",
       "    .dataframe tbody tr th {\n",
       "        vertical-align: top;\n",
       "    }\n",
       "\n",
       "    .dataframe thead th {\n",
       "        text-align: right;\n",
       "    }\n",
       "</style>\n",
       "<table border=\"1\" class=\"dataframe\">\n",
       "  <thead>\n",
       "    <tr style=\"text-align: right;\">\n",
       "      <th></th>\n",
       "      <th>id</th>\n",
       "      <th>x</th>\n",
       "      <th>y</th>\n",
       "      <th>z</th>\n",
       "      <th>r</th>\n",
       "      <th>Material_BBLOCK</th>\n",
       "      <th>Material_CAN</th>\n",
       "      <th>Material_EDZ</th>\n",
       "      <th>Material_GBM</th>\n",
       "      <th>Material_OPA</th>\n",
       "      <th>Material_SHCR</th>\n",
       "      <th>Material_VOID</th>\n",
       "    </tr>\n",
       "  </thead>\n",
       "  <tbody>\n",
       "    <tr>\n",
       "      <th>0</th>\n",
       "      <td>N_1</td>\n",
       "      <td>0.208042</td>\n",
       "      <td>14.436936</td>\n",
       "      <td>-2.875503</td>\n",
       "      <td>2.883019</td>\n",
       "      <td>False</td>\n",
       "      <td>False</td>\n",
       "      <td>False</td>\n",
       "      <td>False</td>\n",
       "      <td>True</td>\n",
       "      <td>False</td>\n",
       "      <td>False</td>\n",
       "    </tr>\n",
       "    <tr>\n",
       "      <th>1</th>\n",
       "      <td>N_2</td>\n",
       "      <td>-8.970832</td>\n",
       "      <td>28.229841</td>\n",
       "      <td>-0.134437</td>\n",
       "      <td>8.971839</td>\n",
       "      <td>False</td>\n",
       "      <td>False</td>\n",
       "      <td>False</td>\n",
       "      <td>False</td>\n",
       "      <td>True</td>\n",
       "      <td>False</td>\n",
       "      <td>False</td>\n",
       "    </tr>\n",
       "    <tr>\n",
       "      <th>2</th>\n",
       "      <td>N_3</td>\n",
       "      <td>-14.289501</td>\n",
       "      <td>6.685726</td>\n",
       "      <td>-10.399048</td>\n",
       "      <td>17.672862</td>\n",
       "      <td>False</td>\n",
       "      <td>False</td>\n",
       "      <td>False</td>\n",
       "      <td>False</td>\n",
       "      <td>True</td>\n",
       "      <td>False</td>\n",
       "      <td>False</td>\n",
       "    </tr>\n",
       "    <tr>\n",
       "      <th>3</th>\n",
       "      <td>N_4</td>\n",
       "      <td>6.114855</td>\n",
       "      <td>2.685645</td>\n",
       "      <td>-3.189981</td>\n",
       "      <td>6.896914</td>\n",
       "      <td>False</td>\n",
       "      <td>False</td>\n",
       "      <td>False</td>\n",
       "      <td>False</td>\n",
       "      <td>True</td>\n",
       "      <td>False</td>\n",
       "      <td>False</td>\n",
       "    </tr>\n",
       "    <tr>\n",
       "      <th>4</th>\n",
       "      <td>N_5</td>\n",
       "      <td>4.048845</td>\n",
       "      <td>48.708590</td>\n",
       "      <td>11.260503</td>\n",
       "      <td>11.966289</td>\n",
       "      <td>False</td>\n",
       "      <td>False</td>\n",
       "      <td>False</td>\n",
       "      <td>False</td>\n",
       "      <td>True</td>\n",
       "      <td>False</td>\n",
       "      <td>False</td>\n",
       "    </tr>\n",
       "  </tbody>\n",
       "</table>\n",
       "</div>"
      ],
      "text/plain": [
       "    id          x          y          z          r  Material_BBLOCK  \\\n",
       "0  N_1   0.208042  14.436936  -2.875503   2.883019            False   \n",
       "1  N_2  -8.970832  28.229841  -0.134437   8.971839            False   \n",
       "2  N_3 -14.289501   6.685726 -10.399048  17.672862            False   \n",
       "3  N_4   6.114855   2.685645  -3.189981   6.896914            False   \n",
       "4  N_5   4.048845  48.708590  11.260503  11.966289            False   \n",
       "\n",
       "   Material_CAN  Material_EDZ  Material_GBM  Material_OPA  Material_SHCR  \\\n",
       "0         False         False         False          True          False   \n",
       "1         False         False         False          True          False   \n",
       "2         False         False         False          True          False   \n",
       "3         False         False         False          True          False   \n",
       "4         False         False         False          True          False   \n",
       "\n",
       "   Material_VOID  \n",
       "0          False  \n",
       "1          False  \n",
       "2          False  \n",
       "3          False  \n",
       "4          False  "
      ]
     },
     "metadata": {},
     "output_type": "display_data"
    },
    {
     "data": {
      "text/html": [
       "<div>\n",
       "<style scoped>\n",
       "    .dataframe tbody tr th:only-of-type {\n",
       "        vertical-align: middle;\n",
       "    }\n",
       "\n",
       "    .dataframe tbody tr th {\n",
       "        vertical-align: top;\n",
       "    }\n",
       "\n",
       "    .dataframe thead th {\n",
       "        text-align: right;\n",
       "    }\n",
       "</style>\n",
       "<table border=\"1\" class=\"dataframe\">\n",
       "  <thead>\n",
       "    <tr style=\"text-align: right;\">\n",
       "      <th></th>\n",
       "      <th>id</th>\n",
       "      <th>x</th>\n",
       "      <th>y</th>\n",
       "      <th>z</th>\n",
       "      <th>r</th>\n",
       "      <th>Material_BBLOCK</th>\n",
       "      <th>Material_CAN</th>\n",
       "      <th>Material_EDZ</th>\n",
       "      <th>Material_GBM</th>\n",
       "      <th>Material_OPA</th>\n",
       "      <th>Material_SHCR</th>\n",
       "      <th>Material_VOID</th>\n",
       "    </tr>\n",
       "  </thead>\n",
       "  <tbody>\n",
       "    <tr>\n",
       "      <th>0</th>\n",
       "      <td>N_901</td>\n",
       "      <td>0.295918</td>\n",
       "      <td>30.011150</td>\n",
       "      <td>1.776254</td>\n",
       "      <td>1.800735</td>\n",
       "      <td>False</td>\n",
       "      <td>False</td>\n",
       "      <td>False</td>\n",
       "      <td>False</td>\n",
       "      <td>True</td>\n",
       "      <td>False</td>\n",
       "      <td>False</td>\n",
       "    </tr>\n",
       "    <tr>\n",
       "      <th>1</th>\n",
       "      <td>N_902</td>\n",
       "      <td>2.274456</td>\n",
       "      <td>25.204297</td>\n",
       "      <td>2.957595</td>\n",
       "      <td>3.731021</td>\n",
       "      <td>False</td>\n",
       "      <td>False</td>\n",
       "      <td>False</td>\n",
       "      <td>False</td>\n",
       "      <td>True</td>\n",
       "      <td>False</td>\n",
       "      <td>False</td>\n",
       "    </tr>\n",
       "    <tr>\n",
       "      <th>2</th>\n",
       "      <td>N_903</td>\n",
       "      <td>-0.586165</td>\n",
       "      <td>27.600980</td>\n",
       "      <td>-1.869516</td>\n",
       "      <td>1.959255</td>\n",
       "      <td>False</td>\n",
       "      <td>False</td>\n",
       "      <td>False</td>\n",
       "      <td>False</td>\n",
       "      <td>True</td>\n",
       "      <td>False</td>\n",
       "      <td>False</td>\n",
       "    </tr>\n",
       "    <tr>\n",
       "      <th>3</th>\n",
       "      <td>N_904</td>\n",
       "      <td>-1.680052</td>\n",
       "      <td>40.394076</td>\n",
       "      <td>-0.297226</td>\n",
       "      <td>1.706142</td>\n",
       "      <td>False</td>\n",
       "      <td>False</td>\n",
       "      <td>True</td>\n",
       "      <td>False</td>\n",
       "      <td>False</td>\n",
       "      <td>False</td>\n",
       "      <td>False</td>\n",
       "    </tr>\n",
       "    <tr>\n",
       "      <th>4</th>\n",
       "      <td>N_905</td>\n",
       "      <td>2.840656</td>\n",
       "      <td>38.093588</td>\n",
       "      <td>2.125899</td>\n",
       "      <td>3.548066</td>\n",
       "      <td>False</td>\n",
       "      <td>False</td>\n",
       "      <td>False</td>\n",
       "      <td>False</td>\n",
       "      <td>True</td>\n",
       "      <td>False</td>\n",
       "      <td>False</td>\n",
       "    </tr>\n",
       "  </tbody>\n",
       "</table>\n",
       "</div>"
      ],
      "text/plain": [
       "      id         x          y         z         r  Material_BBLOCK  \\\n",
       "0  N_901  0.295918  30.011150  1.776254  1.800735            False   \n",
       "1  N_902  2.274456  25.204297  2.957595  3.731021            False   \n",
       "2  N_903 -0.586165  27.600980 -1.869516  1.959255            False   \n",
       "3  N_904 -1.680052  40.394076 -0.297226  1.706142            False   \n",
       "4  N_905  2.840656  38.093588  2.125899  3.548066            False   \n",
       "\n",
       "   Material_CAN  Material_EDZ  Material_GBM  Material_OPA  Material_SHCR  \\\n",
       "0         False         False         False          True          False   \n",
       "1         False         False         False          True          False   \n",
       "2         False         False         False          True          False   \n",
       "3         False          True         False         False          False   \n",
       "4         False         False         False          True          False   \n",
       "\n",
       "   Material_VOID  \n",
       "0          False  \n",
       "1          False  \n",
       "2          False  \n",
       "3          False  \n",
       "4          False  "
      ]
     },
     "metadata": {},
     "output_type": "display_data"
    }
   ],
   "source": [
    "\n",
    "## One-hot encoding:\n",
    "## cf intro to pandas notebook from the weekly exercises\n",
    "coordinates_pred = pd.get_dummies(coordinates_pred, columns = [\"Material\"]) \n",
    "coordinates_train = pd.get_dummies(coordinates_train, columns = [\"Material\"]) \n",
    "display(coordinates_pred.head(5))\n",
    "display(coordinates_train.head(5))\n",
    "\n",
    "## the coordinates_pred is missing the columns \"Material_BBLOCK\" and \"Material_VOID\" that we have to add \n",
    "# Make a copy to be safe\n",
    "df = coordinates_pred.copy()\n",
    "# Create the new column with default value (e.g., 0 or NaN)\n",
    "df[\"Material_BBLOCK\"] = False  # or use np.nan if needed\n",
    "df[\"Material_VOID\"] = False\n",
    "# Get column list and rearrange\n",
    "cols = df.columns.tolist()\n",
    "# Find index of \"r\"\n",
    "r_index = cols.index(\"r\")\n",
    "# Insert \"Material_BBLOCK\" right after \"r\"\n",
    "cols.insert(r_index + 1, cols.pop(cols.index(\"Material_BBLOCK\")))\n",
    "# Reorder the DataFrame\n",
    "coordinates_pred = df[cols]\n",
    "\n",
    "\n",
    "display(coordinates_pred.head(5))\n"
   ]
  },
  {
   "cell_type": "markdown",
   "id": "2958a245",
   "metadata": {},
   "source": [
    "#### **Pressure**"
   ]
  },
  {
   "cell_type": "code",
   "execution_count": 7,
   "id": "5da46507",
   "metadata": {},
   "outputs": [
    {
     "data": {
      "text/html": [
       "<div>\n",
       "<style scoped>\n",
       "    .dataframe tbody tr th:only-of-type {\n",
       "        vertical-align: middle;\n",
       "    }\n",
       "\n",
       "    .dataframe tbody tr th {\n",
       "        vertical-align: top;\n",
       "    }\n",
       "\n",
       "    .dataframe thead th {\n",
       "        text-align: right;\n",
       "    }\n",
       "</style>\n",
       "<table border=\"1\" class=\"dataframe\">\n",
       "  <thead>\n",
       "    <tr style=\"text-align: right;\">\n",
       "      <th></th>\n",
       "      <th>M.Time[d]</th>\n",
       "      <th>N_1</th>\n",
       "      <th>N_2</th>\n",
       "      <th>N_3</th>\n",
       "      <th>N_4</th>\n",
       "      <th>N_5</th>\n",
       "      <th>N_6</th>\n",
       "      <th>N_7</th>\n",
       "      <th>N_8</th>\n",
       "      <th>N_9</th>\n",
       "      <th>...</th>\n",
       "      <th>N_891</th>\n",
       "      <th>N_892</th>\n",
       "      <th>N_893</th>\n",
       "      <th>N_894</th>\n",
       "      <th>N_895</th>\n",
       "      <th>N_896</th>\n",
       "      <th>N_897</th>\n",
       "      <th>N_898</th>\n",
       "      <th>N_899</th>\n",
       "      <th>N_900</th>\n",
       "    </tr>\n",
       "  </thead>\n",
       "  <tbody>\n",
       "    <tr>\n",
       "      <th>0</th>\n",
       "      <td>1554</td>\n",
       "      <td>281.143955</td>\n",
       "      <td>1462.382827</td>\n",
       "      <td>1656.041967</td>\n",
       "      <td>1322.584393</td>\n",
       "      <td>1473.656845</td>\n",
       "      <td>1480.325846</td>\n",
       "      <td>1650.794639</td>\n",
       "      <td>1511.445756</td>\n",
       "      <td>1397.850463</td>\n",
       "      <td>...</td>\n",
       "      <td>-57423.47996</td>\n",
       "      <td>202.296319</td>\n",
       "      <td>395.883971</td>\n",
       "      <td>651.026983</td>\n",
       "      <td>-405.358355</td>\n",
       "      <td>-60428.68990</td>\n",
       "      <td>-768.389510</td>\n",
       "      <td>336.655683</td>\n",
       "      <td>-63100.53626</td>\n",
       "      <td>831.154054</td>\n",
       "    </tr>\n",
       "    <tr>\n",
       "      <th>1</th>\n",
       "      <td>1556</td>\n",
       "      <td>279.968800</td>\n",
       "      <td>1461.806069</td>\n",
       "      <td>1656.007440</td>\n",
       "      <td>1322.251688</td>\n",
       "      <td>1473.611215</td>\n",
       "      <td>1480.290558</td>\n",
       "      <td>1650.692513</td>\n",
       "      <td>1511.327468</td>\n",
       "      <td>1397.594172</td>\n",
       "      <td>...</td>\n",
       "      <td>-57398.67576</td>\n",
       "      <td>201.782481</td>\n",
       "      <td>395.553760</td>\n",
       "      <td>649.949956</td>\n",
       "      <td>-405.782281</td>\n",
       "      <td>-60422.76359</td>\n",
       "      <td>-769.736168</td>\n",
       "      <td>335.531920</td>\n",
       "      <td>-63004.35183</td>\n",
       "      <td>830.963631</td>\n",
       "    </tr>\n",
       "    <tr>\n",
       "      <th>2</th>\n",
       "      <td>1558</td>\n",
       "      <td>278.797310</td>\n",
       "      <td>1461.224531</td>\n",
       "      <td>1655.972023</td>\n",
       "      <td>1321.919350</td>\n",
       "      <td>1473.565180</td>\n",
       "      <td>1480.255784</td>\n",
       "      <td>1650.589484</td>\n",
       "      <td>1511.207764</td>\n",
       "      <td>1397.338620</td>\n",
       "      <td>...</td>\n",
       "      <td>-57373.82834</td>\n",
       "      <td>201.470400</td>\n",
       "      <td>395.458253</td>\n",
       "      <td>648.902434</td>\n",
       "      <td>-405.531701</td>\n",
       "      <td>-60416.87545</td>\n",
       "      <td>-771.054710</td>\n",
       "      <td>334.539419</td>\n",
       "      <td>-62924.41589</td>\n",
       "      <td>830.870655</td>\n",
       "    </tr>\n",
       "    <tr>\n",
       "      <th>3</th>\n",
       "      <td>1560</td>\n",
       "      <td>277.631157</td>\n",
       "      <td>1460.639147</td>\n",
       "      <td>1655.935750</td>\n",
       "      <td>1321.587287</td>\n",
       "      <td>1473.518663</td>\n",
       "      <td>1480.221507</td>\n",
       "      <td>1650.485576</td>\n",
       "      <td>1511.086587</td>\n",
       "      <td>1397.083769</td>\n",
       "      <td>...</td>\n",
       "      <td>-57348.80938</td>\n",
       "      <td>201.459983</td>\n",
       "      <td>395.687942</td>\n",
       "      <td>647.909216</td>\n",
       "      <td>-404.343841</td>\n",
       "      <td>-60411.01323</td>\n",
       "      <td>-772.329622</td>\n",
       "      <td>333.773806</td>\n",
       "      <td>-62855.88550</td>\n",
       "      <td>830.915078</td>\n",
       "    </tr>\n",
       "    <tr>\n",
       "      <th>4</th>\n",
       "      <td>1563</td>\n",
       "      <td>275.898544</td>\n",
       "      <td>1459.753528</td>\n",
       "      <td>1655.879443</td>\n",
       "      <td>1321.089332</td>\n",
       "      <td>1473.447601</td>\n",
       "      <td>1480.170896</td>\n",
       "      <td>1650.327726</td>\n",
       "      <td>1510.901301</td>\n",
       "      <td>1396.702138</td>\n",
       "      <td>...</td>\n",
       "      <td>-57310.61967</td>\n",
       "      <td>202.456185</td>\n",
       "      <td>397.004063</td>\n",
       "      <td>646.629125</td>\n",
       "      <td>-400.066605</td>\n",
       "      <td>-60402.23717</td>\n",
       "      <td>-774.086664</td>\n",
       "      <td>333.414898</td>\n",
       "      <td>-62770.54127</td>\n",
       "      <td>831.441631</td>\n",
       "    </tr>\n",
       "  </tbody>\n",
       "</table>\n",
       "<p>5 rows × 901 columns</p>\n",
       "</div>"
      ],
      "text/plain": [
       "   M.Time[d]         N_1          N_2          N_3          N_4          N_5  \\\n",
       "0       1554  281.143955  1462.382827  1656.041967  1322.584393  1473.656845   \n",
       "1       1556  279.968800  1461.806069  1656.007440  1322.251688  1473.611215   \n",
       "2       1558  278.797310  1461.224531  1655.972023  1321.919350  1473.565180   \n",
       "3       1560  277.631157  1460.639147  1655.935750  1321.587287  1473.518663   \n",
       "4       1563  275.898544  1459.753528  1655.879443  1321.089332  1473.447601   \n",
       "\n",
       "           N_6          N_7          N_8          N_9  ...        N_891  \\\n",
       "0  1480.325846  1650.794639  1511.445756  1397.850463  ... -57423.47996   \n",
       "1  1480.290558  1650.692513  1511.327468  1397.594172  ... -57398.67576   \n",
       "2  1480.255784  1650.589484  1511.207764  1397.338620  ... -57373.82834   \n",
       "3  1480.221507  1650.485576  1511.086587  1397.083769  ... -57348.80938   \n",
       "4  1480.170896  1650.327726  1510.901301  1396.702138  ... -57310.61967   \n",
       "\n",
       "        N_892       N_893       N_894       N_895        N_896       N_897  \\\n",
       "0  202.296319  395.883971  651.026983 -405.358355 -60428.68990 -768.389510   \n",
       "1  201.782481  395.553760  649.949956 -405.782281 -60422.76359 -769.736168   \n",
       "2  201.470400  395.458253  648.902434 -405.531701 -60416.87545 -771.054710   \n",
       "3  201.459983  395.687942  647.909216 -404.343841 -60411.01323 -772.329622   \n",
       "4  202.456185  397.004063  646.629125 -400.066605 -60402.23717 -774.086664   \n",
       "\n",
       "        N_898        N_899       N_900  \n",
       "0  336.655683 -63100.53626  831.154054  \n",
       "1  335.531920 -63004.35183  830.963631  \n",
       "2  334.539419 -62924.41589  830.870655  \n",
       "3  333.773806 -62855.88550  830.915078  \n",
       "4  333.414898 -62770.54127  831.441631  \n",
       "\n",
       "[5 rows x 901 columns]"
      ]
     },
     "metadata": {},
     "output_type": "display_data"
    },
    {
     "data": {
      "text/plain": [
       "0"
      ]
     },
     "execution_count": 7,
     "metadata": {},
     "output_type": "execute_result"
    }
   ],
   "source": [
    "display(pressure_train.head(5))\n",
    "pressure_train.isnull().sum().sum() # See how many missing values there are"
   ]
  },
  {
   "cell_type": "markdown",
   "id": "032c1365",
   "metadata": {},
   "source": [
    "No missing value here, actually there was some but they were related to faulty sensors we imputed previously.  \n",
    "\n",
    "First we will handle outliers"
   ]
  },
  {
   "cell_type": "code",
   "execution_count": 8,
   "id": "5cae2d99",
   "metadata": {},
   "outputs": [
    {
     "data": {
      "image/png": "[encoded data removed]",
      "text/plain": [
       "<Figure size 1200x600 with 1 Axes>"
      ]
     },
     "metadata": {},
     "output_type": "display_data"
    },
    {
     "name": "stdout",
     "output_type": "stream",
     "text": [
      "-4595.805803237333\n",
      "17488.72888179162\n"
     ]
    }
   ],
   "source": [
    "# Visualize distribution with a histogram (code provided by ChatGPT)\n",
    "sensor_data = pressure_train.iloc[:,1:]\n",
    "all_values = sensor_data.values.flatten()\n",
    "plt.figure(figsize=(12, 6))\n",
    "plt.hist(all_values, bins = np.arange(all_values.min(), all_values.max() + 100, 100), edgecolor='black')\n",
    "plt.title('Distribution of All Sensor Values')\n",
    "plt.xlabel('Pressure Value')\n",
    "plt.ylabel('Frequency')\n",
    "plt.grid(True)\n",
    "plt.show()\n",
    "\n",
    "print(np.mean(all_values))\n",
    "print(np.std(all_values))\n"
   ]
  },
  {
   "cell_type": "markdown",
   "id": "9063b2e6",
   "metadata": {},
   "source": [
    "We clearly have false measures in our data as there is no trend in those large negative values and a very small frequency. To fix this, we will apply a low filter at -3'000. Once we delete this data, we'll try not to delete the whole column/row as it would remove quite a lot of data. So we prefer to impute the missing data, we could use constant or mean imputation but we'll use KNN imputation to replace them, with 2 neighbors as it will more likely preserve the time continuation.  \n",
    "<font color=\"red\"> should we remove outliers from the test data ? It seems not very clever to try predicting false values..."
   ]
  },
  {
   "cell_type": "code",
   "execution_count": 9,
   "id": "d559b57e",
   "metadata": {},
   "outputs": [
    {
     "name": "stdout",
     "output_type": "stream",
     "text": [
      "pressure_train shape:(32, 901)\n",
      "pressure_pred shape:(32, 146)\n",
      "139 columns in pressure_train are filled with NaN\n",
      "29 columns in pressure_pred are filled with NaN\n",
      "pressure_train shape:(32, 901)\n",
      "pressure_pred shape:(32, 146)\n"
     ]
    },
    {
     "data": {
      "image/png": "[encoded data removed]",
      "text/plain": [
       "<Figure size 1200x600 with 1 Axes>"
      ]
     },
     "metadata": {},
     "output_type": "display_data"
    },
    {
     "name": "stdout",
     "output_type": "stream",
     "text": [
      "Mean: 927.2504964842385\n",
      "SD: 686.9944949443684\n"
     ]
    }
   ],
   "source": [
    "\n",
    "## clearing values below -3'000:\n",
    "pressure_train.iloc[:,1:] = pressure_train.iloc[:,1:].mask(pressure_train.iloc[:,1:] <= -500, np.nan) ##-300 initially\n",
    "pressure_pred.iloc[:,1:] = pressure_pred.iloc[:,1:].mask(pressure_pred.iloc[:,1:] <= -500, np.nan)\n",
    "\n",
    "## Initial shapes\n",
    "print(\"pressure_train shape:\"+str(pressure_train.shape))\n",
    "print(\"pressure_pred shape:\"+str(pressure_pred.shape))\n",
    "\n",
    "## Checking how many columns are filled with NaN values\n",
    "count = pressure_train.isnull().all().sum()\n",
    "print(f'{count} columns in pressure_train are filled with NaN')\n",
    "count = pressure_pred.isnull().all().sum()\n",
    "print(f'{count} columns in pressure_pred are filled with NaN')\n",
    "\n",
    "## It is essential to keep the dimensions so we will fill empty columns with values of the next column \n",
    "pressure_train = func.fill_NaN_columns(\n",
    "    K = 5,\n",
    "    df = pressure_train,\n",
    "    imputer = imputer,\n",
    "    coords = coordinates_train\n",
    ")\n",
    "\n",
    "pressure_pred = func.fill_NaN_columns(\n",
    "    K = 5,\n",
    "    df = pressure_pred,\n",
    "    imputer = imputer,\n",
    "    coords = coordinates_pred\n",
    ")\n",
    "\n",
    "## Imputing missing values (if there are some):\n",
    "pressure_train = (imputer.fit_transform(pressure_train.T)).T\n",
    "pressure_pred = (imputer.fit_transform(pressure_pred.T)).T\n",
    "\n",
    "## New shapes (should be the same)\n",
    "print(\"pressure_train shape:\"+str(pressure_train.shape))\n",
    "print(\"pressure_pred shape:\"+str(pressure_pred.shape))\n",
    "\n",
    "# Visualize distribution with a histogram (code provided by ChatGPT)\n",
    "sensor_data = pressure_train.iloc[:,1:]\n",
    "all_values = sensor_data.values.flatten()\n",
    "plt.figure(figsize=(12, 6))\n",
    "plt.hist(all_values, bins = np.arange(all_values.min(), all_values.max() + 10, 10), edgecolor='black')\n",
    "plt.title('Distribution of All Sensor Values')\n",
    "plt.xlabel('Pressure Value')\n",
    "plt.ylabel('Frequency')\n",
    "plt.grid(True)\n",
    "plt.show()\n",
    "\n",
    "## New distribution parameters:\n",
    "print(f'Mean: {np.mean(all_values)}')\n",
    "print(f'SD: {np.std(all_values)}')\n"
   ]
  },
  {
   "cell_type": "markdown",
   "id": "d70c561c",
   "metadata": {},
   "source": [
    "#### **Humidity**"
   ]
  },
  {
   "cell_type": "code",
   "execution_count": 10,
   "id": "477eaec3",
   "metadata": {},
   "outputs": [
    {
     "data": {
      "image/png": "[encoded data removed]",
      "text/plain": [
       "<Figure size 1200x600 with 1 Axes>"
      ]
     },
     "metadata": {},
     "output_type": "display_data"
    },
    {
     "name": "stdout",
     "output_type": "stream",
     "text": [
      "humidity_train shape:(32, 901)\n",
      "humidity_pred shape:(32, 146)\n",
      "0 columns in pressure_train are filled with NaN\n",
      "0 columns in pressure_pred are filled with NaN\n"
     ]
    },
    {
     "data": {
      "text/html": [
       "<div>\n",
       "<style scoped>\n",
       "    .dataframe tbody tr th:only-of-type {\n",
       "        vertical-align: middle;\n",
       "    }\n",
       "\n",
       "    .dataframe tbody tr th {\n",
       "        vertical-align: top;\n",
       "    }\n",
       "\n",
       "    .dataframe thead th {\n",
       "        text-align: right;\n",
       "    }\n",
       "</style>\n",
       "<table border=\"1\" class=\"dataframe\">\n",
       "  <thead>\n",
       "    <tr style=\"text-align: right;\">\n",
       "      <th></th>\n",
       "      <th>M.Time[d]</th>\n",
       "      <th>N_1</th>\n",
       "      <th>N_2</th>\n",
       "      <th>N_3</th>\n",
       "      <th>N_4</th>\n",
       "      <th>N_5</th>\n",
       "      <th>N_6</th>\n",
       "      <th>N_7</th>\n",
       "      <th>N_8</th>\n",
       "      <th>N_9</th>\n",
       "      <th>...</th>\n",
       "      <th>N_891</th>\n",
       "      <th>N_892</th>\n",
       "      <th>N_893</th>\n",
       "      <th>N_894</th>\n",
       "      <th>N_895</th>\n",
       "      <th>N_896</th>\n",
       "      <th>N_897</th>\n",
       "      <th>N_898</th>\n",
       "      <th>N_899</th>\n",
       "      <th>N_900</th>\n",
       "    </tr>\n",
       "  </thead>\n",
       "  <tbody>\n",
       "    <tr>\n",
       "      <th>x0</th>\n",
       "      <td>1554.0</td>\n",
       "      <td>100.0</td>\n",
       "      <td>100.0</td>\n",
       "      <td>100.0</td>\n",
       "      <td>100.0</td>\n",
       "      <td>100.0</td>\n",
       "      <td>100.0</td>\n",
       "      <td>100.0</td>\n",
       "      <td>100.0</td>\n",
       "      <td>100.0</td>\n",
       "      <td>...</td>\n",
       "      <td>78.853196</td>\n",
       "      <td>100.0</td>\n",
       "      <td>100.0</td>\n",
       "      <td>100.0</td>\n",
       "      <td>99.832469</td>\n",
       "      <td>77.872682</td>\n",
       "      <td>99.682618</td>\n",
       "      <td>100.0</td>\n",
       "      <td>77.465508</td>\n",
       "      <td>100.0</td>\n",
       "    </tr>\n",
       "    <tr>\n",
       "      <th>x1</th>\n",
       "      <td>1556.0</td>\n",
       "      <td>100.0</td>\n",
       "      <td>100.0</td>\n",
       "      <td>100.0</td>\n",
       "      <td>100.0</td>\n",
       "      <td>100.0</td>\n",
       "      <td>100.0</td>\n",
       "      <td>100.0</td>\n",
       "      <td>100.0</td>\n",
       "      <td>100.0</td>\n",
       "      <td>...</td>\n",
       "      <td>78.861729</td>\n",
       "      <td>100.0</td>\n",
       "      <td>100.0</td>\n",
       "      <td>100.0</td>\n",
       "      <td>99.832297</td>\n",
       "      <td>77.874432</td>\n",
       "      <td>99.682059</td>\n",
       "      <td>100.0</td>\n",
       "      <td>78.123191</td>\n",
       "      <td>100.0</td>\n",
       "    </tr>\n",
       "    <tr>\n",
       "      <th>x2</th>\n",
       "      <td>1558.0</td>\n",
       "      <td>100.0</td>\n",
       "      <td>100.0</td>\n",
       "      <td>100.0</td>\n",
       "      <td>100.0</td>\n",
       "      <td>100.0</td>\n",
       "      <td>100.0</td>\n",
       "      <td>100.0</td>\n",
       "      <td>100.0</td>\n",
       "      <td>100.0</td>\n",
       "      <td>...</td>\n",
       "      <td>78.871339</td>\n",
       "      <td>100.0</td>\n",
       "      <td>100.0</td>\n",
       "      <td>100.0</td>\n",
       "      <td>99.832412</td>\n",
       "      <td>77.876201</td>\n",
       "      <td>99.681512</td>\n",
       "      <td>100.0</td>\n",
       "      <td>78.631360</td>\n",
       "      <td>100.0</td>\n",
       "    </tr>\n",
       "    <tr>\n",
       "      <th>x3</th>\n",
       "      <td>1560.0</td>\n",
       "      <td>100.0</td>\n",
       "      <td>100.0</td>\n",
       "      <td>100.0</td>\n",
       "      <td>100.0</td>\n",
       "      <td>100.0</td>\n",
       "      <td>100.0</td>\n",
       "      <td>100.0</td>\n",
       "      <td>100.0</td>\n",
       "      <td>100.0</td>\n",
       "      <td>...</td>\n",
       "      <td>78.882563</td>\n",
       "      <td>100.0</td>\n",
       "      <td>100.0</td>\n",
       "      <td>100.0</td>\n",
       "      <td>99.832926</td>\n",
       "      <td>77.878014</td>\n",
       "      <td>99.680985</td>\n",
       "      <td>100.0</td>\n",
       "      <td>79.041955</td>\n",
       "      <td>100.0</td>\n",
       "    </tr>\n",
       "    <tr>\n",
       "      <th>x4</th>\n",
       "      <td>1563.0</td>\n",
       "      <td>100.0</td>\n",
       "      <td>100.0</td>\n",
       "      <td>100.0</td>\n",
       "      <td>100.0</td>\n",
       "      <td>100.0</td>\n",
       "      <td>100.0</td>\n",
       "      <td>100.0</td>\n",
       "      <td>100.0</td>\n",
       "      <td>100.0</td>\n",
       "      <td>...</td>\n",
       "      <td>78.904156</td>\n",
       "      <td>100.0</td>\n",
       "      <td>100.0</td>\n",
       "      <td>100.0</td>\n",
       "      <td>99.834759</td>\n",
       "      <td>77.880930</td>\n",
       "      <td>99.680263</td>\n",
       "      <td>100.0</td>\n",
       "      <td>79.521958</td>\n",
       "      <td>100.0</td>\n",
       "    </tr>\n",
       "  </tbody>\n",
       "</table>\n",
       "<p>5 rows × 901 columns</p>\n",
       "</div>"
      ],
      "text/plain": [
       "    M.Time[d]    N_1    N_2    N_3    N_4    N_5    N_6    N_7    N_8    N_9  \\\n",
       "x0     1554.0  100.0  100.0  100.0  100.0  100.0  100.0  100.0  100.0  100.0   \n",
       "x1     1556.0  100.0  100.0  100.0  100.0  100.0  100.0  100.0  100.0  100.0   \n",
       "x2     1558.0  100.0  100.0  100.0  100.0  100.0  100.0  100.0  100.0  100.0   \n",
       "x3     1560.0  100.0  100.0  100.0  100.0  100.0  100.0  100.0  100.0  100.0   \n",
       "x4     1563.0  100.0  100.0  100.0  100.0  100.0  100.0  100.0  100.0  100.0   \n",
       "\n",
       "    ...      N_891  N_892  N_893  N_894      N_895      N_896      N_897  \\\n",
       "x0  ...  78.853196  100.0  100.0  100.0  99.832469  77.872682  99.682618   \n",
       "x1  ...  78.861729  100.0  100.0  100.0  99.832297  77.874432  99.682059   \n",
       "x2  ...  78.871339  100.0  100.0  100.0  99.832412  77.876201  99.681512   \n",
       "x3  ...  78.882563  100.0  100.0  100.0  99.832926  77.878014  99.680985   \n",
       "x4  ...  78.904156  100.0  100.0  100.0  99.834759  77.880930  99.680263   \n",
       "\n",
       "    N_898      N_899  N_900  \n",
       "x0  100.0  77.465508  100.0  \n",
       "x1  100.0  78.123191  100.0  \n",
       "x2  100.0  78.631360  100.0  \n",
       "x3  100.0  79.041955  100.0  \n",
       "x4  100.0  79.521958  100.0  \n",
       "\n",
       "[5 rows x 901 columns]"
      ]
     },
     "metadata": {},
     "output_type": "display_data"
    }
   ],
   "source": [
    "## It is essential to keep the dimensions so we will fill empty columns with values of the next column \n",
    "humidity_train = func.fill_NaN_columns(\n",
    "    K = 5,\n",
    "    df = humidity_train,\n",
    "    imputer = imputer,\n",
    "    coords = coordinates_train\n",
    ")\n",
    "\n",
    "humidity_pred = func.fill_NaN_columns(\n",
    "    K = 5,\n",
    "    df = humidity_pred,\n",
    "    imputer = imputer,\n",
    "    coords = coordinates_pred\n",
    ")\n",
    "\n",
    "\n",
    "## Imputing the missing data\n",
    "humidity_train = (imputer.fit_transform(humidity_train.T)).T\n",
    "humidity_pred = (imputer.fit_transform(humidity_pred.T)).T\n",
    "\n",
    "\n",
    "# Visualize distribution with a histogram (code provided by ChatGPT)\n",
    "sensor_data = humidity_train.iloc[:,1:]\n",
    "all_values = sensor_data.values.flatten()\n",
    "plt.figure(figsize=(12, 6))\n",
    "plt.hist(all_values, bins = np.arange(all_values.min(), all_values.max() + 1, 1), edgecolor='black')\n",
    "plt.title('Distribution of All Sensor Values')\n",
    "plt.xlabel('Humidity Value')\n",
    "plt.ylabel('Frequency')\n",
    "plt.grid(True)\n",
    "plt.show()\n",
    "\n",
    "## Initial shapes\n",
    "print(\"humidity_train shape:\"+str(humidity_train.shape))\n",
    "print(\"humidity_pred shape:\"+str(humidity_pred.shape))\n",
    "\n",
    "## Checking how many columns are filled with NaN values\n",
    "count = humidity_train.isnull().all().sum()\n",
    "print(f'{count} columns in pressure_train are filled with NaN')\n",
    "count = humidity_pred.isnull().all().sum()\n",
    "print(f'{count} columns in pressure_pred are filled with NaN')\n",
    "\n",
    "\n",
    "## Imputing the missing data\n",
    "humidity_train = (imputer.fit_transform(humidity_train.T)).T\n",
    "humidity_pred = (imputer.fit_transform(humidity_pred.T)).T\n",
    "\n",
    "display(humidity_train.head(5))"
   ]
  },
  {
   "cell_type": "markdown",
   "id": "c230ab0f",
   "metadata": {},
   "source": [
    "There are some values that appear rarely but they are very realistic so we decided not to clip them."
   ]
  },
  {
   "cell_type": "markdown",
   "id": "de17625c",
   "metadata": {},
   "source": [
    "#### **Temperature**"
   ]
  },
  {
   "cell_type": "code",
   "execution_count": 11,
   "id": "2a13c920",
   "metadata": {},
   "outputs": [
    {
     "data": {
      "text/html": [
       "<div>\n",
       "<style scoped>\n",
       "    .dataframe tbody tr th:only-of-type {\n",
       "        vertical-align: middle;\n",
       "    }\n",
       "\n",
       "    .dataframe tbody tr th {\n",
       "        vertical-align: top;\n",
       "    }\n",
       "\n",
       "    .dataframe thead th {\n",
       "        text-align: right;\n",
       "    }\n",
       "</style>\n",
       "<table border=\"1\" class=\"dataframe\">\n",
       "  <thead>\n",
       "    <tr style=\"text-align: right;\">\n",
       "      <th></th>\n",
       "      <th>M.Time[d]</th>\n",
       "      <th>N_1</th>\n",
       "      <th>N_2</th>\n",
       "      <th>N_3</th>\n",
       "      <th>N_4</th>\n",
       "      <th>N_5</th>\n",
       "      <th>N_6</th>\n",
       "      <th>N_7</th>\n",
       "      <th>N_8</th>\n",
       "      <th>N_9</th>\n",
       "      <th>...</th>\n",
       "      <th>N_891</th>\n",
       "      <th>N_892</th>\n",
       "      <th>N_893</th>\n",
       "      <th>N_894</th>\n",
       "      <th>N_895</th>\n",
       "      <th>N_896</th>\n",
       "      <th>N_897</th>\n",
       "      <th>N_898</th>\n",
       "      <th>N_899</th>\n",
       "      <th>N_900</th>\n",
       "    </tr>\n",
       "  </thead>\n",
       "  <tbody>\n",
       "    <tr>\n",
       "      <th>0</th>\n",
       "      <td>1554</td>\n",
       "      <td>17.623059</td>\n",
       "      <td>17.154220</td>\n",
       "      <td>17.641578</td>\n",
       "      <td>17.455701</td>\n",
       "      <td>NaN</td>\n",
       "      <td>16.604935</td>\n",
       "      <td>17.662407</td>\n",
       "      <td>16.503001</td>\n",
       "      <td>16.943823</td>\n",
       "      <td>...</td>\n",
       "      <td>17.503931</td>\n",
       "      <td>17.225297</td>\n",
       "      <td>17.498277</td>\n",
       "      <td>17.268529</td>\n",
       "      <td>17.573474</td>\n",
       "      <td>17.412215</td>\n",
       "      <td>17.526257</td>\n",
       "      <td>17.364940</td>\n",
       "      <td>24.026562</td>\n",
       "      <td>17.538194</td>\n",
       "    </tr>\n",
       "    <tr>\n",
       "      <th>1</th>\n",
       "      <td>1556</td>\n",
       "      <td>17.620860</td>\n",
       "      <td>17.154263</td>\n",
       "      <td>17.641672</td>\n",
       "      <td>17.455850</td>\n",
       "      <td>16.415312</td>\n",
       "      <td>16.605042</td>\n",
       "      <td>17.662519</td>\n",
       "      <td>16.503121</td>\n",
       "      <td>16.943985</td>\n",
       "      <td>...</td>\n",
       "      <td>17.510776</td>\n",
       "      <td>17.223290</td>\n",
       "      <td>17.498581</td>\n",
       "      <td>17.267488</td>\n",
       "      <td>17.578925</td>\n",
       "      <td>17.409841</td>\n",
       "      <td>17.522860</td>\n",
       "      <td>17.363663</td>\n",
       "      <td>33.729552</td>\n",
       "      <td>17.537460</td>\n",
       "    </tr>\n",
       "    <tr>\n",
       "      <th>2</th>\n",
       "      <td>1558</td>\n",
       "      <td>17.618608</td>\n",
       "      <td>17.154303</td>\n",
       "      <td>17.641766</td>\n",
       "      <td>17.455998</td>\n",
       "      <td>16.415377</td>\n",
       "      <td>16.605148</td>\n",
       "      <td>17.662632</td>\n",
       "      <td>16.503240</td>\n",
       "      <td>16.944146</td>\n",
       "      <td>...</td>\n",
       "      <td>17.534085</td>\n",
       "      <td>17.223733</td>\n",
       "      <td>17.501874</td>\n",
       "      <td>2872.837827</td>\n",
       "      <td>17.599256</td>\n",
       "      <td>17.407913</td>\n",
       "      <td>17.520157</td>\n",
       "      <td>17.363850</td>\n",
       "      <td>41.602481</td>\n",
       "      <td>17.537433</td>\n",
       "    </tr>\n",
       "    <tr>\n",
       "      <th>3</th>\n",
       "      <td>1560</td>\n",
       "      <td>17.616334</td>\n",
       "      <td>2717.706176</td>\n",
       "      <td>17.641859</td>\n",
       "      <td>17.456146</td>\n",
       "      <td>16.415440</td>\n",
       "      <td>16.605254</td>\n",
       "      <td>17.662744</td>\n",
       "      <td>16.503357</td>\n",
       "      <td>16.944307</td>\n",
       "      <td>...</td>\n",
       "      <td>17.581610</td>\n",
       "      <td>17.228355</td>\n",
       "      <td>17.509670</td>\n",
       "      <td>17.266326</td>\n",
       "      <td>17.640317</td>\n",
       "      <td>17.406770</td>\n",
       "      <td>17.518750</td>\n",
       "      <td>17.366504</td>\n",
       "      <td>48.218980</td>\n",
       "      <td>17.538652</td>\n",
       "    </tr>\n",
       "    <tr>\n",
       "      <th>4</th>\n",
       "      <td>1563</td>\n",
       "      <td>17.612991</td>\n",
       "      <td>17.154388</td>\n",
       "      <td>17.642000</td>\n",
       "      <td>17.456367</td>\n",
       "      <td>16.415531</td>\n",
       "      <td>16.605414</td>\n",
       "      <td>17.662912</td>\n",
       "      <td>16.503530</td>\n",
       "      <td>16.944544</td>\n",
       "      <td>...</td>\n",
       "      <td>17.723547</td>\n",
       "      <td>17.249726</td>\n",
       "      <td>17.535358</td>\n",
       "      <td>17.267759</td>\n",
       "      <td>17.757592</td>\n",
       "      <td>17.408069</td>\n",
       "      <td>17.521699</td>\n",
       "      <td>17.379102</td>\n",
       "      <td>56.258743</td>\n",
       "      <td>17.545154</td>\n",
       "    </tr>\n",
       "  </tbody>\n",
       "</table>\n",
       "<p>5 rows × 901 columns</p>\n",
       "</div>"
      ],
      "text/plain": [
       "   M.Time[d]        N_1          N_2        N_3        N_4        N_5  \\\n",
       "0       1554  17.623059    17.154220  17.641578  17.455701        NaN   \n",
       "1       1556  17.620860    17.154263  17.641672  17.455850  16.415312   \n",
       "2       1558  17.618608    17.154303  17.641766  17.455998  16.415377   \n",
       "3       1560  17.616334  2717.706176  17.641859  17.456146  16.415440   \n",
       "4       1563  17.612991    17.154388  17.642000  17.456367  16.415531   \n",
       "\n",
       "         N_6        N_7        N_8        N_9  ...      N_891      N_892  \\\n",
       "0  16.604935  17.662407  16.503001  16.943823  ...  17.503931  17.225297   \n",
       "1  16.605042  17.662519  16.503121  16.943985  ...  17.510776  17.223290   \n",
       "2  16.605148  17.662632  16.503240  16.944146  ...  17.534085  17.223733   \n",
       "3  16.605254  17.662744  16.503357  16.944307  ...  17.581610  17.228355   \n",
       "4  16.605414  17.662912  16.503530  16.944544  ...  17.723547  17.249726   \n",
       "\n",
       "       N_893        N_894      N_895      N_896      N_897      N_898  \\\n",
       "0  17.498277    17.268529  17.573474  17.412215  17.526257  17.364940   \n",
       "1  17.498581    17.267488  17.578925  17.409841  17.522860  17.363663   \n",
       "2  17.501874  2872.837827  17.599256  17.407913  17.520157  17.363850   \n",
       "3  17.509670    17.266326  17.640317  17.406770  17.518750  17.366504   \n",
       "4  17.535358    17.267759  17.757592  17.408069  17.521699  17.379102   \n",
       "\n",
       "       N_899      N_900  \n",
       "0  24.026562  17.538194  \n",
       "1  33.729552  17.537460  \n",
       "2  41.602481  17.537433  \n",
       "3  48.218980  17.538652  \n",
       "4  56.258743  17.545154  \n",
       "\n",
       "[5 rows x 901 columns]"
      ]
     },
     "metadata": {},
     "output_type": "display_data"
    },
    {
     "name": "stdout",
     "output_type": "stream",
     "text": [
      "(32, 901)\n"
     ]
    }
   ],
   "source": [
    "display(temperature_train.head(5))\n",
    "print(temperature_train.shape)"
   ]
  },
  {
   "cell_type": "markdown",
   "id": "578d6cb6",
   "metadata": {},
   "source": [
    "Here we notice sudden spikes in the temperature going from about 20 to 2'000+ (the mineral would most likely melt at that temperature) and going back down to 20 a few days later. We can consider those value as measurement errors. We can replace those outliers by the mean of the 2 nearest neighbors if they are above a threshold of 60 (we can see it should work well by looking at the graph below), this is called value cliping."
   ]
  },
  {
   "cell_type": "code",
   "execution_count": 12,
   "id": "2f629ff6",
   "metadata": {},
   "outputs": [
    {
     "name": "stdout",
     "output_type": "stream",
     "text": [
      "0\n"
     ]
    },
    {
     "data": {
      "image/png": "[encoded data removed]",
      "text/plain": [
       "<Figure size 1200x600 with 1 Axes>"
      ]
     },
     "metadata": {},
     "output_type": "display_data"
    },
    {
     "name": "stdout",
     "output_type": "stream",
     "text": [
      "temperature_train shape: (32, 901)\n",
      "empty columns: 0\n",
      "temperature_train shape: (32, 901)\n"
     ]
    }
   ],
   "source": [
    "## It is essential to keep the dimensions so we will fill empty columns with values of the next column \n",
    "temperature_train = func.fill_NaN_columns(\n",
    "    K = 5,\n",
    "    df = temperature_train,\n",
    "    imputer = imputer,\n",
    "    coords = coordinates_train\n",
    ")\n",
    "\n",
    "## We impute the missing data with the 2 nearest neighbors to view the distribution\n",
    "temperature_train = (imputer.fit_transform(temperature_train.T)).T \n",
    "print(temperature_train.isnull().sum().sum()) # check that it worked\n",
    "\n",
    "# Visualize the distribution with a histogram (code provided by ChatGPT)\n",
    "sensor_data = temperature_train.iloc[:,1:]\n",
    "all_values = sensor_data.values.flatten()\n",
    "plt.figure(figsize=(12, 6))\n",
    "plt.hist(all_values, bins = np.arange(all_values.min(), all_values.max() + 100, 10), edgecolor='black')\n",
    "plt.title('Distribution of All Sensor Values')\n",
    "plt.xlabel('Temperature Value')\n",
    "plt.ylabel('Frequency')\n",
    "plt.grid(True)\n",
    "plt.show()\n",
    "\n",
    "## Applying the filter:\n",
    "temperature_train.iloc[:,1:] = temperature_train.iloc[:,1:].mask(temperature_train.iloc[:,1:] >= 100, np.nan) ## set filter to 100 to see\n",
    "\n",
    "## Initial shape: \n",
    "print(f'temperature_train shape: {temperature_train.shape}')\n",
    "print(f'empty columns: {temperature_train.isnull().all().sum()}')\n",
    "\n",
    "## We impute the missing data with the 2 nearest neighbors as done with the pressure\n",
    "temperature_train = (imputer.fit_transform(temperature_train.T)).T\n",
    "\n",
    "## New shape: \n",
    "print(f'temperature_train shape: {temperature_train.shape}')"
   ]
  },
  {
   "cell_type": "markdown",
   "id": "345906c1",
   "metadata": {},
   "source": [
    "### **Feature engineering**\n",
    "\n",
    "#### **Data normalization**"
   ]
  },
  {
   "cell_type": "markdown",
   "id": "685bfd07",
   "metadata": {},
   "source": [
    "Data normalization is essential for a faster convergence of the descent methods and an appropriate penalization of the weights. We will use a z-score scaling technique as a min-max scaling would be scalled up by the few outliers left and concentrate the values too much. We'll then make sure the data is not too heavy-tailed for the scaling to work best."
   ]
  },
  {
   "cell_type": "code",
   "execution_count": 13,
   "id": "ba281a86",
   "metadata": {},
   "outputs": [],
   "source": [
    "## Mean and standard deviation are always computed on the training data\n",
    "## axis = None computes the mean over the entire DataFrame with our current version of pandas: 2.0.3\n",
    "## but it doesn't work with the std: \n",
    "#  https://stackoverflow.com/questions/25140998/pandas-compute-mean-or-std-standard-deviation-over-entire-dataframe\n",
    "\n",
    "pressure_mean = pressure_train.iloc[:,1:].mean(axis=None) \n",
    "pressure_std = pressure_train.iloc[:,1:].values.std()\n",
    "\n",
    "humidity_mean = humidity_train.iloc[:,1:].mean(axis=None) \n",
    "humidity_std = humidity_train.iloc[:,1:].values.std()\n",
    "\n",
    "temperature_mean = temperature_train.iloc[:,1:].mean(axis=None)\n",
    "temperature_std = temperature_train.iloc[:,1:].values.std()\n",
    "\n",
    "coordinates_mean = coordinates_train[[\"x\",\"y\",\"z\",\"r\"]].mean(axis=0)\n",
    "coordinates_std = coordinates_train[[\"x\",\"y\",\"z\",\"r\"]].std(axis=0)\n",
    "\n",
    "# print(f'Mean pressure: {pressure_mean}')\n",
    "# print(f'SD of pressure: {pressure_std}')\n",
    "\n",
    "# print(f'Mean humidity: {humidity_mean}')\n",
    "# print(f'SD of humidity: {humidity_std}')\n",
    "\n",
    "# print(f'Mean temperature: {temperature_mean}')\n",
    "# print(f'SD of temperature: {temperature_std}')\n",
    "\n",
    "pressure_train.iloc[:,1:] -= pressure_mean\n",
    "pressure_train.iloc[:,1:] /= pressure_std\n",
    "pressure_pred.iloc[:,1:] -= pressure_mean\n",
    "pressure_pred.iloc[:,1:] /= pressure_std\n",
    "\n",
    "humidity_train.iloc[:,1:] -= humidity_mean\n",
    "humidity_train.iloc[:,1:] /= humidity_std\n",
    "humidity_pred.iloc[:,1:] -= humidity_mean\n",
    "humidity_pred.iloc[:,1:] /= humidity_std\n",
    "\n",
    "temperature_train.iloc[:,1:] -= temperature_mean\n",
    "temperature_train.iloc[:,1:] /= temperature_std\n",
    "\n",
    "coordinates_train[[\"x\",\"y\",\"z\",\"r\"]] -= coordinates_mean\n",
    "coordinates_train[[\"x\",\"y\",\"z\",\"r\"]] /= coordinates_std\n",
    "coordinates_pred[[\"x\",\"y\",\"z\",\"r\"]] -= coordinates_mean\n",
    "coordinates_pred[[\"x\",\"y\",\"z\",\"r\"]] /= coordinates_std\n",
    "\n",
    "## Check that the values now follow a normal distribution : \n",
    "## (the test sets will be off obviously)\n",
    "assert np.isclose(pressure_train.iloc[:,1:].mean(axis=None), 0)\n",
    "assert np.isclose(pressure_train.iloc[:,1:].values.std(), 1)\n",
    "\n",
    "assert np.isclose(humidity_train.iloc[:,1:].mean(axis=None), 0)\n",
    "assert np.isclose(humidity_train.iloc[:,1:].values.std(), 1)\n",
    "\n",
    "assert np.isclose(temperature_train.iloc[:,1:].mean(axis=None), 0)\n",
    "assert np.isclose(temperature_train.iloc[:,1:].values.std(), 1)\n",
    "\n",
    "assert np.allclose(coordinates_train[[\"x\",\"y\",\"z\",\"r\"]].mean(axis=0), 0)\n",
    "assert np.allclose(coordinates_train[[\"x\",\"y\",\"z\",\"r\"]].std(axis=0), 1)\n",
    "\n"
   ]
  },
  {
   "cell_type": "markdown",
   "id": "c4bfc150",
   "metadata": {},
   "source": [
    "Let's visualize our data before making it into numpy arrays :"
   ]
  },
  {
   "cell_type": "code",
   "execution_count": 14,
   "id": "dd47a78b",
   "metadata": {},
   "outputs": [
    {
     "data": {
      "text/html": [
       "<div>\n",
       "<style scoped>\n",
       "    .dataframe tbody tr th:only-of-type {\n",
       "        vertical-align: middle;\n",
       "    }\n",
       "\n",
       "    .dataframe tbody tr th {\n",
       "        vertical-align: top;\n",
       "    }\n",
       "\n",
       "    .dataframe thead th {\n",
       "        text-align: right;\n",
       "    }\n",
       "</style>\n",
       "<table border=\"1\" class=\"dataframe\">\n",
       "  <thead>\n",
       "    <tr style=\"text-align: right;\">\n",
       "      <th></th>\n",
       "      <th>M.Time[d]</th>\n",
       "      <th>N_1</th>\n",
       "      <th>N_2</th>\n",
       "      <th>N_3</th>\n",
       "      <th>N_4</th>\n",
       "      <th>N_5</th>\n",
       "      <th>N_6</th>\n",
       "      <th>N_7</th>\n",
       "      <th>N_8</th>\n",
       "      <th>N_9</th>\n",
       "      <th>...</th>\n",
       "      <th>N_891</th>\n",
       "      <th>N_892</th>\n",
       "      <th>N_893</th>\n",
       "      <th>N_894</th>\n",
       "      <th>N_895</th>\n",
       "      <th>N_896</th>\n",
       "      <th>N_897</th>\n",
       "      <th>N_898</th>\n",
       "      <th>N_899</th>\n",
       "      <th>N_900</th>\n",
       "    </tr>\n",
       "  </thead>\n",
       "  <tbody>\n",
       "    <tr>\n",
       "      <th>x0</th>\n",
       "      <td>1554.0</td>\n",
       "      <td>-0.940483</td>\n",
       "      <td>0.778947</td>\n",
       "      <td>1.060840</td>\n",
       "      <td>0.575454</td>\n",
       "      <td>0.795358</td>\n",
       "      <td>0.805065</td>\n",
       "      <td>1.053202</td>\n",
       "      <td>0.850364</td>\n",
       "      <td>0.685013</td>\n",
       "      <td>...</td>\n",
       "      <td>-1.604126</td>\n",
       "      <td>-1.055255</td>\n",
       "      <td>-0.773465</td>\n",
       "      <td>-0.402075</td>\n",
       "      <td>-1.939766</td>\n",
       "      <td>-1.171551</td>\n",
       "      <td>-1.175564</td>\n",
       "      <td>-0.859679</td>\n",
       "      <td>-1.397357</td>\n",
       "      <td>-0.139879</td>\n",
       "    </tr>\n",
       "    <tr>\n",
       "      <th>x1</th>\n",
       "      <td>1556.0</td>\n",
       "      <td>-0.942193</td>\n",
       "      <td>0.778108</td>\n",
       "      <td>1.060790</td>\n",
       "      <td>0.574970</td>\n",
       "      <td>0.795291</td>\n",
       "      <td>0.805014</td>\n",
       "      <td>1.053054</td>\n",
       "      <td>0.850192</td>\n",
       "      <td>0.684640</td>\n",
       "      <td>...</td>\n",
       "      <td>-1.605112</td>\n",
       "      <td>-1.056003</td>\n",
       "      <td>-0.773946</td>\n",
       "      <td>-0.403643</td>\n",
       "      <td>-1.940383</td>\n",
       "      <td>-1.172577</td>\n",
       "      <td>-1.177754</td>\n",
       "      <td>-0.861315</td>\n",
       "      <td>-1.398688</td>\n",
       "      <td>-0.140157</td>\n",
       "    </tr>\n",
       "    <tr>\n",
       "      <th>x2</th>\n",
       "      <td>1558.0</td>\n",
       "      <td>-0.943899</td>\n",
       "      <td>0.777261</td>\n",
       "      <td>1.060739</td>\n",
       "      <td>0.574486</td>\n",
       "      <td>0.795224</td>\n",
       "      <td>0.804963</td>\n",
       "      <td>1.052904</td>\n",
       "      <td>0.850017</td>\n",
       "      <td>0.684268</td>\n",
       "      <td>...</td>\n",
       "      <td>-1.606025</td>\n",
       "      <td>-1.056457</td>\n",
       "      <td>-0.774085</td>\n",
       "      <td>-0.405168</td>\n",
       "      <td>-1.940019</td>\n",
       "      <td>-1.173321</td>\n",
       "      <td>-1.179930</td>\n",
       "      <td>-0.862760</td>\n",
       "      <td>-1.399655</td>\n",
       "      <td>-0.140292</td>\n",
       "    </tr>\n",
       "    <tr>\n",
       "      <th>x3</th>\n",
       "      <td>1560.0</td>\n",
       "      <td>-0.945596</td>\n",
       "      <td>0.776409</td>\n",
       "      <td>1.060686</td>\n",
       "      <td>0.574003</td>\n",
       "      <td>0.795157</td>\n",
       "      <td>0.804913</td>\n",
       "      <td>1.052752</td>\n",
       "      <td>0.849841</td>\n",
       "      <td>0.683897</td>\n",
       "      <td>...</td>\n",
       "      <td>-1.606810</td>\n",
       "      <td>-1.056472</td>\n",
       "      <td>-0.773751</td>\n",
       "      <td>-0.406614</td>\n",
       "      <td>-1.938290</td>\n",
       "      <td>-1.173707</td>\n",
       "      <td>-1.182082</td>\n",
       "      <td>-0.863874</td>\n",
       "      <td>-1.400053</td>\n",
       "      <td>-0.140227</td>\n",
       "    </tr>\n",
       "    <tr>\n",
       "      <th>x4</th>\n",
       "      <td>1563.0</td>\n",
       "      <td>-0.948118</td>\n",
       "      <td>0.775120</td>\n",
       "      <td>1.060604</td>\n",
       "      <td>0.573278</td>\n",
       "      <td>0.795053</td>\n",
       "      <td>0.804840</td>\n",
       "      <td>1.052523</td>\n",
       "      <td>0.849571</td>\n",
       "      <td>0.683341</td>\n",
       "      <td>...</td>\n",
       "      <td>-1.607500</td>\n",
       "      <td>-1.055022</td>\n",
       "      <td>-0.771835</td>\n",
       "      <td>-0.408477</td>\n",
       "      <td>-1.932064</td>\n",
       "      <td>-1.173356</td>\n",
       "      <td>-1.185209</td>\n",
       "      <td>-0.864396</td>\n",
       "      <td>-1.398865</td>\n",
       "      <td>-0.139461</td>\n",
       "    </tr>\n",
       "  </tbody>\n",
       "</table>\n",
       "<p>5 rows × 901 columns</p>\n",
       "</div>"
      ],
      "text/plain": [
       "    M.Time[d]       N_1       N_2       N_3       N_4       N_5       N_6  \\\n",
       "x0     1554.0 -0.940483  0.778947  1.060840  0.575454  0.795358  0.805065   \n",
       "x1     1556.0 -0.942193  0.778108  1.060790  0.574970  0.795291  0.805014   \n",
       "x2     1558.0 -0.943899  0.777261  1.060739  0.574486  0.795224  0.804963   \n",
       "x3     1560.0 -0.945596  0.776409  1.060686  0.574003  0.795157  0.804913   \n",
       "x4     1563.0 -0.948118  0.775120  1.060604  0.573278  0.795053  0.804840   \n",
       "\n",
       "         N_7       N_8       N_9  ...     N_891     N_892     N_893     N_894  \\\n",
       "x0  1.053202  0.850364  0.685013  ... -1.604126 -1.055255 -0.773465 -0.402075   \n",
       "x1  1.053054  0.850192  0.684640  ... -1.605112 -1.056003 -0.773946 -0.403643   \n",
       "x2  1.052904  0.850017  0.684268  ... -1.606025 -1.056457 -0.774085 -0.405168   \n",
       "x3  1.052752  0.849841  0.683897  ... -1.606810 -1.056472 -0.773751 -0.406614   \n",
       "x4  1.052523  0.849571  0.683341  ... -1.607500 -1.055022 -0.771835 -0.408477   \n",
       "\n",
       "       N_895     N_896     N_897     N_898     N_899     N_900  \n",
       "x0 -1.939766 -1.171551 -1.175564 -0.859679 -1.397357 -0.139879  \n",
       "x1 -1.940383 -1.172577 -1.177754 -0.861315 -1.398688 -0.140157  \n",
       "x2 -1.940019 -1.173321 -1.179930 -0.862760 -1.399655 -0.140292  \n",
       "x3 -1.938290 -1.173707 -1.182082 -0.863874 -1.400053 -0.140227  \n",
       "x4 -1.932064 -1.173356 -1.185209 -0.864396 -1.398865 -0.139461  \n",
       "\n",
       "[5 rows x 901 columns]"
      ]
     },
     "metadata": {},
     "output_type": "display_data"
    },
    {
     "data": {
      "text/html": [
       "<div>\n",
       "<style scoped>\n",
       "    .dataframe tbody tr th:only-of-type {\n",
       "        vertical-align: middle;\n",
       "    }\n",
       "\n",
       "    .dataframe tbody tr th {\n",
       "        vertical-align: top;\n",
       "    }\n",
       "\n",
       "    .dataframe thead th {\n",
       "        text-align: right;\n",
       "    }\n",
       "</style>\n",
       "<table border=\"1\" class=\"dataframe\">\n",
       "  <thead>\n",
       "    <tr style=\"text-align: right;\">\n",
       "      <th></th>\n",
       "      <th>M.Time[d]</th>\n",
       "      <th>N_1</th>\n",
       "      <th>N_2</th>\n",
       "      <th>N_3</th>\n",
       "      <th>N_4</th>\n",
       "      <th>N_5</th>\n",
       "      <th>N_6</th>\n",
       "      <th>N_7</th>\n",
       "      <th>N_8</th>\n",
       "      <th>N_9</th>\n",
       "      <th>...</th>\n",
       "      <th>N_891</th>\n",
       "      <th>N_892</th>\n",
       "      <th>N_893</th>\n",
       "      <th>N_894</th>\n",
       "      <th>N_895</th>\n",
       "      <th>N_896</th>\n",
       "      <th>N_897</th>\n",
       "      <th>N_898</th>\n",
       "      <th>N_899</th>\n",
       "      <th>N_900</th>\n",
       "    </tr>\n",
       "  </thead>\n",
       "  <tbody>\n",
       "    <tr>\n",
       "      <th>x0</th>\n",
       "      <td>1554.0</td>\n",
       "      <td>0.324866</td>\n",
       "      <td>0.324866</td>\n",
       "      <td>0.324866</td>\n",
       "      <td>0.324866</td>\n",
       "      <td>0.324866</td>\n",
       "      <td>0.324866</td>\n",
       "      <td>0.324866</td>\n",
       "      <td>0.324866</td>\n",
       "      <td>0.324866</td>\n",
       "      <td>...</td>\n",
       "      <td>-3.400404</td>\n",
       "      <td>0.324866</td>\n",
       "      <td>0.324866</td>\n",
       "      <td>0.324866</td>\n",
       "      <td>0.295353</td>\n",
       "      <td>-3.573134</td>\n",
       "      <td>0.268955</td>\n",
       "      <td>0.324866</td>\n",
       "      <td>-3.644863</td>\n",
       "      <td>0.324866</td>\n",
       "    </tr>\n",
       "    <tr>\n",
       "      <th>x1</th>\n",
       "      <td>1556.0</td>\n",
       "      <td>0.324866</td>\n",
       "      <td>0.324866</td>\n",
       "      <td>0.324866</td>\n",
       "      <td>0.324866</td>\n",
       "      <td>0.324866</td>\n",
       "      <td>0.324866</td>\n",
       "      <td>0.324866</td>\n",
       "      <td>0.324866</td>\n",
       "      <td>0.324866</td>\n",
       "      <td>...</td>\n",
       "      <td>-3.398901</td>\n",
       "      <td>0.324866</td>\n",
       "      <td>0.324866</td>\n",
       "      <td>0.324866</td>\n",
       "      <td>0.295323</td>\n",
       "      <td>-3.572826</td>\n",
       "      <td>0.268857</td>\n",
       "      <td>0.324866</td>\n",
       "      <td>-3.529004</td>\n",
       "      <td>0.324866</td>\n",
       "    </tr>\n",
       "    <tr>\n",
       "      <th>x2</th>\n",
       "      <td>1558.0</td>\n",
       "      <td>0.324866</td>\n",
       "      <td>0.324866</td>\n",
       "      <td>0.324866</td>\n",
       "      <td>0.324866</td>\n",
       "      <td>0.324866</td>\n",
       "      <td>0.324866</td>\n",
       "      <td>0.324866</td>\n",
       "      <td>0.324866</td>\n",
       "      <td>0.324866</td>\n",
       "      <td>...</td>\n",
       "      <td>-3.397208</td>\n",
       "      <td>0.324866</td>\n",
       "      <td>0.324866</td>\n",
       "      <td>0.324866</td>\n",
       "      <td>0.295343</td>\n",
       "      <td>-3.572514</td>\n",
       "      <td>0.268761</td>\n",
       "      <td>0.324866</td>\n",
       "      <td>-3.439484</td>\n",
       "      <td>0.324866</td>\n",
       "    </tr>\n",
       "    <tr>\n",
       "      <th>x3</th>\n",
       "      <td>1560.0</td>\n",
       "      <td>0.324866</td>\n",
       "      <td>0.324866</td>\n",
       "      <td>0.324866</td>\n",
       "      <td>0.324866</td>\n",
       "      <td>0.324866</td>\n",
       "      <td>0.324866</td>\n",
       "      <td>0.324866</td>\n",
       "      <td>0.324866</td>\n",
       "      <td>0.324866</td>\n",
       "      <td>...</td>\n",
       "      <td>-3.395231</td>\n",
       "      <td>0.324866</td>\n",
       "      <td>0.324866</td>\n",
       "      <td>0.324866</td>\n",
       "      <td>0.295434</td>\n",
       "      <td>-3.572195</td>\n",
       "      <td>0.268668</td>\n",
       "      <td>0.324866</td>\n",
       "      <td>-3.367152</td>\n",
       "      <td>0.324866</td>\n",
       "    </tr>\n",
       "    <tr>\n",
       "      <th>x4</th>\n",
       "      <td>1563.0</td>\n",
       "      <td>0.324866</td>\n",
       "      <td>0.324866</td>\n",
       "      <td>0.324866</td>\n",
       "      <td>0.324866</td>\n",
       "      <td>0.324866</td>\n",
       "      <td>0.324866</td>\n",
       "      <td>0.324866</td>\n",
       "      <td>0.324866</td>\n",
       "      <td>0.324866</td>\n",
       "      <td>...</td>\n",
       "      <td>-3.391427</td>\n",
       "      <td>0.324866</td>\n",
       "      <td>0.324866</td>\n",
       "      <td>0.324866</td>\n",
       "      <td>0.295757</td>\n",
       "      <td>-3.571681</td>\n",
       "      <td>0.268541</td>\n",
       "      <td>0.324866</td>\n",
       "      <td>-3.282594</td>\n",
       "      <td>0.324866</td>\n",
       "    </tr>\n",
       "  </tbody>\n",
       "</table>\n",
       "<p>5 rows × 901 columns</p>\n",
       "</div>"
      ],
      "text/plain": [
       "    M.Time[d]       N_1       N_2       N_3       N_4       N_5       N_6  \\\n",
       "x0     1554.0  0.324866  0.324866  0.324866  0.324866  0.324866  0.324866   \n",
       "x1     1556.0  0.324866  0.324866  0.324866  0.324866  0.324866  0.324866   \n",
       "x2     1558.0  0.324866  0.324866  0.324866  0.324866  0.324866  0.324866   \n",
       "x3     1560.0  0.324866  0.324866  0.324866  0.324866  0.324866  0.324866   \n",
       "x4     1563.0  0.324866  0.324866  0.324866  0.324866  0.324866  0.324866   \n",
       "\n",
       "         N_7       N_8       N_9  ...     N_891     N_892     N_893     N_894  \\\n",
       "x0  0.324866  0.324866  0.324866  ... -3.400404  0.324866  0.324866  0.324866   \n",
       "x1  0.324866  0.324866  0.324866  ... -3.398901  0.324866  0.324866  0.324866   \n",
       "x2  0.324866  0.324866  0.324866  ... -3.397208  0.324866  0.324866  0.324866   \n",
       "x3  0.324866  0.324866  0.324866  ... -3.395231  0.324866  0.324866  0.324866   \n",
       "x4  0.324866  0.324866  0.324866  ... -3.391427  0.324866  0.324866  0.324866   \n",
       "\n",
       "       N_895     N_896     N_897     N_898     N_899     N_900  \n",
       "x0  0.295353 -3.573134  0.268955  0.324866 -3.644863  0.324866  \n",
       "x1  0.295323 -3.572826  0.268857  0.324866 -3.529004  0.324866  \n",
       "x2  0.295343 -3.572514  0.268761  0.324866 -3.439484  0.324866  \n",
       "x3  0.295434 -3.572195  0.268668  0.324866 -3.367152  0.324866  \n",
       "x4  0.295757 -3.571681  0.268541  0.324866 -3.282594  0.324866  \n",
       "\n",
       "[5 rows x 901 columns]"
      ]
     },
     "metadata": {},
     "output_type": "display_data"
    },
    {
     "data": {
      "text/html": [
       "<div>\n",
       "<style scoped>\n",
       "    .dataframe tbody tr th:only-of-type {\n",
       "        vertical-align: middle;\n",
       "    }\n",
       "\n",
       "    .dataframe tbody tr th {\n",
       "        vertical-align: top;\n",
       "    }\n",
       "\n",
       "    .dataframe thead th {\n",
       "        text-align: right;\n",
       "    }\n",
       "</style>\n",
       "<table border=\"1\" class=\"dataframe\">\n",
       "  <thead>\n",
       "    <tr style=\"text-align: right;\">\n",
       "      <th></th>\n",
       "      <th>id</th>\n",
       "      <th>x</th>\n",
       "      <th>y</th>\n",
       "      <th>z</th>\n",
       "      <th>r</th>\n",
       "      <th>Material_BBLOCK</th>\n",
       "      <th>Material_CAN</th>\n",
       "      <th>Material_EDZ</th>\n",
       "      <th>Material_GBM</th>\n",
       "      <th>Material_OPA</th>\n",
       "      <th>Material_SHCR</th>\n",
       "      <th>Material_VOID</th>\n",
       "    </tr>\n",
       "  </thead>\n",
       "  <tbody>\n",
       "    <tr>\n",
       "      <th>0</th>\n",
       "      <td>N_1</td>\n",
       "      <td>0.016937</td>\n",
       "      <td>-1.027975</td>\n",
       "      <td>-0.380302</td>\n",
       "      <td>-0.860992</td>\n",
       "      <td>False</td>\n",
       "      <td>False</td>\n",
       "      <td>False</td>\n",
       "      <td>False</td>\n",
       "      <td>True</td>\n",
       "      <td>False</td>\n",
       "      <td>False</td>\n",
       "    </tr>\n",
       "    <tr>\n",
       "      <th>1</th>\n",
       "      <td>N_2</td>\n",
       "      <td>-1.210408</td>\n",
       "      <td>0.141186</td>\n",
       "      <td>-0.016204</td>\n",
       "      <td>0.084301</td>\n",
       "      <td>False</td>\n",
       "      <td>False</td>\n",
       "      <td>False</td>\n",
       "      <td>False</td>\n",
       "      <td>True</td>\n",
       "      <td>False</td>\n",
       "      <td>False</td>\n",
       "    </tr>\n",
       "    <tr>\n",
       "      <th>2</th>\n",
       "      <td>N_3</td>\n",
       "      <td>-1.921589</td>\n",
       "      <td>-1.685009</td>\n",
       "      <td>-1.379661</td>\n",
       "      <td>1.435142</td>\n",
       "      <td>False</td>\n",
       "      <td>False</td>\n",
       "      <td>False</td>\n",
       "      <td>False</td>\n",
       "      <td>True</td>\n",
       "      <td>False</td>\n",
       "      <td>False</td>\n",
       "    </tr>\n",
       "    <tr>\n",
       "      <th>3</th>\n",
       "      <td>N_4</td>\n",
       "      <td>0.806761</td>\n",
       "      <td>-2.024077</td>\n",
       "      <td>-0.422075</td>\n",
       "      <td>-0.237832</td>\n",
       "      <td>False</td>\n",
       "      <td>False</td>\n",
       "      <td>False</td>\n",
       "      <td>False</td>\n",
       "      <td>True</td>\n",
       "      <td>False</td>\n",
       "      <td>False</td>\n",
       "    </tr>\n",
       "    <tr>\n",
       "      <th>4</th>\n",
       "      <td>N_5</td>\n",
       "      <td>0.530507</td>\n",
       "      <td>1.877074</td>\n",
       "      <td>1.497395</td>\n",
       "      <td>0.549192</td>\n",
       "      <td>False</td>\n",
       "      <td>False</td>\n",
       "      <td>False</td>\n",
       "      <td>False</td>\n",
       "      <td>True</td>\n",
       "      <td>False</td>\n",
       "      <td>False</td>\n",
       "    </tr>\n",
       "  </tbody>\n",
       "</table>\n",
       "</div>"
      ],
      "text/plain": [
       "    id         x         y         z         r  Material_BBLOCK  Material_CAN  \\\n",
       "0  N_1  0.016937 -1.027975 -0.380302 -0.860992            False         False   \n",
       "1  N_2 -1.210408  0.141186 -0.016204  0.084301            False         False   \n",
       "2  N_3 -1.921589 -1.685009 -1.379661  1.435142            False         False   \n",
       "3  N_4  0.806761 -2.024077 -0.422075 -0.237832            False         False   \n",
       "4  N_5  0.530507  1.877074  1.497395  0.549192            False         False   \n",
       "\n",
       "   Material_EDZ  Material_GBM  Material_OPA  Material_SHCR  Material_VOID  \n",
       "0         False         False          True          False          False  \n",
       "1         False         False          True          False          False  \n",
       "2         False         False          True          False          False  \n",
       "3         False         False          True          False          False  \n",
       "4         False         False          True          False          False  "
      ]
     },
     "metadata": {},
     "output_type": "display_data"
    },
    {
     "data": {
      "text/html": [
       "<div>\n",
       "<style scoped>\n",
       "    .dataframe tbody tr th:only-of-type {\n",
       "        vertical-align: middle;\n",
       "    }\n",
       "\n",
       "    .dataframe tbody tr th {\n",
       "        vertical-align: top;\n",
       "    }\n",
       "\n",
       "    .dataframe thead th {\n",
       "        text-align: right;\n",
       "    }\n",
       "</style>\n",
       "<table border=\"1\" class=\"dataframe\">\n",
       "  <thead>\n",
       "    <tr style=\"text-align: right;\">\n",
       "      <th></th>\n",
       "      <th>M.Time[d]</th>\n",
       "      <th>N_1</th>\n",
       "      <th>N_2</th>\n",
       "      <th>N_3</th>\n",
       "      <th>N_4</th>\n",
       "      <th>N_5</th>\n",
       "      <th>N_6</th>\n",
       "      <th>N_7</th>\n",
       "      <th>N_8</th>\n",
       "      <th>N_9</th>\n",
       "      <th>...</th>\n",
       "      <th>N_891</th>\n",
       "      <th>N_892</th>\n",
       "      <th>N_893</th>\n",
       "      <th>N_894</th>\n",
       "      <th>N_895</th>\n",
       "      <th>N_896</th>\n",
       "      <th>N_897</th>\n",
       "      <th>N_898</th>\n",
       "      <th>N_899</th>\n",
       "      <th>N_900</th>\n",
       "    </tr>\n",
       "  </thead>\n",
       "  <tbody>\n",
       "    <tr>\n",
       "      <th>x0</th>\n",
       "      <td>1554.0</td>\n",
       "      <td>-0.482682</td>\n",
       "      <td>-0.516202</td>\n",
       "      <td>-0.481358</td>\n",
       "      <td>-0.494647</td>\n",
       "      <td>-0.571554</td>\n",
       "      <td>-0.555474</td>\n",
       "      <td>-0.479869</td>\n",
       "      <td>-0.562762</td>\n",
       "      <td>-0.531245</td>\n",
       "      <td>...</td>\n",
       "      <td>-0.491199</td>\n",
       "      <td>-0.511120</td>\n",
       "      <td>-0.491603</td>\n",
       "      <td>-0.508030</td>\n",
       "      <td>-0.486227</td>\n",
       "      <td>-0.497756</td>\n",
       "      <td>-0.489603</td>\n",
       "      <td>-0.501136</td>\n",
       "      <td>-0.024854</td>\n",
       "      <td>-0.488749</td>\n",
       "    </tr>\n",
       "    <tr>\n",
       "      <th>x1</th>\n",
       "      <td>1556.0</td>\n",
       "      <td>-0.482839</td>\n",
       "      <td>-0.516199</td>\n",
       "      <td>-0.481351</td>\n",
       "      <td>-0.494637</td>\n",
       "      <td>-0.569032</td>\n",
       "      <td>-0.555467</td>\n",
       "      <td>-0.479861</td>\n",
       "      <td>-0.562753</td>\n",
       "      <td>-0.531233</td>\n",
       "      <td>...</td>\n",
       "      <td>-0.490710</td>\n",
       "      <td>-0.511264</td>\n",
       "      <td>-0.491582</td>\n",
       "      <td>-0.508104</td>\n",
       "      <td>-0.485837</td>\n",
       "      <td>-0.497926</td>\n",
       "      <td>-0.489846</td>\n",
       "      <td>-0.501228</td>\n",
       "      <td>0.668877</td>\n",
       "      <td>-0.488802</td>\n",
       "    </tr>\n",
       "    <tr>\n",
       "      <th>x2</th>\n",
       "      <td>1558.0</td>\n",
       "      <td>-0.483000</td>\n",
       "      <td>-0.516196</td>\n",
       "      <td>-0.481344</td>\n",
       "      <td>-0.494626</td>\n",
       "      <td>-0.569027</td>\n",
       "      <td>-0.555459</td>\n",
       "      <td>-0.479853</td>\n",
       "      <td>-0.562745</td>\n",
       "      <td>-0.531222</td>\n",
       "      <td>...</td>\n",
       "      <td>-0.489043</td>\n",
       "      <td>-0.511232</td>\n",
       "      <td>-0.491346</td>\n",
       "      <td>-0.511105</td>\n",
       "      <td>-0.484384</td>\n",
       "      <td>-0.498064</td>\n",
       "      <td>-0.490039</td>\n",
       "      <td>-0.501214</td>\n",
       "      <td>1.231764</td>\n",
       "      <td>-0.488804</td>\n",
       "    </tr>\n",
       "    <tr>\n",
       "      <th>x3</th>\n",
       "      <td>1560.0</td>\n",
       "      <td>-0.483163</td>\n",
       "      <td>-0.519605</td>\n",
       "      <td>-0.481338</td>\n",
       "      <td>-0.494616</td>\n",
       "      <td>-0.569022</td>\n",
       "      <td>-0.555451</td>\n",
       "      <td>-0.479844</td>\n",
       "      <td>-0.562737</td>\n",
       "      <td>-0.531210</td>\n",
       "      <td>...</td>\n",
       "      <td>-0.485645</td>\n",
       "      <td>-0.510902</td>\n",
       "      <td>-0.490789</td>\n",
       "      <td>-0.508187</td>\n",
       "      <td>-0.481448</td>\n",
       "      <td>-0.498146</td>\n",
       "      <td>-0.490140</td>\n",
       "      <td>-0.501025</td>\n",
       "      <td>1.704820</td>\n",
       "      <td>-0.488717</td>\n",
       "    </tr>\n",
       "    <tr>\n",
       "      <th>x4</th>\n",
       "      <td>1563.0</td>\n",
       "      <td>-0.483402</td>\n",
       "      <td>-0.516190</td>\n",
       "      <td>-0.481328</td>\n",
       "      <td>-0.494600</td>\n",
       "      <td>-0.569016</td>\n",
       "      <td>-0.555440</td>\n",
       "      <td>-0.479832</td>\n",
       "      <td>-0.562724</td>\n",
       "      <td>-0.531193</td>\n",
       "      <td>...</td>\n",
       "      <td>-0.475497</td>\n",
       "      <td>-0.509374</td>\n",
       "      <td>-0.488952</td>\n",
       "      <td>-0.508085</td>\n",
       "      <td>-0.473063</td>\n",
       "      <td>-0.498053</td>\n",
       "      <td>-0.489929</td>\n",
       "      <td>-0.500124</td>\n",
       "      <td>2.279636</td>\n",
       "      <td>-0.488252</td>\n",
       "    </tr>\n",
       "  </tbody>\n",
       "</table>\n",
       "<p>5 rows × 901 columns</p>\n",
       "</div>"
      ],
      "text/plain": [
       "    M.Time[d]       N_1       N_2       N_3       N_4       N_5       N_6  \\\n",
       "x0     1554.0 -0.482682 -0.516202 -0.481358 -0.494647 -0.571554 -0.555474   \n",
       "x1     1556.0 -0.482839 -0.516199 -0.481351 -0.494637 -0.569032 -0.555467   \n",
       "x2     1558.0 -0.483000 -0.516196 -0.481344 -0.494626 -0.569027 -0.555459   \n",
       "x3     1560.0 -0.483163 -0.519605 -0.481338 -0.494616 -0.569022 -0.555451   \n",
       "x4     1563.0 -0.483402 -0.516190 -0.481328 -0.494600 -0.569016 -0.555440   \n",
       "\n",
       "         N_7       N_8       N_9  ...     N_891     N_892     N_893     N_894  \\\n",
       "x0 -0.479869 -0.562762 -0.531245  ... -0.491199 -0.511120 -0.491603 -0.508030   \n",
       "x1 -0.479861 -0.562753 -0.531233  ... -0.490710 -0.511264 -0.491582 -0.508104   \n",
       "x2 -0.479853 -0.562745 -0.531222  ... -0.489043 -0.511232 -0.491346 -0.511105   \n",
       "x3 -0.479844 -0.562737 -0.531210  ... -0.485645 -0.510902 -0.490789 -0.508187   \n",
       "x4 -0.479832 -0.562724 -0.531193  ... -0.475497 -0.509374 -0.488952 -0.508085   \n",
       "\n",
       "       N_895     N_896     N_897     N_898     N_899     N_900  \n",
       "x0 -0.486227 -0.497756 -0.489603 -0.501136 -0.024854 -0.488749  \n",
       "x1 -0.485837 -0.497926 -0.489846 -0.501228  0.668877 -0.488802  \n",
       "x2 -0.484384 -0.498064 -0.490039 -0.501214  1.231764 -0.488804  \n",
       "x3 -0.481448 -0.498146 -0.490140 -0.501025  1.704820 -0.488717  \n",
       "x4 -0.473063 -0.498053 -0.489929 -0.500124  2.279636 -0.488252  \n",
       "\n",
       "[5 rows x 901 columns]"
      ]
     },
     "metadata": {},
     "output_type": "display_data"
    },
    {
     "name": "stdout",
     "output_type": "stream",
     "text": [
      "Pressure's shape: (32, 901)\n",
      "Humidity's shape: (32, 901)\n",
      "Coordinates' shape: (900, 12)\n",
      "Temperature's shape: (32, 901)\n"
     ]
    }
   ],
   "source": [
    "display(pressure_train.head(5))\n",
    "display(humidity_train.head(5))\n",
    "display(coordinates_train.head(5))\n",
    "display(temperature_train.head(5))\n",
    "\n",
    "print(f\"Pressure's shape: {pressure_train.shape}\")\n",
    "print(f\"Humidity's shape: {humidity_train.shape}\")\n",
    "print(f\"Coordinates' shape: {coordinates_train.shape}\")\n",
    "print(f\"Temperature's shape: {temperature_train.shape}\")\n",
    "\n",
    "## Verify that we no longer have missing values: \n",
    "assert pressure_train.isnull().any().sum() == 0\n",
    "assert pressure_pred.isnull().any().sum() == 0\n",
    "assert humidity_train.isnull().any().sum() == 0\n",
    "assert humidity_pred.isnull().any().sum() == 0\n",
    "assert coordinates_train.isnull().any().sum() == 0\n",
    "assert coordinates_pred.isnull().any().sum() == 0\n",
    "assert temperature_train.isnull().any().sum() == 0"
   ]
  },
  {
   "cell_type": "markdown",
   "id": "727de64f",
   "metadata": {},
   "source": [
    "##### **Visualizing the data**"
   ]
  },
  {
   "cell_type": "code",
   "execution_count": 15,
   "id": "69259c2e",
   "metadata": {},
   "outputs": [
    {
     "data": {
      "image/png": "[encoded data removed]",
      "text/plain": [
       "<Figure size 1200x600 with 1 Axes>"
      ]
     },
     "metadata": {},
     "output_type": "display_data"
    }
   ],
   "source": [
    "# Visualize distribution with a histogram again(code provided by ChatGPT)\n",
    "sensor_data = pressure_train.iloc[:,1:]\n",
    "all_values = sensor_data.values.flatten()\n",
    "plt.figure(figsize=(12, 6))\n",
    "plt.hist(all_values, bins = np.arange(all_values.min(), all_values.max() + 1, 0.1), edgecolor='black')\n",
    "plt.title('Distribution of All Sensor Values')\n",
    "plt.xlabel('Pressure Value')\n",
    "plt.ylabel('Frequency')\n",
    "plt.grid(True)\n",
    "plt.show()"
   ]
  },
  {
   "cell_type": "code",
   "execution_count": 16,
   "id": "45c24e79",
   "metadata": {},
   "outputs": [
    {
     "data": {
      "image/png": "[encoded data removed]",
      "text/plain": [
       "<Figure size 1200x600 with 1 Axes>"
      ]
     },
     "metadata": {},
     "output_type": "display_data"
    }
   ],
   "source": [
    "# Visualize the distribution with a histogram (code provided by ChatGPT)\n",
    "sensor_data = humidity_train.iloc[:,1:]\n",
    "all_values = sensor_data.values.flatten()\n",
    "plt.figure(figsize=(12, 6))\n",
    "plt.hist(all_values, bins = np.arange(all_values.min(), all_values.max() + 1, 0.1), edgecolor='black')\n",
    "plt.title('Distribution of All Sensor Values')\n",
    "plt.xlabel('Humidity Value')\n",
    "plt.ylabel('Frequency')\n",
    "plt.grid(True)\n",
    "plt.show()"
   ]
  },
  {
   "cell_type": "code",
   "execution_count": 17,
   "id": "915a6e2c",
   "metadata": {},
   "outputs": [
    {
     "data": {
      "image/png": "[encoded data removed]",
      "text/plain": [
       "<Figure size 1200x600 with 1 Axes>"
      ]
     },
     "metadata": {},
     "output_type": "display_data"
    }
   ],
   "source": [
    "# Visualize the distribution with a histogram (code provided by ChatGPT)\n",
    "sensor_data = temperature_train.iloc[:,1:]\n",
    "all_values = sensor_data.values.flatten()\n",
    "plt.figure(figsize=(12, 6))\n",
    "plt.hist(all_values, bins = np.arange(all_values.min(), all_values.max() + 1, 0.1), edgecolor='black')\n",
    "plt.title('Distribution of All Sensor Values')\n",
    "plt.xlabel('Temperature Value')\n",
    "plt.ylabel('Frequency')\n",
    "plt.grid(True)\n",
    "plt.show()\n"
   ]
  },
  {
   "cell_type": "code",
   "execution_count": 18,
   "id": "f8bdf0d2",
   "metadata": {},
   "outputs": [
    {
     "data": {
      "text/plain": [
       "Text(0.5, 0.92, '3D Temperature Distribution')"
      ]
     },
     "execution_count": 18,
     "metadata": {},
     "output_type": "execute_result"
    },
    {
     "data": {
      "image/png": "[encoded data removed]",
      "text/plain": [
       "<Figure size 640x480 with 2 Axes>"
      ]
     },
     "metadata": {},
     "output_type": "display_data"
    }
   ],
   "source": [
    "# # To plot the graph we have to remove faulty sensors from the position too so the dimensions match. \n",
    "# coordinates_train.drop(coordinates_train[coordinates_train[\"id\"].isin(train_faulty_sensors)].index, inplace=True)\n",
    "\n",
    "T = temperature_train.iloc[-1,1:].to_numpy()\n",
    "x = coordinates_train[\"x\"].to_numpy()\n",
    "y = coordinates_train[\"y\"].to_numpy()\n",
    "z = coordinates_train[\"z\"].to_numpy()\n",
    "\n",
    "# Create 3D scatter plot\n",
    "fig = plt.figure()\n",
    "ax = fig.add_subplot(111, projection='3d')\n",
    "sc = ax.scatter(x, y, z, c=T, cmap='hot', marker='o')\n",
    "\n",
    "# Add colorbar to show temperature scale\n",
    "plt.colorbar(sc, label='Temperature')\n",
    "\n",
    "# Add labels\n",
    "ax.set_xlabel('X')\n",
    "ax.set_ylabel('Y')\n",
    "ax.set_zlabel('Z')\n",
    "ax.set_title('3D Temperature Distribution')\n"
   ]
  },
  {
   "cell_type": "markdown",
   "id": "36127055",
   "metadata": {},
   "source": [
    "All the chapes are matching, we can assume that indices match between each DataFrame"
   ]
  },
  {
   "cell_type": "markdown",
   "id": "fa38b364",
   "metadata": {},
   "source": [
    "#### **Splitting data**  \n",
    "\n",
    "We will first split the data into 3 sets with an arbitrary split: \n",
    "- Train set\n",
    "- Validation set \n",
    "- Test set  \n",
    "\n",
    "Later we'll implement a cross-validation for a better training."
   ]
  },
  {
   "cell_type": "code",
   "execution_count": 19,
   "id": "072c2467",
   "metadata": {},
   "outputs": [
    {
     "name": "stdout",
     "output_type": "stream",
     "text": [
      "13\n",
      "Data for sensor 0 at time 1554:\n",
      "[-0.9404828512294833 0.3248660978195387 0.016937011627022214\n",
      " -1.027974908712096 -0.3803021979730535 -0.8609922630079155 False False\n",
      " False False True False False]\n"
     ]
    }
   ],
   "source": [
    "## The idea is to have a DataFrame for each time stamp as follows: \n",
    "\n",
    "#           | pressure | humidity | x | y | z | r |  materials... |\n",
    "# ----------+----------+----------+---+---+---+---+---------------+\n",
    "# N_1       |          |          |   |   |   |   |               |\n",
    "# ...       |          |          |   |   |   |   |               |\n",
    "# N_897     |          |          |   |   |   |   |               |\n",
    "\n",
    "\n",
    "\n",
    "X_t: dict = {}\n",
    "y_t: dict = {}\n",
    "\n",
    "for i, t in enumerate(pressure_train['M.Time[d]']): \n",
    "    ## first, selsect the pressure data at the time\n",
    "    X = pressure_train.iloc[i, 1:]\n",
    "    H = humidity_train.iloc[i,1:]\n",
    "    ## then transpose as we need the sensor as rows, not columns\n",
    "    X = X.T\n",
    "    H = H.T\n",
    "    X = np.reshape(X, (X.shape[0], 1)) # for some reason it didn't work without reshaping to (n, 1)\n",
    "    H = np.reshape(H, (H.shape[0], 1))\n",
    "    ## then add the coordinates and material features to the array \n",
    "    coords = coordinates_train.iloc[:,1:].to_numpy()\n",
    "    X = np.concatenate([X,H,coords], axis = 1)\n",
    "    ## add it to the dictionnary\n",
    "    X_t[t] = X\n",
    "\n",
    "for i, t in enumerate(time): \n",
    "    y = temperature_train.iloc[i, 1:]\n",
    "    y_t[t] = y.to_numpy()\n",
    "\n",
    "## defining the number of features (useful later for the NN):\n",
    "n_features = X_t[1554].shape[1]\n",
    "print(n_features)\n",
    "\n",
    "## --- FIXED DATA SPLITTING BELOW ---\n",
    "\n",
    "# ## Splitting the data into training, validation and test: fixed ratios 60%, 20% & 20% respectively (code by ChatGPT)\n",
    "# # Step 1: Shuffle the keys\n",
    "# keys = list(X_t.keys())\n",
    "# keys = shuffle(keys)  # Set random_state for reproducibility \n",
    "\n",
    "# # Step 2: Compute split indices\n",
    "# n = len(keys)\n",
    "# train_end = int(0.6 * n)\n",
    "# val_end = int(0.8 * n)\n",
    "\n",
    "# # Step 3: Split keys\n",
    "# train_keys = keys[:train_end]\n",
    "# val_keys = keys[train_end:val_end]\n",
    "# test_keys = keys[val_end:]\n",
    "\n",
    "# # Step 4: Create new dictionaries\n",
    "# X_train = {k: X_t[k] for k in train_keys}\n",
    "# X_val   = {k: X_t[k] for k in val_keys}\n",
    "# X_test  = {k: X_t[k] for k in test_keys}\n",
    "# y_train = {k: y_t[k] for k in train_keys}\n",
    "# y_val   = {k: y_t[k] for k in val_keys}\n",
    "# y_test  = {k: y_t[k] for k in test_keys}\n",
    "\n",
    "timestamp_key = 1554\n",
    "\n",
    "# Access the data matrix at the specific timestamp\n",
    "data_matrix = X_t[timestamp_key]\n",
    "\n",
    "# Example: Accessing sensor 0 (first sensor)\n",
    "sensor_index = 0\n",
    "sensor_data = data_matrix[sensor_index]\n",
    "\n",
    "print(f\"Data for sensor {sensor_index} at time {timestamp_key}:\")\n",
    "print(sensor_data)\n"
   ]
  },
  {
   "cell_type": "markdown",
   "id": "827ba9bb",
   "metadata": {},
   "source": [
    "### **Creating the model**  \n",
    "\n",
    "For this project we will first try to use a vanilla neural network"
   ]
  },
  {
   "cell_type": "markdown",
   "id": "2e3492fe",
   "metadata": {},
   "source": [
    "#### **Imports**"
   ]
  },
  {
   "cell_type": "code",
   "execution_count": 20,
   "id": "537e3ca4",
   "metadata": {},
   "outputs": [],
   "source": [
    "# PyTorch & torchvision\n",
    "import torch\n",
    "import torch.nn as nn\n",
    "import torch.nn.functional as F\n",
    "import torch.optim as optim\n",
    "from torch.utils.data import Dataset, DataLoader\n",
    "\n",
    "# Progress bar\n",
    "from tqdm.auto import tqdm\n",
    "\n",
    "# metrics\n",
    "import metrics\n"
   ]
  },
  {
   "cell_type": "markdown",
   "id": "df76f8bf",
   "metadata": {},
   "source": [
    "#### **The model**"
   ]
  },
  {
   "cell_type": "code",
   "execution_count": 21,
   "id": "16366c6b",
   "metadata": {},
   "outputs": [],
   "source": [
    "class VanillaNN(nn.Module):\n",
    "    \"\"\"2-Layers Vanilla Neural Network\"\"\"\n",
    "    \n",
    "    def __init__(self, input_size=14, hidden_size=128, middle_size=64, output_size=1, epochs=6, dropout_rate=0.1):\n",
    "        \"\"\" \n",
    "        Initialize the model by setting up the layers.\n",
    "        \"\"\"\n",
    "        super(VanillaNN, self).__init__()\n",
    "        self.fc1 = nn.Linear(input_size, hidden_size)\n",
    "        self.fc2 = nn.Linear(hidden_size, middle_size)\n",
    "        self.fc3 = nn.Linear(middle_size, 32)\n",
    "        self.fc4 = nn.Linear(32, output_size)\n",
    "        self.bn1 = nn.BatchNorm1d(hidden_size)\n",
    "        self.bn2 = nn.BatchNorm1d(middle_size)\n",
    "        self.bn3 = nn.BatchNorm1d(32)\n",
    "        self.dropout = nn.Dropout(dropout_rate)\n",
    "\n",
    "        # Apply Kaiming (He) initialization\n",
    "        nn.init.kaiming_normal_(self.fc1.weight, nonlinearity='relu')\n",
    "        nn.init.kaiming_normal_(self.fc2.weight, nonlinearity='relu')\n",
    "        nn.init.kaiming_normal_(self.fc3.weight, nonlinearity='relu')\n",
    "        nn.init.kaiming_normal_(self.fc4.weight, nonlinearity='relu')\n",
    "\n",
    "\n",
    "    def forward(self, x):\n",
    "        \"\"\"\n",
    "        Perform a forward pass of our model on input features, x.\n",
    "        \"\"\"\n",
    "        if x.size(0) > 1:\n",
    "            x = F.relu(self.bn1(self.fc1(x)))\n",
    "            x = F.relu(self.bn2(self.fc2(x)))\n",
    "            x = F.relu(self.bn3(self.fc3(x)))\n",
    "        else:\n",
    "            # When batch size is 1, avoid using BatchNorm1d\n",
    "            x = F.relu(self.fc1(x))\n",
    "            x = F.relu(self.fc2(x))\n",
    "            x = F.relu(self.fc3(x))\n",
    "\n",
    "        # Apply dropout and output layer uniformly\n",
    "        x = self.dropout(x)\n",
    "        out = self.fc4(x)\n",
    "        return out\n",
    "\n",
    "\n",
    "\n",
    "\n",
    "\n",
    "    def predict(self, x: torch.Tensor) -> torch.Tensor:\n",
    "        return self.forward(x)\n",
    "\n",
    "def hyperparameter_search(\n",
    "        X_t: dict, \n",
    "        y_t: dict, \n",
    "        k_fold, \n",
    "        learning_rates: list, \n",
    "        weight_decays: list, \n",
    "        dropout_rates: list, \n",
    "        epochs: int = 5\n",
    "):\n",
    "    time_keys = np.array(list(X_t.keys()))\n",
    "    best_loss = float('inf')\n",
    "    best_params = {}\n",
    "\n",
    "    # for lr in learning_rates:\n",
    "    #     for wd in weight_decays:\n",
    "    #         for dr in dropout_rates:\n",
    "    \n",
    "    for wd in weight_decays:\n",
    "        for dr in dropout_rates:\n",
    "            for lr in learning_rates:\n",
    "                fold_losses = []\n",
    "                print(f\"Testing: LR={lr}, WD={wd}, DR={dr}\")\n",
    "\n",
    "                for fold_idx, (train_idx, val_idx) in enumerate(k_fold.split(time_keys)):\n",
    "                    print(f\"\\n=== Fold {fold_idx + 1} ===\")\n",
    "\n",
    "                    train_keys = time_keys[train_idx]\n",
    "                    val_keys = time_keys[val_idx]\n",
    "\n",
    "                    X_train = {k: X_t[k] for k in train_keys}\n",
    "                    y_train = {k: y_t[k] for k in train_keys}\n",
    "                    X_val = {k: X_t[k] for k in val_keys}\n",
    "                    y_val = {k: y_t[k] for k in val_keys}\n",
    "\n",
    "                    model = VanillaNN(dropout_rate=dr)\n",
    "                    loss_fn = nn.MSELoss()\n",
    "                    optimizer = optim.SGD(model.parameters(), lr=lr, weight_decay=wd)\n",
    "\n",
    "                    train(\n",
    "                        model=model,\n",
    "                        optimizer=optimizer,\n",
    "                        loss_fn=loss_fn,\n",
    "                        time_train=train_keys,\n",
    "                        time_val=val_keys,\n",
    "                        X_train=X_train,\n",
    "                        y_train=y_train,\n",
    "                        X_val=X_val,\n",
    "                        y_val=y_val,\n",
    "                        epochs=epochs\n",
    "                    )\n",
    "\n",
    "                    val_loss = validate(model, loss_fn, X_val, y_val, list(val_keys))\n",
    "                    fold_losses.append(val_loss)\n",
    "\n",
    "                avg_loss = np.mean(fold_losses)\n",
    "                print(f\"Avg Validation Loss: {avg_loss:.4f}\")\n",
    "\n",
    "                if avg_loss < best_loss:\n",
    "                    best_loss = avg_loss\n",
    "                    best_params = {'learning_rate': lr, 'weight_decay': wd, 'dropout_rate': dr}\n",
    "\n",
    "    print(f\"\\nBest Params: {best_params}, Best Loss: {best_loss:.4f}\")\n",
    "    return best_params, best_loss\n",
    "\n",
    "learning_rates = [1e-3, 5e-3, 1e-2]\n",
    "weight_decays = [1e-4, 1e-3, 1e-2]\n",
    "dropout_rates = [0.1, 0.2, 0.3]\n",
    "\n",
    "model = VanillaNN(dropout_rate = 0.2)\n",
    "\n",
    "## Loss & Optimizer:\n",
    "loss_fn = nn.MSELoss()\n",
    "optimizer = optim.SGD(model.parameters(), lr=0.005, weight_decay=0.001)\n",
    "## weight decay is the regularization strengh\n",
    "## the optimizer parameters are optimal after some testing"
   ]
  },
  {
   "cell_type": "markdown",
   "id": "3e5dd35e",
   "metadata": {},
   "source": [
    "### **Validation**"
   ]
  },
  {
   "cell_type": "code",
   "execution_count": 22,
   "id": "366605d6",
   "metadata": {},
   "outputs": [],
   "source": [
    "def validate(\n",
    "        model: torch.nn.Module, \n",
    "        loss_fn: torch.nn.Module, \n",
    "        X_val: dict, \n",
    "        y_val: dict,\n",
    "        time: list\n",
    ") -> float:\n",
    "    \"\"\"Validate the model and return the average loss.\"\"\"\n",
    "\n",
    "    time = shuffle(time)\n",
    "\n",
    "    # Initialize metrics for loss:\n",
    "    loss_metric = metrics.LossMetric()\n",
    "\n",
    "    # Set the model to evaluation mode\n",
    "    model.eval()  \n",
    "\n",
    "    with torch.no_grad():  # Disable gradient calculation for validation\n",
    "\n",
    "        for t in time:\n",
    "\n",
    "            # Skip segments that are not present in both dictionaries\n",
    "            if (t not in X_val) or (t not in y_val):\n",
    "                print(f\"Warning: Time segment {t} not found in validation set.\")\n",
    "                continue\n",
    "\n",
    "            X = X_val[t]\n",
    "            y = y_val[t]\n",
    "            X = np.concatenate([X, np.ones((X.shape[0], 1))*(t-time_mean)/time_std], axis=1) \n",
    "\n",
    "            for i in range(X.shape[0]):\n",
    "                data = torch.from_numpy(np.array(X[i,:], dtype=np.float32)).unsqueeze(0)\n",
    "                target = torch.from_numpy(np.array(y[i], dtype=np.float32)).view(1, 1)\n",
    "\n",
    "                # Forward pass\n",
    "                out = model(data)\n",
    "                loss = loss_fn(out, target)\n",
    "                # Update metrics & progress bar\n",
    "                loss_metric.update(loss.item(), data.shape[0])\n",
    "                \n",
    "        final_loss = loss_metric.compute()\n",
    "        loss_metric.reset()\n",
    "        return final_loss"
   ]
  },
  {
   "cell_type": "markdown",
   "id": "6de875d6",
   "metadata": {},
   "source": [
    "### **Training**\n",
    "  \n",
    "Each timestamp represents an epoch: data of the ~900 sensors."
   ]
  },
  {
   "cell_type": "code",
   "execution_count": 23,
   "id": "c25cecbc",
   "metadata": {},
   "outputs": [],
   "source": [
    "def train(\n",
    "        model: torch.nn.Module, \n",
    "        optimizer: torch.optim.Optimizer,\n",
    "        loss_fn: torch.nn.Module,\n",
    "        time_train: list,\n",
    "        time_val: list,\n",
    "        X_train: dict, \n",
    "        y_train: dict,\n",
    "        X_val: dict,\n",
    "        y_val: dict,\n",
    "        epochs = 5\n",
    "):\n",
    "\n",
    "    time_train = shuffle(time_train)\n",
    "\n",
    "    # Initialize metrics for loss:\n",
    "    loss_metric = metrics.LossMetric()\n",
    "\n",
    "    ## set the module into training mode: \n",
    "    model.train()\n",
    "\n",
    "    for epoch in range(1, epochs+1):\n",
    "\n",
    "        ## Set up the progress bar: \n",
    "        pbar = tqdm(total=len(time_train)*900, leave=True)\n",
    "        pbar.set_description(f\"epoch: {epoch}\")\n",
    "\n",
    "        for t in time_train:\n",
    "\n",
    "            X = X_t[t]\n",
    "            y = y_t[t]\n",
    "            X = np.concatenate([X, np.ones((X.shape[0], 1))*(t-time_mean)/time_std],axis = 1 ) \n",
    "\n",
    "            ## Iterate through the data:\n",
    "            for i in range(X.shape[0]):\n",
    "\n",
    "                data = torch.from_numpy( np.array( X[i,:], dtype=np.float32 ) ).unsqueeze(0)  \n",
    "                # shape becomes (1, n_features): it is needed for nn.Linear\n",
    "                target = torch.from_numpy( np.array( y[i], dtype=np.float32 ) ).view(1,1)\n",
    "\n",
    "                # Zero-out the gradients\n",
    "                optimizer.zero_grad()\n",
    "\n",
    "                # Forward pass\n",
    "                out = model(data)\n",
    "\n",
    "                # Compute loss\n",
    "                loss = loss_fn(out, target)\n",
    "\n",
    "                # Backward pass\n",
    "                loss.backward()\n",
    "                \n",
    "                # Optimizer step\n",
    "                optimizer.step()\n",
    "\n",
    "                # Update metrics & progress bar\n",
    "                loss_metric.update(loss.item(), data.shape[0])\n",
    "                pbar.update()\n",
    "\n",
    "        val_loss = validate(\n",
    "            model=model,\n",
    "            loss_fn=loss_fn,\n",
    "            X_val=X_val,\n",
    "            y_val=y_val,\n",
    "            time=time_val\n",
    "        )\n",
    "                \n",
    "        # End of epoch, show loss and acc\n",
    "        pbar.set_postfix_str(f\"Train loss: {loss_metric.compute():.3f} | Validation loss: {val_loss:.3f}\")\n",
    "        loss_metric.reset()\n",
    "                "
   ]
  },
  {
   "cell_type": "code",
   "execution_count": null,
   "id": "feb070fc",
   "metadata": {},
   "outputs": [
    {
     "name": "stdout",
     "output_type": "stream",
     "text": [
      "\n",
      "=== Fold 1 ===\n"
     ]
    },
    {
     "data": {
      "application/vnd.jupyter.widget-view+json": {
       "model_id": "1125e81a041941f59e325658a380c402",
       "version_major": 2,
       "version_minor": 0
      },
      "text/plain": [
       "  0%|          | 0/21600 [00:00<?, ?it/s]"
      ]
     },
     "metadata": {},
     "output_type": "display_data"
    },
    {
     "data": {
      "application/vnd.jupyter.widget-view+json": {
       "model_id": "907d1e3388044ac1a2cddaa76a737348",
       "version_major": 2,
       "version_minor": 0
      },
      "text/plain": [
       "  0%|          | 0/21600 [00:00<?, ?it/s]"
      ]
     },
     "metadata": {},
     "output_type": "display_data"
    },
    {
     "data": {
      "application/vnd.jupyter.widget-view+json": {
       "model_id": "fb2d6a0a51c64ee5b4887bd13cbe8b97",
       "version_major": 2,
       "version_minor": 0
      },
      "text/plain": [
       "  0%|          | 0/21600 [00:00<?, ?it/s]"
      ]
     },
     "metadata": {},
     "output_type": "display_data"
    },
    {
     "data": {
      "application/vnd.jupyter.widget-view+json": {
       "model_id": "6e5eb67f537c47fc8bbac91c985dd6df",
       "version_major": 2,
       "version_minor": 0
      },
      "text/plain": [
       "  0%|          | 0/21600 [00:00<?, ?it/s]"
      ]
     },
     "metadata": {},
     "output_type": "display_data"
    },
    {
     "data": {
      "application/vnd.jupyter.widget-view+json": {
       "model_id": "8cc1e1c7115241669570f9573b12c709",
       "version_major": 2,
       "version_minor": 0
      },
      "text/plain": [
       "  0%|          | 0/21600 [00:00<?, ?it/s]"
      ]
     },
     "metadata": {},
     "output_type": "display_data"
    },
    {
     "name": "stdout",
     "output_type": "stream",
     "text": [
      "\n",
      "=== Fold 2 ===\n"
     ]
    },
    {
     "data": {
      "application/vnd.jupyter.widget-view+json": {
       "model_id": "a4c8afae7c6d4401a3f99042cc8fc85e",
       "version_major": 2,
       "version_minor": 0
      },
      "text/plain": [
       "  0%|          | 0/21600 [00:00<?, ?it/s]"
      ]
     },
     "metadata": {},
     "output_type": "display_data"
    },
    {
     "data": {
      "application/vnd.jupyter.widget-view+json": {
       "model_id": "70b71520e39b4bb2b1a4467a86f42b88",
       "version_major": 2,
       "version_minor": 0
      },
      "text/plain": [
       "  0%|          | 0/21600 [00:00<?, ?it/s]"
      ]
     },
     "metadata": {},
     "output_type": "display_data"
    },
    {
     "data": {
      "application/vnd.jupyter.widget-view+json": {
       "model_id": "3c4b107e5faa4f028dbdc1d75405dd67",
       "version_major": 2,
       "version_minor": 0
      },
      "text/plain": [
       "  0%|          | 0/21600 [00:00<?, ?it/s]"
      ]
     },
     "metadata": {},
     "output_type": "display_data"
    },
    {
     "data": {
      "application/vnd.jupyter.widget-view+json": {
       "model_id": "099c1e70d1ac431dae0fb76f89e34d02",
       "version_major": 2,
       "version_minor": 0
      },
      "text/plain": [
       "  0%|          | 0/21600 [00:00<?, ?it/s]"
      ]
     },
     "metadata": {},
     "output_type": "display_data"
    },
    {
     "data": {
      "application/vnd.jupyter.widget-view+json": {
       "model_id": "1c06a935f36b450cb4b83f796df715fc",
       "version_major": 2,
       "version_minor": 0
      },
      "text/plain": [
       "  0%|          | 0/21600 [00:00<?, ?it/s]"
      ]
     },
     "metadata": {},
     "output_type": "display_data"
    },
    {
     "name": "stdout",
     "output_type": "stream",
     "text": [
      "\n",
      "=== Fold 3 ===\n"
     ]
    },
    {
     "data": {
      "application/vnd.jupyter.widget-view+json": {
       "model_id": "6a7511782ee2468fa9af0e0b90c3c428",
       "version_major": 2,
       "version_minor": 0
      },
      "text/plain": [
       "  0%|          | 0/21600 [00:00<?, ?it/s]"
      ]
     },
     "metadata": {},
     "output_type": "display_data"
    },
    {
     "data": {
      "application/vnd.jupyter.widget-view+json": {
       "model_id": "4a63e92ad6574500880897d2eec0177a",
       "version_major": 2,
       "version_minor": 0
      },
      "text/plain": [
       "  0%|          | 0/21600 [00:00<?, ?it/s]"
      ]
     },
     "metadata": {},
     "output_type": "display_data"
    }
   ],
   "source": [
    "# Get all time keys (timestamps)\n",
    "time_keys = np.array(list(X_t.keys()))\n",
    "\n",
    "fold_results = []\n",
    "\n",
    "for fold_idx, (train_idx, val_idx) in enumerate(k_fold.split(time_keys)):\n",
    "    print(f\"\\n=== Fold {fold_idx + 1} ===\")\n",
    "\n",
    "    train_keys = time_keys[train_idx]\n",
    "    val_keys = time_keys[val_idx]\n",
    "\n",
    "    # Build fold-specific datasets\n",
    "    X_train = {k: X_t[k] for k in train_keys}\n",
    "    y_train = {k: y_t[k] for k in train_keys}\n",
    "    X_val = {k: X_t[k] for k in val_keys}\n",
    "    y_val = {k: y_t[k] for k in val_keys}\n",
    "\n",
    "    ## reinitialize the model\n",
    "    model = VanillaNN(dropout_rate = 0.3)\n",
    "\n",
    "    ## Loss & Optimizer:\n",
    "    loss_fn = nn.MSELoss()\n",
    "    optimizer = optim.SGD(model.parameters(), lr=0.001, weight_decay=0.0001)\n",
    "\n",
    "\n",
    "    # Train and validate\n",
    "    train(\n",
    "        model=model,\n",
    "        optimizer=optimizer,\n",
    "        loss_fn=loss_fn,\n",
    "        time_train=train_keys,\n",
    "        time_val=val_keys,\n",
    "        X_train=X_train,\n",
    "        y_train=y_train,\n",
    "        X_val=X_val,\n",
    "        y_val=y_val,\n",
    "        epochs=5\n",
    "    )\n",
    "\n",
    "    val_loss = validate(model, loss_fn, X_val, y_val, list(val_keys))\n",
    "    \n",
    "    fold_results.append(val_loss)\n",
    "\n",
    "print(f\"\\nAverage Validation Loss: {np.mean(fold_results):.3f} ± {np.std(fold_results):.3f}\")\n",
    "\n",
    "## best cross val loss: 0.317"
   ]
  },
  {
   "cell_type": "code",
   "execution_count": null,
   "id": "c47aa7a8",
   "metadata": {},
   "outputs": [],
   "source": [
    "## dropout rate search: (validation performance)\n",
    "## 0.1 : 0.328\n",
    "## 0.2 : 0.296\n",
    "## ...more soon"
   ]
  },
  {
   "cell_type": "code",
   "execution_count": null,
   "id": "a0f6416d",
   "metadata": {},
   "outputs": [
    {
     "name": "stdout",
     "output_type": "stream",
     "text": [
      "Testing: LR=0.001, WD=0.0001, DR=0.1\n",
      "\n",
      "=== Fold 1 ===\n"
     ]
    },
    {
     "data": {
      "application/vnd.jupyter.widget-view+json": {
       "model_id": "5a390496a9024e85a173fb17315f4963",
       "version_major": 2,
       "version_minor": 0
      },
      "text/plain": [
       "  0%|          | 0/21600 [00:00<?, ?it/s]"
      ]
     },
     "metadata": {},
     "output_type": "display_data"
    },
    {
     "data": {
      "application/vnd.jupyter.widget-view+json": {
       "model_id": "26e976ee30494a16aa9cd5dff330e34a",
       "version_major": 2,
       "version_minor": 0
      },
      "text/plain": [
       "  0%|          | 0/21600 [00:00<?, ?it/s]"
      ]
     },
     "metadata": {},
     "output_type": "display_data"
    },
    {
     "data": {
      "application/vnd.jupyter.widget-view+json": {
       "model_id": "7e2379f72ec44790a033e44141803c66",
       "version_major": 2,
       "version_minor": 0
      },
      "text/plain": [
       "  0%|          | 0/21600 [00:00<?, ?it/s]"
      ]
     },
     "metadata": {},
     "output_type": "display_data"
    },
    {
     "data": {
      "application/vnd.jupyter.widget-view+json": {
       "model_id": "eeede7439d4a421bb4f0cfbc9a7d2962",
       "version_major": 2,
       "version_minor": 0
      },
      "text/plain": [
       "  0%|          | 0/21600 [00:00<?, ?it/s]"
      ]
     },
     "metadata": {},
     "output_type": "display_data"
    },
    {
     "data": {
      "application/vnd.jupyter.widget-view+json": {
       "model_id": "26958338634a462f825914781264cb62",
       "version_major": 2,
       "version_minor": 0
      },
      "text/plain": [
       "  0%|          | 0/21600 [00:00<?, ?it/s]"
      ]
     },
     "metadata": {},
     "output_type": "display_data"
    },
    {
     "name": "stdout",
     "output_type": "stream",
     "text": [
      "\n",
      "=== Fold 2 ===\n"
     ]
    },
    {
     "data": {
      "application/vnd.jupyter.widget-view+json": {
       "model_id": "7972f26d1837495e8818826603b8be83",
       "version_major": 2,
       "version_minor": 0
      },
      "text/plain": [
       "  0%|          | 0/21600 [00:00<?, ?it/s]"
      ]
     },
     "metadata": {},
     "output_type": "display_data"
    },
    {
     "data": {
      "application/vnd.jupyter.widget-view+json": {
       "model_id": "4cfc6819bef64f28aafabe098c8a8ff9",
       "version_major": 2,
       "version_minor": 0
      },
      "text/plain": [
       "  0%|          | 0/21600 [00:00<?, ?it/s]"
      ]
     },
     "metadata": {},
     "output_type": "display_data"
    },
    {
     "data": {
      "application/vnd.jupyter.widget-view+json": {
       "model_id": "8347ec45da3c427cb98d7598ed7b1b56",
       "version_major": 2,
       "version_minor": 0
      },
      "text/plain": [
       "  0%|          | 0/21600 [00:00<?, ?it/s]"
      ]
     },
     "metadata": {},
     "output_type": "display_data"
    },
    {
     "data": {
      "application/vnd.jupyter.widget-view+json": {
       "model_id": "29ae07bb72d1492ab041d8c3a3d0124f",
       "version_major": 2,
       "version_minor": 0
      },
      "text/plain": [
       "  0%|          | 0/21600 [00:00<?, ?it/s]"
      ]
     },
     "metadata": {},
     "output_type": "display_data"
    },
    {
     "data": {
      "application/vnd.jupyter.widget-view+json": {
       "model_id": "8db2347faab24b4fb59e7ea05e029b50",
       "version_major": 2,
       "version_minor": 0
      },
      "text/plain": [
       "  0%|          | 0/21600 [00:00<?, ?it/s]"
      ]
     },
     "metadata": {},
     "output_type": "display_data"
    },
    {
     "name": "stdout",
     "output_type": "stream",
     "text": [
      "\n",
      "=== Fold 3 ===\n"
     ]
    },
    {
     "data": {
      "application/vnd.jupyter.widget-view+json": {
       "model_id": "a78ee10be72f4a78b924131dacfb5dfe",
       "version_major": 2,
       "version_minor": 0
      },
      "text/plain": [
       "  0%|          | 0/21600 [00:00<?, ?it/s]"
      ]
     },
     "metadata": {},
     "output_type": "display_data"
    },
    {
     "data": {
      "application/vnd.jupyter.widget-view+json": {
       "model_id": "63fc1abc5af24c7f939fe2a8022621c5",
       "version_major": 2,
       "version_minor": 0
      },
      "text/plain": [
       "  0%|          | 0/21600 [00:00<?, ?it/s]"
      ]
     },
     "metadata": {},
     "output_type": "display_data"
    },
    {
     "data": {
      "application/vnd.jupyter.widget-view+json": {
       "model_id": "cfe75e701d0d4d5ca0194eef1bb2102e",
       "version_major": 2,
       "version_minor": 0
      },
      "text/plain": [
       "  0%|          | 0/21600 [00:00<?, ?it/s]"
      ]
     },
     "metadata": {},
     "output_type": "display_data"
    },
    {
     "data": {
      "application/vnd.jupyter.widget-view+json": {
       "model_id": "0f33275d05464b378c2590597a881074",
       "version_major": 2,
       "version_minor": 0
      },
      "text/plain": [
       "  0%|          | 0/21600 [00:00<?, ?it/s]"
      ]
     },
     "metadata": {},
     "output_type": "display_data"
    },
    {
     "data": {
      "application/vnd.jupyter.widget-view+json": {
       "model_id": "11094ad88b9e41c39815b2b9f21774a3",
       "version_major": 2,
       "version_minor": 0
      },
      "text/plain": [
       "  0%|          | 0/21600 [00:00<?, ?it/s]"
      ]
     },
     "metadata": {},
     "output_type": "display_data"
    },
    {
     "name": "stdout",
     "output_type": "stream",
     "text": [
      "\n",
      "=== Fold 4 ===\n"
     ]
    },
    {
     "data": {
      "application/vnd.jupyter.widget-view+json": {
       "model_id": "bcb7936e74df47318ed78475d507c003",
       "version_major": 2,
       "version_minor": 0
      },
      "text/plain": [
       "  0%|          | 0/21600 [00:00<?, ?it/s]"
      ]
     },
     "metadata": {},
     "output_type": "display_data"
    },
    {
     "data": {
      "application/vnd.jupyter.widget-view+json": {
       "model_id": "6f9635d1e6fa429ba28248ad302ef2da",
       "version_major": 2,
       "version_minor": 0
      },
      "text/plain": [
       "  0%|          | 0/21600 [00:00<?, ?it/s]"
      ]
     },
     "metadata": {},
     "output_type": "display_data"
    },
    {
     "data": {
      "application/vnd.jupyter.widget-view+json": {
       "model_id": "9b2f00fbdda64b65a665ce8d7d7313c3",
       "version_major": 2,
       "version_minor": 0
      },
      "text/plain": [
       "  0%|          | 0/21600 [00:00<?, ?it/s]"
      ]
     },
     "metadata": {},
     "output_type": "display_data"
    },
    {
     "data": {
      "application/vnd.jupyter.widget-view+json": {
       "model_id": "d84d32e501154f23b4eca4e0b93c432f",
       "version_major": 2,
       "version_minor": 0
      },
      "text/plain": [
       "  0%|          | 0/21600 [00:00<?, ?it/s]"
      ]
     },
     "metadata": {},
     "output_type": "display_data"
    },
    {
     "data": {
      "application/vnd.jupyter.widget-view+json": {
       "model_id": "e76601036cd7401babe01d7738dac15f",
       "version_major": 2,
       "version_minor": 0
      },
      "text/plain": [
       "  0%|          | 0/21600 [00:00<?, ?it/s]"
      ]
     },
     "metadata": {},
     "output_type": "display_data"
    },
    {
     "name": "stdout",
     "output_type": "stream",
     "text": [
      "Avg Validation Loss: 0.3258\n",
      "Testing: LR=0.005, WD=0.0001, DR=0.1\n",
      "\n",
      "=== Fold 1 ===\n"
     ]
    },
    {
     "data": {
      "application/vnd.jupyter.widget-view+json": {
       "model_id": "4ad3764d896e48398d484918b72e4ee1",
       "version_major": 2,
       "version_minor": 0
      },
      "text/plain": [
       "  0%|          | 0/21600 [00:00<?, ?it/s]"
      ]
     },
     "metadata": {},
     "output_type": "display_data"
    },
    {
     "data": {
      "application/vnd.jupyter.widget-view+json": {
       "model_id": "70099d055a2d482b86e53621a698039f",
       "version_major": 2,
       "version_minor": 0
      },
      "text/plain": [
       "  0%|          | 0/21600 [00:00<?, ?it/s]"
      ]
     },
     "metadata": {},
     "output_type": "display_data"
    },
    {
     "data": {
      "application/vnd.jupyter.widget-view+json": {
       "model_id": "66ea41fa6215481081dab23fb9954367",
       "version_major": 2,
       "version_minor": 0
      },
      "text/plain": [
       "  0%|          | 0/21600 [00:00<?, ?it/s]"
      ]
     },
     "metadata": {},
     "output_type": "display_data"
    },
    {
     "data": {
      "application/vnd.jupyter.widget-view+json": {
       "model_id": "4dcaf51aac954e46ada33e978a3fb8a9",
       "version_major": 2,
       "version_minor": 0
      },
      "text/plain": [
       "  0%|          | 0/21600 [00:00<?, ?it/s]"
      ]
     },
     "metadata": {},
     "output_type": "display_data"
    },
    {
     "data": {
      "application/vnd.jupyter.widget-view+json": {
       "model_id": "57fcb526c3fe4cfa88b86050aec00284",
       "version_major": 2,
       "version_minor": 0
      },
      "text/plain": [
       "  0%|          | 0/21600 [00:00<?, ?it/s]"
      ]
     },
     "metadata": {},
     "output_type": "display_data"
    },
    {
     "name": "stdout",
     "output_type": "stream",
     "text": [
      "\n",
      "=== Fold 2 ===\n"
     ]
    },
    {
     "data": {
      "application/vnd.jupyter.widget-view+json": {
       "model_id": "7ff05938af7649ae8ce702d5e6dc11b2",
       "version_major": 2,
       "version_minor": 0
      },
      "text/plain": [
       "  0%|          | 0/21600 [00:00<?, ?it/s]"
      ]
     },
     "metadata": {},
     "output_type": "display_data"
    },
    {
     "data": {
      "application/vnd.jupyter.widget-view+json": {
       "model_id": "9343dcb240da4e87a07965cec244d4a5",
       "version_major": 2,
       "version_minor": 0
      },
      "text/plain": [
       "  0%|          | 0/21600 [00:00<?, ?it/s]"
      ]
     },
     "metadata": {},
     "output_type": "display_data"
    },
    {
     "data": {
      "application/vnd.jupyter.widget-view+json": {
       "model_id": "47356cbc487e49738bbf10e2363ad502",
       "version_major": 2,
       "version_minor": 0
      },
      "text/plain": [
       "  0%|          | 0/21600 [00:00<?, ?it/s]"
      ]
     },
     "metadata": {},
     "output_type": "display_data"
    },
    {
     "data": {
      "application/vnd.jupyter.widget-view+json": {
       "model_id": "ae30e287ccb944e5951600d8ceb9c574",
       "version_major": 2,
       "version_minor": 0
      },
      "text/plain": [
       "  0%|          | 0/21600 [00:00<?, ?it/s]"
      ]
     },
     "metadata": {},
     "output_type": "display_data"
    },
    {
     "data": {
      "application/vnd.jupyter.widget-view+json": {
       "model_id": "8350690d812249bcaae853a3883ddac5",
       "version_major": 2,
       "version_minor": 0
      },
      "text/plain": [
       "  0%|          | 0/21600 [00:00<?, ?it/s]"
      ]
     },
     "metadata": {},
     "output_type": "display_data"
    },
    {
     "name": "stdout",
     "output_type": "stream",
     "text": [
      "\n",
      "=== Fold 3 ===\n"
     ]
    },
    {
     "data": {
      "application/vnd.jupyter.widget-view+json": {
       "model_id": "defa0e38e56c4896a1a4c15a2cf2792b",
       "version_major": 2,
       "version_minor": 0
      },
      "text/plain": [
       "  0%|          | 0/21600 [00:00<?, ?it/s]"
      ]
     },
     "metadata": {},
     "output_type": "display_data"
    },
    {
     "data": {
      "application/vnd.jupyter.widget-view+json": {
       "model_id": "be9104f7d1654a2aafdd819e2eac70f8",
       "version_major": 2,
       "version_minor": 0
      },
      "text/plain": [
       "  0%|          | 0/21600 [00:00<?, ?it/s]"
      ]
     },
     "metadata": {},
     "output_type": "display_data"
    },
    {
     "data": {
      "application/vnd.jupyter.widget-view+json": {
       "model_id": "b32e9cc33f4642f7bf6922575502a1dd",
       "version_major": 2,
       "version_minor": 0
      },
      "text/plain": [
       "  0%|          | 0/21600 [00:00<?, ?it/s]"
      ]
     },
     "metadata": {},
     "output_type": "display_data"
    },
    {
     "data": {
      "application/vnd.jupyter.widget-view+json": {
       "model_id": "80bb1961eccd4441a3e99d64691453aa",
       "version_major": 2,
       "version_minor": 0
      },
      "text/plain": [
       "  0%|          | 0/21600 [00:00<?, ?it/s]"
      ]
     },
     "metadata": {},
     "output_type": "display_data"
    },
    {
     "data": {
      "application/vnd.jupyter.widget-view+json": {
       "model_id": "74476b179884494894d6d2eac12143d0",
       "version_major": 2,
       "version_minor": 0
      },
      "text/plain": [
       "  0%|          | 0/21600 [00:00<?, ?it/s]"
      ]
     },
     "metadata": {},
     "output_type": "display_data"
    },
    {
     "name": "stdout",
     "output_type": "stream",
     "text": [
      "\n",
      "=== Fold 4 ===\n"
     ]
    },
    {
     "data": {
      "application/vnd.jupyter.widget-view+json": {
       "model_id": "b71bae5969fc45ed98205131c2d5f5dd",
       "version_major": 2,
       "version_minor": 0
      },
      "text/plain": [
       "  0%|          | 0/21600 [00:00<?, ?it/s]"
      ]
     },
     "metadata": {},
     "output_type": "display_data"
    },
    {
     "data": {
      "application/vnd.jupyter.widget-view+json": {
       "model_id": "2e4b8dd7e9e34cc8919bf2d41aac2e99",
       "version_major": 2,
       "version_minor": 0
      },
      "text/plain": [
       "  0%|          | 0/21600 [00:00<?, ?it/s]"
      ]
     },
     "metadata": {},
     "output_type": "display_data"
    },
    {
     "data": {
      "application/vnd.jupyter.widget-view+json": {
       "model_id": "bc61d2fea9ff4bddbf29f89e90d82b8d",
       "version_major": 2,
       "version_minor": 0
      },
      "text/plain": [
       "  0%|          | 0/21600 [00:00<?, ?it/s]"
      ]
     },
     "metadata": {},
     "output_type": "display_data"
    },
    {
     "data": {
      "application/vnd.jupyter.widget-view+json": {
       "model_id": "3d4140fd631748369df1987e8574db4c",
       "version_major": 2,
       "version_minor": 0
      },
      "text/plain": [
       "  0%|          | 0/21600 [00:00<?, ?it/s]"
      ]
     },
     "metadata": {},
     "output_type": "display_data"
    },
    {
     "data": {
      "application/vnd.jupyter.widget-view+json": {
       "model_id": "0d8bb534a4424ccb8cb7276faac58751",
       "version_major": 2,
       "version_minor": 0
      },
      "text/plain": [
       "  0%|          | 0/21600 [00:00<?, ?it/s]"
      ]
     },
     "metadata": {},
     "output_type": "display_data"
    },
    {
     "name": "stdout",
     "output_type": "stream",
     "text": [
      "Avg Validation Loss: 0.1901\n",
      "Testing: LR=0.01, WD=0.0001, DR=0.1\n",
      "\n",
      "=== Fold 1 ===\n"
     ]
    },
    {
     "data": {
      "application/vnd.jupyter.widget-view+json": {
       "model_id": "611476886a074878aa71f05a734adb42",
       "version_major": 2,
       "version_minor": 0
      },
      "text/plain": [
       "  0%|          | 0/21600 [00:00<?, ?it/s]"
      ]
     },
     "metadata": {},
     "output_type": "display_data"
    },
    {
     "data": {
      "application/vnd.jupyter.widget-view+json": {
       "model_id": "e1c86df66e9d43409e9c915d6d981651",
       "version_major": 2,
       "version_minor": 0
      },
      "text/plain": [
       "  0%|          | 0/21600 [00:00<?, ?it/s]"
      ]
     },
     "metadata": {},
     "output_type": "display_data"
    },
    {
     "data": {
      "application/vnd.jupyter.widget-view+json": {
       "model_id": "3bb9032f077f48dbb3eb39603570776f",
       "version_major": 2,
       "version_minor": 0
      },
      "text/plain": [
       "  0%|          | 0/21600 [00:00<?, ?it/s]"
      ]
     },
     "metadata": {},
     "output_type": "display_data"
    },
    {
     "data": {
      "application/vnd.jupyter.widget-view+json": {
       "model_id": "3c422f9032c74e59acbaceb7d630aa6c",
       "version_major": 2,
       "version_minor": 0
      },
      "text/plain": [
       "  0%|          | 0/21600 [00:00<?, ?it/s]"
      ]
     },
     "metadata": {},
     "output_type": "display_data"
    },
    {
     "data": {
      "application/vnd.jupyter.widget-view+json": {
       "model_id": "40f97623ced34d6c99a661ce3c976c49",
       "version_major": 2,
       "version_minor": 0
      },
      "text/plain": [
       "  0%|          | 0/21600 [00:00<?, ?it/s]"
      ]
     },
     "metadata": {},
     "output_type": "display_data"
    },
    {
     "name": "stdout",
     "output_type": "stream",
     "text": [
      "\n",
      "=== Fold 2 ===\n"
     ]
    },
    {
     "data": {
      "application/vnd.jupyter.widget-view+json": {
       "model_id": "e507ee45705a4fa8a162ddb3a50ca29e",
       "version_major": 2,
       "version_minor": 0
      },
      "text/plain": [
       "  0%|          | 0/21600 [00:00<?, ?it/s]"
      ]
     },
     "metadata": {},
     "output_type": "display_data"
    },
    {
     "data": {
      "application/vnd.jupyter.widget-view+json": {
       "model_id": "d8ec09dc75de4a468ec43cfc7e96334e",
       "version_major": 2,
       "version_minor": 0
      },
      "text/plain": [
       "  0%|          | 0/21600 [00:00<?, ?it/s]"
      ]
     },
     "metadata": {},
     "output_type": "display_data"
    },
    {
     "data": {
      "application/vnd.jupyter.widget-view+json": {
       "model_id": "11d69af252fa4b8393ba2aca566f7074",
       "version_major": 2,
       "version_minor": 0
      },
      "text/plain": [
       "  0%|          | 0/21600 [00:00<?, ?it/s]"
      ]
     },
     "metadata": {},
     "output_type": "display_data"
    },
    {
     "data": {
      "application/vnd.jupyter.widget-view+json": {
       "model_id": "7da94814d3d64c449cc56f7ef51afc59",
       "version_major": 2,
       "version_minor": 0
      },
      "text/plain": [
       "  0%|          | 0/21600 [00:00<?, ?it/s]"
      ]
     },
     "metadata": {},
     "output_type": "display_data"
    },
    {
     "data": {
      "application/vnd.jupyter.widget-view+json": {
       "model_id": "d3ddc024d9324c73a050eab3fd5209d5",
       "version_major": 2,
       "version_minor": 0
      },
      "text/plain": [
       "  0%|          | 0/21600 [00:00<?, ?it/s]"
      ]
     },
     "metadata": {},
     "output_type": "display_data"
    },
    {
     "name": "stdout",
     "output_type": "stream",
     "text": [
      "\n",
      "=== Fold 3 ===\n"
     ]
    },
    {
     "data": {
      "application/vnd.jupyter.widget-view+json": {
       "model_id": "0709ab6d0850422e86cf6fb5e59deb2d",
       "version_major": 2,
       "version_minor": 0
      },
      "text/plain": [
       "  0%|          | 0/21600 [00:00<?, ?it/s]"
      ]
     },
     "metadata": {},
     "output_type": "display_data"
    },
    {
     "data": {
      "application/vnd.jupyter.widget-view+json": {
       "model_id": "607ebaea3dad4c2e98e6fd68a5470383",
       "version_major": 2,
       "version_minor": 0
      },
      "text/plain": [
       "  0%|          | 0/21600 [00:00<?, ?it/s]"
      ]
     },
     "metadata": {},
     "output_type": "display_data"
    },
    {
     "data": {
      "application/vnd.jupyter.widget-view+json": {
       "model_id": "8ee67fb276dd47989a04733b7d77c35d",
       "version_major": 2,
       "version_minor": 0
      },
      "text/plain": [
       "  0%|          | 0/21600 [00:00<?, ?it/s]"
      ]
     },
     "metadata": {},
     "output_type": "display_data"
    },
    {
     "data": {
      "application/vnd.jupyter.widget-view+json": {
       "model_id": "2c2f6bc937ba492fa195ab6584aeadb1",
       "version_major": 2,
       "version_minor": 0
      },
      "text/plain": [
       "  0%|          | 0/21600 [00:00<?, ?it/s]"
      ]
     },
     "metadata": {},
     "output_type": "display_data"
    },
    {
     "data": {
      "application/vnd.jupyter.widget-view+json": {
       "model_id": "1b9f39845658430aa7e7739197553b04",
       "version_major": 2,
       "version_minor": 0
      },
      "text/plain": [
       "  0%|          | 0/21600 [00:00<?, ?it/s]"
      ]
     },
     "metadata": {},
     "output_type": "display_data"
    },
    {
     "name": "stdout",
     "output_type": "stream",
     "text": [
      "\n",
      "=== Fold 4 ===\n"
     ]
    },
    {
     "data": {
      "application/vnd.jupyter.widget-view+json": {
       "model_id": "2a0645cd116a40278a37828109452758",
       "version_major": 2,
       "version_minor": 0
      },
      "text/plain": [
       "  0%|          | 0/21600 [00:00<?, ?it/s]"
      ]
     },
     "metadata": {},
     "output_type": "display_data"
    },
    {
     "data": {
      "application/vnd.jupyter.widget-view+json": {
       "model_id": "92e8e83238b243628c690c458608bbed",
       "version_major": 2,
       "version_minor": 0
      },
      "text/plain": [
       "  0%|          | 0/21600 [00:00<?, ?it/s]"
      ]
     },
     "metadata": {},
     "output_type": "display_data"
    },
    {
     "data": {
      "application/vnd.jupyter.widget-view+json": {
       "model_id": "e6b2d36c59bf453aa8c01576d0623d88",
       "version_major": 2,
       "version_minor": 0
      },
      "text/plain": [
       "  0%|          | 0/21600 [00:00<?, ?it/s]"
      ]
     },
     "metadata": {},
     "output_type": "display_data"
    },
    {
     "data": {
      "application/vnd.jupyter.widget-view+json": {
       "model_id": "7800ff8ec3d7449ab2ee55b34e2c9ce4",
       "version_major": 2,
       "version_minor": 0
      },
      "text/plain": [
       "  0%|          | 0/21600 [00:00<?, ?it/s]"
      ]
     },
     "metadata": {},
     "output_type": "display_data"
    },
    {
     "name": "stderr",
     "output_type": "stream",
     "text": [
      "Exception in thread Thread-4:\n",
      "Traceback (most recent call last):\n",
      "  File \"c:\\Users\\giona\\anaconda3\\envs\\introml\\lib\\threading.py\", line 932, in _bootstrap_inner\n",
      "    self.run()\n",
      "  File \"c:\\Users\\giona\\anaconda3\\envs\\introml\\lib\\site-packages\\tqdm\\_monitor.py\", line 69, in run\n",
      "    instances = self.get_instances()\n",
      "  File \"c:\\Users\\giona\\anaconda3\\envs\\introml\\lib\\site-packages\\tqdm\\_monitor.py\", line 49, in get_instances\n",
      "    return [i for i in self.tqdm_cls._instances.copy()\n",
      "  File \"c:\\Users\\giona\\anaconda3\\envs\\introml\\lib\\_weakrefset.py\", line 92, in copy\n",
      "    return self.__class__(self)\n",
      "  File \"c:\\Users\\giona\\anaconda3\\envs\\introml\\lib\\_weakrefset.py\", line 50, in __init__\n",
      "    self.update(data)\n",
      "  File \"c:\\Users\\giona\\anaconda3\\envs\\introml\\lib\\_weakrefset.py\", line 119, in update\n",
      "    for element in other:\n",
      "  File \"c:\\Users\\giona\\anaconda3\\envs\\introml\\lib\\_weakrefset.py\", line 60, in __iter__\n",
      "    for itemref in self.data:\n",
      "RuntimeError: Set changed size during iteration\n"
     ]
    },
    {
     "data": {
      "application/vnd.jupyter.widget-view+json": {
       "model_id": "8a28b97ae62545a6a78fd8905960f100",
       "version_major": 2,
       "version_minor": 0
      },
      "text/plain": [
       "  0%|          | 0/21600 [00:00<?, ?it/s]"
      ]
     },
     "metadata": {},
     "output_type": "display_data"
    },
    {
     "name": "stdout",
     "output_type": "stream",
     "text": [
      "Avg Validation Loss: 0.3508\n",
      "Testing: LR=0.001, WD=0.0001, DR=0.2\n",
      "\n",
      "=== Fold 1 ===\n"
     ]
    },
    {
     "data": {
      "application/vnd.jupyter.widget-view+json": {
       "model_id": "477b2c7b6bf746b18e47066b5a5b4793",
       "version_major": 2,
       "version_minor": 0
      },
      "text/plain": [
       "  0%|          | 0/21600 [00:00<?, ?it/s]"
      ]
     },
     "metadata": {},
     "output_type": "display_data"
    },
    {
     "data": {
      "application/vnd.jupyter.widget-view+json": {
       "model_id": "8697c8ccf8de40ddbcaf0dee83b4f819",
       "version_major": 2,
       "version_minor": 0
      },
      "text/plain": [
       "  0%|          | 0/21600 [00:00<?, ?it/s]"
      ]
     },
     "metadata": {},
     "output_type": "display_data"
    },
    {
     "data": {
      "application/vnd.jupyter.widget-view+json": {
       "model_id": "d3f6172b768f440b81ee5fdbc400195f",
       "version_major": 2,
       "version_minor": 0
      },
      "text/plain": [
       "  0%|          | 0/21600 [00:00<?, ?it/s]"
      ]
     },
     "metadata": {},
     "output_type": "display_data"
    },
    {
     "data": {
      "application/vnd.jupyter.widget-view+json": {
       "model_id": "4a4e96a1d0264d1c8fe71e34346e8156",
       "version_major": 2,
       "version_minor": 0
      },
      "text/plain": [
       "  0%|          | 0/21600 [00:00<?, ?it/s]"
      ]
     },
     "metadata": {},
     "output_type": "display_data"
    },
    {
     "data": {
      "application/vnd.jupyter.widget-view+json": {
       "model_id": "f60fe569177549f484b7058409fca6b7",
       "version_major": 2,
       "version_minor": 0
      },
      "text/plain": [
       "  0%|          | 0/21600 [00:00<?, ?it/s]"
      ]
     },
     "metadata": {},
     "output_type": "display_data"
    },
    {
     "name": "stdout",
     "output_type": "stream",
     "text": [
      "\n",
      "=== Fold 2 ===\n"
     ]
    },
    {
     "data": {
      "application/vnd.jupyter.widget-view+json": {
       "model_id": "48e9de7130da45728f1bc0d4db2ef9a0",
       "version_major": 2,
       "version_minor": 0
      },
      "text/plain": [
       "  0%|          | 0/21600 [00:00<?, ?it/s]"
      ]
     },
     "metadata": {},
     "output_type": "display_data"
    },
    {
     "data": {
      "application/vnd.jupyter.widget-view+json": {
       "model_id": "6664e552187348a88f9db62484bf9a9f",
       "version_major": 2,
       "version_minor": 0
      },
      "text/plain": [
       "  0%|          | 0/21600 [00:00<?, ?it/s]"
      ]
     },
     "metadata": {},
     "output_type": "display_data"
    },
    {
     "data": {
      "application/vnd.jupyter.widget-view+json": {
       "model_id": "827dd9fdcc914e618a136105d27bc15f",
       "version_major": 2,
       "version_minor": 0
      },
      "text/plain": [
       "  0%|          | 0/21600 [00:00<?, ?it/s]"
      ]
     },
     "metadata": {},
     "output_type": "display_data"
    },
    {
     "data": {
      "application/vnd.jupyter.widget-view+json": {
       "model_id": "102915ede33b4b10af75ff7da313989f",
       "version_major": 2,
       "version_minor": 0
      },
      "text/plain": [
       "  0%|          | 0/21600 [00:00<?, ?it/s]"
      ]
     },
     "metadata": {},
     "output_type": "display_data"
    },
    {
     "data": {
      "application/vnd.jupyter.widget-view+json": {
       "model_id": "a3904fe749ea4323be0fb2bc57ba05eb",
       "version_major": 2,
       "version_minor": 0
      },
      "text/plain": [
       "  0%|          | 0/21600 [00:00<?, ?it/s]"
      ]
     },
     "metadata": {},
     "output_type": "display_data"
    },
    {
     "name": "stdout",
     "output_type": "stream",
     "text": [
      "\n",
      "=== Fold 3 ===\n"
     ]
    },
    {
     "data": {
      "application/vnd.jupyter.widget-view+json": {
       "model_id": "934b8f4cbb7c444caee83df48c50cabc",
       "version_major": 2,
       "version_minor": 0
      },
      "text/plain": [
       "  0%|          | 0/21600 [00:00<?, ?it/s]"
      ]
     },
     "metadata": {},
     "output_type": "display_data"
    },
    {
     "data": {
      "application/vnd.jupyter.widget-view+json": {
       "model_id": "110549e4bf48485bb2c2694b425fdd51",
       "version_major": 2,
       "version_minor": 0
      },
      "text/plain": [
       "  0%|          | 0/21600 [00:00<?, ?it/s]"
      ]
     },
     "metadata": {},
     "output_type": "display_data"
    },
    {
     "data": {
      "application/vnd.jupyter.widget-view+json": {
       "model_id": "89025a091cc04d5ea317b84cf47eb597",
       "version_major": 2,
       "version_minor": 0
      },
      "text/plain": [
       "  0%|          | 0/21600 [00:00<?, ?it/s]"
      ]
     },
     "metadata": {},
     "output_type": "display_data"
    },
    {
     "data": {
      "application/vnd.jupyter.widget-view+json": {
       "model_id": "4e0a153f4dda4b2e83ff6a7ccee302f1",
       "version_major": 2,
       "version_minor": 0
      },
      "text/plain": [
       "  0%|          | 0/21600 [00:00<?, ?it/s]"
      ]
     },
     "metadata": {},
     "output_type": "display_data"
    },
    {
     "data": {
      "application/vnd.jupyter.widget-view+json": {
       "model_id": "939da141f8ea4588b88f3016d10f9ec9",
       "version_major": 2,
       "version_minor": 0
      },
      "text/plain": [
       "  0%|          | 0/21600 [00:00<?, ?it/s]"
      ]
     },
     "metadata": {},
     "output_type": "display_data"
    },
    {
     "name": "stdout",
     "output_type": "stream",
     "text": [
      "\n",
      "=== Fold 4 ===\n"
     ]
    },
    {
     "data": {
      "application/vnd.jupyter.widget-view+json": {
       "model_id": "294b39a4c0634aee92ab809ce8884b9a",
       "version_major": 2,
       "version_minor": 0
      },
      "text/plain": [
       "  0%|          | 0/21600 [00:00<?, ?it/s]"
      ]
     },
     "metadata": {},
     "output_type": "display_data"
    },
    {
     "data": {
      "application/vnd.jupyter.widget-view+json": {
       "model_id": "3f6092022b1c4454bfd536b0468e7ad2",
       "version_major": 2,
       "version_minor": 0
      },
      "text/plain": [
       "  0%|          | 0/21600 [00:00<?, ?it/s]"
      ]
     },
     "metadata": {},
     "output_type": "display_data"
    },
    {
     "data": {
      "application/vnd.jupyter.widget-view+json": {
       "model_id": "addc1bd7c3dc4ec8a7e978705de1531b",
       "version_major": 2,
       "version_minor": 0
      },
      "text/plain": [
       "  0%|          | 0/21600 [00:00<?, ?it/s]"
      ]
     },
     "metadata": {},
     "output_type": "display_data"
    },
    {
     "data": {
      "application/vnd.jupyter.widget-view+json": {
       "model_id": "853f0d76c54a4e58b38a7d13029958bc",
       "version_major": 2,
       "version_minor": 0
      },
      "text/plain": [
       "  0%|          | 0/21600 [00:00<?, ?it/s]"
      ]
     },
     "metadata": {},
     "output_type": "display_data"
    },
    {
     "data": {
      "application/vnd.jupyter.widget-view+json": {
       "model_id": "e5a7a457deb145aca00c516e700211e7",
       "version_major": 2,
       "version_minor": 0
      },
      "text/plain": [
       "  0%|          | 0/21600 [00:00<?, ?it/s]"
      ]
     },
     "metadata": {},
     "output_type": "display_data"
    },
    {
     "name": "stdout",
     "output_type": "stream",
     "text": [
      "Avg Validation Loss: 0.2384\n",
      "Testing: LR=0.005, WD=0.0001, DR=0.2\n",
      "\n",
      "=== Fold 1 ===\n"
     ]
    },
    {
     "data": {
      "application/vnd.jupyter.widget-view+json": {
       "model_id": "a8c25b0712d0452eaaabe7ad55648cae",
       "version_major": 2,
       "version_minor": 0
      },
      "text/plain": [
       "  0%|          | 0/21600 [00:00<?, ?it/s]"
      ]
     },
     "metadata": {},
     "output_type": "display_data"
    },
    {
     "data": {
      "application/vnd.jupyter.widget-view+json": {
       "model_id": "0965e164b06546a58506b75e97d69e5f",
       "version_major": 2,
       "version_minor": 0
      },
      "text/plain": [
       "  0%|          | 0/21600 [00:00<?, ?it/s]"
      ]
     },
     "metadata": {},
     "output_type": "display_data"
    },
    {
     "data": {
      "application/vnd.jupyter.widget-view+json": {
       "model_id": "e45b5b1442d64c02ab8d51b6ab24711e",
       "version_major": 2,
       "version_minor": 0
      },
      "text/plain": [
       "  0%|          | 0/21600 [00:00<?, ?it/s]"
      ]
     },
     "metadata": {},
     "output_type": "display_data"
    },
    {
     "data": {
      "application/vnd.jupyter.widget-view+json": {
       "model_id": "cc1ffd5d66d04cc9a4a824f37d323a85",
       "version_major": 2,
       "version_minor": 0
      },
      "text/plain": [
       "  0%|          | 0/21600 [00:00<?, ?it/s]"
      ]
     },
     "metadata": {},
     "output_type": "display_data"
    },
    {
     "data": {
      "application/vnd.jupyter.widget-view+json": {
       "model_id": "d09a49fe1fad46d5a357a37e55641b9c",
       "version_major": 2,
       "version_minor": 0
      },
      "text/plain": [
       "  0%|          | 0/21600 [00:00<?, ?it/s]"
      ]
     },
     "metadata": {},
     "output_type": "display_data"
    },
    {
     "name": "stdout",
     "output_type": "stream",
     "text": [
      "\n",
      "=== Fold 2 ===\n"
     ]
    },
    {
     "data": {
      "application/vnd.jupyter.widget-view+json": {
       "model_id": "958c8c22041c4cb695c78da6590d2709",
       "version_major": 2,
       "version_minor": 0
      },
      "text/plain": [
       "  0%|          | 0/21600 [00:00<?, ?it/s]"
      ]
     },
     "metadata": {},
     "output_type": "display_data"
    },
    {
     "data": {
      "application/vnd.jupyter.widget-view+json": {
       "model_id": "ae16f0e47ff549fd8dd0e01cb162b6c1",
       "version_major": 2,
       "version_minor": 0
      },
      "text/plain": [
       "  0%|          | 0/21600 [00:00<?, ?it/s]"
      ]
     },
     "metadata": {},
     "output_type": "display_data"
    },
    {
     "data": {
      "application/vnd.jupyter.widget-view+json": {
       "model_id": "a2e2e4e734284eb5834c30c55b41c4db",
       "version_major": 2,
       "version_minor": 0
      },
      "text/plain": [
       "  0%|          | 0/21600 [00:00<?, ?it/s]"
      ]
     },
     "metadata": {},
     "output_type": "display_data"
    },
    {
     "data": {
      "application/vnd.jupyter.widget-view+json": {
       "model_id": "e9a859eea3dc4ac08c4cc22a322a1746",
       "version_major": 2,
       "version_minor": 0
      },
      "text/plain": [
       "  0%|          | 0/21600 [00:00<?, ?it/s]"
      ]
     },
     "metadata": {},
     "output_type": "display_data"
    },
    {
     "data": {
      "application/vnd.jupyter.widget-view+json": {
       "model_id": "8ba8274b8ce6454cbe96af8fa5c3e15f",
       "version_major": 2,
       "version_minor": 0
      },
      "text/plain": [
       "  0%|          | 0/21600 [00:00<?, ?it/s]"
      ]
     },
     "metadata": {},
     "output_type": "display_data"
    },
    {
     "name": "stdout",
     "output_type": "stream",
     "text": [
      "\n",
      "=== Fold 3 ===\n"
     ]
    },
    {
     "data": {
      "application/vnd.jupyter.widget-view+json": {
       "model_id": "796cb42860b846abb68fe73d2ad4d325",
       "version_major": 2,
       "version_minor": 0
      },
      "text/plain": [
       "  0%|          | 0/21600 [00:00<?, ?it/s]"
      ]
     },
     "metadata": {},
     "output_type": "display_data"
    },
    {
     "data": {
      "application/vnd.jupyter.widget-view+json": {
       "model_id": "32d992c013034b8cb205fc0b891b2fa2",
       "version_major": 2,
       "version_minor": 0
      },
      "text/plain": [
       "  0%|          | 0/21600 [00:00<?, ?it/s]"
      ]
     },
     "metadata": {},
     "output_type": "display_data"
    },
    {
     "data": {
      "application/vnd.jupyter.widget-view+json": {
       "model_id": "5773d0634ab6454c96aea9e28e42456e",
       "version_major": 2,
       "version_minor": 0
      },
      "text/plain": [
       "  0%|          | 0/21600 [00:00<?, ?it/s]"
      ]
     },
     "metadata": {},
     "output_type": "display_data"
    },
    {
     "data": {
      "application/vnd.jupyter.widget-view+json": {
       "model_id": "8adae5ce7c834f799122829de3453908",
       "version_major": 2,
       "version_minor": 0
      },
      "text/plain": [
       "  0%|          | 0/21600 [00:00<?, ?it/s]"
      ]
     },
     "metadata": {},
     "output_type": "display_data"
    },
    {
     "data": {
      "application/vnd.jupyter.widget-view+json": {
       "model_id": "ae807199e5074dc5b3d3658c9b1d4b7b",
       "version_major": 2,
       "version_minor": 0
      },
      "text/plain": [
       "  0%|          | 0/21600 [00:00<?, ?it/s]"
      ]
     },
     "metadata": {},
     "output_type": "display_data"
    },
    {
     "name": "stdout",
     "output_type": "stream",
     "text": [
      "\n",
      "=== Fold 4 ===\n"
     ]
    },
    {
     "data": {
      "application/vnd.jupyter.widget-view+json": {
       "model_id": "27c0700b940d450ca77fcc432b007716",
       "version_major": 2,
       "version_minor": 0
      },
      "text/plain": [
       "  0%|          | 0/21600 [00:00<?, ?it/s]"
      ]
     },
     "metadata": {},
     "output_type": "display_data"
    },
    {
     "data": {
      "application/vnd.jupyter.widget-view+json": {
       "model_id": "239a72ce72f54b05928441b52f763ad7",
       "version_major": 2,
       "version_minor": 0
      },
      "text/plain": [
       "  0%|          | 0/21600 [00:00<?, ?it/s]"
      ]
     },
     "metadata": {},
     "output_type": "display_data"
    },
    {
     "data": {
      "application/vnd.jupyter.widget-view+json": {
       "model_id": "190037f68e6a4b3ab4d28dd27fbae38c",
       "version_major": 2,
       "version_minor": 0
      },
      "text/plain": [
       "  0%|          | 0/21600 [00:00<?, ?it/s]"
      ]
     },
     "metadata": {},
     "output_type": "display_data"
    },
    {
     "data": {
      "application/vnd.jupyter.widget-view+json": {
       "model_id": "5a4fe7eb894040dc8ada037788b6ead4",
       "version_major": 2,
       "version_minor": 0
      },
      "text/plain": [
       "  0%|          | 0/21600 [00:00<?, ?it/s]"
      ]
     },
     "metadata": {},
     "output_type": "display_data"
    },
    {
     "data": {
      "application/vnd.jupyter.widget-view+json": {
       "model_id": "cbaea76c9f8945f69c838beaa07ec2bd",
       "version_major": 2,
       "version_minor": 0
      },
      "text/plain": [
       "  0%|          | 0/21600 [00:00<?, ?it/s]"
      ]
     },
     "metadata": {},
     "output_type": "display_data"
    },
    {
     "name": "stdout",
     "output_type": "stream",
     "text": [
      "Avg Validation Loss: 0.2361\n",
      "Testing: LR=0.01, WD=0.0001, DR=0.2\n",
      "\n",
      "=== Fold 1 ===\n"
     ]
    },
    {
     "data": {
      "application/vnd.jupyter.widget-view+json": {
       "model_id": "c6d4c840748d488cb82802c6f08e38b5",
       "version_major": 2,
       "version_minor": 0
      },
      "text/plain": [
       "  0%|          | 0/21600 [00:00<?, ?it/s]"
      ]
     },
     "metadata": {},
     "output_type": "display_data"
    },
    {
     "data": {
      "application/vnd.jupyter.widget-view+json": {
       "model_id": "eb8c247e0ef54e328a5680ccaf158996",
       "version_major": 2,
       "version_minor": 0
      },
      "text/plain": [
       "  0%|          | 0/21600 [00:00<?, ?it/s]"
      ]
     },
     "metadata": {},
     "output_type": "display_data"
    },
    {
     "data": {
      "application/vnd.jupyter.widget-view+json": {
       "model_id": "8e112b902662403b9a00b29ab4429f81",
       "version_major": 2,
       "version_minor": 0
      },
      "text/plain": [
       "  0%|          | 0/21600 [00:00<?, ?it/s]"
      ]
     },
     "metadata": {},
     "output_type": "display_data"
    },
    {
     "data": {
      "application/vnd.jupyter.widget-view+json": {
       "model_id": "b009a91888ea4ae8911dc1d3c850400e",
       "version_major": 2,
       "version_minor": 0
      },
      "text/plain": [
       "  0%|          | 0/21600 [00:00<?, ?it/s]"
      ]
     },
     "metadata": {},
     "output_type": "display_data"
    },
    {
     "data": {
      "application/vnd.jupyter.widget-view+json": {
       "model_id": "c9290d5e038c46bfa1ccc5d81424abdf",
       "version_major": 2,
       "version_minor": 0
      },
      "text/plain": [
       "  0%|          | 0/21600 [00:00<?, ?it/s]"
      ]
     },
     "metadata": {},
     "output_type": "display_data"
    },
    {
     "name": "stdout",
     "output_type": "stream",
     "text": [
      "\n",
      "=== Fold 2 ===\n"
     ]
    },
    {
     "data": {
      "application/vnd.jupyter.widget-view+json": {
       "model_id": "5654e704f8574a3b903b6c792e3b0f1c",
       "version_major": 2,
       "version_minor": 0
      },
      "text/plain": [
       "  0%|          | 0/21600 [00:00<?, ?it/s]"
      ]
     },
     "metadata": {},
     "output_type": "display_data"
    },
    {
     "data": {
      "application/vnd.jupyter.widget-view+json": {
       "model_id": "e88049f700c641b49f9489640da32a97",
       "version_major": 2,
       "version_minor": 0
      },
      "text/plain": [
       "  0%|          | 0/21600 [00:00<?, ?it/s]"
      ]
     },
     "metadata": {},
     "output_type": "display_data"
    },
    {
     "data": {
      "application/vnd.jupyter.widget-view+json": {
       "model_id": "25c930a962f84eceadfeaf41321bfafe",
       "version_major": 2,
       "version_minor": 0
      },
      "text/plain": [
       "  0%|          | 0/21600 [00:00<?, ?it/s]"
      ]
     },
     "metadata": {},
     "output_type": "display_data"
    },
    {
     "data": {
      "application/vnd.jupyter.widget-view+json": {
       "model_id": "a55d108463c545dfa58994ac0f097947",
       "version_major": 2,
       "version_minor": 0
      },
      "text/plain": [
       "  0%|          | 0/21600 [00:00<?, ?it/s]"
      ]
     },
     "metadata": {},
     "output_type": "display_data"
    },
    {
     "data": {
      "application/vnd.jupyter.widget-view+json": {
       "model_id": "61dc99a2830d4b25a432e8230b4530ec",
       "version_major": 2,
       "version_minor": 0
      },
      "text/plain": [
       "  0%|          | 0/21600 [00:00<?, ?it/s]"
      ]
     },
     "metadata": {},
     "output_type": "display_data"
    },
    {
     "name": "stdout",
     "output_type": "stream",
     "text": [
      "\n",
      "=== Fold 3 ===\n"
     ]
    },
    {
     "data": {
      "application/vnd.jupyter.widget-view+json": {
       "model_id": "7903e9417e2d4b78a598ed58d0f063b6",
       "version_major": 2,
       "version_minor": 0
      },
      "text/plain": [
       "  0%|          | 0/21600 [00:00<?, ?it/s]"
      ]
     },
     "metadata": {},
     "output_type": "display_data"
    },
    {
     "data": {
      "application/vnd.jupyter.widget-view+json": {
       "model_id": "2e4e8907d3a6495abf6ea2700c5377c0",
       "version_major": 2,
       "version_minor": 0
      },
      "text/plain": [
       "  0%|          | 0/21600 [00:00<?, ?it/s]"
      ]
     },
     "metadata": {},
     "output_type": "display_data"
    },
    {
     "data": {
      "application/vnd.jupyter.widget-view+json": {
       "model_id": "d30ae9ab55774657a804ed030df0ca9b",
       "version_major": 2,
       "version_minor": 0
      },
      "text/plain": [
       "  0%|          | 0/21600 [00:00<?, ?it/s]"
      ]
     },
     "metadata": {},
     "output_type": "display_data"
    },
    {
     "data": {
      "application/vnd.jupyter.widget-view+json": {
       "model_id": "a8373143ede94cc7802fdaf35ad3942e",
       "version_major": 2,
       "version_minor": 0
      },
      "text/plain": [
       "  0%|          | 0/21600 [00:00<?, ?it/s]"
      ]
     },
     "metadata": {},
     "output_type": "display_data"
    },
    {
     "data": {
      "application/vnd.jupyter.widget-view+json": {
       "model_id": "b063f19622414de08b4a7587f65d6f14",
       "version_major": 2,
       "version_minor": 0
      },
      "text/plain": [
       "  0%|          | 0/21600 [00:00<?, ?it/s]"
      ]
     },
     "metadata": {},
     "output_type": "display_data"
    },
    {
     "name": "stdout",
     "output_type": "stream",
     "text": [
      "\n",
      "=== Fold 4 ===\n"
     ]
    },
    {
     "data": {
      "application/vnd.jupyter.widget-view+json": {
       "model_id": "a2fa61707f3a48b5b89bb2f8f444c807",
       "version_major": 2,
       "version_minor": 0
      },
      "text/plain": [
       "  0%|          | 0/21600 [00:00<?, ?it/s]"
      ]
     },
     "metadata": {},
     "output_type": "display_data"
    },
    {
     "data": {
      "application/vnd.jupyter.widget-view+json": {
       "model_id": "774f68dc8d6d4adb883a25a5dfd3a8e3",
       "version_major": 2,
       "version_minor": 0
      },
      "text/plain": [
       "  0%|          | 0/21600 [00:00<?, ?it/s]"
      ]
     },
     "metadata": {},
     "output_type": "display_data"
    },
    {
     "data": {
      "application/vnd.jupyter.widget-view+json": {
       "model_id": "d08e44832cbc425ea33fbd97062aa0a4",
       "version_major": 2,
       "version_minor": 0
      },
      "text/plain": [
       "  0%|          | 0/21600 [00:00<?, ?it/s]"
      ]
     },
     "metadata": {},
     "output_type": "display_data"
    },
    {
     "data": {
      "application/vnd.jupyter.widget-view+json": {
       "model_id": "79fc2c77d24a430c8e54786400ddca4e",
       "version_major": 2,
       "version_minor": 0
      },
      "text/plain": [
       "  0%|          | 0/21600 [00:00<?, ?it/s]"
      ]
     },
     "metadata": {},
     "output_type": "display_data"
    },
    {
     "data": {
      "application/vnd.jupyter.widget-view+json": {
       "model_id": "274e17d168ba422aa70a812f8fd7149f",
       "version_major": 2,
       "version_minor": 0
      },
      "text/plain": [
       "  0%|          | 0/21600 [00:00<?, ?it/s]"
      ]
     },
     "metadata": {},
     "output_type": "display_data"
    },
    {
     "name": "stdout",
     "output_type": "stream",
     "text": [
      "Avg Validation Loss: 0.2459\n",
      "Testing: LR=0.001, WD=0.0001, DR=0.3\n",
      "\n",
      "=== Fold 1 ===\n"
     ]
    },
    {
     "data": {
      "application/vnd.jupyter.widget-view+json": {
       "model_id": "58d0049927ad416c82c4cbdfe5e54e9a",
       "version_major": 2,
       "version_minor": 0
      },
      "text/plain": [
       "  0%|          | 0/21600 [00:00<?, ?it/s]"
      ]
     },
     "metadata": {},
     "output_type": "display_data"
    },
    {
     "data": {
      "application/vnd.jupyter.widget-view+json": {
       "model_id": "d63cdb96c3954c75855521ac82486ea1",
       "version_major": 2,
       "version_minor": 0
      },
      "text/plain": [
       "  0%|          | 0/21600 [00:00<?, ?it/s]"
      ]
     },
     "metadata": {},
     "output_type": "display_data"
    },
    {
     "data": {
      "application/vnd.jupyter.widget-view+json": {
       "model_id": "b09c739602a9405bb0ad9f452ee42853",
       "version_major": 2,
       "version_minor": 0
      },
      "text/plain": [
       "  0%|          | 0/21600 [00:00<?, ?it/s]"
      ]
     },
     "metadata": {},
     "output_type": "display_data"
    },
    {
     "data": {
      "application/vnd.jupyter.widget-view+json": {
       "model_id": "3078575b687c46d08918871aae446e00",
       "version_major": 2,
       "version_minor": 0
      },
      "text/plain": [
       "  0%|          | 0/21600 [00:00<?, ?it/s]"
      ]
     },
     "metadata": {},
     "output_type": "display_data"
    },
    {
     "data": {
      "application/vnd.jupyter.widget-view+json": {
       "model_id": "54ccb2954cfd4af4ab95b086d5c10879",
       "version_major": 2,
       "version_minor": 0
      },
      "text/plain": [
       "  0%|          | 0/21600 [00:00<?, ?it/s]"
      ]
     },
     "metadata": {},
     "output_type": "display_data"
    },
    {
     "name": "stdout",
     "output_type": "stream",
     "text": [
      "\n",
      "=== Fold 2 ===\n"
     ]
    },
    {
     "data": {
      "application/vnd.jupyter.widget-view+json": {
       "model_id": "b30fc08c6338453d91636666bce0061f",
       "version_major": 2,
       "version_minor": 0
      },
      "text/plain": [
       "  0%|          | 0/21600 [00:00<?, ?it/s]"
      ]
     },
     "metadata": {},
     "output_type": "display_data"
    },
    {
     "data": {
      "application/vnd.jupyter.widget-view+json": {
       "model_id": "85df6a02d2f9472589cdf450a54e1a34",
       "version_major": 2,
       "version_minor": 0
      },
      "text/plain": [
       "  0%|          | 0/21600 [00:00<?, ?it/s]"
      ]
     },
     "metadata": {},
     "output_type": "display_data"
    },
    {
     "data": {
      "application/vnd.jupyter.widget-view+json": {
       "model_id": "ca5e83cfb65f42f9bc88e31919e07b58",
       "version_major": 2,
       "version_minor": 0
      },
      "text/plain": [
       "  0%|          | 0/21600 [00:00<?, ?it/s]"
      ]
     },
     "metadata": {},
     "output_type": "display_data"
    },
    {
     "data": {
      "application/vnd.jupyter.widget-view+json": {
       "model_id": "d7bb28bc5d5a4d2493e85a1fbd43cc09",
       "version_major": 2,
       "version_minor": 0
      },
      "text/plain": [
       "  0%|          | 0/21600 [00:00<?, ?it/s]"
      ]
     },
     "metadata": {},
     "output_type": "display_data"
    },
    {
     "data": {
      "application/vnd.jupyter.widget-view+json": {
       "model_id": "7f493c3759584c4ab6cfafde95b615ce",
       "version_major": 2,
       "version_minor": 0
      },
      "text/plain": [
       "  0%|          | 0/21600 [00:00<?, ?it/s]"
      ]
     },
     "metadata": {},
     "output_type": "display_data"
    },
    {
     "name": "stdout",
     "output_type": "stream",
     "text": [
      "\n",
      "=== Fold 3 ===\n"
     ]
    },
    {
     "data": {
      "application/vnd.jupyter.widget-view+json": {
       "model_id": "dc971b9b26d44a62a90a049f7ba1080d",
       "version_major": 2,
       "version_minor": 0
      },
      "text/plain": [
       "  0%|          | 0/21600 [00:00<?, ?it/s]"
      ]
     },
     "metadata": {},
     "output_type": "display_data"
    },
    {
     "data": {
      "application/vnd.jupyter.widget-view+json": {
       "model_id": "13ca8eda72dc463a9f8a15e5b9282f59",
       "version_major": 2,
       "version_minor": 0
      },
      "text/plain": [
       "  0%|          | 0/21600 [00:00<?, ?it/s]"
      ]
     },
     "metadata": {},
     "output_type": "display_data"
    },
    {
     "data": {
      "application/vnd.jupyter.widget-view+json": {
       "model_id": "8609a00a94584883baa958de7676dc99",
       "version_major": 2,
       "version_minor": 0
      },
      "text/plain": [
       "  0%|          | 0/21600 [00:00<?, ?it/s]"
      ]
     },
     "metadata": {},
     "output_type": "display_data"
    },
    {
     "data": {
      "application/vnd.jupyter.widget-view+json": {
       "model_id": "eabeccb0fa70408b84da182900e7ea73",
       "version_major": 2,
       "version_minor": 0
      },
      "text/plain": [
       "  0%|          | 0/21600 [00:00<?, ?it/s]"
      ]
     },
     "metadata": {},
     "output_type": "display_data"
    },
    {
     "data": {
      "application/vnd.jupyter.widget-view+json": {
       "model_id": "d0169f9ab94346439a88aaa760044b8f",
       "version_major": 2,
       "version_minor": 0
      },
      "text/plain": [
       "  0%|          | 0/21600 [00:00<?, ?it/s]"
      ]
     },
     "metadata": {},
     "output_type": "display_data"
    },
    {
     "name": "stdout",
     "output_type": "stream",
     "text": [
      "\n",
      "=== Fold 4 ===\n"
     ]
    },
    {
     "data": {
      "application/vnd.jupyter.widget-view+json": {
       "model_id": "e40b951e6c7f447d95a9015f3aef6921",
       "version_major": 2,
       "version_minor": 0
      },
      "text/plain": [
       "  0%|          | 0/21600 [00:00<?, ?it/s]"
      ]
     },
     "metadata": {},
     "output_type": "display_data"
    },
    {
     "data": {
      "application/vnd.jupyter.widget-view+json": {
       "model_id": "87fa02dc0ce745a3846e9dc659c546f2",
       "version_major": 2,
       "version_minor": 0
      },
      "text/plain": [
       "  0%|          | 0/21600 [00:00<?, ?it/s]"
      ]
     },
     "metadata": {},
     "output_type": "display_data"
    },
    {
     "data": {
      "application/vnd.jupyter.widget-view+json": {
       "model_id": "56a3411877cb4cdcb4f41d1e9f1710ab",
       "version_major": 2,
       "version_minor": 0
      },
      "text/plain": [
       "  0%|          | 0/21600 [00:00<?, ?it/s]"
      ]
     },
     "metadata": {},
     "output_type": "display_data"
    },
    {
     "data": {
      "application/vnd.jupyter.widget-view+json": {
       "model_id": "f8a5e7cedcb74d7c853d3637710012e2",
       "version_major": 2,
       "version_minor": 0
      },
      "text/plain": [
       "  0%|          | 0/21600 [00:00<?, ?it/s]"
      ]
     },
     "metadata": {},
     "output_type": "display_data"
    },
    {
     "data": {
      "application/vnd.jupyter.widget-view+json": {
       "model_id": "f4f5841b5e5a4f5b9270d73d61716c30",
       "version_major": 2,
       "version_minor": 0
      },
      "text/plain": [
       "  0%|          | 0/21600 [00:00<?, ?it/s]"
      ]
     },
     "metadata": {},
     "output_type": "display_data"
    },
    {
     "name": "stdout",
     "output_type": "stream",
     "text": [
      "Avg Validation Loss: 0.1647\n",
      "Testing: LR=0.005, WD=0.0001, DR=0.3\n",
      "\n",
      "=== Fold 1 ===\n"
     ]
    },
    {
     "data": {
      "application/vnd.jupyter.widget-view+json": {
       "model_id": "88e8fdebe127409d9f2e9fb326af8243",
       "version_major": 2,
       "version_minor": 0
      },
      "text/plain": [
       "  0%|          | 0/21600 [00:00<?, ?it/s]"
      ]
     },
     "metadata": {},
     "output_type": "display_data"
    },
    {
     "data": {
      "application/vnd.jupyter.widget-view+json": {
       "model_id": "2e99e8dd3da34fbf8e4a4e20da48feee",
       "version_major": 2,
       "version_minor": 0
      },
      "text/plain": [
       "  0%|          | 0/21600 [00:00<?, ?it/s]"
      ]
     },
     "metadata": {},
     "output_type": "display_data"
    },
    {
     "data": {
      "application/vnd.jupyter.widget-view+json": {
       "model_id": "010159c501a740559e45cf0187ce52c1",
       "version_major": 2,
       "version_minor": 0
      },
      "text/plain": [
       "  0%|          | 0/21600 [00:00<?, ?it/s]"
      ]
     },
     "metadata": {},
     "output_type": "display_data"
    },
    {
     "data": {
      "application/vnd.jupyter.widget-view+json": {
       "model_id": "a183e9f60b9f4ed8b57ae9780c8da0ea",
       "version_major": 2,
       "version_minor": 0
      },
      "text/plain": [
       "  0%|          | 0/21600 [00:00<?, ?it/s]"
      ]
     },
     "metadata": {},
     "output_type": "display_data"
    },
    {
     "data": {
      "application/vnd.jupyter.widget-view+json": {
       "model_id": "98adcd6f62604ee7b555bb56551e4383",
       "version_major": 2,
       "version_minor": 0
      },
      "text/plain": [
       "  0%|          | 0/21600 [00:00<?, ?it/s]"
      ]
     },
     "metadata": {},
     "output_type": "display_data"
    },
    {
     "name": "stdout",
     "output_type": "stream",
     "text": [
      "\n",
      "=== Fold 2 ===\n"
     ]
    },
    {
     "data": {
      "application/vnd.jupyter.widget-view+json": {
       "model_id": "767fcab45e26416fa50bdc9070722773",
       "version_major": 2,
       "version_minor": 0
      },
      "text/plain": [
       "  0%|          | 0/21600 [00:00<?, ?it/s]"
      ]
     },
     "metadata": {},
     "output_type": "display_data"
    },
    {
     "data": {
      "application/vnd.jupyter.widget-view+json": {
       "model_id": "0d86da8d4c464c5ab60ceefc38065947",
       "version_major": 2,
       "version_minor": 0
      },
      "text/plain": [
       "  0%|          | 0/21600 [00:00<?, ?it/s]"
      ]
     },
     "metadata": {},
     "output_type": "display_data"
    },
    {
     "data": {
      "application/vnd.jupyter.widget-view+json": {
       "model_id": "ca203d3b1cd244f3bbecb407d6b69aa7",
       "version_major": 2,
       "version_minor": 0
      },
      "text/plain": [
       "  0%|          | 0/21600 [00:00<?, ?it/s]"
      ]
     },
     "metadata": {},
     "output_type": "display_data"
    },
    {
     "data": {
      "application/vnd.jupyter.widget-view+json": {
       "model_id": "7941120f5a0145f8970b9579b95db854",
       "version_major": 2,
       "version_minor": 0
      },
      "text/plain": [
       "  0%|          | 0/21600 [00:00<?, ?it/s]"
      ]
     },
     "metadata": {},
     "output_type": "display_data"
    },
    {
     "data": {
      "application/vnd.jupyter.widget-view+json": {
       "model_id": "46d578bd336e4c298ee64a4065951f3c",
       "version_major": 2,
       "version_minor": 0
      },
      "text/plain": [
       "  0%|          | 0/21600 [00:00<?, ?it/s]"
      ]
     },
     "metadata": {},
     "output_type": "display_data"
    },
    {
     "name": "stdout",
     "output_type": "stream",
     "text": [
      "\n",
      "=== Fold 3 ===\n"
     ]
    },
    {
     "data": {
      "application/vnd.jupyter.widget-view+json": {
       "model_id": "88e51824190d45f2a457b50a34b15af7",
       "version_major": 2,
       "version_minor": 0
      },
      "text/plain": [
       "  0%|          | 0/21600 [00:00<?, ?it/s]"
      ]
     },
     "metadata": {},
     "output_type": "display_data"
    },
    {
     "data": {
      "application/vnd.jupyter.widget-view+json": {
       "model_id": "754a56721664422b8279f0158aa384eb",
       "version_major": 2,
       "version_minor": 0
      },
      "text/plain": [
       "  0%|          | 0/21600 [00:00<?, ?it/s]"
      ]
     },
     "metadata": {},
     "output_type": "display_data"
    },
    {
     "data": {
      "application/vnd.jupyter.widget-view+json": {
       "model_id": "e6debb5e582c4cbdb44b79e1abc89e8a",
       "version_major": 2,
       "version_minor": 0
      },
      "text/plain": [
       "  0%|          | 0/21600 [00:00<?, ?it/s]"
      ]
     },
     "metadata": {},
     "output_type": "display_data"
    },
    {
     "data": {
      "application/vnd.jupyter.widget-view+json": {
       "model_id": "49dff0614d5d44d197decf30b179cf0b",
       "version_major": 2,
       "version_minor": 0
      },
      "text/plain": [
       "  0%|          | 0/21600 [00:00<?, ?it/s]"
      ]
     },
     "metadata": {},
     "output_type": "display_data"
    },
    {
     "data": {
      "application/vnd.jupyter.widget-view+json": {
       "model_id": "5fe6902daeeb4c6cb7c91986a7127bdf",
       "version_major": 2,
       "version_minor": 0
      },
      "text/plain": [
       "  0%|          | 0/21600 [00:00<?, ?it/s]"
      ]
     },
     "metadata": {},
     "output_type": "display_data"
    },
    {
     "name": "stdout",
     "output_type": "stream",
     "text": [
      "\n",
      "=== Fold 4 ===\n"
     ]
    },
    {
     "data": {
      "application/vnd.jupyter.widget-view+json": {
       "model_id": "696faef25be240e99856f68eb9b6a04a",
       "version_major": 2,
       "version_minor": 0
      },
      "text/plain": [
       "  0%|          | 0/21600 [00:00<?, ?it/s]"
      ]
     },
     "metadata": {},
     "output_type": "display_data"
    },
    {
     "data": {
      "application/vnd.jupyter.widget-view+json": {
       "model_id": "c81529cac17f410db5e6c0ef2c6dd11f",
       "version_major": 2,
       "version_minor": 0
      },
      "text/plain": [
       "  0%|          | 0/21600 [00:00<?, ?it/s]"
      ]
     },
     "metadata": {},
     "output_type": "display_data"
    },
    {
     "data": {
      "application/vnd.jupyter.widget-view+json": {
       "model_id": "9353526f7935443c9a2940ffdbe9e077",
       "version_major": 2,
       "version_minor": 0
      },
      "text/plain": [
       "  0%|          | 0/21600 [00:00<?, ?it/s]"
      ]
     },
     "metadata": {},
     "output_type": "display_data"
    },
    {
     "data": {
      "application/vnd.jupyter.widget-view+json": {
       "model_id": "03b3690569824b64a39d8ef38bf031b4",
       "version_major": 2,
       "version_minor": 0
      },
      "text/plain": [
       "  0%|          | 0/21600 [00:00<?, ?it/s]"
      ]
     },
     "metadata": {},
     "output_type": "display_data"
    },
    {
     "data": {
      "application/vnd.jupyter.widget-view+json": {
       "model_id": "bb953da3873b4d38b4845002dbd72482",
       "version_major": 2,
       "version_minor": 0
      },
      "text/plain": [
       "  0%|          | 0/21600 [00:00<?, ?it/s]"
      ]
     },
     "metadata": {},
     "output_type": "display_data"
    },
    {
     "name": "stdout",
     "output_type": "stream",
     "text": [
      "Avg Validation Loss: 0.1727\n",
      "Testing: LR=0.01, WD=0.0001, DR=0.3\n",
      "\n",
      "=== Fold 1 ===\n"
     ]
    },
    {
     "data": {
      "application/vnd.jupyter.widget-view+json": {
       "model_id": "21ff5fdd6a4d4a0e9d3aef04aa4079c3",
       "version_major": 2,
       "version_minor": 0
      },
      "text/plain": [
       "  0%|          | 0/21600 [00:00<?, ?it/s]"
      ]
     },
     "metadata": {},
     "output_type": "display_data"
    },
    {
     "data": {
      "application/vnd.jupyter.widget-view+json": {
       "model_id": "72730761f6ec46dc988018d058761606",
       "version_major": 2,
       "version_minor": 0
      },
      "text/plain": [
       "  0%|          | 0/21600 [00:00<?, ?it/s]"
      ]
     },
     "metadata": {},
     "output_type": "display_data"
    },
    {
     "data": {
      "application/vnd.jupyter.widget-view+json": {
       "model_id": "0ca7a8b8bd2d4f55bfe8a9560796de9b",
       "version_major": 2,
       "version_minor": 0
      },
      "text/plain": [
       "  0%|          | 0/21600 [00:00<?, ?it/s]"
      ]
     },
     "metadata": {},
     "output_type": "display_data"
    },
    {
     "data": {
      "application/vnd.jupyter.widget-view+json": {
       "model_id": "099cb87579df4e9c9aa0a814fa95b7d5",
       "version_major": 2,
       "version_minor": 0
      },
      "text/plain": [
       "  0%|          | 0/21600 [00:00<?, ?it/s]"
      ]
     },
     "metadata": {},
     "output_type": "display_data"
    },
    {
     "data": {
      "application/vnd.jupyter.widget-view+json": {
       "model_id": "7f00abad2d2d45e2a671597750d0a30f",
       "version_major": 2,
       "version_minor": 0
      },
      "text/plain": [
       "  0%|          | 0/21600 [00:00<?, ?it/s]"
      ]
     },
     "metadata": {},
     "output_type": "display_data"
    },
    {
     "name": "stdout",
     "output_type": "stream",
     "text": [
      "\n",
      "=== Fold 2 ===\n"
     ]
    },
    {
     "data": {
      "application/vnd.jupyter.widget-view+json": {
       "model_id": "f8c3d68dfeff4f9d8807358f89cc2423",
       "version_major": 2,
       "version_minor": 0
      },
      "text/plain": [
       "  0%|          | 0/21600 [00:00<?, ?it/s]"
      ]
     },
     "metadata": {},
     "output_type": "display_data"
    },
    {
     "data": {
      "application/vnd.jupyter.widget-view+json": {
       "model_id": "94ab41f8b15f4161860b4765c363bd6c",
       "version_major": 2,
       "version_minor": 0
      },
      "text/plain": [
       "  0%|          | 0/21600 [00:00<?, ?it/s]"
      ]
     },
     "metadata": {},
     "output_type": "display_data"
    },
    {
     "data": {
      "application/vnd.jupyter.widget-view+json": {
       "model_id": "b2b0d21edaf5435cb9ad54670baaeb5c",
       "version_major": 2,
       "version_minor": 0
      },
      "text/plain": [
       "  0%|          | 0/21600 [00:00<?, ?it/s]"
      ]
     },
     "metadata": {},
     "output_type": "display_data"
    },
    {
     "data": {
      "application/vnd.jupyter.widget-view+json": {
       "model_id": "38dc318dce9442479688abbeb6a222d6",
       "version_major": 2,
       "version_minor": 0
      },
      "text/plain": [
       "  0%|          | 0/21600 [00:00<?, ?it/s]"
      ]
     },
     "metadata": {},
     "output_type": "display_data"
    },
    {
     "data": {
      "application/vnd.jupyter.widget-view+json": {
       "model_id": "62d7a4a02b8d449fbbc1b8b9be1ba860",
       "version_major": 2,
       "version_minor": 0
      },
      "text/plain": [
       "  0%|          | 0/21600 [00:00<?, ?it/s]"
      ]
     },
     "metadata": {},
     "output_type": "display_data"
    },
    {
     "name": "stdout",
     "output_type": "stream",
     "text": [
      "\n",
      "=== Fold 3 ===\n"
     ]
    },
    {
     "data": {
      "application/vnd.jupyter.widget-view+json": {
       "model_id": "bea22d2131934a8f89cf314c8a69179a",
       "version_major": 2,
       "version_minor": 0
      },
      "text/plain": [
       "  0%|          | 0/21600 [00:00<?, ?it/s]"
      ]
     },
     "metadata": {},
     "output_type": "display_data"
    },
    {
     "data": {
      "application/vnd.jupyter.widget-view+json": {
       "model_id": "499c651051be4014945fac46f8a97e84",
       "version_major": 2,
       "version_minor": 0
      },
      "text/plain": [
       "  0%|          | 0/21600 [00:00<?, ?it/s]"
      ]
     },
     "metadata": {},
     "output_type": "display_data"
    },
    {
     "data": {
      "application/vnd.jupyter.widget-view+json": {
       "model_id": "70a7004d3e4c497993b658c95db42826",
       "version_major": 2,
       "version_minor": 0
      },
      "text/plain": [
       "  0%|          | 0/21600 [00:00<?, ?it/s]"
      ]
     },
     "metadata": {},
     "output_type": "display_data"
    },
    {
     "data": {
      "application/vnd.jupyter.widget-view+json": {
       "model_id": "0a9266a91a024332acb80c82c4706668",
       "version_major": 2,
       "version_minor": 0
      },
      "text/plain": [
       "  0%|          | 0/21600 [00:00<?, ?it/s]"
      ]
     },
     "metadata": {},
     "output_type": "display_data"
    },
    {
     "data": {
      "application/vnd.jupyter.widget-view+json": {
       "model_id": "77cf04a622aa4754bc4b4e3c45bfbdf5",
       "version_major": 2,
       "version_minor": 0
      },
      "text/plain": [
       "  0%|          | 0/21600 [00:00<?, ?it/s]"
      ]
     },
     "metadata": {},
     "output_type": "display_data"
    },
    {
     "name": "stdout",
     "output_type": "stream",
     "text": [
      "\n",
      "=== Fold 4 ===\n"
     ]
    },
    {
     "data": {
      "application/vnd.jupyter.widget-view+json": {
       "model_id": "21f90e572cfd4c2081d31b115d22633d",
       "version_major": 2,
       "version_minor": 0
      },
      "text/plain": [
       "  0%|          | 0/21600 [00:00<?, ?it/s]"
      ]
     },
     "metadata": {},
     "output_type": "display_data"
    },
    {
     "data": {
      "application/vnd.jupyter.widget-view+json": {
       "model_id": "d11e8f2d898e4ab6a02df210e4f2abeb",
       "version_major": 2,
       "version_minor": 0
      },
      "text/plain": [
       "  0%|          | 0/21600 [00:00<?, ?it/s]"
      ]
     },
     "metadata": {},
     "output_type": "display_data"
    },
    {
     "data": {
      "application/vnd.jupyter.widget-view+json": {
       "model_id": "52f049bd808a43d5b165d02ee4251edd",
       "version_major": 2,
       "version_minor": 0
      },
      "text/plain": [
       "  0%|          | 0/21600 [00:00<?, ?it/s]"
      ]
     },
     "metadata": {},
     "output_type": "display_data"
    },
    {
     "data": {
      "application/vnd.jupyter.widget-view+json": {
       "model_id": "e27fbed795164aea93e1615cb14837f6",
       "version_major": 2,
       "version_minor": 0
      },
      "text/plain": [
       "  0%|          | 0/21600 [00:00<?, ?it/s]"
      ]
     },
     "metadata": {},
     "output_type": "display_data"
    },
    {
     "data": {
      "application/vnd.jupyter.widget-view+json": {
       "model_id": "e0ed136cd1224c209e7cdbb7f0e97f1a",
       "version_major": 2,
       "version_minor": 0
      },
      "text/plain": [
       "  0%|          | 0/21600 [00:00<?, ?it/s]"
      ]
     },
     "metadata": {},
     "output_type": "display_data"
    },
    {
     "name": "stdout",
     "output_type": "stream",
     "text": [
      "Avg Validation Loss: 0.2952\n",
      "Testing: LR=0.001, WD=0.001, DR=0.1\n",
      "\n",
      "=== Fold 1 ===\n"
     ]
    },
    {
     "data": {
      "application/vnd.jupyter.widget-view+json": {
       "model_id": "519f44b926cd4c14b2b01091929adf8b",
       "version_major": 2,
       "version_minor": 0
      },
      "text/plain": [
       "  0%|          | 0/21600 [00:00<?, ?it/s]"
      ]
     },
     "metadata": {},
     "output_type": "display_data"
    },
    {
     "data": {
      "application/vnd.jupyter.widget-view+json": {
       "model_id": "882d1ffa70ca4943972b8ac3fc14cf4b",
       "version_major": 2,
       "version_minor": 0
      },
      "text/plain": [
       "  0%|          | 0/21600 [00:00<?, ?it/s]"
      ]
     },
     "metadata": {},
     "output_type": "display_data"
    },
    {
     "data": {
      "application/vnd.jupyter.widget-view+json": {
       "model_id": "f7a597b8b6724029831824878f4f21f0",
       "version_major": 2,
       "version_minor": 0
      },
      "text/plain": [
       "  0%|          | 0/21600 [00:00<?, ?it/s]"
      ]
     },
     "metadata": {},
     "output_type": "display_data"
    },
    {
     "data": {
      "application/vnd.jupyter.widget-view+json": {
       "model_id": "fa8a2c2224fd4e5abcb5457d992694a6",
       "version_major": 2,
       "version_minor": 0
      },
      "text/plain": [
       "  0%|          | 0/21600 [00:00<?, ?it/s]"
      ]
     },
     "metadata": {},
     "output_type": "display_data"
    },
    {
     "data": {
      "application/vnd.jupyter.widget-view+json": {
       "model_id": "fd6cb9b89f804980aab62876c6ff7e44",
       "version_major": 2,
       "version_minor": 0
      },
      "text/plain": [
       "  0%|          | 0/21600 [00:00<?, ?it/s]"
      ]
     },
     "metadata": {},
     "output_type": "display_data"
    },
    {
     "name": "stdout",
     "output_type": "stream",
     "text": [
      "\n",
      "=== Fold 2 ===\n"
     ]
    },
    {
     "data": {
      "application/vnd.jupyter.widget-view+json": {
       "model_id": "6962e4d7b5ea4639a0de29838c89ffa5",
       "version_major": 2,
       "version_minor": 0
      },
      "text/plain": [
       "  0%|          | 0/21600 [00:00<?, ?it/s]"
      ]
     },
     "metadata": {},
     "output_type": "display_data"
    },
    {
     "data": {
      "application/vnd.jupyter.widget-view+json": {
       "model_id": "226edf9e5f284c1593d7ca306d357136",
       "version_major": 2,
       "version_minor": 0
      },
      "text/plain": [
       "  0%|          | 0/21600 [00:00<?, ?it/s]"
      ]
     },
     "metadata": {},
     "output_type": "display_data"
    },
    {
     "data": {
      "application/vnd.jupyter.widget-view+json": {
       "model_id": "a7d6b0180c8a44318ecd69a53caefafe",
       "version_major": 2,
       "version_minor": 0
      },
      "text/plain": [
       "  0%|          | 0/21600 [00:00<?, ?it/s]"
      ]
     },
     "metadata": {},
     "output_type": "display_data"
    },
    {
     "data": {
      "application/vnd.jupyter.widget-view+json": {
       "model_id": "3f2fc685da004a759a756c1d6cdf6647",
       "version_major": 2,
       "version_minor": 0
      },
      "text/plain": [
       "  0%|          | 0/21600 [00:00<?, ?it/s]"
      ]
     },
     "metadata": {},
     "output_type": "display_data"
    },
    {
     "data": {
      "application/vnd.jupyter.widget-view+json": {
       "model_id": "00e3d483e7b14082855c9b986ffb3d93",
       "version_major": 2,
       "version_minor": 0
      },
      "text/plain": [
       "  0%|          | 0/21600 [00:00<?, ?it/s]"
      ]
     },
     "metadata": {},
     "output_type": "display_data"
    },
    {
     "name": "stdout",
     "output_type": "stream",
     "text": [
      "\n",
      "=== Fold 3 ===\n"
     ]
    },
    {
     "data": {
      "application/vnd.jupyter.widget-view+json": {
       "model_id": "2982b98ce6dc426c9aa7eeb88e031643",
       "version_major": 2,
       "version_minor": 0
      },
      "text/plain": [
       "  0%|          | 0/21600 [00:00<?, ?it/s]"
      ]
     },
     "metadata": {},
     "output_type": "display_data"
    },
    {
     "data": {
      "application/vnd.jupyter.widget-view+json": {
       "model_id": "e874cc8e0e4143199ccc94be9cf265f4",
       "version_major": 2,
       "version_minor": 0
      },
      "text/plain": [
       "  0%|          | 0/21600 [00:00<?, ?it/s]"
      ]
     },
     "metadata": {},
     "output_type": "display_data"
    },
    {
     "data": {
      "application/vnd.jupyter.widget-view+json": {
       "model_id": "0b4086c5367248dda5b56d20b74895d5",
       "version_major": 2,
       "version_minor": 0
      },
      "text/plain": [
       "  0%|          | 0/21600 [00:00<?, ?it/s]"
      ]
     },
     "metadata": {},
     "output_type": "display_data"
    },
    {
     "data": {
      "application/vnd.jupyter.widget-view+json": {
       "model_id": "a952c281035f41a192c32dcfd2085535",
       "version_major": 2,
       "version_minor": 0
      },
      "text/plain": [
       "  0%|          | 0/21600 [00:00<?, ?it/s]"
      ]
     },
     "metadata": {},
     "output_type": "display_data"
    },
    {
     "data": {
      "application/vnd.jupyter.widget-view+json": {
       "model_id": "58d9a7ef661d4eaa8e336f41fdda6402",
       "version_major": 2,
       "version_minor": 0
      },
      "text/plain": [
       "  0%|          | 0/21600 [00:00<?, ?it/s]"
      ]
     },
     "metadata": {},
     "output_type": "display_data"
    },
    {
     "name": "stdout",
     "output_type": "stream",
     "text": [
      "\n",
      "=== Fold 4 ===\n"
     ]
    },
    {
     "data": {
      "application/vnd.jupyter.widget-view+json": {
       "model_id": "8bcca8a1809743a0be763ae0cc15f5b1",
       "version_major": 2,
       "version_minor": 0
      },
      "text/plain": [
       "  0%|          | 0/21600 [00:00<?, ?it/s]"
      ]
     },
     "metadata": {},
     "output_type": "display_data"
    },
    {
     "data": {
      "application/vnd.jupyter.widget-view+json": {
       "model_id": "65667469cc7c4173ab3438066303c719",
       "version_major": 2,
       "version_minor": 0
      },
      "text/plain": [
       "  0%|          | 0/21600 [00:00<?, ?it/s]"
      ]
     },
     "metadata": {},
     "output_type": "display_data"
    },
    {
     "data": {
      "application/vnd.jupyter.widget-view+json": {
       "model_id": "20e407dca02a4079a8300f0281fd8b12",
       "version_major": 2,
       "version_minor": 0
      },
      "text/plain": [
       "  0%|          | 0/21600 [00:00<?, ?it/s]"
      ]
     },
     "metadata": {},
     "output_type": "display_data"
    },
    {
     "data": {
      "application/vnd.jupyter.widget-view+json": {
       "model_id": "ef8cfcad08ea48a0a23de7e4a79a0c7f",
       "version_major": 2,
       "version_minor": 0
      },
      "text/plain": [
       "  0%|          | 0/21600 [00:00<?, ?it/s]"
      ]
     },
     "metadata": {},
     "output_type": "display_data"
    },
    {
     "data": {
      "application/vnd.jupyter.widget-view+json": {
       "model_id": "a088db6dfcc54f0c84df1c385233530f",
       "version_major": 2,
       "version_minor": 0
      },
      "text/plain": [
       "  0%|          | 0/21600 [00:00<?, ?it/s]"
      ]
     },
     "metadata": {},
     "output_type": "display_data"
    },
    {
     "name": "stdout",
     "output_type": "stream",
     "text": [
      "Avg Validation Loss: 0.2292\n",
      "Testing: LR=0.005, WD=0.001, DR=0.1\n",
      "\n",
      "=== Fold 1 ===\n"
     ]
    },
    {
     "data": {
      "application/vnd.jupyter.widget-view+json": {
       "model_id": "67bc013d6ce0463abbcadca20bc7657a",
       "version_major": 2,
       "version_minor": 0
      },
      "text/plain": [
       "  0%|          | 0/21600 [00:00<?, ?it/s]"
      ]
     },
     "metadata": {},
     "output_type": "display_data"
    },
    {
     "data": {
      "application/vnd.jupyter.widget-view+json": {
       "model_id": "1a173ad958784dac9d397a8ed5b61904",
       "version_major": 2,
       "version_minor": 0
      },
      "text/plain": [
       "  0%|          | 0/21600 [00:00<?, ?it/s]"
      ]
     },
     "metadata": {},
     "output_type": "display_data"
    },
    {
     "data": {
      "application/vnd.jupyter.widget-view+json": {
       "model_id": "279f26af5b2d46198a04c2e40868680c",
       "version_major": 2,
       "version_minor": 0
      },
      "text/plain": [
       "  0%|          | 0/21600 [00:00<?, ?it/s]"
      ]
     },
     "metadata": {},
     "output_type": "display_data"
    },
    {
     "data": {
      "application/vnd.jupyter.widget-view+json": {
       "model_id": "fef1e05341754da38436ef30fb2efa10",
       "version_major": 2,
       "version_minor": 0
      },
      "text/plain": [
       "  0%|          | 0/21600 [00:00<?, ?it/s]"
      ]
     },
     "metadata": {},
     "output_type": "display_data"
    },
    {
     "data": {
      "application/vnd.jupyter.widget-view+json": {
       "model_id": "169b4af24b60465ea16cddbb98e19317",
       "version_major": 2,
       "version_minor": 0
      },
      "text/plain": [
       "  0%|          | 0/21600 [00:00<?, ?it/s]"
      ]
     },
     "metadata": {},
     "output_type": "display_data"
    },
    {
     "name": "stdout",
     "output_type": "stream",
     "text": [
      "\n",
      "=== Fold 2 ===\n"
     ]
    },
    {
     "data": {
      "application/vnd.jupyter.widget-view+json": {
       "model_id": "669081fde0ab41fba1fd16229e9bc5e5",
       "version_major": 2,
       "version_minor": 0
      },
      "text/plain": [
       "  0%|          | 0/21600 [00:00<?, ?it/s]"
      ]
     },
     "metadata": {},
     "output_type": "display_data"
    },
    {
     "data": {
      "application/vnd.jupyter.widget-view+json": {
       "model_id": "86649b64c2b2431ea674471abe9a80fb",
       "version_major": 2,
       "version_minor": 0
      },
      "text/plain": [
       "  0%|          | 0/21600 [00:00<?, ?it/s]"
      ]
     },
     "metadata": {},
     "output_type": "display_data"
    },
    {
     "data": {
      "application/vnd.jupyter.widget-view+json": {
       "model_id": "00075c80f5bc4a7fa4eed72de2ede616",
       "version_major": 2,
       "version_minor": 0
      },
      "text/plain": [
       "  0%|          | 0/21600 [00:00<?, ?it/s]"
      ]
     },
     "metadata": {},
     "output_type": "display_data"
    },
    {
     "data": {
      "application/vnd.jupyter.widget-view+json": {
       "model_id": "290cccff32294afb9b1e3e5839625f55",
       "version_major": 2,
       "version_minor": 0
      },
      "text/plain": [
       "  0%|          | 0/21600 [00:00<?, ?it/s]"
      ]
     },
     "metadata": {},
     "output_type": "display_data"
    },
    {
     "data": {
      "application/vnd.jupyter.widget-view+json": {
       "model_id": "3ca353f29e7b4eaeb137c0de89755c44",
       "version_major": 2,
       "version_minor": 0
      },
      "text/plain": [
       "  0%|          | 0/21600 [00:00<?, ?it/s]"
      ]
     },
     "metadata": {},
     "output_type": "display_data"
    },
    {
     "name": "stdout",
     "output_type": "stream",
     "text": [
      "\n",
      "=== Fold 3 ===\n"
     ]
    },
    {
     "data": {
      "application/vnd.jupyter.widget-view+json": {
       "model_id": "b98a1c74ba2e47ef9775657b1bd051d3",
       "version_major": 2,
       "version_minor": 0
      },
      "text/plain": [
       "  0%|          | 0/21600 [00:00<?, ?it/s]"
      ]
     },
     "metadata": {},
     "output_type": "display_data"
    },
    {
     "data": {
      "application/vnd.jupyter.widget-view+json": {
       "model_id": "c60b851711ee4fd888857e5e31037539",
       "version_major": 2,
       "version_minor": 0
      },
      "text/plain": [
       "  0%|          | 0/21600 [00:00<?, ?it/s]"
      ]
     },
     "metadata": {},
     "output_type": "display_data"
    },
    {
     "data": {
      "application/vnd.jupyter.widget-view+json": {
       "model_id": "034a577f076249b7ac1515a9ad170334",
       "version_major": 2,
       "version_minor": 0
      },
      "text/plain": [
       "  0%|          | 0/21600 [00:00<?, ?it/s]"
      ]
     },
     "metadata": {},
     "output_type": "display_data"
    },
    {
     "data": {
      "application/vnd.jupyter.widget-view+json": {
       "model_id": "d37bb8b16e4742bb9ff3ca8fa45fc489",
       "version_major": 2,
       "version_minor": 0
      },
      "text/plain": [
       "  0%|          | 0/21600 [00:00<?, ?it/s]"
      ]
     },
     "metadata": {},
     "output_type": "display_data"
    },
    {
     "data": {
      "application/vnd.jupyter.widget-view+json": {
       "model_id": "cf63e8bf9ef945889b0b7a8b4c776088",
       "version_major": 2,
       "version_minor": 0
      },
      "text/plain": [
       "  0%|          | 0/21600 [00:00<?, ?it/s]"
      ]
     },
     "metadata": {},
     "output_type": "display_data"
    },
    {
     "name": "stdout",
     "output_type": "stream",
     "text": [
      "\n",
      "=== Fold 4 ===\n"
     ]
    },
    {
     "data": {
      "application/vnd.jupyter.widget-view+json": {
       "model_id": "ae0dd24bdad648918dc5518c24930567",
       "version_major": 2,
       "version_minor": 0
      },
      "text/plain": [
       "  0%|          | 0/21600 [00:00<?, ?it/s]"
      ]
     },
     "metadata": {},
     "output_type": "display_data"
    },
    {
     "data": {
      "application/vnd.jupyter.widget-view+json": {
       "model_id": "7df6e780ea604141afae00c05c352460",
       "version_major": 2,
       "version_minor": 0
      },
      "text/plain": [
       "  0%|          | 0/21600 [00:00<?, ?it/s]"
      ]
     },
     "metadata": {},
     "output_type": "display_data"
    },
    {
     "data": {
      "application/vnd.jupyter.widget-view+json": {
       "model_id": "0a09b9406a784eafb0f389cf0de5c801",
       "version_major": 2,
       "version_minor": 0
      },
      "text/plain": [
       "  0%|          | 0/21600 [00:00<?, ?it/s]"
      ]
     },
     "metadata": {},
     "output_type": "display_data"
    },
    {
     "data": {
      "application/vnd.jupyter.widget-view+json": {
       "model_id": "42deef93ab3b47029f7beb16a6d227be",
       "version_major": 2,
       "version_minor": 0
      },
      "text/plain": [
       "  0%|          | 0/21600 [00:00<?, ?it/s]"
      ]
     },
     "metadata": {},
     "output_type": "display_data"
    },
    {
     "data": {
      "application/vnd.jupyter.widget-view+json": {
       "model_id": "0035e9b5f9ed40babe4043839cd9e024",
       "version_major": 2,
       "version_minor": 0
      },
      "text/plain": [
       "  0%|          | 0/21600 [00:00<?, ?it/s]"
      ]
     },
     "metadata": {},
     "output_type": "display_data"
    },
    {
     "name": "stdout",
     "output_type": "stream",
     "text": [
      "Avg Validation Loss: 0.1957\n",
      "Testing: LR=0.01, WD=0.001, DR=0.1\n",
      "\n",
      "=== Fold 1 ===\n"
     ]
    },
    {
     "data": {
      "application/vnd.jupyter.widget-view+json": {
       "model_id": "7666044ac24f4ec8a1a2e72b3e564b49",
       "version_major": 2,
       "version_minor": 0
      },
      "text/plain": [
       "  0%|          | 0/21600 [00:00<?, ?it/s]"
      ]
     },
     "metadata": {},
     "output_type": "display_data"
    },
    {
     "data": {
      "application/vnd.jupyter.widget-view+json": {
       "model_id": "3c1dbd252aa646b4983a9a554ccba2d8",
       "version_major": 2,
       "version_minor": 0
      },
      "text/plain": [
       "  0%|          | 0/21600 [00:00<?, ?it/s]"
      ]
     },
     "metadata": {},
     "output_type": "display_data"
    },
    {
     "data": {
      "application/vnd.jupyter.widget-view+json": {
       "model_id": "ba1dbd08005c4751839bb5351aed44d8",
       "version_major": 2,
       "version_minor": 0
      },
      "text/plain": [
       "  0%|          | 0/21600 [00:00<?, ?it/s]"
      ]
     },
     "metadata": {},
     "output_type": "display_data"
    },
    {
     "data": {
      "application/vnd.jupyter.widget-view+json": {
       "model_id": "d9b05e1bf5c448dca4ed7e8bcec9155d",
       "version_major": 2,
       "version_minor": 0
      },
      "text/plain": [
       "  0%|          | 0/21600 [00:00<?, ?it/s]"
      ]
     },
     "metadata": {},
     "output_type": "display_data"
    },
    {
     "data": {
      "application/vnd.jupyter.widget-view+json": {
       "model_id": "8e87bed4fb134d8191a138362a512ed8",
       "version_major": 2,
       "version_minor": 0
      },
      "text/plain": [
       "  0%|          | 0/21600 [00:00<?, ?it/s]"
      ]
     },
     "metadata": {},
     "output_type": "display_data"
    },
    {
     "name": "stdout",
     "output_type": "stream",
     "text": [
      "\n",
      "=== Fold 2 ===\n"
     ]
    },
    {
     "data": {
      "application/vnd.jupyter.widget-view+json": {
       "model_id": "0de093a924594b45a9726080eb29f1c3",
       "version_major": 2,
       "version_minor": 0
      },
      "text/plain": [
       "  0%|          | 0/21600 [00:00<?, ?it/s]"
      ]
     },
     "metadata": {},
     "output_type": "display_data"
    },
    {
     "data": {
      "application/vnd.jupyter.widget-view+json": {
       "model_id": "8984a8fefa39497491fd41efe715f9d2",
       "version_major": 2,
       "version_minor": 0
      },
      "text/plain": [
       "  0%|          | 0/21600 [00:00<?, ?it/s]"
      ]
     },
     "metadata": {},
     "output_type": "display_data"
    },
    {
     "data": {
      "application/vnd.jupyter.widget-view+json": {
       "model_id": "b4649d32cb4d45dfa3c6f09b587b59b4",
       "version_major": 2,
       "version_minor": 0
      },
      "text/plain": [
       "  0%|          | 0/21600 [00:00<?, ?it/s]"
      ]
     },
     "metadata": {},
     "output_type": "display_data"
    },
    {
     "data": {
      "application/vnd.jupyter.widget-view+json": {
       "model_id": "c515e3b3cf1f47f28e6844def58e3e21",
       "version_major": 2,
       "version_minor": 0
      },
      "text/plain": [
       "  0%|          | 0/21600 [00:00<?, ?it/s]"
      ]
     },
     "metadata": {},
     "output_type": "display_data"
    },
    {
     "data": {
      "application/vnd.jupyter.widget-view+json": {
       "model_id": "e792628a75b64c94baf72db0fface738",
       "version_major": 2,
       "version_minor": 0
      },
      "text/plain": [
       "  0%|          | 0/21600 [00:00<?, ?it/s]"
      ]
     },
     "metadata": {},
     "output_type": "display_data"
    },
    {
     "name": "stdout",
     "output_type": "stream",
     "text": [
      "\n",
      "=== Fold 3 ===\n"
     ]
    },
    {
     "data": {
      "application/vnd.jupyter.widget-view+json": {
       "model_id": "e4ff0ace804647a88eea20971a765c03",
       "version_major": 2,
       "version_minor": 0
      },
      "text/plain": [
       "  0%|          | 0/21600 [00:00<?, ?it/s]"
      ]
     },
     "metadata": {},
     "output_type": "display_data"
    },
    {
     "data": {
      "application/vnd.jupyter.widget-view+json": {
       "model_id": "bce520d135c24da4b08c66a7f6d00779",
       "version_major": 2,
       "version_minor": 0
      },
      "text/plain": [
       "  0%|          | 0/21600 [00:00<?, ?it/s]"
      ]
     },
     "metadata": {},
     "output_type": "display_data"
    },
    {
     "data": {
      "application/vnd.jupyter.widget-view+json": {
       "model_id": "ad625ca7f05f4722a4680ebe6c725409",
       "version_major": 2,
       "version_minor": 0
      },
      "text/plain": [
       "  0%|          | 0/21600 [00:00<?, ?it/s]"
      ]
     },
     "metadata": {},
     "output_type": "display_data"
    },
    {
     "data": {
      "application/vnd.jupyter.widget-view+json": {
       "model_id": "cbf5a2bdaa19449cbef0bc132a0ae8f0",
       "version_major": 2,
       "version_minor": 0
      },
      "text/plain": [
       "  0%|          | 0/21600 [00:00<?, ?it/s]"
      ]
     },
     "metadata": {},
     "output_type": "display_data"
    },
    {
     "data": {
      "application/vnd.jupyter.widget-view+json": {
       "model_id": "fc3e4578128f4d2e881364dc76dbd317",
       "version_major": 2,
       "version_minor": 0
      },
      "text/plain": [
       "  0%|          | 0/21600 [00:00<?, ?it/s]"
      ]
     },
     "metadata": {},
     "output_type": "display_data"
    },
    {
     "name": "stdout",
     "output_type": "stream",
     "text": [
      "\n",
      "=== Fold 4 ===\n"
     ]
    },
    {
     "data": {
      "application/vnd.jupyter.widget-view+json": {
       "model_id": "0dd33345ccfb431b936aa3830b3f2a5b",
       "version_major": 2,
       "version_minor": 0
      },
      "text/plain": [
       "  0%|          | 0/21600 [00:00<?, ?it/s]"
      ]
     },
     "metadata": {},
     "output_type": "display_data"
    },
    {
     "data": {
      "application/vnd.jupyter.widget-view+json": {
       "model_id": "6868709e468d40aa93292588f409adf6",
       "version_major": 2,
       "version_minor": 0
      },
      "text/plain": [
       "  0%|          | 0/21600 [00:00<?, ?it/s]"
      ]
     },
     "metadata": {},
     "output_type": "display_data"
    },
    {
     "data": {
      "application/vnd.jupyter.widget-view+json": {
       "model_id": "ca72bb44af0541d7b546f2060f7b7b44",
       "version_major": 2,
       "version_minor": 0
      },
      "text/plain": [
       "  0%|          | 0/21600 [00:00<?, ?it/s]"
      ]
     },
     "metadata": {},
     "output_type": "display_data"
    },
    {
     "data": {
      "application/vnd.jupyter.widget-view+json": {
       "model_id": "f623ac01a2f94a60a96ef7c32223f515",
       "version_major": 2,
       "version_minor": 0
      },
      "text/plain": [
       "  0%|          | 0/21600 [00:00<?, ?it/s]"
      ]
     },
     "metadata": {},
     "output_type": "display_data"
    },
    {
     "data": {
      "application/vnd.jupyter.widget-view+json": {
       "model_id": "86669cccf29c4f5d95efa4e1182bfb66",
       "version_major": 2,
       "version_minor": 0
      },
      "text/plain": [
       "  0%|          | 0/21600 [00:00<?, ?it/s]"
      ]
     },
     "metadata": {},
     "output_type": "display_data"
    },
    {
     "name": "stdout",
     "output_type": "stream",
     "text": [
      "Avg Validation Loss: 0.2709\n",
      "Testing: LR=0.001, WD=0.001, DR=0.2\n",
      "\n",
      "=== Fold 1 ===\n"
     ]
    },
    {
     "data": {
      "application/vnd.jupyter.widget-view+json": {
       "model_id": "3cc94115f35048258e5e4cb47f12defe",
       "version_major": 2,
       "version_minor": 0
      },
      "text/plain": [
       "  0%|          | 0/21600 [00:00<?, ?it/s]"
      ]
     },
     "metadata": {},
     "output_type": "display_data"
    },
    {
     "data": {
      "application/vnd.jupyter.widget-view+json": {
       "model_id": "e71a65cf1140495ca5a431aa0b83d2a1",
       "version_major": 2,
       "version_minor": 0
      },
      "text/plain": [
       "  0%|          | 0/21600 [00:00<?, ?it/s]"
      ]
     },
     "metadata": {},
     "output_type": "display_data"
    },
    {
     "data": {
      "application/vnd.jupyter.widget-view+json": {
       "model_id": "2d49a009032e46e88679a68b5d3f4d64",
       "version_major": 2,
       "version_minor": 0
      },
      "text/plain": [
       "  0%|          | 0/21600 [00:00<?, ?it/s]"
      ]
     },
     "metadata": {},
     "output_type": "display_data"
    },
    {
     "data": {
      "application/vnd.jupyter.widget-view+json": {
       "model_id": "79b2c301f3294b73b49fd59c65180cff",
       "version_major": 2,
       "version_minor": 0
      },
      "text/plain": [
       "  0%|          | 0/21600 [00:00<?, ?it/s]"
      ]
     },
     "metadata": {},
     "output_type": "display_data"
    },
    {
     "data": {
      "application/vnd.jupyter.widget-view+json": {
       "model_id": "bd122d58fab1418cb7a5e1f24bb990ee",
       "version_major": 2,
       "version_minor": 0
      },
      "text/plain": [
       "  0%|          | 0/21600 [00:00<?, ?it/s]"
      ]
     },
     "metadata": {},
     "output_type": "display_data"
    },
    {
     "name": "stdout",
     "output_type": "stream",
     "text": [
      "\n",
      "=== Fold 2 ===\n"
     ]
    },
    {
     "data": {
      "application/vnd.jupyter.widget-view+json": {
       "model_id": "4fb4ff1cc998424cac8328aaed26a7ac",
       "version_major": 2,
       "version_minor": 0
      },
      "text/plain": [
       "  0%|          | 0/21600 [00:00<?, ?it/s]"
      ]
     },
     "metadata": {},
     "output_type": "display_data"
    },
    {
     "data": {
      "application/vnd.jupyter.widget-view+json": {
       "model_id": "19cbc3236a5842c88ab99b9642ee6e62",
       "version_major": 2,
       "version_minor": 0
      },
      "text/plain": [
       "  0%|          | 0/21600 [00:00<?, ?it/s]"
      ]
     },
     "metadata": {},
     "output_type": "display_data"
    },
    {
     "data": {
      "application/vnd.jupyter.widget-view+json": {
       "model_id": "c2d01853a3a44d9eacef32b4941591b8",
       "version_major": 2,
       "version_minor": 0
      },
      "text/plain": [
       "  0%|          | 0/21600 [00:00<?, ?it/s]"
      ]
     },
     "metadata": {},
     "output_type": "display_data"
    },
    {
     "data": {
      "application/vnd.jupyter.widget-view+json": {
       "model_id": "b646d890335d473fb2366e790f499a9c",
       "version_major": 2,
       "version_minor": 0
      },
      "text/plain": [
       "  0%|          | 0/21600 [00:00<?, ?it/s]"
      ]
     },
     "metadata": {},
     "output_type": "display_data"
    },
    {
     "data": {
      "application/vnd.jupyter.widget-view+json": {
       "model_id": "85921a7b58bd4d768b2687ee1b8c0303",
       "version_major": 2,
       "version_minor": 0
      },
      "text/plain": [
       "  0%|          | 0/21600 [00:00<?, ?it/s]"
      ]
     },
     "metadata": {},
     "output_type": "display_data"
    },
    {
     "name": "stdout",
     "output_type": "stream",
     "text": [
      "\n",
      "=== Fold 3 ===\n"
     ]
    },
    {
     "data": {
      "application/vnd.jupyter.widget-view+json": {
       "model_id": "691494d7d0b64fe89740c8877115abc2",
       "version_major": 2,
       "version_minor": 0
      },
      "text/plain": [
       "  0%|          | 0/21600 [00:00<?, ?it/s]"
      ]
     },
     "metadata": {},
     "output_type": "display_data"
    },
    {
     "data": {
      "application/vnd.jupyter.widget-view+json": {
       "model_id": "89799a40ba4d4d519de8a2af80080c2e",
       "version_major": 2,
       "version_minor": 0
      },
      "text/plain": [
       "  0%|          | 0/21600 [00:00<?, ?it/s]"
      ]
     },
     "metadata": {},
     "output_type": "display_data"
    },
    {
     "data": {
      "application/vnd.jupyter.widget-view+json": {
       "model_id": "13bd341a10684a0e962e7de4566b4ad0",
       "version_major": 2,
       "version_minor": 0
      },
      "text/plain": [
       "  0%|          | 0/21600 [00:00<?, ?it/s]"
      ]
     },
     "metadata": {},
     "output_type": "display_data"
    },
    {
     "data": {
      "application/vnd.jupyter.widget-view+json": {
       "model_id": "1bccd91e438a41ba9864a351c9e4542c",
       "version_major": 2,
       "version_minor": 0
      },
      "text/plain": [
       "  0%|          | 0/21600 [00:00<?, ?it/s]"
      ]
     },
     "metadata": {},
     "output_type": "display_data"
    },
    {
     "data": {
      "application/vnd.jupyter.widget-view+json": {
       "model_id": "464e230719e04ac99cccec52d81449b7",
       "version_major": 2,
       "version_minor": 0
      },
      "text/plain": [
       "  0%|          | 0/21600 [00:00<?, ?it/s]"
      ]
     },
     "metadata": {},
     "output_type": "display_data"
    },
    {
     "name": "stdout",
     "output_type": "stream",
     "text": [
      "\n",
      "=== Fold 4 ===\n"
     ]
    },
    {
     "data": {
      "application/vnd.jupyter.widget-view+json": {
       "model_id": "9a08eef294b94e90bbe57c30606a9c64",
       "version_major": 2,
       "version_minor": 0
      },
      "text/plain": [
       "  0%|          | 0/21600 [00:00<?, ?it/s]"
      ]
     },
     "metadata": {},
     "output_type": "display_data"
    },
    {
     "data": {
      "application/vnd.jupyter.widget-view+json": {
       "model_id": "6700fe5b90b34eaa92e7676a2a9890a4",
       "version_major": 2,
       "version_minor": 0
      },
      "text/plain": [
       "  0%|          | 0/21600 [00:00<?, ?it/s]"
      ]
     },
     "metadata": {},
     "output_type": "display_data"
    },
    {
     "data": {
      "application/vnd.jupyter.widget-view+json": {
       "model_id": "eb79dbf65f4047aca83699345b503230",
       "version_major": 2,
       "version_minor": 0
      },
      "text/plain": [
       "  0%|          | 0/21600 [00:00<?, ?it/s]"
      ]
     },
     "metadata": {},
     "output_type": "display_data"
    },
    {
     "data": {
      "application/vnd.jupyter.widget-view+json": {
       "model_id": "56485f3f0b474cf6b3428e8f29e3ad42",
       "version_major": 2,
       "version_minor": 0
      },
      "text/plain": [
       "  0%|          | 0/21600 [00:00<?, ?it/s]"
      ]
     },
     "metadata": {},
     "output_type": "display_data"
    },
    {
     "data": {
      "application/vnd.jupyter.widget-view+json": {
       "model_id": "104733dbd50349289265b11fdb9ff714",
       "version_major": 2,
       "version_minor": 0
      },
      "text/plain": [
       "  0%|          | 0/21600 [00:00<?, ?it/s]"
      ]
     },
     "metadata": {},
     "output_type": "display_data"
    },
    {
     "name": "stdout",
     "output_type": "stream",
     "text": [
      "Avg Validation Loss: 0.1455\n",
      "Testing: LR=0.005, WD=0.001, DR=0.2\n",
      "\n",
      "=== Fold 1 ===\n"
     ]
    },
    {
     "data": {
      "application/vnd.jupyter.widget-view+json": {
       "model_id": "134f1311efb74c39b99a487114f5fd78",
       "version_major": 2,
       "version_minor": 0
      },
      "text/plain": [
       "  0%|          | 0/21600 [00:00<?, ?it/s]"
      ]
     },
     "metadata": {},
     "output_type": "display_data"
    },
    {
     "data": {
      "application/vnd.jupyter.widget-view+json": {
       "model_id": "8a641903fb894d4994aebf0c01f7f6bf",
       "version_major": 2,
       "version_minor": 0
      },
      "text/plain": [
       "  0%|          | 0/21600 [00:00<?, ?it/s]"
      ]
     },
     "metadata": {},
     "output_type": "display_data"
    },
    {
     "data": {
      "application/vnd.jupyter.widget-view+json": {
       "model_id": "48344002d4774c739a86b37206109fc9",
       "version_major": 2,
       "version_minor": 0
      },
      "text/plain": [
       "  0%|          | 0/21600 [00:00<?, ?it/s]"
      ]
     },
     "metadata": {},
     "output_type": "display_data"
    },
    {
     "data": {
      "application/vnd.jupyter.widget-view+json": {
       "model_id": "0bbf46a7f83b44cda9c97983542c2095",
       "version_major": 2,
       "version_minor": 0
      },
      "text/plain": [
       "  0%|          | 0/21600 [00:00<?, ?it/s]"
      ]
     },
     "metadata": {},
     "output_type": "display_data"
    },
    {
     "data": {
      "application/vnd.jupyter.widget-view+json": {
       "model_id": "b5bcd0ecefb64119a8e4b1d6f0a19d76",
       "version_major": 2,
       "version_minor": 0
      },
      "text/plain": [
       "  0%|          | 0/21600 [00:00<?, ?it/s]"
      ]
     },
     "metadata": {},
     "output_type": "display_data"
    },
    {
     "name": "stdout",
     "output_type": "stream",
     "text": [
      "\n",
      "=== Fold 2 ===\n"
     ]
    },
    {
     "data": {
      "application/vnd.jupyter.widget-view+json": {
       "model_id": "9a5dd2c78cef442189bf0c12608c04f6",
       "version_major": 2,
       "version_minor": 0
      },
      "text/plain": [
       "  0%|          | 0/21600 [00:00<?, ?it/s]"
      ]
     },
     "metadata": {},
     "output_type": "display_data"
    },
    {
     "data": {
      "application/vnd.jupyter.widget-view+json": {
       "model_id": "fc6cf472bdc642a2a734cedf34375fa6",
       "version_major": 2,
       "version_minor": 0
      },
      "text/plain": [
       "  0%|          | 0/21600 [00:00<?, ?it/s]"
      ]
     },
     "metadata": {},
     "output_type": "display_data"
    },
    {
     "data": {
      "application/vnd.jupyter.widget-view+json": {
       "model_id": "0b2a4e566e0e41578da1717aad3d17fe",
       "version_major": 2,
       "version_minor": 0
      },
      "text/plain": [
       "  0%|          | 0/21600 [00:00<?, ?it/s]"
      ]
     },
     "metadata": {},
     "output_type": "display_data"
    },
    {
     "data": {
      "application/vnd.jupyter.widget-view+json": {
       "model_id": "086c6170f8fc40b9ba7b9318595d710f",
       "version_major": 2,
       "version_minor": 0
      },
      "text/plain": [
       "  0%|          | 0/21600 [00:00<?, ?it/s]"
      ]
     },
     "metadata": {},
     "output_type": "display_data"
    },
    {
     "data": {
      "application/vnd.jupyter.widget-view+json": {
       "model_id": "ce0b862fa29e457293d0115c1faa27b9",
       "version_major": 2,
       "version_minor": 0
      },
      "text/plain": [
       "  0%|          | 0/21600 [00:00<?, ?it/s]"
      ]
     },
     "metadata": {},
     "output_type": "display_data"
    },
    {
     "name": "stdout",
     "output_type": "stream",
     "text": [
      "\n",
      "=== Fold 3 ===\n"
     ]
    },
    {
     "data": {
      "application/vnd.jupyter.widget-view+json": {
       "model_id": "9d8d430babee4e08bdd03dfba95a120b",
       "version_major": 2,
       "version_minor": 0
      },
      "text/plain": [
       "  0%|          | 0/21600 [00:00<?, ?it/s]"
      ]
     },
     "metadata": {},
     "output_type": "display_data"
    },
    {
     "data": {
      "application/vnd.jupyter.widget-view+json": {
       "model_id": "1680d89c7c1c46798ba2cbb9d88639ce",
       "version_major": 2,
       "version_minor": 0
      },
      "text/plain": [
       "  0%|          | 0/21600 [00:00<?, ?it/s]"
      ]
     },
     "metadata": {},
     "output_type": "display_data"
    },
    {
     "data": {
      "application/vnd.jupyter.widget-view+json": {
       "model_id": "51fe217f2fb4488bb111322b066e9356",
       "version_major": 2,
       "version_minor": 0
      },
      "text/plain": [
       "  0%|          | 0/21600 [00:00<?, ?it/s]"
      ]
     },
     "metadata": {},
     "output_type": "display_data"
    },
    {
     "data": {
      "application/vnd.jupyter.widget-view+json": {
       "model_id": "593c99b23f5645b4b32611f375cb07c1",
       "version_major": 2,
       "version_minor": 0
      },
      "text/plain": [
       "  0%|          | 0/21600 [00:00<?, ?it/s]"
      ]
     },
     "metadata": {},
     "output_type": "display_data"
    },
    {
     "data": {
      "application/vnd.jupyter.widget-view+json": {
       "model_id": "8fac41d8d0cb4f55a9cddb6bb480f882",
       "version_major": 2,
       "version_minor": 0
      },
      "text/plain": [
       "  0%|          | 0/21600 [00:00<?, ?it/s]"
      ]
     },
     "metadata": {},
     "output_type": "display_data"
    },
    {
     "name": "stdout",
     "output_type": "stream",
     "text": [
      "\n",
      "=== Fold 4 ===\n"
     ]
    },
    {
     "data": {
      "application/vnd.jupyter.widget-view+json": {
       "model_id": "4a2a9b0494854b97adcddfa0561c3878",
       "version_major": 2,
       "version_minor": 0
      },
      "text/plain": [
       "  0%|          | 0/21600 [00:00<?, ?it/s]"
      ]
     },
     "metadata": {},
     "output_type": "display_data"
    },
    {
     "data": {
      "application/vnd.jupyter.widget-view+json": {
       "model_id": "a039a5b9bd98436ea928f650ef5ea5b3",
       "version_major": 2,
       "version_minor": 0
      },
      "text/plain": [
       "  0%|          | 0/21600 [00:00<?, ?it/s]"
      ]
     },
     "metadata": {},
     "output_type": "display_data"
    },
    {
     "data": {
      "application/vnd.jupyter.widget-view+json": {
       "model_id": "002e471a8833485bbcaed2ebf93f8da9",
       "version_major": 2,
       "version_minor": 0
      },
      "text/plain": [
       "  0%|          | 0/21600 [00:00<?, ?it/s]"
      ]
     },
     "metadata": {},
     "output_type": "display_data"
    },
    {
     "data": {
      "application/vnd.jupyter.widget-view+json": {
       "model_id": "2ff6c8e585894c44aa12aaee440375d5",
       "version_major": 2,
       "version_minor": 0
      },
      "text/plain": [
       "  0%|          | 0/21600 [00:00<?, ?it/s]"
      ]
     },
     "metadata": {},
     "output_type": "display_data"
    },
    {
     "data": {
      "application/vnd.jupyter.widget-view+json": {
       "model_id": "a367feff1c414716936108dc6cb90fe7",
       "version_major": 2,
       "version_minor": 0
      },
      "text/plain": [
       "  0%|          | 0/21600 [00:00<?, ?it/s]"
      ]
     },
     "metadata": {},
     "output_type": "display_data"
    },
    {
     "name": "stdout",
     "output_type": "stream",
     "text": [
      "Avg Validation Loss: 0.2588\n",
      "Testing: LR=0.01, WD=0.001, DR=0.2\n",
      "\n",
      "=== Fold 1 ===\n"
     ]
    },
    {
     "data": {
      "application/vnd.jupyter.widget-view+json": {
       "model_id": "6332339784334584a5fd6835a1ac663e",
       "version_major": 2,
       "version_minor": 0
      },
      "text/plain": [
       "  0%|          | 0/21600 [00:00<?, ?it/s]"
      ]
     },
     "metadata": {},
     "output_type": "display_data"
    },
    {
     "data": {
      "application/vnd.jupyter.widget-view+json": {
       "model_id": "a596b1b32aff46b19bf140d36e3b4334",
       "version_major": 2,
       "version_minor": 0
      },
      "text/plain": [
       "  0%|          | 0/21600 [00:00<?, ?it/s]"
      ]
     },
     "metadata": {},
     "output_type": "display_data"
    },
    {
     "data": {
      "application/vnd.jupyter.widget-view+json": {
       "model_id": "e29101796eb64a8b9f777686ef734ba5",
       "version_major": 2,
       "version_minor": 0
      },
      "text/plain": [
       "  0%|          | 0/21600 [00:00<?, ?it/s]"
      ]
     },
     "metadata": {},
     "output_type": "display_data"
    },
    {
     "data": {
      "application/vnd.jupyter.widget-view+json": {
       "model_id": "cafd672debe44373826aad260a125fc8",
       "version_major": 2,
       "version_minor": 0
      },
      "text/plain": [
       "  0%|          | 0/21600 [00:00<?, ?it/s]"
      ]
     },
     "metadata": {},
     "output_type": "display_data"
    },
    {
     "data": {
      "application/vnd.jupyter.widget-view+json": {
       "model_id": "f15ae9d1750d41fea0feeedb17194b4f",
       "version_major": 2,
       "version_minor": 0
      },
      "text/plain": [
       "  0%|          | 0/21600 [00:00<?, ?it/s]"
      ]
     },
     "metadata": {},
     "output_type": "display_data"
    },
    {
     "name": "stdout",
     "output_type": "stream",
     "text": [
      "\n",
      "=== Fold 2 ===\n"
     ]
    },
    {
     "data": {
      "application/vnd.jupyter.widget-view+json": {
       "model_id": "88e91f5a6e074a2e80a10124d60d4bc7",
       "version_major": 2,
       "version_minor": 0
      },
      "text/plain": [
       "  0%|          | 0/21600 [00:00<?, ?it/s]"
      ]
     },
     "metadata": {},
     "output_type": "display_data"
    },
    {
     "data": {
      "application/vnd.jupyter.widget-view+json": {
       "model_id": "95bd98e780c54737a482642222017d03",
       "version_major": 2,
       "version_minor": 0
      },
      "text/plain": [
       "  0%|          | 0/21600 [00:00<?, ?it/s]"
      ]
     },
     "metadata": {},
     "output_type": "display_data"
    },
    {
     "data": {
      "application/vnd.jupyter.widget-view+json": {
       "model_id": "4117f5acc4dc448a8be06dc90f96153e",
       "version_major": 2,
       "version_minor": 0
      },
      "text/plain": [
       "  0%|          | 0/21600 [00:00<?, ?it/s]"
      ]
     },
     "metadata": {},
     "output_type": "display_data"
    },
    {
     "data": {
      "application/vnd.jupyter.widget-view+json": {
       "model_id": "8fe8a82b209944aa92aaa8a874f1f98d",
       "version_major": 2,
       "version_minor": 0
      },
      "text/plain": [
       "  0%|          | 0/21600 [00:00<?, ?it/s]"
      ]
     },
     "metadata": {},
     "output_type": "display_data"
    },
    {
     "data": {
      "application/vnd.jupyter.widget-view+json": {
       "model_id": "efb58db3074344df906a0cb176d6e2a6",
       "version_major": 2,
       "version_minor": 0
      },
      "text/plain": [
       "  0%|          | 0/21600 [00:00<?, ?it/s]"
      ]
     },
     "metadata": {},
     "output_type": "display_data"
    },
    {
     "name": "stdout",
     "output_type": "stream",
     "text": [
      "\n",
      "=== Fold 3 ===\n"
     ]
    },
    {
     "data": {
      "application/vnd.jupyter.widget-view+json": {
       "model_id": "b7b025cda4934dc586f7d098c68aa301",
       "version_major": 2,
       "version_minor": 0
      },
      "text/plain": [
       "  0%|          | 0/21600 [00:00<?, ?it/s]"
      ]
     },
     "metadata": {},
     "output_type": "display_data"
    },
    {
     "data": {
      "application/vnd.jupyter.widget-view+json": {
       "model_id": "e5366fd02ab948f39c09070e70443501",
       "version_major": 2,
       "version_minor": 0
      },
      "text/plain": [
       "  0%|          | 0/21600 [00:00<?, ?it/s]"
      ]
     },
     "metadata": {},
     "output_type": "display_data"
    },
    {
     "data": {
      "application/vnd.jupyter.widget-view+json": {
       "model_id": "e21c9aa778ae483bbc5c8b73fee75850",
       "version_major": 2,
       "version_minor": 0
      },
      "text/plain": [
       "  0%|          | 0/21600 [00:00<?, ?it/s]"
      ]
     },
     "metadata": {},
     "output_type": "display_data"
    },
    {
     "data": {
      "application/vnd.jupyter.widget-view+json": {
       "model_id": "60d81ca6f3ae4d35b70615d58a464cc3",
       "version_major": 2,
       "version_minor": 0
      },
      "text/plain": [
       "  0%|          | 0/21600 [00:00<?, ?it/s]"
      ]
     },
     "metadata": {},
     "output_type": "display_data"
    },
    {
     "data": {
      "application/vnd.jupyter.widget-view+json": {
       "model_id": "3408a41b90694825b02d9054cbc8a024",
       "version_major": 2,
       "version_minor": 0
      },
      "text/plain": [
       "  0%|          | 0/21600 [00:00<?, ?it/s]"
      ]
     },
     "metadata": {},
     "output_type": "display_data"
    },
    {
     "name": "stdout",
     "output_type": "stream",
     "text": [
      "\n",
      "=== Fold 4 ===\n"
     ]
    },
    {
     "data": {
      "application/vnd.jupyter.widget-view+json": {
       "model_id": "b2a211fd22aa4393b070d9eb10a8ec6b",
       "version_major": 2,
       "version_minor": 0
      },
      "text/plain": [
       "  0%|          | 0/21600 [00:00<?, ?it/s]"
      ]
     },
     "metadata": {},
     "output_type": "display_data"
    },
    {
     "data": {
      "application/vnd.jupyter.widget-view+json": {
       "model_id": "8ab47f717e984dac89004300dc7fbddb",
       "version_major": 2,
       "version_minor": 0
      },
      "text/plain": [
       "  0%|          | 0/21600 [00:00<?, ?it/s]"
      ]
     },
     "metadata": {},
     "output_type": "display_data"
    },
    {
     "data": {
      "application/vnd.jupyter.widget-view+json": {
       "model_id": "3f2e446e20a842b9b7321cd28c4935ba",
       "version_major": 2,
       "version_minor": 0
      },
      "text/plain": [
       "  0%|          | 0/21600 [00:00<?, ?it/s]"
      ]
     },
     "metadata": {},
     "output_type": "display_data"
    },
    {
     "data": {
      "application/vnd.jupyter.widget-view+json": {
       "model_id": "fe98954d0bd5466f8e2bef33a937c5ed",
       "version_major": 2,
       "version_minor": 0
      },
      "text/plain": [
       "  0%|          | 0/21600 [00:00<?, ?it/s]"
      ]
     },
     "metadata": {},
     "output_type": "display_data"
    },
    {
     "data": {
      "application/vnd.jupyter.widget-view+json": {
       "model_id": "3104b55c9c814419bfa7cc700dcb9747",
       "version_major": 2,
       "version_minor": 0
      },
      "text/plain": [
       "  0%|          | 0/21600 [00:00<?, ?it/s]"
      ]
     },
     "metadata": {},
     "output_type": "display_data"
    },
    {
     "name": "stdout",
     "output_type": "stream",
     "text": [
      "Avg Validation Loss: 0.5201\n",
      "Testing: LR=0.001, WD=0.001, DR=0.3\n",
      "\n",
      "=== Fold 1 ===\n"
     ]
    },
    {
     "data": {
      "application/vnd.jupyter.widget-view+json": {
       "model_id": "0574b2bb2a114c2da7bf9cd869751359",
       "version_major": 2,
       "version_minor": 0
      },
      "text/plain": [
       "  0%|          | 0/21600 [00:00<?, ?it/s]"
      ]
     },
     "metadata": {},
     "output_type": "display_data"
    },
    {
     "data": {
      "application/vnd.jupyter.widget-view+json": {
       "model_id": "bce466812a9d40cc9784b121ae13c2b9",
       "version_major": 2,
       "version_minor": 0
      },
      "text/plain": [
       "  0%|          | 0/21600 [00:00<?, ?it/s]"
      ]
     },
     "metadata": {},
     "output_type": "display_data"
    },
    {
     "data": {
      "application/vnd.jupyter.widget-view+json": {
       "model_id": "08d0099c7da949fb9fcdbde0c10c2b91",
       "version_major": 2,
       "version_minor": 0
      },
      "text/plain": [
       "  0%|          | 0/21600 [00:00<?, ?it/s]"
      ]
     },
     "metadata": {},
     "output_type": "display_data"
    },
    {
     "data": {
      "application/vnd.jupyter.widget-view+json": {
       "model_id": "5a9fb9a6c1994b2f808e09d9054ee1a1",
       "version_major": 2,
       "version_minor": 0
      },
      "text/plain": [
       "  0%|          | 0/21600 [00:00<?, ?it/s]"
      ]
     },
     "metadata": {},
     "output_type": "display_data"
    },
    {
     "data": {
      "application/vnd.jupyter.widget-view+json": {
       "model_id": "ff0e73fa486446058d5bc6caea2121ac",
       "version_major": 2,
       "version_minor": 0
      },
      "text/plain": [
       "  0%|          | 0/21600 [00:00<?, ?it/s]"
      ]
     },
     "metadata": {},
     "output_type": "display_data"
    },
    {
     "name": "stdout",
     "output_type": "stream",
     "text": [
      "\n",
      "=== Fold 2 ===\n"
     ]
    },
    {
     "data": {
      "application/vnd.jupyter.widget-view+json": {
       "model_id": "9158125b2e10431bbba42d6129dd7bfb",
       "version_major": 2,
       "version_minor": 0
      },
      "text/plain": [
       "  0%|          | 0/21600 [00:00<?, ?it/s]"
      ]
     },
     "metadata": {},
     "output_type": "display_data"
    },
    {
     "data": {
      "application/vnd.jupyter.widget-view+json": {
       "model_id": "9449b36a79bc4c82b4eceba5a0d5de2b",
       "version_major": 2,
       "version_minor": 0
      },
      "text/plain": [
       "  0%|          | 0/21600 [00:00<?, ?it/s]"
      ]
     },
     "metadata": {},
     "output_type": "display_data"
    },
    {
     "data": {
      "application/vnd.jupyter.widget-view+json": {
       "model_id": "45ec33d0a3364fc38711de4a98bf6506",
       "version_major": 2,
       "version_minor": 0
      },
      "text/plain": [
       "  0%|          | 0/21600 [00:00<?, ?it/s]"
      ]
     },
     "metadata": {},
     "output_type": "display_data"
    },
    {
     "data": {
      "application/vnd.jupyter.widget-view+json": {
       "model_id": "65c8b5e009ea4f3987199fd35767f4ec",
       "version_major": 2,
       "version_minor": 0
      },
      "text/plain": [
       "  0%|          | 0/21600 [00:00<?, ?it/s]"
      ]
     },
     "metadata": {},
     "output_type": "display_data"
    },
    {
     "data": {
      "application/vnd.jupyter.widget-view+json": {
       "model_id": "4179221e68ec4a11950af1227cb7b822",
       "version_major": 2,
       "version_minor": 0
      },
      "text/plain": [
       "  0%|          | 0/21600 [00:00<?, ?it/s]"
      ]
     },
     "metadata": {},
     "output_type": "display_data"
    },
    {
     "name": "stdout",
     "output_type": "stream",
     "text": [
      "\n",
      "=== Fold 3 ===\n"
     ]
    },
    {
     "data": {
      "application/vnd.jupyter.widget-view+json": {
       "model_id": "f0f19bd351f041dbafb747cadcd70d9e",
       "version_major": 2,
       "version_minor": 0
      },
      "text/plain": [
       "  0%|          | 0/21600 [00:00<?, ?it/s]"
      ]
     },
     "metadata": {},
     "output_type": "display_data"
    },
    {
     "data": {
      "application/vnd.jupyter.widget-view+json": {
       "model_id": "97402d13155f48c5ba957b64669e6151",
       "version_major": 2,
       "version_minor": 0
      },
      "text/plain": [
       "  0%|          | 0/21600 [00:00<?, ?it/s]"
      ]
     },
     "metadata": {},
     "output_type": "display_data"
    },
    {
     "data": {
      "application/vnd.jupyter.widget-view+json": {
       "model_id": "b1f9f548cfe7487488760eec95332181",
       "version_major": 2,
       "version_minor": 0
      },
      "text/plain": [
       "  0%|          | 0/21600 [00:00<?, ?it/s]"
      ]
     },
     "metadata": {},
     "output_type": "display_data"
    },
    {
     "data": {
      "application/vnd.jupyter.widget-view+json": {
       "model_id": "5a352ca6c1de4b02ae45ae8dcc3f3bd7",
       "version_major": 2,
       "version_minor": 0
      },
      "text/plain": [
       "  0%|          | 0/21600 [00:00<?, ?it/s]"
      ]
     },
     "metadata": {},
     "output_type": "display_data"
    },
    {
     "data": {
      "application/vnd.jupyter.widget-view+json": {
       "model_id": "a2a0072792434832b5827998d22f1f2d",
       "version_major": 2,
       "version_minor": 0
      },
      "text/plain": [
       "  0%|          | 0/21600 [00:00<?, ?it/s]"
      ]
     },
     "metadata": {},
     "output_type": "display_data"
    },
    {
     "name": "stdout",
     "output_type": "stream",
     "text": [
      "\n",
      "=== Fold 4 ===\n"
     ]
    },
    {
     "data": {
      "application/vnd.jupyter.widget-view+json": {
       "model_id": "3a37c60d322a4e1ba417496f9e1ad1de",
       "version_major": 2,
       "version_minor": 0
      },
      "text/plain": [
       "  0%|          | 0/21600 [00:00<?, ?it/s]"
      ]
     },
     "metadata": {},
     "output_type": "display_data"
    },
    {
     "data": {
      "application/vnd.jupyter.widget-view+json": {
       "model_id": "eea800bdf7aa4aceaa93dc8152df3b01",
       "version_major": 2,
       "version_minor": 0
      },
      "text/plain": [
       "  0%|          | 0/21600 [00:00<?, ?it/s]"
      ]
     },
     "metadata": {},
     "output_type": "display_data"
    },
    {
     "data": {
      "application/vnd.jupyter.widget-view+json": {
       "model_id": "a9f71ae86fa04d1b81d25ea3212bee91",
       "version_major": 2,
       "version_minor": 0
      },
      "text/plain": [
       "  0%|          | 0/21600 [00:00<?, ?it/s]"
      ]
     },
     "metadata": {},
     "output_type": "display_data"
    },
    {
     "data": {
      "application/vnd.jupyter.widget-view+json": {
       "model_id": "ea690f7a31b548e7bd7d7fe5f343c1fe",
       "version_major": 2,
       "version_minor": 0
      },
      "text/plain": [
       "  0%|          | 0/21600 [00:00<?, ?it/s]"
      ]
     },
     "metadata": {},
     "output_type": "display_data"
    },
    {
     "data": {
      "application/vnd.jupyter.widget-view+json": {
       "model_id": "f143a79e5b5f4096b6831d4a7117ac71",
       "version_major": 2,
       "version_minor": 0
      },
      "text/plain": [
       "  0%|          | 0/21600 [00:00<?, ?it/s]"
      ]
     },
     "metadata": {},
     "output_type": "display_data"
    },
    {
     "name": "stdout",
     "output_type": "stream",
     "text": [
      "Avg Validation Loss: 0.1459\n",
      "Testing: LR=0.005, WD=0.001, DR=0.3\n",
      "\n",
      "=== Fold 1 ===\n"
     ]
    },
    {
     "data": {
      "application/vnd.jupyter.widget-view+json": {
       "model_id": "99faaa3f251442a1a256bf89bf6133b5",
       "version_major": 2,
       "version_minor": 0
      },
      "text/plain": [
       "  0%|          | 0/21600 [00:00<?, ?it/s]"
      ]
     },
     "metadata": {},
     "output_type": "display_data"
    },
    {
     "data": {
      "application/vnd.jupyter.widget-view+json": {
       "model_id": "c8ec8991f7ef471d88b24ceb0daaa42a",
       "version_major": 2,
       "version_minor": 0
      },
      "text/plain": [
       "  0%|          | 0/21600 [00:00<?, ?it/s]"
      ]
     },
     "metadata": {},
     "output_type": "display_data"
    },
    {
     "data": {
      "application/vnd.jupyter.widget-view+json": {
       "model_id": "9fb0a6b83e854c5094bba4a133c7db5a",
       "version_major": 2,
       "version_minor": 0
      },
      "text/plain": [
       "  0%|          | 0/21600 [00:00<?, ?it/s]"
      ]
     },
     "metadata": {},
     "output_type": "display_data"
    },
    {
     "data": {
      "application/vnd.jupyter.widget-view+json": {
       "model_id": "988c72c2588545ac90beec25568816a5",
       "version_major": 2,
       "version_minor": 0
      },
      "text/plain": [
       "  0%|          | 0/21600 [00:00<?, ?it/s]"
      ]
     },
     "metadata": {},
     "output_type": "display_data"
    },
    {
     "data": {
      "application/vnd.jupyter.widget-view+json": {
       "model_id": "b238f4047cb14bb698f02c2f4ac03d79",
       "version_major": 2,
       "version_minor": 0
      },
      "text/plain": [
       "  0%|          | 0/21600 [00:00<?, ?it/s]"
      ]
     },
     "metadata": {},
     "output_type": "display_data"
    },
    {
     "name": "stdout",
     "output_type": "stream",
     "text": [
      "\n",
      "=== Fold 2 ===\n"
     ]
    },
    {
     "data": {
      "application/vnd.jupyter.widget-view+json": {
       "model_id": "5d86f4a7887b498c924983523f1cc3bf",
       "version_major": 2,
       "version_minor": 0
      },
      "text/plain": [
       "  0%|          | 0/21600 [00:00<?, ?it/s]"
      ]
     },
     "metadata": {},
     "output_type": "display_data"
    },
    {
     "data": {
      "application/vnd.jupyter.widget-view+json": {
       "model_id": "a99cd79debb142a99c9dde4944bf75ae",
       "version_major": 2,
       "version_minor": 0
      },
      "text/plain": [
       "  0%|          | 0/21600 [00:00<?, ?it/s]"
      ]
     },
     "metadata": {},
     "output_type": "display_data"
    },
    {
     "data": {
      "application/vnd.jupyter.widget-view+json": {
       "model_id": "b697e61b421347f48c6045d0a614fc12",
       "version_major": 2,
       "version_minor": 0
      },
      "text/plain": [
       "  0%|          | 0/21600 [00:00<?, ?it/s]"
      ]
     },
     "metadata": {},
     "output_type": "display_data"
    },
    {
     "data": {
      "application/vnd.jupyter.widget-view+json": {
       "model_id": "f66127b5e31f4b5f8d43d9679b2d11f5",
       "version_major": 2,
       "version_minor": 0
      },
      "text/plain": [
       "  0%|          | 0/21600 [00:00<?, ?it/s]"
      ]
     },
     "metadata": {},
     "output_type": "display_data"
    },
    {
     "data": {
      "application/vnd.jupyter.widget-view+json": {
       "model_id": "75bd35c0de044abb834463581eec2b0f",
       "version_major": 2,
       "version_minor": 0
      },
      "text/plain": [
       "  0%|          | 0/21600 [00:00<?, ?it/s]"
      ]
     },
     "metadata": {},
     "output_type": "display_data"
    },
    {
     "name": "stdout",
     "output_type": "stream",
     "text": [
      "\n",
      "=== Fold 3 ===\n"
     ]
    },
    {
     "data": {
      "application/vnd.jupyter.widget-view+json": {
       "model_id": "63d31249bb4943de88cee6ae4b6d2dae",
       "version_major": 2,
       "version_minor": 0
      },
      "text/plain": [
       "  0%|          | 0/21600 [00:00<?, ?it/s]"
      ]
     },
     "metadata": {},
     "output_type": "display_data"
    },
    {
     "data": {
      "application/vnd.jupyter.widget-view+json": {
       "model_id": "6bcfa9c3e27e423b994d8df3f15cf233",
       "version_major": 2,
       "version_minor": 0
      },
      "text/plain": [
       "  0%|          | 0/21600 [00:00<?, ?it/s]"
      ]
     },
     "metadata": {},
     "output_type": "display_data"
    },
    {
     "data": {
      "application/vnd.jupyter.widget-view+json": {
       "model_id": "938cda2795e44eff8c39c2f26719e316",
       "version_major": 2,
       "version_minor": 0
      },
      "text/plain": [
       "  0%|          | 0/21600 [00:00<?, ?it/s]"
      ]
     },
     "metadata": {},
     "output_type": "display_data"
    },
    {
     "data": {
      "application/vnd.jupyter.widget-view+json": {
       "model_id": "63129a760ca048f9a10e5db35e16a14f",
       "version_major": 2,
       "version_minor": 0
      },
      "text/plain": [
       "  0%|          | 0/21600 [00:00<?, ?it/s]"
      ]
     },
     "metadata": {},
     "output_type": "display_data"
    },
    {
     "data": {
      "application/vnd.jupyter.widget-view+json": {
       "model_id": "f1d7304a851e4113918c5bc346ac60e3",
       "version_major": 2,
       "version_minor": 0
      },
      "text/plain": [
       "  0%|          | 0/21600 [00:00<?, ?it/s]"
      ]
     },
     "metadata": {},
     "output_type": "display_data"
    },
    {
     "name": "stdout",
     "output_type": "stream",
     "text": [
      "\n",
      "=== Fold 4 ===\n"
     ]
    },
    {
     "data": {
      "application/vnd.jupyter.widget-view+json": {
       "model_id": "a4baeaf7eed6442686ee0ce495a5277b",
       "version_major": 2,
       "version_minor": 0
      },
      "text/plain": [
       "  0%|          | 0/21600 [00:00<?, ?it/s]"
      ]
     },
     "metadata": {},
     "output_type": "display_data"
    },
    {
     "data": {
      "application/vnd.jupyter.widget-view+json": {
       "model_id": "5282484fd1f84aef9e5f3190d84c9b13",
       "version_major": 2,
       "version_minor": 0
      },
      "text/plain": [
       "  0%|          | 0/21600 [00:00<?, ?it/s]"
      ]
     },
     "metadata": {},
     "output_type": "display_data"
    },
    {
     "data": {
      "application/vnd.jupyter.widget-view+json": {
       "model_id": "90a631e4229a4689a1fd2690dbb63e48",
       "version_major": 2,
       "version_minor": 0
      },
      "text/plain": [
       "  0%|          | 0/21600 [00:00<?, ?it/s]"
      ]
     },
     "metadata": {},
     "output_type": "display_data"
    },
    {
     "data": {
      "application/vnd.jupyter.widget-view+json": {
       "model_id": "1c595ab2fddb4f18b6097473b30b6200",
       "version_major": 2,
       "version_minor": 0
      },
      "text/plain": [
       "  0%|          | 0/21600 [00:00<?, ?it/s]"
      ]
     },
     "metadata": {},
     "output_type": "display_data"
    },
    {
     "data": {
      "application/vnd.jupyter.widget-view+json": {
       "model_id": "c1cd1d37e08c4e74acb789f0e3c7cf6f",
       "version_major": 2,
       "version_minor": 0
      },
      "text/plain": [
       "  0%|          | 0/21600 [00:00<?, ?it/s]"
      ]
     },
     "metadata": {},
     "output_type": "display_data"
    },
    {
     "name": "stdout",
     "output_type": "stream",
     "text": [
      "Avg Validation Loss: 0.1925\n",
      "Testing: LR=0.01, WD=0.001, DR=0.3\n",
      "\n",
      "=== Fold 1 ===\n"
     ]
    },
    {
     "data": {
      "application/vnd.jupyter.widget-view+json": {
       "model_id": "4f8a1467b1914781bf1d48ad6b3e376e",
       "version_major": 2,
       "version_minor": 0
      },
      "text/plain": [
       "  0%|          | 0/21600 [00:00<?, ?it/s]"
      ]
     },
     "metadata": {},
     "output_type": "display_data"
    },
    {
     "data": {
      "application/vnd.jupyter.widget-view+json": {
       "model_id": "ae93d58a72e54b708cd4e2a329206b47",
       "version_major": 2,
       "version_minor": 0
      },
      "text/plain": [
       "  0%|          | 0/21600 [00:00<?, ?it/s]"
      ]
     },
     "metadata": {},
     "output_type": "display_data"
    },
    {
     "data": {
      "application/vnd.jupyter.widget-view+json": {
       "model_id": "fe14eb9de6bf4577b188627c7445abad",
       "version_major": 2,
       "version_minor": 0
      },
      "text/plain": [
       "  0%|          | 0/21600 [00:00<?, ?it/s]"
      ]
     },
     "metadata": {},
     "output_type": "display_data"
    },
    {
     "data": {
      "application/vnd.jupyter.widget-view+json": {
       "model_id": "1fda8f5346a44daca029d0f82304a312",
       "version_major": 2,
       "version_minor": 0
      },
      "text/plain": [
       "  0%|          | 0/21600 [00:00<?, ?it/s]"
      ]
     },
     "metadata": {},
     "output_type": "display_data"
    },
    {
     "data": {
      "application/vnd.jupyter.widget-view+json": {
       "model_id": "b742e524abc64b29ac2f4ed225136f58",
       "version_major": 2,
       "version_minor": 0
      },
      "text/plain": [
       "  0%|          | 0/21600 [00:00<?, ?it/s]"
      ]
     },
     "metadata": {},
     "output_type": "display_data"
    },
    {
     "name": "stdout",
     "output_type": "stream",
     "text": [
      "\n",
      "=== Fold 2 ===\n"
     ]
    },
    {
     "data": {
      "application/vnd.jupyter.widget-view+json": {
       "model_id": "9d1baf9092d341e1a5f01aff689d4989",
       "version_major": 2,
       "version_minor": 0
      },
      "text/plain": [
       "  0%|          | 0/21600 [00:00<?, ?it/s]"
      ]
     },
     "metadata": {},
     "output_type": "display_data"
    },
    {
     "data": {
      "application/vnd.jupyter.widget-view+json": {
       "model_id": "2653dd209b1245d0ae89976e29dde56b",
       "version_major": 2,
       "version_minor": 0
      },
      "text/plain": [
       "  0%|          | 0/21600 [00:00<?, ?it/s]"
      ]
     },
     "metadata": {},
     "output_type": "display_data"
    },
    {
     "data": {
      "application/vnd.jupyter.widget-view+json": {
       "model_id": "9e60ef0b345b4481987970d7e387fc1d",
       "version_major": 2,
       "version_minor": 0
      },
      "text/plain": [
       "  0%|          | 0/21600 [00:00<?, ?it/s]"
      ]
     },
     "metadata": {},
     "output_type": "display_data"
    },
    {
     "data": {
      "application/vnd.jupyter.widget-view+json": {
       "model_id": "43b4d82ec8344804a98af89553f41b52",
       "version_major": 2,
       "version_minor": 0
      },
      "text/plain": [
       "  0%|          | 0/21600 [00:00<?, ?it/s]"
      ]
     },
     "metadata": {},
     "output_type": "display_data"
    },
    {
     "data": {
      "application/vnd.jupyter.widget-view+json": {
       "model_id": "a7d5293a2d684573af97e5311d79691e",
       "version_major": 2,
       "version_minor": 0
      },
      "text/plain": [
       "  0%|          | 0/21600 [00:00<?, ?it/s]"
      ]
     },
     "metadata": {},
     "output_type": "display_data"
    },
    {
     "name": "stdout",
     "output_type": "stream",
     "text": [
      "\n",
      "=== Fold 3 ===\n"
     ]
    },
    {
     "data": {
      "application/vnd.jupyter.widget-view+json": {
       "model_id": "a0df3358f8224f76bcf7c8b9b33948a9",
       "version_major": 2,
       "version_minor": 0
      },
      "text/plain": [
       "  0%|          | 0/21600 [00:00<?, ?it/s]"
      ]
     },
     "metadata": {},
     "output_type": "display_data"
    },
    {
     "data": {
      "application/vnd.jupyter.widget-view+json": {
       "model_id": "d07cbe94a3db432ba9c5552a02ee7f29",
       "version_major": 2,
       "version_minor": 0
      },
      "text/plain": [
       "  0%|          | 0/21600 [00:00<?, ?it/s]"
      ]
     },
     "metadata": {},
     "output_type": "display_data"
    },
    {
     "data": {
      "application/vnd.jupyter.widget-view+json": {
       "model_id": "0b132f6fd5d74c78ad47b730bbadc7cc",
       "version_major": 2,
       "version_minor": 0
      },
      "text/plain": [
       "  0%|          | 0/21600 [00:00<?, ?it/s]"
      ]
     },
     "metadata": {},
     "output_type": "display_data"
    },
    {
     "data": {
      "application/vnd.jupyter.widget-view+json": {
       "model_id": "2d49282ffcb34c33b9303b3857ba0814",
       "version_major": 2,
       "version_minor": 0
      },
      "text/plain": [
       "  0%|          | 0/21600 [00:00<?, ?it/s]"
      ]
     },
     "metadata": {},
     "output_type": "display_data"
    },
    {
     "data": {
      "application/vnd.jupyter.widget-view+json": {
       "model_id": "e92701385a684bfd9fa033a38f301f8e",
       "version_major": 2,
       "version_minor": 0
      },
      "text/plain": [
       "  0%|          | 0/21600 [00:00<?, ?it/s]"
      ]
     },
     "metadata": {},
     "output_type": "display_data"
    },
    {
     "name": "stdout",
     "output_type": "stream",
     "text": [
      "\n",
      "=== Fold 4 ===\n"
     ]
    },
    {
     "data": {
      "application/vnd.jupyter.widget-view+json": {
       "model_id": "8f04fbc0a42f46e0a11fb9610d17b635",
       "version_major": 2,
       "version_minor": 0
      },
      "text/plain": [
       "  0%|          | 0/21600 [00:00<?, ?it/s]"
      ]
     },
     "metadata": {},
     "output_type": "display_data"
    },
    {
     "data": {
      "application/vnd.jupyter.widget-view+json": {
       "model_id": "1367c234f8164e38beac5b9522413ebb",
       "version_major": 2,
       "version_minor": 0
      },
      "text/plain": [
       "  0%|          | 0/21600 [00:00<?, ?it/s]"
      ]
     },
     "metadata": {},
     "output_type": "display_data"
    },
    {
     "data": {
      "application/vnd.jupyter.widget-view+json": {
       "model_id": "c2dd8e1dd04f4e7fb046fed5716a9cb0",
       "version_major": 2,
       "version_minor": 0
      },
      "text/plain": [
       "  0%|          | 0/21600 [00:00<?, ?it/s]"
      ]
     },
     "metadata": {},
     "output_type": "display_data"
    },
    {
     "data": {
      "application/vnd.jupyter.widget-view+json": {
       "model_id": "6a429ac0f1f54bfd9136ec9fe70e2e8c",
       "version_major": 2,
       "version_minor": 0
      },
      "text/plain": [
       "  0%|          | 0/21600 [00:00<?, ?it/s]"
      ]
     },
     "metadata": {},
     "output_type": "display_data"
    },
    {
     "data": {
      "application/vnd.jupyter.widget-view+json": {
       "model_id": "15266acb1d1a48f7962baf9e48776d2b",
       "version_major": 2,
       "version_minor": 0
      },
      "text/plain": [
       "  0%|          | 0/21600 [00:00<?, ?it/s]"
      ]
     },
     "metadata": {},
     "output_type": "display_data"
    },
    {
     "name": "stdout",
     "output_type": "stream",
     "text": [
      "Avg Validation Loss: 0.3842\n",
      "Testing: LR=0.001, WD=0.01, DR=0.1\n",
      "\n",
      "=== Fold 1 ===\n"
     ]
    },
    {
     "data": {
      "application/vnd.jupyter.widget-view+json": {
       "model_id": "46dbf3740a5f4bec97f80bbb968cdca0",
       "version_major": 2,
       "version_minor": 0
      },
      "text/plain": [
       "  0%|          | 0/21600 [00:00<?, ?it/s]"
      ]
     },
     "metadata": {},
     "output_type": "display_data"
    },
    {
     "data": {
      "application/vnd.jupyter.widget-view+json": {
       "model_id": "257b935e580d41ae99ad91797097b38f",
       "version_major": 2,
       "version_minor": 0
      },
      "text/plain": [
       "  0%|          | 0/21600 [00:00<?, ?it/s]"
      ]
     },
     "metadata": {},
     "output_type": "display_data"
    },
    {
     "data": {
      "application/vnd.jupyter.widget-view+json": {
       "model_id": "617bd186d6f34b4d99f077df7c478f41",
       "version_major": 2,
       "version_minor": 0
      },
      "text/plain": [
       "  0%|          | 0/21600 [00:00<?, ?it/s]"
      ]
     },
     "metadata": {},
     "output_type": "display_data"
    },
    {
     "data": {
      "application/vnd.jupyter.widget-view+json": {
       "model_id": "122a9fd50be24115831509cd19c15576",
       "version_major": 2,
       "version_minor": 0
      },
      "text/plain": [
       "  0%|          | 0/21600 [00:00<?, ?it/s]"
      ]
     },
     "metadata": {},
     "output_type": "display_data"
    },
    {
     "data": {
      "application/vnd.jupyter.widget-view+json": {
       "model_id": "5e79f1cd10dd46f4b80e6a8ed164e9a4",
       "version_major": 2,
       "version_minor": 0
      },
      "text/plain": [
       "  0%|          | 0/21600 [00:00<?, ?it/s]"
      ]
     },
     "metadata": {},
     "output_type": "display_data"
    },
    {
     "name": "stdout",
     "output_type": "stream",
     "text": [
      "\n",
      "=== Fold 2 ===\n"
     ]
    },
    {
     "data": {
      "application/vnd.jupyter.widget-view+json": {
       "model_id": "1d52fba7869a424bb725c3ac614632ef",
       "version_major": 2,
       "version_minor": 0
      },
      "text/plain": [
       "  0%|          | 0/21600 [00:00<?, ?it/s]"
      ]
     },
     "metadata": {},
     "output_type": "display_data"
    },
    {
     "data": {
      "application/vnd.jupyter.widget-view+json": {
       "model_id": "03c396acfa3e449598aab45b5e70c065",
       "version_major": 2,
       "version_minor": 0
      },
      "text/plain": [
       "  0%|          | 0/21600 [00:00<?, ?it/s]"
      ]
     },
     "metadata": {},
     "output_type": "display_data"
    },
    {
     "data": {
      "application/vnd.jupyter.widget-view+json": {
       "model_id": "3fb8bdcad23747ac89f28e77b371e2e5",
       "version_major": 2,
       "version_minor": 0
      },
      "text/plain": [
       "  0%|          | 0/21600 [00:00<?, ?it/s]"
      ]
     },
     "metadata": {},
     "output_type": "display_data"
    },
    {
     "data": {
      "application/vnd.jupyter.widget-view+json": {
       "model_id": "a6eefd049da4421293d7ef580558619d",
       "version_major": 2,
       "version_minor": 0
      },
      "text/plain": [
       "  0%|          | 0/21600 [00:00<?, ?it/s]"
      ]
     },
     "metadata": {},
     "output_type": "display_data"
    },
    {
     "data": {
      "application/vnd.jupyter.widget-view+json": {
       "model_id": "eb993f1f0ad745c39c288a1004f7ca0a",
       "version_major": 2,
       "version_minor": 0
      },
      "text/plain": [
       "  0%|          | 0/21600 [00:00<?, ?it/s]"
      ]
     },
     "metadata": {},
     "output_type": "display_data"
    },
    {
     "name": "stdout",
     "output_type": "stream",
     "text": [
      "\n",
      "=== Fold 3 ===\n"
     ]
    },
    {
     "data": {
      "application/vnd.jupyter.widget-view+json": {
       "model_id": "7ecb4d5052854b01b4992ecd8d42c34b",
       "version_major": 2,
       "version_minor": 0
      },
      "text/plain": [
       "  0%|          | 0/21600 [00:00<?, ?it/s]"
      ]
     },
     "metadata": {},
     "output_type": "display_data"
    },
    {
     "data": {
      "application/vnd.jupyter.widget-view+json": {
       "model_id": "42e0f2636a254a9481e2923ff5bceb65",
       "version_major": 2,
       "version_minor": 0
      },
      "text/plain": [
       "  0%|          | 0/21600 [00:00<?, ?it/s]"
      ]
     },
     "metadata": {},
     "output_type": "display_data"
    },
    {
     "data": {
      "application/vnd.jupyter.widget-view+json": {
       "model_id": "b089a3abde394e96bec56481b915f793",
       "version_major": 2,
       "version_minor": 0
      },
      "text/plain": [
       "  0%|          | 0/21600 [00:00<?, ?it/s]"
      ]
     },
     "metadata": {},
     "output_type": "display_data"
    },
    {
     "data": {
      "application/vnd.jupyter.widget-view+json": {
       "model_id": "d1209c2e5ae147c0abd71e4cb47837d8",
       "version_major": 2,
       "version_minor": 0
      },
      "text/plain": [
       "  0%|          | 0/21600 [00:00<?, ?it/s]"
      ]
     },
     "metadata": {},
     "output_type": "display_data"
    },
    {
     "data": {
      "application/vnd.jupyter.widget-view+json": {
       "model_id": "ed09e74402ff406dba219e626b8d26fd",
       "version_major": 2,
       "version_minor": 0
      },
      "text/plain": [
       "  0%|          | 0/21600 [00:00<?, ?it/s]"
      ]
     },
     "metadata": {},
     "output_type": "display_data"
    },
    {
     "name": "stdout",
     "output_type": "stream",
     "text": [
      "\n",
      "=== Fold 4 ===\n"
     ]
    },
    {
     "data": {
      "application/vnd.jupyter.widget-view+json": {
       "model_id": "196baa1c85c44aecafac04a729cfc8c3",
       "version_major": 2,
       "version_minor": 0
      },
      "text/plain": [
       "  0%|          | 0/21600 [00:00<?, ?it/s]"
      ]
     },
     "metadata": {},
     "output_type": "display_data"
    },
    {
     "data": {
      "application/vnd.jupyter.widget-view+json": {
       "model_id": "2c722f83bf8b47e38cd9feed8ccb1f7a",
       "version_major": 2,
       "version_minor": 0
      },
      "text/plain": [
       "  0%|          | 0/21600 [00:00<?, ?it/s]"
      ]
     },
     "metadata": {},
     "output_type": "display_data"
    },
    {
     "data": {
      "application/vnd.jupyter.widget-view+json": {
       "model_id": "9e382c6d2acf4c08a8e5b1e98a156c9e",
       "version_major": 2,
       "version_minor": 0
      },
      "text/plain": [
       "  0%|          | 0/21600 [00:00<?, ?it/s]"
      ]
     },
     "metadata": {},
     "output_type": "display_data"
    },
    {
     "data": {
      "application/vnd.jupyter.widget-view+json": {
       "model_id": "dc4c14cab24a4a40903290615f81d4c3",
       "version_major": 2,
       "version_minor": 0
      },
      "text/plain": [
       "  0%|          | 0/21600 [00:00<?, ?it/s]"
      ]
     },
     "metadata": {},
     "output_type": "display_data"
    },
    {
     "data": {
      "application/vnd.jupyter.widget-view+json": {
       "model_id": "54662eeb603040f38494ea107252f0b2",
       "version_major": 2,
       "version_minor": 0
      },
      "text/plain": [
       "  0%|          | 0/21600 [00:00<?, ?it/s]"
      ]
     },
     "metadata": {},
     "output_type": "display_data"
    },
    {
     "name": "stdout",
     "output_type": "stream",
     "text": [
      "Avg Validation Loss: 0.2288\n",
      "Testing: LR=0.005, WD=0.01, DR=0.1\n",
      "\n",
      "=== Fold 1 ===\n"
     ]
    },
    {
     "data": {
      "application/vnd.jupyter.widget-view+json": {
       "model_id": "139b3c5b36b944029f9b2f4ff260bef5",
       "version_major": 2,
       "version_minor": 0
      },
      "text/plain": [
       "  0%|          | 0/21600 [00:00<?, ?it/s]"
      ]
     },
     "metadata": {},
     "output_type": "display_data"
    },
    {
     "data": {
      "application/vnd.jupyter.widget-view+json": {
       "model_id": "48ddf91d60414ebfa11a43065290ffea",
       "version_major": 2,
       "version_minor": 0
      },
      "text/plain": [
       "  0%|          | 0/21600 [00:00<?, ?it/s]"
      ]
     },
     "metadata": {},
     "output_type": "display_data"
    },
    {
     "data": {
      "application/vnd.jupyter.widget-view+json": {
       "model_id": "e9f4144b93354374942f8e161c0d9896",
       "version_major": 2,
       "version_minor": 0
      },
      "text/plain": [
       "  0%|          | 0/21600 [00:00<?, ?it/s]"
      ]
     },
     "metadata": {},
     "output_type": "display_data"
    },
    {
     "data": {
      "application/vnd.jupyter.widget-view+json": {
       "model_id": "46977c22f0704f238c7123d19033cf61",
       "version_major": 2,
       "version_minor": 0
      },
      "text/plain": [
       "  0%|          | 0/21600 [00:00<?, ?it/s]"
      ]
     },
     "metadata": {},
     "output_type": "display_data"
    },
    {
     "data": {
      "application/vnd.jupyter.widget-view+json": {
       "model_id": "c2cf890d544643199f31ca7b15ef48f7",
       "version_major": 2,
       "version_minor": 0
      },
      "text/plain": [
       "  0%|          | 0/21600 [00:00<?, ?it/s]"
      ]
     },
     "metadata": {},
     "output_type": "display_data"
    },
    {
     "name": "stdout",
     "output_type": "stream",
     "text": [
      "\n",
      "=== Fold 2 ===\n"
     ]
    },
    {
     "data": {
      "application/vnd.jupyter.widget-view+json": {
       "model_id": "edd3847887294841b99940dade2ff3ad",
       "version_major": 2,
       "version_minor": 0
      },
      "text/plain": [
       "  0%|          | 0/21600 [00:00<?, ?it/s]"
      ]
     },
     "metadata": {},
     "output_type": "display_data"
    },
    {
     "data": {
      "application/vnd.jupyter.widget-view+json": {
       "model_id": "49cdd97a0eeb4182b81f7ae721ffe877",
       "version_major": 2,
       "version_minor": 0
      },
      "text/plain": [
       "  0%|          | 0/21600 [00:00<?, ?it/s]"
      ]
     },
     "metadata": {},
     "output_type": "display_data"
    },
    {
     "data": {
      "application/vnd.jupyter.widget-view+json": {
       "model_id": "6703c03c07814d89bea7bf9eb4ae6c78",
       "version_major": 2,
       "version_minor": 0
      },
      "text/plain": [
       "  0%|          | 0/21600 [00:00<?, ?it/s]"
      ]
     },
     "metadata": {},
     "output_type": "display_data"
    },
    {
     "data": {
      "application/vnd.jupyter.widget-view+json": {
       "model_id": "35d4c55f605640d2a9e5e75870353775",
       "version_major": 2,
       "version_minor": 0
      },
      "text/plain": [
       "  0%|          | 0/21600 [00:00<?, ?it/s]"
      ]
     },
     "metadata": {},
     "output_type": "display_data"
    },
    {
     "data": {
      "application/vnd.jupyter.widget-view+json": {
       "model_id": "193b423f893147099f77e8bd6a431650",
       "version_major": 2,
       "version_minor": 0
      },
      "text/plain": [
       "  0%|          | 0/21600 [00:00<?, ?it/s]"
      ]
     },
     "metadata": {},
     "output_type": "display_data"
    },
    {
     "name": "stdout",
     "output_type": "stream",
     "text": [
      "\n",
      "=== Fold 3 ===\n"
     ]
    },
    {
     "data": {
      "application/vnd.jupyter.widget-view+json": {
       "model_id": "62731a6890394c36adde00bb4f36556e",
       "version_major": 2,
       "version_minor": 0
      },
      "text/plain": [
       "  0%|          | 0/21600 [00:00<?, ?it/s]"
      ]
     },
     "metadata": {},
     "output_type": "display_data"
    },
    {
     "data": {
      "application/vnd.jupyter.widget-view+json": {
       "model_id": "2383fb948101482b96f8c8717972333f",
       "version_major": 2,
       "version_minor": 0
      },
      "text/plain": [
       "  0%|          | 0/21600 [00:00<?, ?it/s]"
      ]
     },
     "metadata": {},
     "output_type": "display_data"
    },
    {
     "data": {
      "application/vnd.jupyter.widget-view+json": {
       "model_id": "f3ffdede68f74f6082e49aa8697264b3",
       "version_major": 2,
       "version_minor": 0
      },
      "text/plain": [
       "  0%|          | 0/21600 [00:00<?, ?it/s]"
      ]
     },
     "metadata": {},
     "output_type": "display_data"
    },
    {
     "data": {
      "application/vnd.jupyter.widget-view+json": {
       "model_id": "6fe304744c544324a8db81705d3c5ff3",
       "version_major": 2,
       "version_minor": 0
      },
      "text/plain": [
       "  0%|          | 0/21600 [00:00<?, ?it/s]"
      ]
     },
     "metadata": {},
     "output_type": "display_data"
    },
    {
     "data": {
      "application/vnd.jupyter.widget-view+json": {
       "model_id": "abee28ff61994312aebc3e185444c10c",
       "version_major": 2,
       "version_minor": 0
      },
      "text/plain": [
       "  0%|          | 0/21600 [00:00<?, ?it/s]"
      ]
     },
     "metadata": {},
     "output_type": "display_data"
    },
    {
     "name": "stdout",
     "output_type": "stream",
     "text": [
      "\n",
      "=== Fold 4 ===\n"
     ]
    },
    {
     "data": {
      "application/vnd.jupyter.widget-view+json": {
       "model_id": "c1f83a0f3b954f8aad7fed8f7d5d640c",
       "version_major": 2,
       "version_minor": 0
      },
      "text/plain": [
       "  0%|          | 0/21600 [00:00<?, ?it/s]"
      ]
     },
     "metadata": {},
     "output_type": "display_data"
    },
    {
     "data": {
      "application/vnd.jupyter.widget-view+json": {
       "model_id": "10c9ebfa303c4b19ab5f6c934eedbf39",
       "version_major": 2,
       "version_minor": 0
      },
      "text/plain": [
       "  0%|          | 0/21600 [00:00<?, ?it/s]"
      ]
     },
     "metadata": {},
     "output_type": "display_data"
    },
    {
     "data": {
      "application/vnd.jupyter.widget-view+json": {
       "model_id": "66c89af072d140449078b3c9bafb938a",
       "version_major": 2,
       "version_minor": 0
      },
      "text/plain": [
       "  0%|          | 0/21600 [00:00<?, ?it/s]"
      ]
     },
     "metadata": {},
     "output_type": "display_data"
    },
    {
     "data": {
      "application/vnd.jupyter.widget-view+json": {
       "model_id": "a6fc728dc64d4edeae2f1d0b38533075",
       "version_major": 2,
       "version_minor": 0
      },
      "text/plain": [
       "  0%|          | 0/21600 [00:00<?, ?it/s]"
      ]
     },
     "metadata": {},
     "output_type": "display_data"
    },
    {
     "data": {
      "application/vnd.jupyter.widget-view+json": {
       "model_id": "7058e8b7d2974305b71e5d6e66864cee",
       "version_major": 2,
       "version_minor": 0
      },
      "text/plain": [
       "  0%|          | 0/21600 [00:00<?, ?it/s]"
      ]
     },
     "metadata": {},
     "output_type": "display_data"
    },
    {
     "name": "stdout",
     "output_type": "stream",
     "text": [
      "Avg Validation Loss: 0.4628\n",
      "Testing: LR=0.01, WD=0.01, DR=0.1\n",
      "\n",
      "=== Fold 1 ===\n"
     ]
    },
    {
     "data": {
      "application/vnd.jupyter.widget-view+json": {
       "model_id": "a2e2e5aae31e4d8b9d4847f8b55d2da2",
       "version_major": 2,
       "version_minor": 0
      },
      "text/plain": [
       "  0%|          | 0/21600 [00:00<?, ?it/s]"
      ]
     },
     "metadata": {},
     "output_type": "display_data"
    },
    {
     "data": {
      "application/vnd.jupyter.widget-view+json": {
       "model_id": "8af62423ef94464b9912701eccd139d6",
       "version_major": 2,
       "version_minor": 0
      },
      "text/plain": [
       "  0%|          | 0/21600 [00:00<?, ?it/s]"
      ]
     },
     "metadata": {},
     "output_type": "display_data"
    },
    {
     "data": {
      "application/vnd.jupyter.widget-view+json": {
       "model_id": "8deb94e3dacd43c3abfc1909cc32a21f",
       "version_major": 2,
       "version_minor": 0
      },
      "text/plain": [
       "  0%|          | 0/21600 [00:00<?, ?it/s]"
      ]
     },
     "metadata": {},
     "output_type": "display_data"
    },
    {
     "data": {
      "application/vnd.jupyter.widget-view+json": {
       "model_id": "90f2f9d0b3ab4b6ab8bcc08ab03a8b95",
       "version_major": 2,
       "version_minor": 0
      },
      "text/plain": [
       "  0%|          | 0/21600 [00:00<?, ?it/s]"
      ]
     },
     "metadata": {},
     "output_type": "display_data"
    },
    {
     "data": {
      "application/vnd.jupyter.widget-view+json": {
       "model_id": "d456b6307e1a4b83bf33286defffea51",
       "version_major": 2,
       "version_minor": 0
      },
      "text/plain": [
       "  0%|          | 0/21600 [00:00<?, ?it/s]"
      ]
     },
     "metadata": {},
     "output_type": "display_data"
    },
    {
     "name": "stdout",
     "output_type": "stream",
     "text": [
      "\n",
      "=== Fold 2 ===\n"
     ]
    },
    {
     "data": {
      "application/vnd.jupyter.widget-view+json": {
       "model_id": "06ad6d16df4044c1a2ac7366e216a4d2",
       "version_major": 2,
       "version_minor": 0
      },
      "text/plain": [
       "  0%|          | 0/21600 [00:00<?, ?it/s]"
      ]
     },
     "metadata": {},
     "output_type": "display_data"
    },
    {
     "data": {
      "application/vnd.jupyter.widget-view+json": {
       "model_id": "5620b43767884ad882d2ee4591af2acd",
       "version_major": 2,
       "version_minor": 0
      },
      "text/plain": [
       "  0%|          | 0/21600 [00:00<?, ?it/s]"
      ]
     },
     "metadata": {},
     "output_type": "display_data"
    },
    {
     "data": {
      "application/vnd.jupyter.widget-view+json": {
       "model_id": "4262abff3e48421a80302d959521bf30",
       "version_major": 2,
       "version_minor": 0
      },
      "text/plain": [
       "  0%|          | 0/21600 [00:00<?, ?it/s]"
      ]
     },
     "metadata": {},
     "output_type": "display_data"
    },
    {
     "data": {
      "application/vnd.jupyter.widget-view+json": {
       "model_id": "dc6825cc6ead47029fbb46c7797aedf0",
       "version_major": 2,
       "version_minor": 0
      },
      "text/plain": [
       "  0%|          | 0/21600 [00:00<?, ?it/s]"
      ]
     },
     "metadata": {},
     "output_type": "display_data"
    },
    {
     "data": {
      "application/vnd.jupyter.widget-view+json": {
       "model_id": "149ba8222193480696c77cc86cdb1bed",
       "version_major": 2,
       "version_minor": 0
      },
      "text/plain": [
       "  0%|          | 0/21600 [00:00<?, ?it/s]"
      ]
     },
     "metadata": {},
     "output_type": "display_data"
    },
    {
     "name": "stdout",
     "output_type": "stream",
     "text": [
      "\n",
      "=== Fold 3 ===\n"
     ]
    },
    {
     "data": {
      "application/vnd.jupyter.widget-view+json": {
       "model_id": "206e47a465fb424184086c604bba0e05",
       "version_major": 2,
       "version_minor": 0
      },
      "text/plain": [
       "  0%|          | 0/21600 [00:00<?, ?it/s]"
      ]
     },
     "metadata": {},
     "output_type": "display_data"
    },
    {
     "data": {
      "application/vnd.jupyter.widget-view+json": {
       "model_id": "21a608fcae284bc4b8707dc1ab3c4a81",
       "version_major": 2,
       "version_minor": 0
      },
      "text/plain": [
       "  0%|          | 0/21600 [00:00<?, ?it/s]"
      ]
     },
     "metadata": {},
     "output_type": "display_data"
    },
    {
     "data": {
      "application/vnd.jupyter.widget-view+json": {
       "model_id": "8f19e6c244c744f7ad72088fde6bdfff",
       "version_major": 2,
       "version_minor": 0
      },
      "text/plain": [
       "  0%|          | 0/21600 [00:00<?, ?it/s]"
      ]
     },
     "metadata": {},
     "output_type": "display_data"
    },
    {
     "data": {
      "application/vnd.jupyter.widget-view+json": {
       "model_id": "04a5d5e97ce84dc988fde02b0b0eecfa",
       "version_major": 2,
       "version_minor": 0
      },
      "text/plain": [
       "  0%|          | 0/21600 [00:00<?, ?it/s]"
      ]
     },
     "metadata": {},
     "output_type": "display_data"
    },
    {
     "data": {
      "application/vnd.jupyter.widget-view+json": {
       "model_id": "c6b139aaaec04ba6aca97e83854b1c70",
       "version_major": 2,
       "version_minor": 0
      },
      "text/plain": [
       "  0%|          | 0/21600 [00:00<?, ?it/s]"
      ]
     },
     "metadata": {},
     "output_type": "display_data"
    },
    {
     "name": "stdout",
     "output_type": "stream",
     "text": [
      "\n",
      "=== Fold 4 ===\n"
     ]
    },
    {
     "data": {
      "application/vnd.jupyter.widget-view+json": {
       "model_id": "ae8e30e2fdf444f5b4661f380ed68d3b",
       "version_major": 2,
       "version_minor": 0
      },
      "text/plain": [
       "  0%|          | 0/21600 [00:00<?, ?it/s]"
      ]
     },
     "metadata": {},
     "output_type": "display_data"
    },
    {
     "data": {
      "application/vnd.jupyter.widget-view+json": {
       "model_id": "03708ecd5a1c45c7a95d091b4b57be03",
       "version_major": 2,
       "version_minor": 0
      },
      "text/plain": [
       "  0%|          | 0/21600 [00:00<?, ?it/s]"
      ]
     },
     "metadata": {},
     "output_type": "display_data"
    },
    {
     "data": {
      "application/vnd.jupyter.widget-view+json": {
       "model_id": "d98e725963aa45f3b13c0bb9ce920584",
       "version_major": 2,
       "version_minor": 0
      },
      "text/plain": [
       "  0%|          | 0/21600 [00:00<?, ?it/s]"
      ]
     },
     "metadata": {},
     "output_type": "display_data"
    },
    {
     "data": {
      "application/vnd.jupyter.widget-view+json": {
       "model_id": "2fd93c4bbd664c0abd749f679f0952e8",
       "version_major": 2,
       "version_minor": 0
      },
      "text/plain": [
       "  0%|          | 0/21600 [00:00<?, ?it/s]"
      ]
     },
     "metadata": {},
     "output_type": "display_data"
    },
    {
     "data": {
      "application/vnd.jupyter.widget-view+json": {
       "model_id": "ba8f76f8372b4055bbf92cdbe28eb090",
       "version_major": 2,
       "version_minor": 0
      },
      "text/plain": [
       "  0%|          | 0/21600 [00:00<?, ?it/s]"
      ]
     },
     "metadata": {},
     "output_type": "display_data"
    },
    {
     "name": "stdout",
     "output_type": "stream",
     "text": [
      "Avg Validation Loss: 0.9601\n",
      "Testing: LR=0.001, WD=0.01, DR=0.2\n",
      "\n",
      "=== Fold 1 ===\n"
     ]
    },
    {
     "data": {
      "application/vnd.jupyter.widget-view+json": {
       "model_id": "222708dcb8f94e80aba3cbcd11ddaa37",
       "version_major": 2,
       "version_minor": 0
      },
      "text/plain": [
       "  0%|          | 0/21600 [00:00<?, ?it/s]"
      ]
     },
     "metadata": {},
     "output_type": "display_data"
    },
    {
     "data": {
      "application/vnd.jupyter.widget-view+json": {
       "model_id": "72abe0abbb3149479fce661b9effaabc",
       "version_major": 2,
       "version_minor": 0
      },
      "text/plain": [
       "  0%|          | 0/21600 [00:00<?, ?it/s]"
      ]
     },
     "metadata": {},
     "output_type": "display_data"
    },
    {
     "data": {
      "application/vnd.jupyter.widget-view+json": {
       "model_id": "123e6820d4d5476299eecd6fde48746a",
       "version_major": 2,
       "version_minor": 0
      },
      "text/plain": [
       "  0%|          | 0/21600 [00:00<?, ?it/s]"
      ]
     },
     "metadata": {},
     "output_type": "display_data"
    },
    {
     "data": {
      "application/vnd.jupyter.widget-view+json": {
       "model_id": "68969c8a75304fa48ea67602bca520a7",
       "version_major": 2,
       "version_minor": 0
      },
      "text/plain": [
       "  0%|          | 0/21600 [00:00<?, ?it/s]"
      ]
     },
     "metadata": {},
     "output_type": "display_data"
    },
    {
     "data": {
      "application/vnd.jupyter.widget-view+json": {
       "model_id": "42a22960793e4937ad3ff0b63fcde555",
       "version_major": 2,
       "version_minor": 0
      },
      "text/plain": [
       "  0%|          | 0/21600 [00:00<?, ?it/s]"
      ]
     },
     "metadata": {},
     "output_type": "display_data"
    },
    {
     "name": "stdout",
     "output_type": "stream",
     "text": [
      "\n",
      "=== Fold 2 ===\n"
     ]
    },
    {
     "data": {
      "application/vnd.jupyter.widget-view+json": {
       "model_id": "0895711ffa5e4d15b67cafd807cdbff4",
       "version_major": 2,
       "version_minor": 0
      },
      "text/plain": [
       "  0%|          | 0/21600 [00:00<?, ?it/s]"
      ]
     },
     "metadata": {},
     "output_type": "display_data"
    },
    {
     "data": {
      "application/vnd.jupyter.widget-view+json": {
       "model_id": "e688720fc101405aa683677e07d6a561",
       "version_major": 2,
       "version_minor": 0
      },
      "text/plain": [
       "  0%|          | 0/21600 [00:00<?, ?it/s]"
      ]
     },
     "metadata": {},
     "output_type": "display_data"
    },
    {
     "data": {
      "application/vnd.jupyter.widget-view+json": {
       "model_id": "33cced6191cb4805bfe878e00e559878",
       "version_major": 2,
       "version_minor": 0
      },
      "text/plain": [
       "  0%|          | 0/21600 [00:00<?, ?it/s]"
      ]
     },
     "metadata": {},
     "output_type": "display_data"
    },
    {
     "data": {
      "application/vnd.jupyter.widget-view+json": {
       "model_id": "fb68a8a9815e4c9497ff944ea84c507d",
       "version_major": 2,
       "version_minor": 0
      },
      "text/plain": [
       "  0%|          | 0/21600 [00:00<?, ?it/s]"
      ]
     },
     "metadata": {},
     "output_type": "display_data"
    },
    {
     "data": {
      "application/vnd.jupyter.widget-view+json": {
       "model_id": "ee17729016d34a26a66d7d6b303f4316",
       "version_major": 2,
       "version_minor": 0
      },
      "text/plain": [
       "  0%|          | 0/21600 [00:00<?, ?it/s]"
      ]
     },
     "metadata": {},
     "output_type": "display_data"
    },
    {
     "name": "stdout",
     "output_type": "stream",
     "text": [
      "\n",
      "=== Fold 3 ===\n"
     ]
    },
    {
     "data": {
      "application/vnd.jupyter.widget-view+json": {
       "model_id": "7e0fa9b458c9479bab9cd17041ded59f",
       "version_major": 2,
       "version_minor": 0
      },
      "text/plain": [
       "  0%|          | 0/21600 [00:00<?, ?it/s]"
      ]
     },
     "metadata": {},
     "output_type": "display_data"
    },
    {
     "data": {
      "application/vnd.jupyter.widget-view+json": {
       "model_id": "707cf5b6506f421eb3980ce03c9af663",
       "version_major": 2,
       "version_minor": 0
      },
      "text/plain": [
       "  0%|          | 0/21600 [00:00<?, ?it/s]"
      ]
     },
     "metadata": {},
     "output_type": "display_data"
    },
    {
     "data": {
      "application/vnd.jupyter.widget-view+json": {
       "model_id": "ea0185232ed34adf984f4429565af742",
       "version_major": 2,
       "version_minor": 0
      },
      "text/plain": [
       "  0%|          | 0/21600 [00:00<?, ?it/s]"
      ]
     },
     "metadata": {},
     "output_type": "display_data"
    },
    {
     "data": {
      "application/vnd.jupyter.widget-view+json": {
       "model_id": "9ebac27e0849492cab684caec42a8a50",
       "version_major": 2,
       "version_minor": 0
      },
      "text/plain": [
       "  0%|          | 0/21600 [00:00<?, ?it/s]"
      ]
     },
     "metadata": {},
     "output_type": "display_data"
    },
    {
     "data": {
      "application/vnd.jupyter.widget-view+json": {
       "model_id": "6ff59f545e9a46929de6871650ba8317",
       "version_major": 2,
       "version_minor": 0
      },
      "text/plain": [
       "  0%|          | 0/21600 [00:00<?, ?it/s]"
      ]
     },
     "metadata": {},
     "output_type": "display_data"
    },
    {
     "name": "stdout",
     "output_type": "stream",
     "text": [
      "\n",
      "=== Fold 4 ===\n"
     ]
    },
    {
     "data": {
      "application/vnd.jupyter.widget-view+json": {
       "model_id": "7a8992303f61497b9961d2c66867911d",
       "version_major": 2,
       "version_minor": 0
      },
      "text/plain": [
       "  0%|          | 0/21600 [00:00<?, ?it/s]"
      ]
     },
     "metadata": {},
     "output_type": "display_data"
    },
    {
     "data": {
      "application/vnd.jupyter.widget-view+json": {
       "model_id": "d40882e8d31541b08d7855f806891b78",
       "version_major": 2,
       "version_minor": 0
      },
      "text/plain": [
       "  0%|          | 0/21600 [00:00<?, ?it/s]"
      ]
     },
     "metadata": {},
     "output_type": "display_data"
    },
    {
     "data": {
      "application/vnd.jupyter.widget-view+json": {
       "model_id": "a4f72551d33740f3b34d10299d2b789a",
       "version_major": 2,
       "version_minor": 0
      },
      "text/plain": [
       "  0%|          | 0/21600 [00:00<?, ?it/s]"
      ]
     },
     "metadata": {},
     "output_type": "display_data"
    },
    {
     "data": {
      "application/vnd.jupyter.widget-view+json": {
       "model_id": "4169e40e1b0f4364811b05ff8edccd07",
       "version_major": 2,
       "version_minor": 0
      },
      "text/plain": [
       "  0%|          | 0/21600 [00:00<?, ?it/s]"
      ]
     },
     "metadata": {},
     "output_type": "display_data"
    },
    {
     "data": {
      "application/vnd.jupyter.widget-view+json": {
       "model_id": "69e51c01630e4ade8e1658a4adb76433",
       "version_major": 2,
       "version_minor": 0
      },
      "text/plain": [
       "  0%|          | 0/21600 [00:00<?, ?it/s]"
      ]
     },
     "metadata": {},
     "output_type": "display_data"
    },
    {
     "name": "stdout",
     "output_type": "stream",
     "text": [
      "Avg Validation Loss: 0.2882\n",
      "Testing: LR=0.005, WD=0.01, DR=0.2\n",
      "\n",
      "=== Fold 1 ===\n"
     ]
    },
    {
     "data": {
      "application/vnd.jupyter.widget-view+json": {
       "model_id": "3b544561656448498565891106e82630",
       "version_major": 2,
       "version_minor": 0
      },
      "text/plain": [
       "  0%|          | 0/21600 [00:00<?, ?it/s]"
      ]
     },
     "metadata": {},
     "output_type": "display_data"
    },
    {
     "data": {
      "application/vnd.jupyter.widget-view+json": {
       "model_id": "62bff27bdc8b49008f0ca83cb5ca6080",
       "version_major": 2,
       "version_minor": 0
      },
      "text/plain": [
       "  0%|          | 0/21600 [00:00<?, ?it/s]"
      ]
     },
     "metadata": {},
     "output_type": "display_data"
    },
    {
     "data": {
      "application/vnd.jupyter.widget-view+json": {
       "model_id": "e3afd87164774086a0abe7b2eaa7e6a9",
       "version_major": 2,
       "version_minor": 0
      },
      "text/plain": [
       "  0%|          | 0/21600 [00:00<?, ?it/s]"
      ]
     },
     "metadata": {},
     "output_type": "display_data"
    },
    {
     "data": {
      "application/vnd.jupyter.widget-view+json": {
       "model_id": "61f034e3189d4110b7ab95d7806a5d9d",
       "version_major": 2,
       "version_minor": 0
      },
      "text/plain": [
       "  0%|          | 0/21600 [00:00<?, ?it/s]"
      ]
     },
     "metadata": {},
     "output_type": "display_data"
    },
    {
     "data": {
      "application/vnd.jupyter.widget-view+json": {
       "model_id": "b4590f02074d44538a12bba48e0a7c42",
       "version_major": 2,
       "version_minor": 0
      },
      "text/plain": [
       "  0%|          | 0/21600 [00:00<?, ?it/s]"
      ]
     },
     "metadata": {},
     "output_type": "display_data"
    },
    {
     "name": "stdout",
     "output_type": "stream",
     "text": [
      "\n",
      "=== Fold 2 ===\n"
     ]
    },
    {
     "data": {
      "application/vnd.jupyter.widget-view+json": {
       "model_id": "9837cbe6b6fb4a2886a3e8be974073f3",
       "version_major": 2,
       "version_minor": 0
      },
      "text/plain": [
       "  0%|          | 0/21600 [00:00<?, ?it/s]"
      ]
     },
     "metadata": {},
     "output_type": "display_data"
    },
    {
     "data": {
      "application/vnd.jupyter.widget-view+json": {
       "model_id": "196a4d512d634b1ab578d2d686c04c26",
       "version_major": 2,
       "version_minor": 0
      },
      "text/plain": [
       "  0%|          | 0/21600 [00:00<?, ?it/s]"
      ]
     },
     "metadata": {},
     "output_type": "display_data"
    },
    {
     "data": {
      "application/vnd.jupyter.widget-view+json": {
       "model_id": "cad1f72ca1ec49298c7e2dda8ecfdca2",
       "version_major": 2,
       "version_minor": 0
      },
      "text/plain": [
       "  0%|          | 0/21600 [00:00<?, ?it/s]"
      ]
     },
     "metadata": {},
     "output_type": "display_data"
    },
    {
     "data": {
      "application/vnd.jupyter.widget-view+json": {
       "model_id": "b8fbbb06920b4a38bd7591c846e91849",
       "version_major": 2,
       "version_minor": 0
      },
      "text/plain": [
       "  0%|          | 0/21600 [00:00<?, ?it/s]"
      ]
     },
     "metadata": {},
     "output_type": "display_data"
    },
    {
     "data": {
      "application/vnd.jupyter.widget-view+json": {
       "model_id": "d472c0c0e4db46bab13ff7d5f1f1c1d5",
       "version_major": 2,
       "version_minor": 0
      },
      "text/plain": [
       "  0%|          | 0/21600 [00:00<?, ?it/s]"
      ]
     },
     "metadata": {},
     "output_type": "display_data"
    },
    {
     "name": "stdout",
     "output_type": "stream",
     "text": [
      "\n",
      "=== Fold 3 ===\n"
     ]
    },
    {
     "data": {
      "application/vnd.jupyter.widget-view+json": {
       "model_id": "7b90798b721d4c84be775080e14ccd99",
       "version_major": 2,
       "version_minor": 0
      },
      "text/plain": [
       "  0%|          | 0/21600 [00:00<?, ?it/s]"
      ]
     },
     "metadata": {},
     "output_type": "display_data"
    },
    {
     "data": {
      "application/vnd.jupyter.widget-view+json": {
       "model_id": "8de23636e04442aca30667b7c4961265",
       "version_major": 2,
       "version_minor": 0
      },
      "text/plain": [
       "  0%|          | 0/21600 [00:00<?, ?it/s]"
      ]
     },
     "metadata": {},
     "output_type": "display_data"
    },
    {
     "data": {
      "application/vnd.jupyter.widget-view+json": {
       "model_id": "f1bf05d4d8334b43a5b752b96bdb164f",
       "version_major": 2,
       "version_minor": 0
      },
      "text/plain": [
       "  0%|          | 0/21600 [00:00<?, ?it/s]"
      ]
     },
     "metadata": {},
     "output_type": "display_data"
    },
    {
     "data": {
      "application/vnd.jupyter.widget-view+json": {
       "model_id": "d5bf024d08a04dc1b9d328c8b785c6d4",
       "version_major": 2,
       "version_minor": 0
      },
      "text/plain": [
       "  0%|          | 0/21600 [00:00<?, ?it/s]"
      ]
     },
     "metadata": {},
     "output_type": "display_data"
    },
    {
     "data": {
      "application/vnd.jupyter.widget-view+json": {
       "model_id": "87402b75e88941728cdb673209bf3395",
       "version_major": 2,
       "version_minor": 0
      },
      "text/plain": [
       "  0%|          | 0/21600 [00:00<?, ?it/s]"
      ]
     },
     "metadata": {},
     "output_type": "display_data"
    },
    {
     "name": "stdout",
     "output_type": "stream",
     "text": [
      "\n",
      "=== Fold 4 ===\n"
     ]
    },
    {
     "data": {
      "application/vnd.jupyter.widget-view+json": {
       "model_id": "c5c88c99f8a6480ea5cc5cf549112fec",
       "version_major": 2,
       "version_minor": 0
      },
      "text/plain": [
       "  0%|          | 0/21600 [00:00<?, ?it/s]"
      ]
     },
     "metadata": {},
     "output_type": "display_data"
    },
    {
     "data": {
      "application/vnd.jupyter.widget-view+json": {
       "model_id": "390d9333c3084279924c589a211a037b",
       "version_major": 2,
       "version_minor": 0
      },
      "text/plain": [
       "  0%|          | 0/21600 [00:00<?, ?it/s]"
      ]
     },
     "metadata": {},
     "output_type": "display_data"
    },
    {
     "data": {
      "application/vnd.jupyter.widget-view+json": {
       "model_id": "0de9e28fc3024de0bc3dd89cbc5da038",
       "version_major": 2,
       "version_minor": 0
      },
      "text/plain": [
       "  0%|          | 0/21600 [00:00<?, ?it/s]"
      ]
     },
     "metadata": {},
     "output_type": "display_data"
    },
    {
     "data": {
      "application/vnd.jupyter.widget-view+json": {
       "model_id": "fb15823d15bd4b9986cd23e945ce0c45",
       "version_major": 2,
       "version_minor": 0
      },
      "text/plain": [
       "  0%|          | 0/21600 [00:00<?, ?it/s]"
      ]
     },
     "metadata": {},
     "output_type": "display_data"
    },
    {
     "data": {
      "application/vnd.jupyter.widget-view+json": {
       "model_id": "8c8a60a9530c4db2bbec23c611a51351",
       "version_major": 2,
       "version_minor": 0
      },
      "text/plain": [
       "  0%|          | 0/21600 [00:00<?, ?it/s]"
      ]
     },
     "metadata": {},
     "output_type": "display_data"
    },
    {
     "name": "stdout",
     "output_type": "stream",
     "text": [
      "Avg Validation Loss: 0.6931\n",
      "Testing: LR=0.01, WD=0.01, DR=0.2\n",
      "\n",
      "=== Fold 1 ===\n"
     ]
    },
    {
     "data": {
      "application/vnd.jupyter.widget-view+json": {
       "model_id": "eb5a04d3429a4d2da665e7b03d556bad",
       "version_major": 2,
       "version_minor": 0
      },
      "text/plain": [
       "  0%|          | 0/21600 [00:00<?, ?it/s]"
      ]
     },
     "metadata": {},
     "output_type": "display_data"
    },
    {
     "data": {
      "application/vnd.jupyter.widget-view+json": {
       "model_id": "a4583d8aef0046488db1f5dd632912d4",
       "version_major": 2,
       "version_minor": 0
      },
      "text/plain": [
       "  0%|          | 0/21600 [00:00<?, ?it/s]"
      ]
     },
     "metadata": {},
     "output_type": "display_data"
    },
    {
     "data": {
      "application/vnd.jupyter.widget-view+json": {
       "model_id": "2378f96234c34e4f996363f81bc41e48",
       "version_major": 2,
       "version_minor": 0
      },
      "text/plain": [
       "  0%|          | 0/21600 [00:00<?, ?it/s]"
      ]
     },
     "metadata": {},
     "output_type": "display_data"
    },
    {
     "data": {
      "application/vnd.jupyter.widget-view+json": {
       "model_id": "b29dc3c2e5e64abb92eb5315f2a21b64",
       "version_major": 2,
       "version_minor": 0
      },
      "text/plain": [
       "  0%|          | 0/21600 [00:00<?, ?it/s]"
      ]
     },
     "metadata": {},
     "output_type": "display_data"
    },
    {
     "data": {
      "application/vnd.jupyter.widget-view+json": {
       "model_id": "0fbe6ccc4c9b456fb23c7726fda30180",
       "version_major": 2,
       "version_minor": 0
      },
      "text/plain": [
       "  0%|          | 0/21600 [00:00<?, ?it/s]"
      ]
     },
     "metadata": {},
     "output_type": "display_data"
    },
    {
     "name": "stdout",
     "output_type": "stream",
     "text": [
      "\n",
      "=== Fold 2 ===\n"
     ]
    },
    {
     "data": {
      "application/vnd.jupyter.widget-view+json": {
       "model_id": "82768729dcc94ff68d21d8bba0dfc01e",
       "version_major": 2,
       "version_minor": 0
      },
      "text/plain": [
       "  0%|          | 0/21600 [00:00<?, ?it/s]"
      ]
     },
     "metadata": {},
     "output_type": "display_data"
    },
    {
     "data": {
      "application/vnd.jupyter.widget-view+json": {
       "model_id": "8888781a274d489babe4758b14b09b01",
       "version_major": 2,
       "version_minor": 0
      },
      "text/plain": [
       "  0%|          | 0/21600 [00:00<?, ?it/s]"
      ]
     },
     "metadata": {},
     "output_type": "display_data"
    },
    {
     "data": {
      "application/vnd.jupyter.widget-view+json": {
       "model_id": "5a97473b336f4679a4ce18deca69eb61",
       "version_major": 2,
       "version_minor": 0
      },
      "text/plain": [
       "  0%|          | 0/21600 [00:00<?, ?it/s]"
      ]
     },
     "metadata": {},
     "output_type": "display_data"
    },
    {
     "data": {
      "application/vnd.jupyter.widget-view+json": {
       "model_id": "4c94949a72c74b85bed47852f260e540",
       "version_major": 2,
       "version_minor": 0
      },
      "text/plain": [
       "  0%|          | 0/21600 [00:00<?, ?it/s]"
      ]
     },
     "metadata": {},
     "output_type": "display_data"
    },
    {
     "data": {
      "application/vnd.jupyter.widget-view+json": {
       "model_id": "13e9befc9aba4ae2a1a290579cef96f9",
       "version_major": 2,
       "version_minor": 0
      },
      "text/plain": [
       "  0%|          | 0/21600 [00:00<?, ?it/s]"
      ]
     },
     "metadata": {},
     "output_type": "display_data"
    },
    {
     "name": "stdout",
     "output_type": "stream",
     "text": [
      "\n",
      "=== Fold 3 ===\n"
     ]
    },
    {
     "data": {
      "application/vnd.jupyter.widget-view+json": {
       "model_id": "b2a26504a85d456fa9a55cbb8d17d301",
       "version_major": 2,
       "version_minor": 0
      },
      "text/plain": [
       "  0%|          | 0/21600 [00:00<?, ?it/s]"
      ]
     },
     "metadata": {},
     "output_type": "display_data"
    },
    {
     "data": {
      "application/vnd.jupyter.widget-view+json": {
       "model_id": "1ba89761efe84a4198b08f9d060c8e99",
       "version_major": 2,
       "version_minor": 0
      },
      "text/plain": [
       "  0%|          | 0/21600 [00:00<?, ?it/s]"
      ]
     },
     "metadata": {},
     "output_type": "display_data"
    },
    {
     "data": {
      "application/vnd.jupyter.widget-view+json": {
       "model_id": "085cedd35fc540528d24fefdea1ea002",
       "version_major": 2,
       "version_minor": 0
      },
      "text/plain": [
       "  0%|          | 0/21600 [00:00<?, ?it/s]"
      ]
     },
     "metadata": {},
     "output_type": "display_data"
    },
    {
     "data": {
      "application/vnd.jupyter.widget-view+json": {
       "model_id": "1f7d67eb714e4652a91dffcc9452fcba",
       "version_major": 2,
       "version_minor": 0
      },
      "text/plain": [
       "  0%|          | 0/21600 [00:00<?, ?it/s]"
      ]
     },
     "metadata": {},
     "output_type": "display_data"
    },
    {
     "data": {
      "application/vnd.jupyter.widget-view+json": {
       "model_id": "09ac04f89c834f78b54c1934789e7063",
       "version_major": 2,
       "version_minor": 0
      },
      "text/plain": [
       "  0%|          | 0/21600 [00:00<?, ?it/s]"
      ]
     },
     "metadata": {},
     "output_type": "display_data"
    },
    {
     "name": "stdout",
     "output_type": "stream",
     "text": [
      "\n",
      "=== Fold 4 ===\n"
     ]
    },
    {
     "data": {
      "application/vnd.jupyter.widget-view+json": {
       "model_id": "87612578010f4d00a86f8459770d4fc4",
       "version_major": 2,
       "version_minor": 0
      },
      "text/plain": [
       "  0%|          | 0/21600 [00:00<?, ?it/s]"
      ]
     },
     "metadata": {},
     "output_type": "display_data"
    },
    {
     "data": {
      "application/vnd.jupyter.widget-view+json": {
       "model_id": "81d339375fda49ba9ad1afbe99ae7bbc",
       "version_major": 2,
       "version_minor": 0
      },
      "text/plain": [
       "  0%|          | 0/21600 [00:00<?, ?it/s]"
      ]
     },
     "metadata": {},
     "output_type": "display_data"
    },
    {
     "data": {
      "application/vnd.jupyter.widget-view+json": {
       "model_id": "120eb6a86e6e46bb83708d78921a279a",
       "version_major": 2,
       "version_minor": 0
      },
      "text/plain": [
       "  0%|          | 0/21600 [00:00<?, ?it/s]"
      ]
     },
     "metadata": {},
     "output_type": "display_data"
    },
    {
     "data": {
      "application/vnd.jupyter.widget-view+json": {
       "model_id": "d7b3c10d905d48dfbab300e06fc0b4f3",
       "version_major": 2,
       "version_minor": 0
      },
      "text/plain": [
       "  0%|          | 0/21600 [00:00<?, ?it/s]"
      ]
     },
     "metadata": {},
     "output_type": "display_data"
    },
    {
     "data": {
      "application/vnd.jupyter.widget-view+json": {
       "model_id": "15b0d3211cf24765984daea8503747f4",
       "version_major": 2,
       "version_minor": 0
      },
      "text/plain": [
       "  0%|          | 0/21600 [00:00<?, ?it/s]"
      ]
     },
     "metadata": {},
     "output_type": "display_data"
    },
    {
     "name": "stdout",
     "output_type": "stream",
     "text": [
      "Avg Validation Loss: 0.5389\n",
      "Testing: LR=0.001, WD=0.01, DR=0.3\n",
      "\n",
      "=== Fold 1 ===\n"
     ]
    },
    {
     "data": {
      "application/vnd.jupyter.widget-view+json": {
       "model_id": "69065a23e9864270b0f87a3aec9b9962",
       "version_major": 2,
       "version_minor": 0
      },
      "text/plain": [
       "  0%|          | 0/21600 [00:00<?, ?it/s]"
      ]
     },
     "metadata": {},
     "output_type": "display_data"
    },
    {
     "data": {
      "application/vnd.jupyter.widget-view+json": {
       "model_id": "ab55b92fe56d4f429e57fdc04ed0eb2a",
       "version_major": 2,
       "version_minor": 0
      },
      "text/plain": [
       "  0%|          | 0/21600 [00:00<?, ?it/s]"
      ]
     },
     "metadata": {},
     "output_type": "display_data"
    },
    {
     "data": {
      "application/vnd.jupyter.widget-view+json": {
       "model_id": "16346e5fa4da41f6b20d2bc48f3446b1",
       "version_major": 2,
       "version_minor": 0
      },
      "text/plain": [
       "  0%|          | 0/21600 [00:00<?, ?it/s]"
      ]
     },
     "metadata": {},
     "output_type": "display_data"
    },
    {
     "data": {
      "application/vnd.jupyter.widget-view+json": {
       "model_id": "661188fb55b346b1801efd7dd20560e1",
       "version_major": 2,
       "version_minor": 0
      },
      "text/plain": [
       "  0%|          | 0/21600 [00:00<?, ?it/s]"
      ]
     },
     "metadata": {},
     "output_type": "display_data"
    },
    {
     "data": {
      "application/vnd.jupyter.widget-view+json": {
       "model_id": "b44afdc66722413fa4cefca38049a69a",
       "version_major": 2,
       "version_minor": 0
      },
      "text/plain": [
       "  0%|          | 0/21600 [00:00<?, ?it/s]"
      ]
     },
     "metadata": {},
     "output_type": "display_data"
    },
    {
     "name": "stdout",
     "output_type": "stream",
     "text": [
      "\n",
      "=== Fold 2 ===\n"
     ]
    },
    {
     "data": {
      "application/vnd.jupyter.widget-view+json": {
       "model_id": "81c79d9a8191441ab22abd75601684a8",
       "version_major": 2,
       "version_minor": 0
      },
      "text/plain": [
       "  0%|          | 0/21600 [00:00<?, ?it/s]"
      ]
     },
     "metadata": {},
     "output_type": "display_data"
    },
    {
     "data": {
      "application/vnd.jupyter.widget-view+json": {
       "model_id": "b1e71c6ed9de4bde88198e7c54016494",
       "version_major": 2,
       "version_minor": 0
      },
      "text/plain": [
       "  0%|          | 0/21600 [00:00<?, ?it/s]"
      ]
     },
     "metadata": {},
     "output_type": "display_data"
    },
    {
     "data": {
      "application/vnd.jupyter.widget-view+json": {
       "model_id": "8c72874da83c43cb935b3860b981a41c",
       "version_major": 2,
       "version_minor": 0
      },
      "text/plain": [
       "  0%|          | 0/21600 [00:00<?, ?it/s]"
      ]
     },
     "metadata": {},
     "output_type": "display_data"
    },
    {
     "data": {
      "application/vnd.jupyter.widget-view+json": {
       "model_id": "34fe112890c3446298ba9d293b967fe5",
       "version_major": 2,
       "version_minor": 0
      },
      "text/plain": [
       "  0%|          | 0/21600 [00:00<?, ?it/s]"
      ]
     },
     "metadata": {},
     "output_type": "display_data"
    },
    {
     "data": {
      "application/vnd.jupyter.widget-view+json": {
       "model_id": "235d22362986452d9a632389a9138ec2",
       "version_major": 2,
       "version_minor": 0
      },
      "text/plain": [
       "  0%|          | 0/21600 [00:00<?, ?it/s]"
      ]
     },
     "metadata": {},
     "output_type": "display_data"
    },
    {
     "name": "stdout",
     "output_type": "stream",
     "text": [
      "\n",
      "=== Fold 3 ===\n"
     ]
    },
    {
     "data": {
      "application/vnd.jupyter.widget-view+json": {
       "model_id": "7daaff1a32a14db1981a902fc2dd88f7",
       "version_major": 2,
       "version_minor": 0
      },
      "text/plain": [
       "  0%|          | 0/21600 [00:00<?, ?it/s]"
      ]
     },
     "metadata": {},
     "output_type": "display_data"
    },
    {
     "data": {
      "application/vnd.jupyter.widget-view+json": {
       "model_id": "3ef4d28e7ebe444d9e251cbb15a9be50",
       "version_major": 2,
       "version_minor": 0
      },
      "text/plain": [
       "  0%|          | 0/21600 [00:00<?, ?it/s]"
      ]
     },
     "metadata": {},
     "output_type": "display_data"
    },
    {
     "data": {
      "application/vnd.jupyter.widget-view+json": {
       "model_id": "00f42f43c3574cc4a57e473f81534cb0",
       "version_major": 2,
       "version_minor": 0
      },
      "text/plain": [
       "  0%|          | 0/21600 [00:00<?, ?it/s]"
      ]
     },
     "metadata": {},
     "output_type": "display_data"
    },
    {
     "data": {
      "application/vnd.jupyter.widget-view+json": {
       "model_id": "bbc86a74d61b45b3867ec4ea2fb4aad3",
       "version_major": 2,
       "version_minor": 0
      },
      "text/plain": [
       "  0%|          | 0/21600 [00:00<?, ?it/s]"
      ]
     },
     "metadata": {},
     "output_type": "display_data"
    },
    {
     "data": {
      "application/vnd.jupyter.widget-view+json": {
       "model_id": "ed3f333d00224fffbf13e82447e5167b",
       "version_major": 2,
       "version_minor": 0
      },
      "text/plain": [
       "  0%|          | 0/21600 [00:00<?, ?it/s]"
      ]
     },
     "metadata": {},
     "output_type": "display_data"
    },
    {
     "name": "stdout",
     "output_type": "stream",
     "text": [
      "\n",
      "=== Fold 4 ===\n"
     ]
    },
    {
     "data": {
      "application/vnd.jupyter.widget-view+json": {
       "model_id": "f199ceffa3bb44cbaf6ffa9cc4cb1aa8",
       "version_major": 2,
       "version_minor": 0
      },
      "text/plain": [
       "  0%|          | 0/21600 [00:00<?, ?it/s]"
      ]
     },
     "metadata": {},
     "output_type": "display_data"
    },
    {
     "data": {
      "application/vnd.jupyter.widget-view+json": {
       "model_id": "fcbbc0c80aec4f5cb367cf21f8c58bc5",
       "version_major": 2,
       "version_minor": 0
      },
      "text/plain": [
       "  0%|          | 0/21600 [00:00<?, ?it/s]"
      ]
     },
     "metadata": {},
     "output_type": "display_data"
    },
    {
     "data": {
      "application/vnd.jupyter.widget-view+json": {
       "model_id": "edd14fe93342493d9f9a91bf204290a9",
       "version_major": 2,
       "version_minor": 0
      },
      "text/plain": [
       "  0%|          | 0/21600 [00:00<?, ?it/s]"
      ]
     },
     "metadata": {},
     "output_type": "display_data"
    },
    {
     "data": {
      "application/vnd.jupyter.widget-view+json": {
       "model_id": "4eb49244b4fe41ce90bcc76cf384f9b1",
       "version_major": 2,
       "version_minor": 0
      },
      "text/plain": [
       "  0%|          | 0/21600 [00:00<?, ?it/s]"
      ]
     },
     "metadata": {},
     "output_type": "display_data"
    },
    {
     "data": {
      "application/vnd.jupyter.widget-view+json": {
       "model_id": "384b23fd912c4ad1bd0ae8ce70fff7bd",
       "version_major": 2,
       "version_minor": 0
      },
      "text/plain": [
       "  0%|          | 0/21600 [00:00<?, ?it/s]"
      ]
     },
     "metadata": {},
     "output_type": "display_data"
    },
    {
     "name": "stdout",
     "output_type": "stream",
     "text": [
      "Avg Validation Loss: 0.4211\n",
      "Testing: LR=0.005, WD=0.01, DR=0.3\n",
      "\n",
      "=== Fold 1 ===\n"
     ]
    },
    {
     "data": {
      "application/vnd.jupyter.widget-view+json": {
       "model_id": "d96debb690634693b2ae3b80added28d",
       "version_major": 2,
       "version_minor": 0
      },
      "text/plain": [
       "  0%|          | 0/21600 [00:00<?, ?it/s]"
      ]
     },
     "metadata": {},
     "output_type": "display_data"
    },
    {
     "data": {
      "application/vnd.jupyter.widget-view+json": {
       "model_id": "223d372ed30c4eb686325f0c81291e1f",
       "version_major": 2,
       "version_minor": 0
      },
      "text/plain": [
       "  0%|          | 0/21600 [00:00<?, ?it/s]"
      ]
     },
     "metadata": {},
     "output_type": "display_data"
    },
    {
     "data": {
      "application/vnd.jupyter.widget-view+json": {
       "model_id": "467ef4019cdf41348a17174c4721e560",
       "version_major": 2,
       "version_minor": 0
      },
      "text/plain": [
       "  0%|          | 0/21600 [00:00<?, ?it/s]"
      ]
     },
     "metadata": {},
     "output_type": "display_data"
    },
    {
     "data": {
      "application/vnd.jupyter.widget-view+json": {
       "model_id": "c11a9d32bb4d47e4ba38486762ba0eae",
       "version_major": 2,
       "version_minor": 0
      },
      "text/plain": [
       "  0%|          | 0/21600 [00:00<?, ?it/s]"
      ]
     },
     "metadata": {},
     "output_type": "display_data"
    },
    {
     "data": {
      "application/vnd.jupyter.widget-view+json": {
       "model_id": "f06cb0a547744ed7a3559f53f39c2a15",
       "version_major": 2,
       "version_minor": 0
      },
      "text/plain": [
       "  0%|          | 0/21600 [00:00<?, ?it/s]"
      ]
     },
     "metadata": {},
     "output_type": "display_data"
    },
    {
     "name": "stdout",
     "output_type": "stream",
     "text": [
      "\n",
      "=== Fold 2 ===\n"
     ]
    },
    {
     "data": {
      "application/vnd.jupyter.widget-view+json": {
       "model_id": "4ad3b2e3c4544077a8cbcb03f48369d9",
       "version_major": 2,
       "version_minor": 0
      },
      "text/plain": [
       "  0%|          | 0/21600 [00:00<?, ?it/s]"
      ]
     },
     "metadata": {},
     "output_type": "display_data"
    },
    {
     "data": {
      "application/vnd.jupyter.widget-view+json": {
       "model_id": "3278064dd7b54daf8fa1ceae700e5af5",
       "version_major": 2,
       "version_minor": 0
      },
      "text/plain": [
       "  0%|          | 0/21600 [00:00<?, ?it/s]"
      ]
     },
     "metadata": {},
     "output_type": "display_data"
    },
    {
     "data": {
      "application/vnd.jupyter.widget-view+json": {
       "model_id": "0355ac1f0ae7433a91c532612ed4d020",
       "version_major": 2,
       "version_minor": 0
      },
      "text/plain": [
       "  0%|          | 0/21600 [00:00<?, ?it/s]"
      ]
     },
     "metadata": {},
     "output_type": "display_data"
    },
    {
     "data": {
      "application/vnd.jupyter.widget-view+json": {
       "model_id": "7c11149bf43c42f3816775d9a16b4958",
       "version_major": 2,
       "version_minor": 0
      },
      "text/plain": [
       "  0%|          | 0/21600 [00:00<?, ?it/s]"
      ]
     },
     "metadata": {},
     "output_type": "display_data"
    },
    {
     "data": {
      "application/vnd.jupyter.widget-view+json": {
       "model_id": "51171c71ede649fe9edc170c95bfb32f",
       "version_major": 2,
       "version_minor": 0
      },
      "text/plain": [
       "  0%|          | 0/21600 [00:00<?, ?it/s]"
      ]
     },
     "metadata": {},
     "output_type": "display_data"
    },
    {
     "name": "stdout",
     "output_type": "stream",
     "text": [
      "\n",
      "=== Fold 3 ===\n"
     ]
    },
    {
     "data": {
      "application/vnd.jupyter.widget-view+json": {
       "model_id": "a35e07deb95242f1bc017e7b5c47d818",
       "version_major": 2,
       "version_minor": 0
      },
      "text/plain": [
       "  0%|          | 0/21600 [00:00<?, ?it/s]"
      ]
     },
     "metadata": {},
     "output_type": "display_data"
    },
    {
     "data": {
      "application/vnd.jupyter.widget-view+json": {
       "model_id": "1daede8324474c6f884136ce2fb4f039",
       "version_major": 2,
       "version_minor": 0
      },
      "text/plain": [
       "  0%|          | 0/21600 [00:00<?, ?it/s]"
      ]
     },
     "metadata": {},
     "output_type": "display_data"
    },
    {
     "data": {
      "application/vnd.jupyter.widget-view+json": {
       "model_id": "bbd63412159f4958989a6f8553764481",
       "version_major": 2,
       "version_minor": 0
      },
      "text/plain": [
       "  0%|          | 0/21600 [00:00<?, ?it/s]"
      ]
     },
     "metadata": {},
     "output_type": "display_data"
    },
    {
     "data": {
      "application/vnd.jupyter.widget-view+json": {
       "model_id": "5d26effd79f1429d8a7083872dcfbf54",
       "version_major": 2,
       "version_minor": 0
      },
      "text/plain": [
       "  0%|          | 0/21600 [00:00<?, ?it/s]"
      ]
     },
     "metadata": {},
     "output_type": "display_data"
    },
    {
     "data": {
      "application/vnd.jupyter.widget-view+json": {
       "model_id": "dfe8fa09db2e4965b9727121faa83a74",
       "version_major": 2,
       "version_minor": 0
      },
      "text/plain": [
       "  0%|          | 0/21600 [00:00<?, ?it/s]"
      ]
     },
     "metadata": {},
     "output_type": "display_data"
    },
    {
     "name": "stdout",
     "output_type": "stream",
     "text": [
      "\n",
      "=== Fold 4 ===\n"
     ]
    },
    {
     "data": {
      "application/vnd.jupyter.widget-view+json": {
       "model_id": "63692a56c0fb4d3088dc8d8ae429c438",
       "version_major": 2,
       "version_minor": 0
      },
      "text/plain": [
       "  0%|          | 0/21600 [00:00<?, ?it/s]"
      ]
     },
     "metadata": {},
     "output_type": "display_data"
    },
    {
     "data": {
      "application/vnd.jupyter.widget-view+json": {
       "model_id": "07fed5829c07407aa6def4a04da0fb64",
       "version_major": 2,
       "version_minor": 0
      },
      "text/plain": [
       "  0%|          | 0/21600 [00:00<?, ?it/s]"
      ]
     },
     "metadata": {},
     "output_type": "display_data"
    },
    {
     "data": {
      "application/vnd.jupyter.widget-view+json": {
       "model_id": "ffce40adcfeb4e77b8a8f0ae500d5e46",
       "version_major": 2,
       "version_minor": 0
      },
      "text/plain": [
       "  0%|          | 0/21600 [00:00<?, ?it/s]"
      ]
     },
     "metadata": {},
     "output_type": "display_data"
    },
    {
     "data": {
      "application/vnd.jupyter.widget-view+json": {
       "model_id": "9180027c0cbb4bcd8fcb8f88146fbbea",
       "version_major": 2,
       "version_minor": 0
      },
      "text/plain": [
       "  0%|          | 0/21600 [00:00<?, ?it/s]"
      ]
     },
     "metadata": {},
     "output_type": "display_data"
    },
    {
     "data": {
      "application/vnd.jupyter.widget-view+json": {
       "model_id": "782985427b3747169a8a634a9a1f7fe2",
       "version_major": 2,
       "version_minor": 0
      },
      "text/plain": [
       "  0%|          | 0/21600 [00:00<?, ?it/s]"
      ]
     },
     "metadata": {},
     "output_type": "display_data"
    },
    {
     "name": "stdout",
     "output_type": "stream",
     "text": [
      "Avg Validation Loss: 0.5831\n",
      "Testing: LR=0.01, WD=0.01, DR=0.3\n",
      "\n",
      "=== Fold 1 ===\n"
     ]
    },
    {
     "data": {
      "application/vnd.jupyter.widget-view+json": {
       "model_id": "ecfaf0cc48f44d6fb4e525c106488481",
       "version_major": 2,
       "version_minor": 0
      },
      "text/plain": [
       "  0%|          | 0/21600 [00:00<?, ?it/s]"
      ]
     },
     "metadata": {},
     "output_type": "display_data"
    },
    {
     "data": {
      "application/vnd.jupyter.widget-view+json": {
       "model_id": "83c16b565133432aac402fbca01099cd",
       "version_major": 2,
       "version_minor": 0
      },
      "text/plain": [
       "  0%|          | 0/21600 [00:00<?, ?it/s]"
      ]
     },
     "metadata": {},
     "output_type": "display_data"
    },
    {
     "data": {
      "application/vnd.jupyter.widget-view+json": {
       "model_id": "ca0f6d66ef1c4ef9b73dc8be5e358454",
       "version_major": 2,
       "version_minor": 0
      },
      "text/plain": [
       "  0%|          | 0/21600 [00:00<?, ?it/s]"
      ]
     },
     "metadata": {},
     "output_type": "display_data"
    },
    {
     "data": {
      "application/vnd.jupyter.widget-view+json": {
       "model_id": "80b5168121874f16a3ab1598fbc48bd7",
       "version_major": 2,
       "version_minor": 0
      },
      "text/plain": [
       "  0%|          | 0/21600 [00:00<?, ?it/s]"
      ]
     },
     "metadata": {},
     "output_type": "display_data"
    },
    {
     "data": {
      "application/vnd.jupyter.widget-view+json": {
       "model_id": "d1ab618c2bbf4a7fa0ace68e4f4daa01",
       "version_major": 2,
       "version_minor": 0
      },
      "text/plain": [
       "  0%|          | 0/21600 [00:00<?, ?it/s]"
      ]
     },
     "metadata": {},
     "output_type": "display_data"
    },
    {
     "name": "stdout",
     "output_type": "stream",
     "text": [
      "\n",
      "=== Fold 2 ===\n"
     ]
    },
    {
     "data": {
      "application/vnd.jupyter.widget-view+json": {
       "model_id": "cbdcd8eacf654c5fb2ed9d43cac366ae",
       "version_major": 2,
       "version_minor": 0
      },
      "text/plain": [
       "  0%|          | 0/21600 [00:00<?, ?it/s]"
      ]
     },
     "metadata": {},
     "output_type": "display_data"
    },
    {
     "data": {
      "application/vnd.jupyter.widget-view+json": {
       "model_id": "b598924f57b940339922ef74c55414f7",
       "version_major": 2,
       "version_minor": 0
      },
      "text/plain": [
       "  0%|          | 0/21600 [00:00<?, ?it/s]"
      ]
     },
     "metadata": {},
     "output_type": "display_data"
    },
    {
     "data": {
      "application/vnd.jupyter.widget-view+json": {
       "model_id": "e0ea833c05414b5fbd9a092b57e7afcd",
       "version_major": 2,
       "version_minor": 0
      },
      "text/plain": [
       "  0%|          | 0/21600 [00:00<?, ?it/s]"
      ]
     },
     "metadata": {},
     "output_type": "display_data"
    },
    {
     "data": {
      "application/vnd.jupyter.widget-view+json": {
       "model_id": "987e060c8c05477896a9f6bcee81a54f",
       "version_major": 2,
       "version_minor": 0
      },
      "text/plain": [
       "  0%|          | 0/21600 [00:00<?, ?it/s]"
      ]
     },
     "metadata": {},
     "output_type": "display_data"
    },
    {
     "data": {
      "application/vnd.jupyter.widget-view+json": {
       "model_id": "a0f8093858fa42b39f7f2536c1f72fb5",
       "version_major": 2,
       "version_minor": 0
      },
      "text/plain": [
       "  0%|          | 0/21600 [00:00<?, ?it/s]"
      ]
     },
     "metadata": {},
     "output_type": "display_data"
    },
    {
     "name": "stdout",
     "output_type": "stream",
     "text": [
      "\n",
      "=== Fold 3 ===\n"
     ]
    },
    {
     "data": {
      "application/vnd.jupyter.widget-view+json": {
       "model_id": "96ebbfac67014adda5172c28396e6007",
       "version_major": 2,
       "version_minor": 0
      },
      "text/plain": [
       "  0%|          | 0/21600 [00:00<?, ?it/s]"
      ]
     },
     "metadata": {},
     "output_type": "display_data"
    },
    {
     "data": {
      "application/vnd.jupyter.widget-view+json": {
       "model_id": "5bbb828c98724a3b92952883abdd40cf",
       "version_major": 2,
       "version_minor": 0
      },
      "text/plain": [
       "  0%|          | 0/21600 [00:00<?, ?it/s]"
      ]
     },
     "metadata": {},
     "output_type": "display_data"
    },
    {
     "data": {
      "application/vnd.jupyter.widget-view+json": {
       "model_id": "ce4ac12348e74b4b9f214da2095fe3b9",
       "version_major": 2,
       "version_minor": 0
      },
      "text/plain": [
       "  0%|          | 0/21600 [00:00<?, ?it/s]"
      ]
     },
     "metadata": {},
     "output_type": "display_data"
    },
    {
     "data": {
      "application/vnd.jupyter.widget-view+json": {
       "model_id": "28d4f4cae3624d5cb2b39f43a2eb3c99",
       "version_major": 2,
       "version_minor": 0
      },
      "text/plain": [
       "  0%|          | 0/21600 [00:00<?, ?it/s]"
      ]
     },
     "metadata": {},
     "output_type": "display_data"
    },
    {
     "data": {
      "application/vnd.jupyter.widget-view+json": {
       "model_id": "7f14b347ed654f9d9faa0eeb6dedadda",
       "version_major": 2,
       "version_minor": 0
      },
      "text/plain": [
       "  0%|          | 0/21600 [00:00<?, ?it/s]"
      ]
     },
     "metadata": {},
     "output_type": "display_data"
    },
    {
     "name": "stdout",
     "output_type": "stream",
     "text": [
      "\n",
      "=== Fold 4 ===\n"
     ]
    },
    {
     "data": {
      "application/vnd.jupyter.widget-view+json": {
       "model_id": "19e850c4228f48b4b709befc80267306",
       "version_major": 2,
       "version_minor": 0
      },
      "text/plain": [
       "  0%|          | 0/21600 [00:00<?, ?it/s]"
      ]
     },
     "metadata": {},
     "output_type": "display_data"
    },
    {
     "data": {
      "application/vnd.jupyter.widget-view+json": {
       "model_id": "982aeba2b6534064bcb80970d962c79a",
       "version_major": 2,
       "version_minor": 0
      },
      "text/plain": [
       "  0%|          | 0/21600 [00:00<?, ?it/s]"
      ]
     },
     "metadata": {},
     "output_type": "display_data"
    },
    {
     "data": {
      "application/vnd.jupyter.widget-view+json": {
       "model_id": "51e77b98f2644e89b8bd459bedb72230",
       "version_major": 2,
       "version_minor": 0
      },
      "text/plain": [
       "  0%|          | 0/21600 [00:00<?, ?it/s]"
      ]
     },
     "metadata": {},
     "output_type": "display_data"
    },
    {
     "data": {
      "application/vnd.jupyter.widget-view+json": {
       "model_id": "2cb6a759c0d74b8081a7dba8184d1879",
       "version_major": 2,
       "version_minor": 0
      },
      "text/plain": [
       "  0%|          | 0/21600 [00:00<?, ?it/s]"
      ]
     },
     "metadata": {},
     "output_type": "display_data"
    },
    {
     "data": {
      "application/vnd.jupyter.widget-view+json": {
       "model_id": "6c94ba44662b4250902131fc27b3b5f5",
       "version_major": 2,
       "version_minor": 0
      },
      "text/plain": [
       "  0%|          | 0/21600 [00:00<?, ?it/s]"
      ]
     },
     "metadata": {},
     "output_type": "display_data"
    },
    {
     "name": "stdout",
     "output_type": "stream",
     "text": [
      "Avg Validation Loss: 1.0324\n",
      "\n",
      "Best Params: {'learning_rate': 0.001, 'weight_decay': 0.001, 'dropout_rate': 0.2}, Best Loss: 0.1455\n"
     ]
    }
   ],
   "source": [
    "best_params, best_loss = hyperparameter_search(X_t, y_t, k_fold, learning_rates, weight_decays, dropout_rates, epochs=5)"
   ]
  },
  {
   "cell_type": "raw",
   "id": "dcc219b3",
   "metadata": {
    "vscode": {
     "languageId": "raw"
    }
   },
   "source": [
    "## --- USE THIS CODE IF YOU DISABLE CROSS VALIDATION ---\n",
    "\n",
    "time_val = val_keys\n",
    "\n",
    "train(\n",
    "    model, \n",
    "    optimizer,\n",
    "    loss_fn,\n",
    "    time,\n",
    "    time_val,\n",
    "    X_train,\n",
    "    y_train,\n",
    "    X_val,\n",
    "    y_val,\n",
    "    epochs = 6 ## It's a good number, it will stagnate/overfitt if more\n",
    ")\n",
    "\n",
    "## best loss: 0.069"
   ]
  },
  {
   "cell_type": "markdown",
   "id": "0ea7729d",
   "metadata": {},
   "source": [
    "### **Testing**\n",
    "\n",
    "let's do only one prediction first to see how it goes"
   ]
  },
  {
   "cell_type": "raw",
   "id": "553e760b",
   "metadata": {
    "vscode": {
     "languageId": "raw"
    }
   },
   "source": []
  },
  {
   "cell_type": "code",
   "execution_count": null,
   "id": "dceb3c5d",
   "metadata": {},
   "outputs": [
    {
     "data": {
      "application/vnd.jupyter.widget-view+json": {
       "model_id": "2767931366e44deeb5ef6c706f2655d4",
       "version_major": 2,
       "version_minor": 0
      },
      "text/plain": [
       "  0%|          | 0/23400 [00:00<?, ?it/s]"
      ]
     },
     "metadata": {},
     "output_type": "display_data"
    },
    {
     "data": {
      "application/vnd.jupyter.widget-view+json": {
       "model_id": "820393d4b9264ab1aa8c378e730009a8",
       "version_major": 2,
       "version_minor": 0
      },
      "text/plain": [
       "  0%|          | 0/23400 [00:00<?, ?it/s]"
      ]
     },
     "metadata": {},
     "output_type": "display_data"
    },
    {
     "data": {
      "application/vnd.jupyter.widget-view+json": {
       "model_id": "e49cecd18e2a4405a512c8fb95b94975",
       "version_major": 2,
       "version_minor": 0
      },
      "text/plain": [
       "  0%|          | 0/23400 [00:00<?, ?it/s]"
      ]
     },
     "metadata": {},
     "output_type": "display_data"
    },
    {
     "data": {
      "application/vnd.jupyter.widget-view+json": {
       "model_id": "5aaed4280cf94e1d87d6c6934714e014",
       "version_major": 2,
       "version_minor": 0
      },
      "text/plain": [
       "  0%|          | 0/23400 [00:00<?, ?it/s]"
      ]
     },
     "metadata": {},
     "output_type": "display_data"
    },
    {
     "data": {
      "application/vnd.jupyter.widget-view+json": {
       "model_id": "9bb2705adfd94e509b379b14c82a0a7b",
       "version_major": 2,
       "version_minor": 0
      },
      "text/plain": [
       "  0%|          | 0/23400 [00:00<?, ?it/s]"
      ]
     },
     "metadata": {},
     "output_type": "display_data"
    },
    {
     "data": {
      "application/vnd.jupyter.widget-view+json": {
       "model_id": "664d73bdb64b427aa660180ffaec103f",
       "version_major": 2,
       "version_minor": 0
      },
      "text/plain": [
       "  0%|          | 0/23400 [00:00<?, ?it/s]"
      ]
     },
     "metadata": {},
     "output_type": "display_data"
    },
    {
     "name": "stdout",
     "output_type": "stream",
     "text": [
      "[[-0.4468286 ]\n",
      " [-0.43218178]\n",
      " [-0.5138191 ]\n",
      " [-0.57285476]\n",
      " [-0.58414674]\n",
      " [-0.5362637 ]]\n",
      "[-0.23620251 -0.36770695 -0.47910945 -0.49086322 -0.56595976 -0.55297331]\n"
     ]
    }
   ],
   "source": [
    "# Train the model\n",
    "model = VanillaNN(dropout_rate=0.3)\n",
    "optimizer = optim.SGD(model.parameters(), lr=0.001, weight_decay=0.0001)  # Weight decay is the regularization strength\n",
    "\n",
    "# Define the validation set (if available, otherwise use part of the training set)\n",
    "val_keys = random.sample(list(X_t.keys()), k=int(len(X_t) * 0.2))\n",
    "train_keys = [k for k in X_t.keys() if k not in val_keys]\n",
    "\n",
    "X_train = {k: X_t[k] for k in train_keys}\n",
    "y_train = {k: y_t[k] for k in train_keys}\n",
    "X_val = {k: X_t[k] for k in val_keys}\n",
    "y_val = {k: y_t[k] for k in val_keys}\n",
    "\n",
    "train(\n",
    "    model=model, \n",
    "    optimizer=optimizer,\n",
    "    loss_fn=loss_fn,\n",
    "    time_train=train_keys,\n",
    "    time_val=val_keys,\n",
    "    X_train=X_train,\n",
    "    y_train=y_train,\n",
    "    X_val=X_val,\n",
    "    y_val=y_val,\n",
    "    epochs=6\n",
    ")\n",
    "\n",
    "# Prediction\n",
    "t = random.choice(list(X_t.keys()))\n",
    "X = X_t[t]\n",
    "X = np.concatenate([X, np.ones((X.shape[0], 1)) * (t - time_pred_mean) / time_pred_std], axis=1)\n",
    "y = y_t[t]\n",
    "pred = []\n",
    "\n",
    "for i in range(len(y)): \n",
    "    # Convert to tensor and add batch dimension\n",
    "    data = torch.from_numpy(np.array(X[i, :], dtype=np.float32)).unsqueeze(0)  # Shape: (1, num_features)\n",
    "    pred.append(model(data).detach().numpy()[0])\n",
    "\n",
    "pred = np.array(pred)\n",
    "print(pred[:6])\n",
    "print(y[:6])\n",
    "\n",
    "# # Error calculation\n",
    "# error = np.sqrt(func.MSE(pred, y)) * temperature_mean\n",
    "# print(f\"Error: {error:.3f} [°C]\")"
   ]
  },
  {
   "cell_type": "markdown",
   "id": "fe9f1d3e",
   "metadata": {},
   "source": [
    "### **Making a submission**"
   ]
  },
  {
   "cell_type": "code",
   "execution_count": null,
   "id": "406e611a",
   "metadata": {},
   "outputs": [
    {
     "data": {
      "text/html": [
       "<div>\n",
       "<style scoped>\n",
       "    .dataframe tbody tr th:only-of-type {\n",
       "        vertical-align: middle;\n",
       "    }\n",
       "\n",
       "    .dataframe tbody tr th {\n",
       "        vertical-align: top;\n",
       "    }\n",
       "\n",
       "    .dataframe thead th {\n",
       "        text-align: right;\n",
       "    }\n",
       "</style>\n",
       "<table border=\"1\" class=\"dataframe\">\n",
       "  <thead>\n",
       "    <tr style=\"text-align: right;\">\n",
       "      <th></th>\n",
       "      <th>id</th>\n",
       "    </tr>\n",
       "  </thead>\n",
       "  <tbody>\n",
       "    <tr>\n",
       "      <th>0</th>\n",
       "      <td>N_901</td>\n",
       "    </tr>\n",
       "    <tr>\n",
       "      <th>1</th>\n",
       "      <td>N_902</td>\n",
       "    </tr>\n",
       "    <tr>\n",
       "      <th>2</th>\n",
       "      <td>N_903</td>\n",
       "    </tr>\n",
       "    <tr>\n",
       "      <th>3</th>\n",
       "      <td>N_904</td>\n",
       "    </tr>\n",
       "    <tr>\n",
       "      <th>4</th>\n",
       "      <td>N_905</td>\n",
       "    </tr>\n",
       "    <tr>\n",
       "      <th>...</th>\n",
       "      <td>...</td>\n",
       "    </tr>\n",
       "    <tr>\n",
       "      <th>140</th>\n",
       "      <td>N_1042</td>\n",
       "    </tr>\n",
       "    <tr>\n",
       "      <th>141</th>\n",
       "      <td>N_1043</td>\n",
       "    </tr>\n",
       "    <tr>\n",
       "      <th>142</th>\n",
       "      <td>N_1044</td>\n",
       "    </tr>\n",
       "    <tr>\n",
       "      <th>143</th>\n",
       "      <td>N_1045</td>\n",
       "    </tr>\n",
       "    <tr>\n",
       "      <th>144</th>\n",
       "      <td>N_1046</td>\n",
       "    </tr>\n",
       "  </tbody>\n",
       "</table>\n",
       "<p>145 rows × 1 columns</p>\n",
       "</div>"
      ],
      "text/plain": [
       "         id\n",
       "0     N_901\n",
       "1     N_902\n",
       "2     N_903\n",
       "3     N_904\n",
       "4     N_905\n",
       "..      ...\n",
       "140  N_1042\n",
       "141  N_1043\n",
       "142  N_1044\n",
       "143  N_1045\n",
       "144  N_1046\n",
       "\n",
       "[145 rows x 1 columns]"
      ]
     },
     "metadata": {},
     "output_type": "display_data"
    }
   ],
   "source": [
    "X_t_pred = {}\n",
    "sensor_IDs = pressure_pred.columns[1:]\n",
    "pred = pd.DataFrame(data = sensor_IDs, columns=[\"id\"])\n",
    "display(pred)\n",
    "\n",
    "for i, t in enumerate(pressure_pred['M.Time[d]']): \n",
    "    ## first, selsect the pressure data at the time\n",
    "    X = pressure_pred.iloc[i, 1:]\n",
    "    H = humidity_pred.iloc[i,1:]\n",
    "    ## then transpose as we need the sensor as rows, not columns\n",
    "    X = X.T\n",
    "    H = H.T\n",
    "    X = np.reshape(X, (X.shape[0], 1)) # for some reason it didn't work without reshaping to (n, 1)\n",
    "    H = np.reshape(H, (H.shape[0], 1))\n",
    "\n",
    "    ## then add the coordinates and material features to the array \n",
    "    coords = coordinates_pred.iloc[:,1:].to_numpy()\n",
    "    X = np.concatenate([X,H,coords], axis = 1)\n",
    "    ## add it to the dictionnary\n",
    "    X_t_pred[t] = X\n",
    "\n",
    "# for t in pressure_pred[\"M.Time[d]\"]:\n",
    "#     X = X_t_pred[t]\n",
    "#     y_i = []\n",
    "\n",
    "#     # Add time feature\n",
    "#     X = np.concatenate([X, np.ones((X.shape[0], 1)) * (t - time_pred_mean) / time_pred_std], axis=1)\n",
    "\n",
    "#     for i in range(X.shape[0]): \n",
    "#         # Convert to tensor and add batch dimension\n",
    "#         data = torch.from_numpy(np.array(X[i, :], dtype=np.float32)).unsqueeze(0)  # Shape: (1, num_features)\n",
    "#         y_i.append(model(data).detach().numpy()[0] * temperature_std + temperature_mean)\n",
    "\n",
    "#     pred[str(int(t))] = y_i\n",
    "#     y_i.clear()\n",
    "\n",
    "for t in pressure_pred[\"M.Time[d]\"]:\n",
    "    X = X_t_pred[t]\n",
    "\n",
    "    # Add time feature\n",
    "    X = np.concatenate([X, np.ones((X.shape[0], 1)) * (t - time_pred_mean) / time_pred_std], axis=1)\n",
    "\n",
    "    # Convert to tensor (entire batch at once)\n",
    "    X_tensor = torch.from_numpy(X.astype(np.float32))\n",
    "\n",
    "    # Predict for all samples in the batch\n",
    "    y_pred = model(X_tensor).detach().numpy().flatten() * temperature_std + temperature_mean\n",
    "\n",
    "    # Convert from array to scalar and assign to DataFrame\n",
    "    pred[str(int(t))] = [val.item() if isinstance(val, np.ndarray) else val for val in y_pred]\n",
    "\n",
    "# Save to CSV\n",
    "pred.to_csv(\"data\\\\submission.csv\", index=False)\n",
    "\n",
    "# display(pred)\n",
    "pred.to_csv(\"data\\\\submission.csv\", index=False)"
   ]
  },
  {
   "cell_type": "code",
   "execution_count": null,
   "id": "1486f81a",
   "metadata": {},
   "outputs": [
    {
     "name": "stdout",
     "output_type": "stream",
     "text": [
      "145\n",
      "Column: 1554\n",
      "0    17.428722\n",
      "1    17.505928\n",
      "2    17.779221\n",
      "3    18.611416\n",
      "4    17.447655\n",
      "Name: 1554, dtype: float32\n",
      "[<class 'float'>]\n",
      "Column: 1556\n",
      "0    17.442545\n",
      "1    17.512047\n",
      "2    17.796452\n",
      "3    18.612358\n",
      "4    17.454723\n",
      "Name: 1556, dtype: float32\n",
      "[<class 'float'>]\n",
      "Column: 1558\n",
      "0    17.456364\n",
      "1    17.518131\n",
      "2    17.817284\n",
      "3    18.614187\n",
      "4    17.461756\n",
      "Name: 1558, dtype: float32\n",
      "[<class 'float'>]\n",
      "Column: 1560\n",
      "0    17.470238\n",
      "1    17.524172\n",
      "2    17.837666\n",
      "3    18.616295\n",
      "4    17.468719\n",
      "Name: 1560, dtype: float32\n",
      "[<class 'float'>]\n"
     ]
    },
    {
     "data": {
      "image/png": "[encoded data removed]",
      "text/plain": [
       "<Figure size 640x480 with 2 Axes>"
      ]
     },
     "metadata": {},
     "output_type": "display_data"
    }
   ],
   "source": [
    "print(len(pred))\n",
    "T = pred.iloc[:, -20].to_numpy()\n",
    "x = coordinates_pred[\"x\"].to_numpy()\n",
    "y = coordinates_pred[\"y\"].to_numpy()\n",
    "z = coordinates_pred[\"z\"].to_numpy()\n",
    "\n",
    "# Create 3D scatter plot\n",
    "fig = plt.figure()\n",
    "ax = fig.add_subplot(111, projection='3d')\n",
    "sc = ax.scatter(x, y, z, c=T, cmap='hot', marker='o')\n",
    "\n",
    "# Add colorbar to show temperature scale\n",
    "plt.colorbar(sc, label='Temperature')\n",
    "\n",
    "# Add labels\n",
    "ax.set_xlabel('X')\n",
    "ax.set_ylabel('Y')\n",
    "ax.set_zlabel('Z')\n",
    "ax.set_title('3D Temperature Distribution')\n",
    "\n",
    "problematic_columns = ['1554', '1556', '1558', '1560']\n",
    "\n",
    "for col in problematic_columns:\n",
    "    print(f\"Column: {col}\")\n",
    "    print(pred[col].head())\n",
    "    print(pred[col].apply(type).unique())"
   ]
  },
  {
   "cell_type": "code",
   "execution_count": null,
   "id": "30bea1ac",
   "metadata": {},
   "outputs": [],
   "source": []
  }
 ],
 "metadata": {
  "kernelspec": {
   "display_name": "introml",
   "language": "python",
   "name": "python3"
  },
  "language_info": {
   "codemirror_mode": {
    "name": "ipython",
    "version": 3
   },
   "file_extension": ".py",
   "mimetype": "text/x-python",
   "name": "python",
   "nbconvert_exporter": "python",
   "pygments_lexer": "ipython3",
   "version": "3.8.20"
  }
 },
 "nbformat": 4,
 "nbformat_minor": 5
}
