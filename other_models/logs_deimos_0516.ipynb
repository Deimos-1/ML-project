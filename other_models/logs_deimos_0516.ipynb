{
 "cells": [
  {
   "cell_type": "markdown",
   "id": "2bb39a79",
   "metadata": {},
   "source": [
    "# Logging of the project\n",
    "\n",
    "In this notebook you will find all the steps it took us to accurately predict the temperature of nuclear waste canister. "
   ]
  },
  {
   "cell_type": "markdown",
   "id": "23d6489a",
   "metadata": {},
   "source": [
    "### **Imports** "
   ]
  },
  {
   "cell_type": "code",
   "execution_count": 1,
   "id": "7160116a",
   "metadata": {},
   "outputs": [],
   "source": [
    "random_state = 42\n",
    "## data handling \n",
    "import numpy as np\n",
    "import pandas as pd\n",
    "import random\n",
    "\n",
    "## plotting\n",
    "import seaborn as sns\n",
    "import matplotlib.pyplot as plt\n",
    "from mpl_toolkits.mplot3d import Axes3D\n",
    "\n",
    "## Sklearn \n",
    "from sklearn.impute import KNNImputer\n",
    "from sklearn.utils import shuffle\n",
    "from sklearn.model_selection import KFold\n",
    "k_fold = KFold(n_splits=8, shuffle=True, random_state=random_state) # can specify a random_state if needed (for reproduceability)\n",
    "\n",
    "## comfort things\n",
    "from typing import Tuple\n",
    "from sys import exit\n",
    "import functions as func\n",
    "\n",
    "# PyTorch & torchvision\n",
    "import torch\n",
    "import torch.nn as nn\n",
    "import torch.nn.functional as F\n",
    "import torch.optim as optim\n",
    "from torch.utils.data import Dataset, DataLoader\n",
    "\n",
    "# Progress bar\n",
    "from tqdm.auto import tqdm\n",
    "\n",
    "# metrics\n",
    "import metrics\n",
    "\n",
    "## --- GPU DOESNT WORK WITH SMALL BACTH SIZE ---\n",
    "\n",
    "# ## Use CUDA cores if available: \n",
    "# device = torch.device(\"cuda\" if torch.cuda.is_available() else \"cpu\")\n",
    "\n",
    "# # Output device information\n",
    "# if torch.cuda.is_available():\n",
    "#     print(f\"CUDA is available! Using GPU: {torch.cuda.get_device_name(0)}\")\n",
    "# else:\n",
    "#     print(\"CUDA is not available. Using CPU.\")\n",
    "\n",
    "device = torch.device(\"cpu\")"
   ]
  },
  {
   "cell_type": "markdown",
   "id": "5ce9cb1e",
   "metadata": {},
   "source": [
    "### **Loading of the datasets** "
   ]
  },
  {
   "cell_type": "code",
   "execution_count": 2,
   "id": "bed4c56f",
   "metadata": {},
   "outputs": [],
   "source": [
    "coordinates_pred = pd.read_csv(\"data/Coordinates_Test.csv\")\n",
    "coordinates_train = pd.read_csv(\"data/Coordinates_Training.csv\")\n",
    "humidity_pred = pd.read_csv(\"data/Test_Time_humidity.csv\")\n",
    "humidity_train = pd.read_csv(\"data/Training_data_humidity.csv\")\n",
    "pressure_pred = pd.read_csv(\"data/Test_Time_pressure.csv\")\n",
    "pressure_train = pd.read_csv(\"data/Training_data_pressure.csv\")\n",
    "temperature_train = pd.read_csv(\"data/Training_data_temperature.csv\")"
   ]
  },
  {
   "cell_type": "markdown",
   "id": "4d821cd9",
   "metadata": {},
   "source": [
    "Let's get the sensor IDs in a list before some of them are deleted, and also the time stamps:"
   ]
  },
  {
   "cell_type": "code",
   "execution_count": 3,
   "id": "9de92ef2",
   "metadata": {},
   "outputs": [],
   "source": [
    "sensor_IDs = pressure_train.columns[1:]\n",
    "\n",
    "## Chech that none is missing: \n",
    "for i, sens in enumerate(sensor_IDs):\n",
    "    assert 'N_'+str(i+1) == sens\n",
    "\n",
    "## We will also need the mean and std of the time to add it as a feature in the model later\n",
    "time: list = pressure_train['M.Time[d]'].to_list()\n",
    "time_mean = np.mean(time)\n",
    "time_std = np.std(time)\n",
    "\n",
    "## always normalize w.r.t training data\n",
    "time_pred: list = pressure_pred['M.Time[d]'].to_list()\n",
    "time_pred_mean = time_mean\n",
    "time_pred_std = time_std"
   ]
  },
  {
   "cell_type": "markdown",
   "id": "581247cf",
   "metadata": {},
   "source": [
    "### **Imputing the datasets**\n"
   ]
  },
  {
   "cell_type": "code",
   "execution_count": 4,
   "id": "8109f20c",
   "metadata": {},
   "outputs": [
    {
     "name": "stdout",
     "output_type": "stream",
     "text": [
      "Faulty sensors in train datasets: ['N_442', 'N_518', 'N_693']\n",
      "Faulty sensors in prediction datasets: []\n"
     ]
    }
   ],
   "source": [
    "imputer = KNNImputer(missing_values = np.nan, n_neighbors=2).set_output(transform=\"pandas\")\n",
    "\n",
    "## The imputer actually deletes columns with no data so we need to identify the columns with no data first\n",
    "## We need to know those sensors to remove the associated data in the other dataframes. \n",
    "## It is needed because the values are mainly linked by having the same index in all dataframes.\n",
    "\n",
    "train_faulty_sensors = []\n",
    "for sensor in pressure_train.columns[1:]:\n",
    "    if temperature_train[sensor].isna().all():\n",
    "        train_faulty_sensors.append(sensor)\n",
    "    elif pressure_train[sensor].isna().all():\n",
    "        train_faulty_sensors.append(sensor)\n",
    "    elif humidity_train[sensor].isna().all():\n",
    "        train_faulty_sensors.append(sensor)\n",
    "print(f'Faulty sensors in train datasets: {train_faulty_sensors}')\n",
    "\n",
    "test_faulty_sensors = []\n",
    "for sensor in pressure_pred.columns[1:]:\n",
    "    if pressure_pred[sensor].isna().all():\n",
    "        test_faulty_sensors.append(sensor)\n",
    "    elif humidity_pred[sensor].isna().all():\n",
    "        test_faulty_sensors.append(sensor)\n",
    "print(f'Faulty sensors in prediction datasets: {test_faulty_sensors}')\n",
    "# Actually no sensors in the prediction dataset has no data\n",
    "\n",
    "## We need to impute the missing values with a KNN imputer so it can be plotted a first time: \n",
    "## Which requires renaming the columns: \n",
    "\n",
    "## Not keeping useless columns:\n",
    "coordinates_train = coordinates_train[[\"Sensor ID\",\"Material\", \"Coor X [m]\", \"Coor Y [m]\", \"Coor Z [m]\", \"R [m]\"]]\n",
    "coordinates_pred = coordinates_pred[[\"Sensor ID\",\"Material\", \"Coor X [m]\", \"Coor Y [m]\", \"Coor Z [m]\", \"R [m]\"]]\n",
    "# The sensor ID will be usefull to group the data into a numpy array\n",
    "\n",
    "# changing the column names for faster typing later\n",
    "new_col_names: dict = {\n",
    "    \"Sensor ID\": \"id\",\n",
    "    \"Coor X [m]\": \"x\",\n",
    "    \"Coor Y [m]\": \"y\",\n",
    "    \"Coor Z [m]\": \"z\",\n",
    "    \"R [m]\": \"r\"\n",
    "}\n",
    "\n",
    "coordinates_train.rename(columns = new_col_names, inplace=True)\n",
    "coordinates_pred.rename(columns = new_col_names, inplace=True)\n",
    "\n",
    "pressure_train = func.fill_NaN_columns(\n",
    "    K = 5,\n",
    "    df = pressure_train,\n",
    "    imputer = imputer,\n",
    "    coords = coordinates_train\n",
    ")\n",
    "\n",
    "pressure_pred = func.fill_NaN_columns(\n",
    "    K = 5,\n",
    "    df = pressure_pred,\n",
    "    imputer = imputer,\n",
    "    coords = coordinates_pred\n",
    ")\n",
    "\n",
    "## delete empty ones\n"
   ]
  },
  {
   "cell_type": "markdown",
   "id": "a2e5f02f",
   "metadata": {},
   "source": [
    "#### **Coordinates**"
   ]
  },
  {
   "cell_type": "raw",
   "id": "b11968ec",
   "metadata": {
    "vscode": {
     "languageId": "raw"
    }
   },
   "source": [
    "display(coordinates_train.sample(5))\n",
    "coordinates_train.info()\n",
    "coordinates_train[\"Material\"].unique()"
   ]
  },
  {
   "cell_type": "markdown",
   "id": "fbba29f6",
   "metadata": {},
   "source": [
    "We can see there are no missing data and apparently no false measures (outliers) on the position and the material, but some columns are useless like the numbering of rows and the index. Because the rows are in an ascending order and as long as the indices match between the files, the number doesn't matter. We are also renaming the columns to make it easier later.  \n",
    "\n",
    "We will also one-hot encode the Material column to feed it later in the model, as they are caterogical features. "
   ]
  },
  {
   "cell_type": "code",
   "execution_count": 5,
   "id": "6010cf49",
   "metadata": {},
   "outputs": [
    {
     "data": {
      "application/vnd.microsoft.datawrangler.viewer.v0+json": {
       "columns": [
        {
         "name": "index",
         "rawType": "int64",
         "type": "integer"
        },
        {
         "name": "id",
         "rawType": "object",
         "type": "string"
        },
        {
         "name": "x",
         "rawType": "float64",
         "type": "float"
        },
        {
         "name": "y",
         "rawType": "float64",
         "type": "float"
        },
        {
         "name": "z",
         "rawType": "float64",
         "type": "float"
        },
        {
         "name": "r",
         "rawType": "float64",
         "type": "float"
        },
        {
         "name": "Material_CAN",
         "rawType": "bool",
         "type": "boolean"
        },
        {
         "name": "Material_EDZ",
         "rawType": "bool",
         "type": "boolean"
        },
        {
         "name": "Material_GBM",
         "rawType": "bool",
         "type": "boolean"
        },
        {
         "name": "Material_OPA",
         "rawType": "bool",
         "type": "boolean"
        },
        {
         "name": "Material_SHCR",
         "rawType": "bool",
         "type": "boolean"
        }
       ],
       "conversionMethod": "pd.DataFrame",
       "ref": "d2619fc0-8e4f-4080-a0b7-9bc52a1a4fdd",
       "rows": [
        [
         "0",
         "N_901",
         "0.295917889",
         "30.01115044",
         "1.776253794",
         "1.800734555",
         "False",
         "False",
         "False",
         "True",
         "False"
        ],
        [
         "1",
         "N_902",
         "2.274456199",
         "25.20429669",
         "2.957595113",
         "3.731021289",
         "False",
         "False",
         "False",
         "True",
         "False"
        ],
        [
         "2",
         "N_903",
         "-0.586165369",
         "27.60097996",
         "-1.869516049",
         "1.959254985",
         "False",
         "False",
         "False",
         "True",
         "False"
        ],
        [
         "3",
         "N_904",
         "-1.680052436",
         "40.39407624",
         "-0.297225964",
         "1.706141689",
         "False",
         "True",
         "False",
         "False",
         "False"
        ],
        [
         "4",
         "N_905",
         "2.84065579",
         "38.09358756",
         "2.12589856",
         "3.548065671",
         "False",
         "False",
         "False",
         "True",
         "False"
        ]
       ],
       "shape": {
        "columns": 10,
        "rows": 5
       }
      },
      "text/html": [
       "<div>\n",
       "<style scoped>\n",
       "    .dataframe tbody tr th:only-of-type {\n",
       "        vertical-align: middle;\n",
       "    }\n",
       "\n",
       "    .dataframe tbody tr th {\n",
       "        vertical-align: top;\n",
       "    }\n",
       "\n",
       "    .dataframe thead th {\n",
       "        text-align: right;\n",
       "    }\n",
       "</style>\n",
       "<table border=\"1\" class=\"dataframe\">\n",
       "  <thead>\n",
       "    <tr style=\"text-align: right;\">\n",
       "      <th></th>\n",
       "      <th>id</th>\n",
       "      <th>x</th>\n",
       "      <th>y</th>\n",
       "      <th>z</th>\n",
       "      <th>r</th>\n",
       "      <th>Material_CAN</th>\n",
       "      <th>Material_EDZ</th>\n",
       "      <th>Material_GBM</th>\n",
       "      <th>Material_OPA</th>\n",
       "      <th>Material_SHCR</th>\n",
       "    </tr>\n",
       "  </thead>\n",
       "  <tbody>\n",
       "    <tr>\n",
       "      <th>0</th>\n",
       "      <td>N_901</td>\n",
       "      <td>0.295918</td>\n",
       "      <td>30.011150</td>\n",
       "      <td>1.776254</td>\n",
       "      <td>1.800735</td>\n",
       "      <td>False</td>\n",
       "      <td>False</td>\n",
       "      <td>False</td>\n",
       "      <td>True</td>\n",
       "      <td>False</td>\n",
       "    </tr>\n",
       "    <tr>\n",
       "      <th>1</th>\n",
       "      <td>N_902</td>\n",
       "      <td>2.274456</td>\n",
       "      <td>25.204297</td>\n",
       "      <td>2.957595</td>\n",
       "      <td>3.731021</td>\n",
       "      <td>False</td>\n",
       "      <td>False</td>\n",
       "      <td>False</td>\n",
       "      <td>True</td>\n",
       "      <td>False</td>\n",
       "    </tr>\n",
       "    <tr>\n",
       "      <th>2</th>\n",
       "      <td>N_903</td>\n",
       "      <td>-0.586165</td>\n",
       "      <td>27.600980</td>\n",
       "      <td>-1.869516</td>\n",
       "      <td>1.959255</td>\n",
       "      <td>False</td>\n",
       "      <td>False</td>\n",
       "      <td>False</td>\n",
       "      <td>True</td>\n",
       "      <td>False</td>\n",
       "    </tr>\n",
       "    <tr>\n",
       "      <th>3</th>\n",
       "      <td>N_904</td>\n",
       "      <td>-1.680052</td>\n",
       "      <td>40.394076</td>\n",
       "      <td>-0.297226</td>\n",
       "      <td>1.706142</td>\n",
       "      <td>False</td>\n",
       "      <td>True</td>\n",
       "      <td>False</td>\n",
       "      <td>False</td>\n",
       "      <td>False</td>\n",
       "    </tr>\n",
       "    <tr>\n",
       "      <th>4</th>\n",
       "      <td>N_905</td>\n",
       "      <td>2.840656</td>\n",
       "      <td>38.093588</td>\n",
       "      <td>2.125899</td>\n",
       "      <td>3.548066</td>\n",
       "      <td>False</td>\n",
       "      <td>False</td>\n",
       "      <td>False</td>\n",
       "      <td>True</td>\n",
       "      <td>False</td>\n",
       "    </tr>\n",
       "  </tbody>\n",
       "</table>\n",
       "</div>"
      ],
      "text/plain": [
       "      id         x          y         z         r  Material_CAN  Material_EDZ  \\\n",
       "0  N_901  0.295918  30.011150  1.776254  1.800735         False         False   \n",
       "1  N_902  2.274456  25.204297  2.957595  3.731021         False         False   \n",
       "2  N_903 -0.586165  27.600980 -1.869516  1.959255         False         False   \n",
       "3  N_904 -1.680052  40.394076 -0.297226  1.706142         False          True   \n",
       "4  N_905  2.840656  38.093588  2.125899  3.548066         False         False   \n",
       "\n",
       "   Material_GBM  Material_OPA  Material_SHCR  \n",
       "0         False          True          False  \n",
       "1         False          True          False  \n",
       "2         False          True          False  \n",
       "3         False         False          False  \n",
       "4         False          True          False  "
      ]
     },
     "metadata": {},
     "output_type": "display_data"
    },
    {
     "data": {
      "application/vnd.microsoft.datawrangler.viewer.v0+json": {
       "columns": [
        {
         "name": "index",
         "rawType": "int64",
         "type": "integer"
        },
        {
         "name": "id",
         "rawType": "object",
         "type": "string"
        },
        {
         "name": "x",
         "rawType": "float64",
         "type": "float"
        },
        {
         "name": "y",
         "rawType": "float64",
         "type": "float"
        },
        {
         "name": "z",
         "rawType": "float64",
         "type": "float"
        },
        {
         "name": "r",
         "rawType": "float64",
         "type": "float"
        },
        {
         "name": "Material_BBLOCK",
         "rawType": "bool",
         "type": "boolean"
        },
        {
         "name": "Material_CAN",
         "rawType": "bool",
         "type": "boolean"
        },
        {
         "name": "Material_EDZ",
         "rawType": "bool",
         "type": "boolean"
        },
        {
         "name": "Material_GBM",
         "rawType": "bool",
         "type": "boolean"
        },
        {
         "name": "Material_OPA",
         "rawType": "bool",
         "type": "boolean"
        },
        {
         "name": "Material_SHCR",
         "rawType": "bool",
         "type": "boolean"
        },
        {
         "name": "Material_VOID",
         "rawType": "bool",
         "type": "boolean"
        }
       ],
       "conversionMethod": "pd.DataFrame",
       "ref": "c547ba08-afe8-4908-87f2-389813e75eab",
       "rows": [
        [
         "0",
         "N_1",
         "0.208041548",
         "14.43693579",
         "-2.875503071",
         "2.883019111",
         "False",
         "False",
         "False",
         "False",
         "True",
         "False",
         "False"
        ],
        [
         "1",
         "N_2",
         "-8.970831668",
         "28.22984098",
         "-0.134437322",
         "8.971838953",
         "False",
         "False",
         "False",
         "False",
         "True",
         "False",
         "False"
        ],
        [
         "2",
         "N_3",
         "-14.28950145",
         "6.685725624",
         "-10.39904826",
         "17.67286215",
         "False",
         "False",
         "False",
         "False",
         "True",
         "False",
         "False"
        ],
        [
         "3",
         "N_4",
         "6.114854613",
         "2.685644895",
         "-3.189980974",
         "6.896914205",
         "False",
         "False",
         "False",
         "False",
         "True",
         "False",
         "False"
        ],
        [
         "4",
         "N_5",
         "4.048845155",
         "48.70858961",
         "11.26050288",
         "11.96628899",
         "False",
         "False",
         "False",
         "False",
         "True",
         "False",
         "False"
        ]
       ],
       "shape": {
        "columns": 12,
        "rows": 5
       }
      },
      "text/html": [
       "<div>\n",
       "<style scoped>\n",
       "    .dataframe tbody tr th:only-of-type {\n",
       "        vertical-align: middle;\n",
       "    }\n",
       "\n",
       "    .dataframe tbody tr th {\n",
       "        vertical-align: top;\n",
       "    }\n",
       "\n",
       "    .dataframe thead th {\n",
       "        text-align: right;\n",
       "    }\n",
       "</style>\n",
       "<table border=\"1\" class=\"dataframe\">\n",
       "  <thead>\n",
       "    <tr style=\"text-align: right;\">\n",
       "      <th></th>\n",
       "      <th>id</th>\n",
       "      <th>x</th>\n",
       "      <th>y</th>\n",
       "      <th>z</th>\n",
       "      <th>r</th>\n",
       "      <th>Material_BBLOCK</th>\n",
       "      <th>Material_CAN</th>\n",
       "      <th>Material_EDZ</th>\n",
       "      <th>Material_GBM</th>\n",
       "      <th>Material_OPA</th>\n",
       "      <th>Material_SHCR</th>\n",
       "      <th>Material_VOID</th>\n",
       "    </tr>\n",
       "  </thead>\n",
       "  <tbody>\n",
       "    <tr>\n",
       "      <th>0</th>\n",
       "      <td>N_1</td>\n",
       "      <td>0.208042</td>\n",
       "      <td>14.436936</td>\n",
       "      <td>-2.875503</td>\n",
       "      <td>2.883019</td>\n",
       "      <td>False</td>\n",
       "      <td>False</td>\n",
       "      <td>False</td>\n",
       "      <td>False</td>\n",
       "      <td>True</td>\n",
       "      <td>False</td>\n",
       "      <td>False</td>\n",
       "    </tr>\n",
       "    <tr>\n",
       "      <th>1</th>\n",
       "      <td>N_2</td>\n",
       "      <td>-8.970832</td>\n",
       "      <td>28.229841</td>\n",
       "      <td>-0.134437</td>\n",
       "      <td>8.971839</td>\n",
       "      <td>False</td>\n",
       "      <td>False</td>\n",
       "      <td>False</td>\n",
       "      <td>False</td>\n",
       "      <td>True</td>\n",
       "      <td>False</td>\n",
       "      <td>False</td>\n",
       "    </tr>\n",
       "    <tr>\n",
       "      <th>2</th>\n",
       "      <td>N_3</td>\n",
       "      <td>-14.289501</td>\n",
       "      <td>6.685726</td>\n",
       "      <td>-10.399048</td>\n",
       "      <td>17.672862</td>\n",
       "      <td>False</td>\n",
       "      <td>False</td>\n",
       "      <td>False</td>\n",
       "      <td>False</td>\n",
       "      <td>True</td>\n",
       "      <td>False</td>\n",
       "      <td>False</td>\n",
       "    </tr>\n",
       "    <tr>\n",
       "      <th>3</th>\n",
       "      <td>N_4</td>\n",
       "      <td>6.114855</td>\n",
       "      <td>2.685645</td>\n",
       "      <td>-3.189981</td>\n",
       "      <td>6.896914</td>\n",
       "      <td>False</td>\n",
       "      <td>False</td>\n",
       "      <td>False</td>\n",
       "      <td>False</td>\n",
       "      <td>True</td>\n",
       "      <td>False</td>\n",
       "      <td>False</td>\n",
       "    </tr>\n",
       "    <tr>\n",
       "      <th>4</th>\n",
       "      <td>N_5</td>\n",
       "      <td>4.048845</td>\n",
       "      <td>48.708590</td>\n",
       "      <td>11.260503</td>\n",
       "      <td>11.966289</td>\n",
       "      <td>False</td>\n",
       "      <td>False</td>\n",
       "      <td>False</td>\n",
       "      <td>False</td>\n",
       "      <td>True</td>\n",
       "      <td>False</td>\n",
       "      <td>False</td>\n",
       "    </tr>\n",
       "  </tbody>\n",
       "</table>\n",
       "</div>"
      ],
      "text/plain": [
       "    id          x          y          z          r  Material_BBLOCK  \\\n",
       "0  N_1   0.208042  14.436936  -2.875503   2.883019            False   \n",
       "1  N_2  -8.970832  28.229841  -0.134437   8.971839            False   \n",
       "2  N_3 -14.289501   6.685726 -10.399048  17.672862            False   \n",
       "3  N_4   6.114855   2.685645  -3.189981   6.896914            False   \n",
       "4  N_5   4.048845  48.708590  11.260503  11.966289            False   \n",
       "\n",
       "   Material_CAN  Material_EDZ  Material_GBM  Material_OPA  Material_SHCR  \\\n",
       "0         False         False         False          True          False   \n",
       "1         False         False         False          True          False   \n",
       "2         False         False         False          True          False   \n",
       "3         False         False         False          True          False   \n",
       "4         False         False         False          True          False   \n",
       "\n",
       "   Material_VOID  \n",
       "0          False  \n",
       "1          False  \n",
       "2          False  \n",
       "3          False  \n",
       "4          False  "
      ]
     },
     "metadata": {},
     "output_type": "display_data"
    },
    {
     "data": {
      "application/vnd.microsoft.datawrangler.viewer.v0+json": {
       "columns": [
        {
         "name": "index",
         "rawType": "int64",
         "type": "integer"
        },
        {
         "name": "id",
         "rawType": "object",
         "type": "string"
        },
        {
         "name": "x",
         "rawType": "float64",
         "type": "float"
        },
        {
         "name": "y",
         "rawType": "float64",
         "type": "float"
        },
        {
         "name": "z",
         "rawType": "float64",
         "type": "float"
        },
        {
         "name": "r",
         "rawType": "float64",
         "type": "float"
        },
        {
         "name": "Material_BBLOCK",
         "rawType": "bool",
         "type": "boolean"
        },
        {
         "name": "Material_CAN",
         "rawType": "bool",
         "type": "boolean"
        },
        {
         "name": "Material_EDZ",
         "rawType": "bool",
         "type": "boolean"
        },
        {
         "name": "Material_GBM",
         "rawType": "bool",
         "type": "boolean"
        },
        {
         "name": "Material_OPA",
         "rawType": "bool",
         "type": "boolean"
        },
        {
         "name": "Material_SHCR",
         "rawType": "bool",
         "type": "boolean"
        },
        {
         "name": "Material_VOID",
         "rawType": "bool",
         "type": "boolean"
        }
       ],
       "conversionMethod": "pd.DataFrame",
       "ref": "b866a7ec-489b-458c-85e4-9799224c8528",
       "rows": [
        [
         "0",
         "N_901",
         "0.295917889",
         "30.01115044",
         "1.776253794",
         "1.800734555",
         "False",
         "False",
         "False",
         "False",
         "True",
         "False",
         "False"
        ],
        [
         "1",
         "N_902",
         "2.274456199",
         "25.20429669",
         "2.957595113",
         "3.731021289",
         "False",
         "False",
         "False",
         "False",
         "True",
         "False",
         "False"
        ],
        [
         "2",
         "N_903",
         "-0.586165369",
         "27.60097996",
         "-1.869516049",
         "1.959254985",
         "False",
         "False",
         "False",
         "False",
         "True",
         "False",
         "False"
        ],
        [
         "3",
         "N_904",
         "-1.680052436",
         "40.39407624",
         "-0.297225964",
         "1.706141689",
         "False",
         "False",
         "True",
         "False",
         "False",
         "False",
         "False"
        ],
        [
         "4",
         "N_905",
         "2.84065579",
         "38.09358756",
         "2.12589856",
         "3.548065671",
         "False",
         "False",
         "False",
         "False",
         "True",
         "False",
         "False"
        ]
       ],
       "shape": {
        "columns": 12,
        "rows": 5
       }
      },
      "text/html": [
       "<div>\n",
       "<style scoped>\n",
       "    .dataframe tbody tr th:only-of-type {\n",
       "        vertical-align: middle;\n",
       "    }\n",
       "\n",
       "    .dataframe tbody tr th {\n",
       "        vertical-align: top;\n",
       "    }\n",
       "\n",
       "    .dataframe thead th {\n",
       "        text-align: right;\n",
       "    }\n",
       "</style>\n",
       "<table border=\"1\" class=\"dataframe\">\n",
       "  <thead>\n",
       "    <tr style=\"text-align: right;\">\n",
       "      <th></th>\n",
       "      <th>id</th>\n",
       "      <th>x</th>\n",
       "      <th>y</th>\n",
       "      <th>z</th>\n",
       "      <th>r</th>\n",
       "      <th>Material_BBLOCK</th>\n",
       "      <th>Material_CAN</th>\n",
       "      <th>Material_EDZ</th>\n",
       "      <th>Material_GBM</th>\n",
       "      <th>Material_OPA</th>\n",
       "      <th>Material_SHCR</th>\n",
       "      <th>Material_VOID</th>\n",
       "    </tr>\n",
       "  </thead>\n",
       "  <tbody>\n",
       "    <tr>\n",
       "      <th>0</th>\n",
       "      <td>N_901</td>\n",
       "      <td>0.295918</td>\n",
       "      <td>30.011150</td>\n",
       "      <td>1.776254</td>\n",
       "      <td>1.800735</td>\n",
       "      <td>False</td>\n",
       "      <td>False</td>\n",
       "      <td>False</td>\n",
       "      <td>False</td>\n",
       "      <td>True</td>\n",
       "      <td>False</td>\n",
       "      <td>False</td>\n",
       "    </tr>\n",
       "    <tr>\n",
       "      <th>1</th>\n",
       "      <td>N_902</td>\n",
       "      <td>2.274456</td>\n",
       "      <td>25.204297</td>\n",
       "      <td>2.957595</td>\n",
       "      <td>3.731021</td>\n",
       "      <td>False</td>\n",
       "      <td>False</td>\n",
       "      <td>False</td>\n",
       "      <td>False</td>\n",
       "      <td>True</td>\n",
       "      <td>False</td>\n",
       "      <td>False</td>\n",
       "    </tr>\n",
       "    <tr>\n",
       "      <th>2</th>\n",
       "      <td>N_903</td>\n",
       "      <td>-0.586165</td>\n",
       "      <td>27.600980</td>\n",
       "      <td>-1.869516</td>\n",
       "      <td>1.959255</td>\n",
       "      <td>False</td>\n",
       "      <td>False</td>\n",
       "      <td>False</td>\n",
       "      <td>False</td>\n",
       "      <td>True</td>\n",
       "      <td>False</td>\n",
       "      <td>False</td>\n",
       "    </tr>\n",
       "    <tr>\n",
       "      <th>3</th>\n",
       "      <td>N_904</td>\n",
       "      <td>-1.680052</td>\n",
       "      <td>40.394076</td>\n",
       "      <td>-0.297226</td>\n",
       "      <td>1.706142</td>\n",
       "      <td>False</td>\n",
       "      <td>False</td>\n",
       "      <td>True</td>\n",
       "      <td>False</td>\n",
       "      <td>False</td>\n",
       "      <td>False</td>\n",
       "      <td>False</td>\n",
       "    </tr>\n",
       "    <tr>\n",
       "      <th>4</th>\n",
       "      <td>N_905</td>\n",
       "      <td>2.840656</td>\n",
       "      <td>38.093588</td>\n",
       "      <td>2.125899</td>\n",
       "      <td>3.548066</td>\n",
       "      <td>False</td>\n",
       "      <td>False</td>\n",
       "      <td>False</td>\n",
       "      <td>False</td>\n",
       "      <td>True</td>\n",
       "      <td>False</td>\n",
       "      <td>False</td>\n",
       "    </tr>\n",
       "  </tbody>\n",
       "</table>\n",
       "</div>"
      ],
      "text/plain": [
       "      id         x          y         z         r  Material_BBLOCK  \\\n",
       "0  N_901  0.295918  30.011150  1.776254  1.800735            False   \n",
       "1  N_902  2.274456  25.204297  2.957595  3.731021            False   \n",
       "2  N_903 -0.586165  27.600980 -1.869516  1.959255            False   \n",
       "3  N_904 -1.680052  40.394076 -0.297226  1.706142            False   \n",
       "4  N_905  2.840656  38.093588  2.125899  3.548066            False   \n",
       "\n",
       "   Material_CAN  Material_EDZ  Material_GBM  Material_OPA  Material_SHCR  \\\n",
       "0         False         False         False          True          False   \n",
       "1         False         False         False          True          False   \n",
       "2         False         False         False          True          False   \n",
       "3         False          True         False         False          False   \n",
       "4         False         False         False          True          False   \n",
       "\n",
       "   Material_VOID  \n",
       "0          False  \n",
       "1          False  \n",
       "2          False  \n",
       "3          False  \n",
       "4          False  "
      ]
     },
     "metadata": {},
     "output_type": "display_data"
    }
   ],
   "source": [
    "\n",
    "## One-hot encoding:\n",
    "## cf intro to pandas notebook from the weekly exercises\n",
    "coordinates_pred = pd.get_dummies(coordinates_pred, columns = [\"Material\"]) \n",
    "coordinates_train = pd.get_dummies(coordinates_train, columns = [\"Material\"]) \n",
    "display(coordinates_pred.head(5))\n",
    "display(coordinates_train.head(5))\n",
    "\n",
    "## the coordinates_pred is missing the columns \"Material_BBLOCK\" and \"Material_VOID\" that we have to add \n",
    "# Make a copy to be safe\n",
    "df = coordinates_pred.copy()\n",
    "# Create the new column with default value (e.g., 0 or NaN)\n",
    "df[\"Material_BBLOCK\"] = False  # or use np.nan if needed\n",
    "df[\"Material_VOID\"] = False\n",
    "# Get column list and rearrange\n",
    "cols = df.columns.tolist()\n",
    "# Find index of \"r\"\n",
    "r_index = cols.index(\"r\")\n",
    "# Insert \"Material_BBLOCK\" right after \"r\"\n",
    "cols.insert(r_index + 1, cols.pop(cols.index(\"Material_BBLOCK\")))\n",
    "# Reorder the DataFrame\n",
    "coordinates_pred = df[cols]\n",
    "\n",
    "\n",
    "display(coordinates_pred.head(5))\n"
   ]
  },
  {
   "cell_type": "markdown",
   "id": "2958a245",
   "metadata": {},
   "source": [
    "#### **Pressure**"
   ]
  },
  {
   "cell_type": "raw",
   "id": "5da46507",
   "metadata": {
    "vscode": {
     "languageId": "raw"
    }
   },
   "source": [
    "display(pressure_train.head(5))\n",
    "display(pressure_pred.head(5))\n",
    "pressure_train.isnull().sum().sum() # See how many missing values there are"
   ]
  },
  {
   "cell_type": "markdown",
   "id": "032c1365",
   "metadata": {},
   "source": [
    "No missing value here.\n",
    "\n",
    "First we will handle outliers"
   ]
  },
  {
   "cell_type": "code",
   "execution_count": 6,
   "id": "5cae2d99",
   "metadata": {},
   "outputs": [
    {
     "data": {
      "image/png": "[encoded data removed]",
      "text/plain": [
       "<Figure size 1200x600 with 1 Axes>"
      ]
     },
     "metadata": {},
     "output_type": "display_data"
    },
    {
     "name": "stdout",
     "output_type": "stream",
     "text": [
      "-4595.805803237333\n",
      "17488.72888179162\n"
     ]
    }
   ],
   "source": [
    "# Visualize distribution with a histogram (code provided by ChatGPT)\n",
    "sensor_data = pressure_train.iloc[:,1:]\n",
    "all_values = sensor_data.values.flatten()\n",
    "plt.figure(figsize=(12, 6))\n",
    "plt.hist(all_values, bins = np.arange(-2000, all_values.max() + 100, 10), edgecolor='black')\n",
    "plt.title('Distribution of All Sensor Values')\n",
    "plt.xlabel('Pressure Value')\n",
    "plt.ylabel('Frequency')\n",
    "plt.grid(True)\n",
    "plt.show()\n",
    "\n",
    "print(np.mean(all_values))\n",
    "print(np.std(all_values))\n"
   ]
  },
  {
   "cell_type": "code",
   "execution_count": 7,
   "id": "c103be11",
   "metadata": {},
   "outputs": [
    {
     "data": {
      "image/png": "[encoded data removed]",
      "text/plain": [
       "<Figure size 1200x600 with 1 Axes>"
      ]
     },
     "metadata": {},
     "output_type": "display_data"
    },
    {
     "name": "stdout",
     "output_type": "stream",
     "text": [
      "-6714.818665868153\n",
      "18732.12920533961\n"
     ]
    }
   ],
   "source": [
    "# Visualize distribution with a histogram (code provided by ChatGPT)\n",
    "sensor_data = pressure_pred.iloc[:,1:]\n",
    "all_values = sensor_data.values.flatten()\n",
    "plt.figure(figsize=(12, 6))\n",
    "plt.hist(all_values, bins = np.arange(-3000, all_values.max() + 100, 10), edgecolor='black')\n",
    "plt.title('Distribution of All Sensor Values')\n",
    "plt.xlabel('Pressure Value')\n",
    "plt.ylabel('Frequency')\n",
    "plt.grid(True)\n",
    "plt.show()\n",
    "\n",
    "print(np.mean(all_values))\n",
    "print(np.std(all_values))"
   ]
  },
  {
   "cell_type": "markdown",
   "id": "9063b2e6",
   "metadata": {},
   "source": [
    "We clearly have false measures in our data as there is no trend in those large negative values and a very small frequency. To fix this, we will apply a low filter at -1'500. Once we delete this data, we'll try not to delete the whole column/row as it would remove quite a lot of data. So we prefer to impute the missing data, we could use constant or mean imputation but we'll use KNN imputation to replace them, with 2 neighbors as it will more likely preserve the time continuation.  \n",
    "<font color=\"red\"> should we remove outliers from the test data ? It seems not very clever to try predicting false values..."
   ]
  },
  {
   "cell_type": "code",
   "execution_count": 8,
   "id": "d559b57e",
   "metadata": {},
   "outputs": [
    {
     "name": "stdout",
     "output_type": "stream",
     "text": [
      "0 columns in pressure_train are filled with NaN\n",
      "101 columns in pressure_train are filled with NaN\n",
      "22 columns in pressure_pred are filled with NaN\n"
     ]
    },
    {
     "data": {
      "image/png": "[encoded data removed]",
      "text/plain": [
       "<Figure size 1200x600 with 1 Axes>"
      ]
     },
     "metadata": {},
     "output_type": "display_data"
    },
    {
     "name": "stdout",
     "output_type": "stream",
     "text": [
      "Mean: 827.6565004516698\n",
      "SD: 847.77185234528\n"
     ]
    }
   ],
   "source": [
    "## Checking how many columns are filled with NaN values\n",
    "count = pressure_train.isnull().all().sum()\n",
    "print(f'{count} columns in pressure_train are filled with NaN')\n",
    "\n",
    "## clearing values below -1'500:\n",
    "pressure_train.iloc[:,1:] = pressure_train.iloc[:,1:].mask(pressure_train.iloc[:,1:] <= -1500, np.nan) \n",
    "# pressure_train.iloc[:,1:] = pressure_train.iloc[:,1:].mask(pressure_train.iloc[:,1:] >= 1500, np.nan) \n",
    "pressure_pred.iloc[:,1:] = pressure_pred.iloc[:,1:].mask(pressure_pred.iloc[:,1:] <= -2000, np.nan)\n",
    "# pressure_train.iloc[:,1:] = pressure_train.iloc[:,1:].mask(pressure_train.iloc[:,1:] >= 1500, np.nan) \n",
    "\n",
    "## Dropping values too high as they dont reflect what we will amke our prediction on\n",
    "# # Step 1: Define range and compute ratio of values in range per sensor\n",
    "# lower, upper = 800, 2000\n",
    "# in_range_ratio = ((pressure_train >= lower) & (pressure_train <= upper)).mean()\n",
    "\n",
    "# # Step 2: Sort sensors by in-range ratio (higher means more \"boring\")\n",
    "# in_range_sorted = in_range_ratio.sort_values(ascending=False)\n",
    "\n",
    "# # Step 3: Select top 70% of sensors to drop\n",
    "# n_drop = int(len(in_range_sorted) * 0.50)\n",
    "# sensors_to_drop = in_range_sorted.head(n_drop).index\n",
    "\n",
    "# # Step 4: Drop them\n",
    "# pressure_train = pressure_train.drop(columns=sensors_to_drop)\n",
    "# humidity_train = humidity_train.drop(columns=sensors_to_drop)\n",
    "# temperature_train = temperature_train.drop(columns=sensors_to_drop)\n",
    "# coordinates_train = coordinates_train.drop(coordinates_train[coordinates_train[\"id\"].isin(sensors_to_drop)].index).copy() \n",
    "# display(temperature_train.shape)\n",
    "\n",
    "## Checking how many columns are filled with NaN values\n",
    "count = pressure_train.isnull().all().sum()\n",
    "print(f'{count} columns in pressure_train are filled with NaN')\n",
    "count = pressure_pred.isnull().all().sum()\n",
    "print(f'{count} columns in pressure_pred are filled with NaN')\n",
    "\n",
    "## It is essential to keep the dimensions so we will fill empty columns with values of the next column \n",
    "pressure_train = func.fill_NaN_columns(\n",
    "    K = 5,\n",
    "    df = pressure_train,\n",
    "    imputer = imputer,\n",
    "    coords = coordinates_train\n",
    ")\n",
    "\n",
    "pressure_pred = func.fill_NaN_columns(\n",
    "    K = 5,\n",
    "    df = pressure_pred,\n",
    "    imputer = imputer,\n",
    "    coords = coordinates_pred\n",
    ")\n",
    "\n",
    "## Imputing missing values (if there are some):\n",
    "pressure_train.interpolate(method='linear', axis=0, limit_direction='both', inplace=True)\n",
    "pressure_pred.interpolate(method='linear', axis=0, limit_direction='both', inplace=True)\n",
    "\n",
    "# Visualize distribution with a histogram (code provided by ChatGPT)\n",
    "sensor_data = pressure_train.iloc[:,1:]\n",
    "all_values = sensor_data.values.flatten()\n",
    "plt.figure(figsize=(12, 6))\n",
    "plt.hist(all_values, bins = np.arange(all_values.min(), all_values.max() + 10, 10), edgecolor='black')\n",
    "plt.title('Distribution of All Sensor Values')\n",
    "plt.xlabel('Pressure Value')\n",
    "plt.ylabel('Frequency')\n",
    "plt.grid(True)\n",
    "plt.show()\n",
    "\n",
    "## New distribution parameters:\n",
    "print(f'Mean: {np.mean(all_values)}')\n",
    "print(f'SD: {np.std(all_values)}')\n",
    "\n"
   ]
  },
  {
   "cell_type": "markdown",
   "id": "d70c561c",
   "metadata": {},
   "source": [
    "#### **Humidity**"
   ]
  },
  {
   "cell_type": "code",
   "execution_count": 9,
   "id": "477eaec3",
   "metadata": {},
   "outputs": [
    {
     "data": {
      "image/png": "[encoded data removed]",
      "text/plain": [
       "<Figure size 1200x600 with 1 Axes>"
      ]
     },
     "metadata": {},
     "output_type": "display_data"
    },
    {
     "data": {
      "application/vnd.microsoft.datawrangler.viewer.v0+json": {
       "columns": [
        {
         "name": "index",
         "rawType": "int64",
         "type": "integer"
        },
        {
         "name": "M.Time[d]",
         "rawType": "int64",
         "type": "integer"
        },
        {
         "name": "N_1",
         "rawType": "float64",
         "type": "float"
        },
        {
         "name": "N_2",
         "rawType": "int64",
         "type": "integer"
        },
        {
         "name": "N_3",
         "rawType": "int64",
         "type": "integer"
        },
        {
         "name": "N_4",
         "rawType": "int64",
         "type": "integer"
        },
        {
         "name": "N_5",
         "rawType": "int64",
         "type": "integer"
        },
        {
         "name": "N_6",
         "rawType": "int64",
         "type": "integer"
        },
        {
         "name": "N_7",
         "rawType": "int64",
         "type": "integer"
        },
        {
         "name": "N_8",
         "rawType": "int64",
         "type": "integer"
        },
        {
         "name": "N_9",
         "rawType": "int64",
         "type": "integer"
        },
        {
         "name": "N_10",
         "rawType": "int64",
         "type": "integer"
        },
        {
         "name": "N_11",
         "rawType": "int64",
         "type": "integer"
        },
        {
         "name": "N_12",
         "rawType": "int64",
         "type": "integer"
        },
        {
         "name": "N_13",
         "rawType": "int64",
         "type": "integer"
        },
        {
         "name": "N_14",
         "rawType": "int64",
         "type": "integer"
        },
        {
         "name": "N_15",
         "rawType": "int64",
         "type": "integer"
        },
        {
         "name": "N_16",
         "rawType": "int64",
         "type": "integer"
        },
        {
         "name": "N_17",
         "rawType": "int64",
         "type": "integer"
        },
        {
         "name": "N_18",
         "rawType": "int64",
         "type": "integer"
        },
        {
         "name": "N_19",
         "rawType": "int64",
         "type": "integer"
        },
        {
         "name": "N_20",
         "rawType": "int64",
         "type": "integer"
        },
        {
         "name": "N_21",
         "rawType": "int64",
         "type": "integer"
        },
        {
         "name": "N_22",
         "rawType": "int64",
         "type": "integer"
        },
        {
         "name": "N_23",
         "rawType": "int64",
         "type": "integer"
        },
        {
         "name": "N_24",
         "rawType": "int64",
         "type": "integer"
        },
        {
         "name": "N_25",
         "rawType": "int64",
         "type": "integer"
        },
        {
         "name": "N_26",
         "rawType": "int64",
         "type": "integer"
        },
        {
         "name": "N_27",
         "rawType": "int64",
         "type": "integer"
        },
        {
         "name": "N_28",
         "rawType": "int64",
         "type": "integer"
        },
        {
         "name": "N_29",
         "rawType": "int64",
         "type": "integer"
        },
        {
         "name": "N_30",
         "rawType": "int64",
         "type": "integer"
        },
        {
         "name": "N_31",
         "rawType": "int64",
         "type": "integer"
        },
        {
         "name": "N_32",
         "rawType": "float64",
         "type": "float"
        },
        {
         "name": "N_33",
         "rawType": "int64",
         "type": "integer"
        },
        {
         "name": "N_34",
         "rawType": "int64",
         "type": "integer"
        },
        {
         "name": "N_35",
         "rawType": "int64",
         "type": "integer"
        },
        {
         "name": "N_36",
         "rawType": "int64",
         "type": "integer"
        },
        {
         "name": "N_37",
         "rawType": "int64",
         "type": "integer"
        },
        {
         "name": "N_38",
         "rawType": "int64",
         "type": "integer"
        },
        {
         "name": "N_39",
         "rawType": "float64",
         "type": "float"
        },
        {
         "name": "N_40",
         "rawType": "int64",
         "type": "integer"
        },
        {
         "name": "N_41",
         "rawType": "int64",
         "type": "integer"
        },
        {
         "name": "N_42",
         "rawType": "int64",
         "type": "integer"
        },
        {
         "name": "N_43",
         "rawType": "int64",
         "type": "integer"
        },
        {
         "name": "N_44",
         "rawType": "int64",
         "type": "integer"
        },
        {
         "name": "N_45",
         "rawType": "int64",
         "type": "integer"
        },
        {
         "name": "N_46",
         "rawType": "int64",
         "type": "integer"
        },
        {
         "name": "N_47",
         "rawType": "int64",
         "type": "integer"
        },
        {
         "name": "N_48",
         "rawType": "int64",
         "type": "integer"
        },
        {
         "name": "N_49",
         "rawType": "int64",
         "type": "integer"
        },
        {
         "name": "N_50",
         "rawType": "int64",
         "type": "integer"
        },
        {
         "name": "N_51",
         "rawType": "int64",
         "type": "integer"
        },
        {
         "name": "N_52",
         "rawType": "int64",
         "type": "integer"
        },
        {
         "name": "N_53",
         "rawType": "int64",
         "type": "integer"
        },
        {
         "name": "N_54",
         "rawType": "float64",
         "type": "float"
        },
        {
         "name": "N_55",
         "rawType": "int64",
         "type": "integer"
        },
        {
         "name": "N_56",
         "rawType": "int64",
         "type": "integer"
        },
        {
         "name": "N_57",
         "rawType": "int64",
         "type": "integer"
        },
        {
         "name": "N_58",
         "rawType": "int64",
         "type": "integer"
        },
        {
         "name": "N_59",
         "rawType": "int64",
         "type": "integer"
        },
        {
         "name": "N_60",
         "rawType": "int64",
         "type": "integer"
        },
        {
         "name": "N_61",
         "rawType": "int64",
         "type": "integer"
        },
        {
         "name": "N_62",
         "rawType": "int64",
         "type": "integer"
        },
        {
         "name": "N_63",
         "rawType": "int64",
         "type": "integer"
        },
        {
         "name": "N_64",
         "rawType": "int64",
         "type": "integer"
        },
        {
         "name": "N_65",
         "rawType": "int64",
         "type": "integer"
        },
        {
         "name": "N_66",
         "rawType": "int64",
         "type": "integer"
        },
        {
         "name": "N_67",
         "rawType": "int64",
         "type": "integer"
        },
        {
         "name": "N_68",
         "rawType": "int64",
         "type": "integer"
        },
        {
         "name": "N_69",
         "rawType": "int64",
         "type": "integer"
        },
        {
         "name": "N_70",
         "rawType": "int64",
         "type": "integer"
        },
        {
         "name": "N_71",
         "rawType": "int64",
         "type": "integer"
        },
        {
         "name": "N_72",
         "rawType": "int64",
         "type": "integer"
        },
        {
         "name": "N_73",
         "rawType": "int64",
         "type": "integer"
        },
        {
         "name": "N_74",
         "rawType": "int64",
         "type": "integer"
        },
        {
         "name": "N_75",
         "rawType": "int64",
         "type": "integer"
        },
        {
         "name": "N_76",
         "rawType": "int64",
         "type": "integer"
        },
        {
         "name": "N_77",
         "rawType": "int64",
         "type": "integer"
        },
        {
         "name": "N_78",
         "rawType": "int64",
         "type": "integer"
        },
        {
         "name": "N_79",
         "rawType": "int64",
         "type": "integer"
        },
        {
         "name": "N_80",
         "rawType": "int64",
         "type": "integer"
        },
        {
         "name": "N_81",
         "rawType": "int64",
         "type": "integer"
        },
        {
         "name": "N_82",
         "rawType": "int64",
         "type": "integer"
        },
        {
         "name": "N_83",
         "rawType": "int64",
         "type": "integer"
        },
        {
         "name": "N_84",
         "rawType": "int64",
         "type": "integer"
        },
        {
         "name": "N_85",
         "rawType": "int64",
         "type": "integer"
        },
        {
         "name": "N_86",
         "rawType": "int64",
         "type": "integer"
        },
        {
         "name": "N_87",
         "rawType": "int64",
         "type": "integer"
        },
        {
         "name": "N_88",
         "rawType": "int64",
         "type": "integer"
        },
        {
         "name": "N_89",
         "rawType": "int64",
         "type": "integer"
        },
        {
         "name": "N_90",
         "rawType": "int64",
         "type": "integer"
        },
        {
         "name": "N_91",
         "rawType": "int64",
         "type": "integer"
        },
        {
         "name": "N_92",
         "rawType": "int64",
         "type": "integer"
        },
        {
         "name": "N_93",
         "rawType": "int64",
         "type": "integer"
        },
        {
         "name": "N_94",
         "rawType": "int64",
         "type": "integer"
        },
        {
         "name": "N_95",
         "rawType": "int64",
         "type": "integer"
        },
        {
         "name": "N_96",
         "rawType": "int64",
         "type": "integer"
        },
        {
         "name": "N_97",
         "rawType": "int64",
         "type": "integer"
        },
        {
         "name": "N_98",
         "rawType": "int64",
         "type": "integer"
        },
        {
         "name": "N_99",
         "rawType": "int64",
         "type": "integer"
        },
        {
         "name": "N_100",
         "rawType": "int64",
         "type": "integer"
        },
        {
         "name": "N_101",
         "rawType": "int64",
         "type": "integer"
        },
        {
         "name": "N_102",
         "rawType": "int64",
         "type": "integer"
        },
        {
         "name": "N_103",
         "rawType": "int64",
         "type": "integer"
        },
        {
         "name": "N_104",
         "rawType": "int64",
         "type": "integer"
        },
        {
         "name": "N_105",
         "rawType": "int64",
         "type": "integer"
        },
        {
         "name": "N_106",
         "rawType": "int64",
         "type": "integer"
        },
        {
         "name": "N_107",
         "rawType": "int64",
         "type": "integer"
        },
        {
         "name": "N_108",
         "rawType": "int64",
         "type": "integer"
        },
        {
         "name": "N_109",
         "rawType": "int64",
         "type": "integer"
        },
        {
         "name": "N_110",
         "rawType": "int64",
         "type": "integer"
        },
        {
         "name": "N_111",
         "rawType": "int64",
         "type": "integer"
        },
        {
         "name": "N_112",
         "rawType": "float64",
         "type": "float"
        },
        {
         "name": "N_113",
         "rawType": "int64",
         "type": "integer"
        },
        {
         "name": "N_114",
         "rawType": "int64",
         "type": "integer"
        },
        {
         "name": "N_115",
         "rawType": "int64",
         "type": "integer"
        },
        {
         "name": "N_116",
         "rawType": "int64",
         "type": "integer"
        },
        {
         "name": "N_117",
         "rawType": "int64",
         "type": "integer"
        },
        {
         "name": "N_118",
         "rawType": "int64",
         "type": "integer"
        },
        {
         "name": "N_119",
         "rawType": "int64",
         "type": "integer"
        },
        {
         "name": "N_120",
         "rawType": "int64",
         "type": "integer"
        },
        {
         "name": "N_121",
         "rawType": "int64",
         "type": "integer"
        },
        {
         "name": "N_122",
         "rawType": "int64",
         "type": "integer"
        },
        {
         "name": "N_123",
         "rawType": "int64",
         "type": "integer"
        },
        {
         "name": "N_124",
         "rawType": "int64",
         "type": "integer"
        },
        {
         "name": "N_125",
         "rawType": "int64",
         "type": "integer"
        },
        {
         "name": "N_126",
         "rawType": "int64",
         "type": "integer"
        },
        {
         "name": "N_127",
         "rawType": "int64",
         "type": "integer"
        },
        {
         "name": "N_128",
         "rawType": "int64",
         "type": "integer"
        },
        {
         "name": "N_129",
         "rawType": "int64",
         "type": "integer"
        },
        {
         "name": "N_130",
         "rawType": "int64",
         "type": "integer"
        },
        {
         "name": "N_131",
         "rawType": "int64",
         "type": "integer"
        },
        {
         "name": "N_132",
         "rawType": "int64",
         "type": "integer"
        },
        {
         "name": "N_133",
         "rawType": "int64",
         "type": "integer"
        },
        {
         "name": "N_134",
         "rawType": "int64",
         "type": "integer"
        },
        {
         "name": "N_135",
         "rawType": "int64",
         "type": "integer"
        },
        {
         "name": "N_136",
         "rawType": "int64",
         "type": "integer"
        },
        {
         "name": "N_137",
         "rawType": "int64",
         "type": "integer"
        },
        {
         "name": "N_138",
         "rawType": "int64",
         "type": "integer"
        },
        {
         "name": "N_139",
         "rawType": "int64",
         "type": "integer"
        },
        {
         "name": "N_140",
         "rawType": "int64",
         "type": "integer"
        },
        {
         "name": "N_141",
         "rawType": "int64",
         "type": "integer"
        },
        {
         "name": "N_142",
         "rawType": "int64",
         "type": "integer"
        },
        {
         "name": "N_143",
         "rawType": "int64",
         "type": "integer"
        },
        {
         "name": "N_144",
         "rawType": "int64",
         "type": "integer"
        },
        {
         "name": "N_145",
         "rawType": "int64",
         "type": "integer"
        },
        {
         "name": "N_146",
         "rawType": "int64",
         "type": "integer"
        },
        {
         "name": "N_147",
         "rawType": "int64",
         "type": "integer"
        },
        {
         "name": "N_148",
         "rawType": "int64",
         "type": "integer"
        },
        {
         "name": "N_149",
         "rawType": "int64",
         "type": "integer"
        },
        {
         "name": "N_150",
         "rawType": "int64",
         "type": "integer"
        },
        {
         "name": "N_151",
         "rawType": "int64",
         "type": "integer"
        },
        {
         "name": "N_152",
         "rawType": "int64",
         "type": "integer"
        },
        {
         "name": "N_153",
         "rawType": "int64",
         "type": "integer"
        },
        {
         "name": "N_154",
         "rawType": "int64",
         "type": "integer"
        },
        {
         "name": "N_155",
         "rawType": "int64",
         "type": "integer"
        },
        {
         "name": "N_156",
         "rawType": "int64",
         "type": "integer"
        },
        {
         "name": "N_157",
         "rawType": "int64",
         "type": "integer"
        },
        {
         "name": "N_158",
         "rawType": "int64",
         "type": "integer"
        },
        {
         "name": "N_159",
         "rawType": "int64",
         "type": "integer"
        },
        {
         "name": "N_160",
         "rawType": "int64",
         "type": "integer"
        },
        {
         "name": "N_161",
         "rawType": "int64",
         "type": "integer"
        },
        {
         "name": "N_162",
         "rawType": "int64",
         "type": "integer"
        },
        {
         "name": "N_163",
         "rawType": "int64",
         "type": "integer"
        },
        {
         "name": "N_164",
         "rawType": "int64",
         "type": "integer"
        },
        {
         "name": "N_165",
         "rawType": "int64",
         "type": "integer"
        },
        {
         "name": "N_166",
         "rawType": "int64",
         "type": "integer"
        },
        {
         "name": "N_167",
         "rawType": "int64",
         "type": "integer"
        },
        {
         "name": "N_168",
         "rawType": "int64",
         "type": "integer"
        },
        {
         "name": "N_169",
         "rawType": "int64",
         "type": "integer"
        },
        {
         "name": "N_170",
         "rawType": "int64",
         "type": "integer"
        },
        {
         "name": "N_171",
         "rawType": "int64",
         "type": "integer"
        },
        {
         "name": "N_172",
         "rawType": "int64",
         "type": "integer"
        },
        {
         "name": "N_173",
         "rawType": "int64",
         "type": "integer"
        },
        {
         "name": "N_174",
         "rawType": "int64",
         "type": "integer"
        },
        {
         "name": "N_175",
         "rawType": "int64",
         "type": "integer"
        },
        {
         "name": "N_176",
         "rawType": "int64",
         "type": "integer"
        },
        {
         "name": "N_177",
         "rawType": "int64",
         "type": "integer"
        },
        {
         "name": "N_178",
         "rawType": "int64",
         "type": "integer"
        },
        {
         "name": "N_179",
         "rawType": "int64",
         "type": "integer"
        },
        {
         "name": "N_180",
         "rawType": "int64",
         "type": "integer"
        },
        {
         "name": "N_181",
         "rawType": "int64",
         "type": "integer"
        },
        {
         "name": "N_182",
         "rawType": "int64",
         "type": "integer"
        },
        {
         "name": "N_183",
         "rawType": "int64",
         "type": "integer"
        },
        {
         "name": "N_184",
         "rawType": "int64",
         "type": "integer"
        },
        {
         "name": "N_185",
         "rawType": "int64",
         "type": "integer"
        },
        {
         "name": "N_186",
         "rawType": "int64",
         "type": "integer"
        },
        {
         "name": "N_187",
         "rawType": "int64",
         "type": "integer"
        },
        {
         "name": "N_188",
         "rawType": "int64",
         "type": "integer"
        },
        {
         "name": "N_189",
         "rawType": "int64",
         "type": "integer"
        },
        {
         "name": "N_190",
         "rawType": "int64",
         "type": "integer"
        },
        {
         "name": "N_191",
         "rawType": "int64",
         "type": "integer"
        },
        {
         "name": "N_192",
         "rawType": "int64",
         "type": "integer"
        },
        {
         "name": "N_193",
         "rawType": "int64",
         "type": "integer"
        },
        {
         "name": "N_194",
         "rawType": "int64",
         "type": "integer"
        },
        {
         "name": "N_195",
         "rawType": "int64",
         "type": "integer"
        },
        {
         "name": "N_196",
         "rawType": "int64",
         "type": "integer"
        },
        {
         "name": "N_197",
         "rawType": "int64",
         "type": "integer"
        },
        {
         "name": "N_198",
         "rawType": "int64",
         "type": "integer"
        },
        {
         "name": "N_199",
         "rawType": "int64",
         "type": "integer"
        },
        {
         "name": "N_200",
         "rawType": "int64",
         "type": "integer"
        },
        {
         "name": "N_201",
         "rawType": "int64",
         "type": "integer"
        },
        {
         "name": "N_202",
         "rawType": "int64",
         "type": "integer"
        },
        {
         "name": "N_203",
         "rawType": "float64",
         "type": "float"
        },
        {
         "name": "N_204",
         "rawType": "int64",
         "type": "integer"
        },
        {
         "name": "N_205",
         "rawType": "int64",
         "type": "integer"
        },
        {
         "name": "N_206",
         "rawType": "int64",
         "type": "integer"
        },
        {
         "name": "N_207",
         "rawType": "int64",
         "type": "integer"
        },
        {
         "name": "N_208",
         "rawType": "int64",
         "type": "integer"
        },
        {
         "name": "N_209",
         "rawType": "int64",
         "type": "integer"
        },
        {
         "name": "N_210",
         "rawType": "int64",
         "type": "integer"
        },
        {
         "name": "N_211",
         "rawType": "int64",
         "type": "integer"
        },
        {
         "name": "N_212",
         "rawType": "int64",
         "type": "integer"
        },
        {
         "name": "N_213",
         "rawType": "int64",
         "type": "integer"
        },
        {
         "name": "N_214",
         "rawType": "int64",
         "type": "integer"
        },
        {
         "name": "N_215",
         "rawType": "int64",
         "type": "integer"
        },
        {
         "name": "N_216",
         "rawType": "int64",
         "type": "integer"
        },
        {
         "name": "N_217",
         "rawType": "int64",
         "type": "integer"
        },
        {
         "name": "N_218",
         "rawType": "int64",
         "type": "integer"
        },
        {
         "name": "N_219",
         "rawType": "int64",
         "type": "integer"
        },
        {
         "name": "N_220",
         "rawType": "int64",
         "type": "integer"
        },
        {
         "name": "N_221",
         "rawType": "int64",
         "type": "integer"
        },
        {
         "name": "N_222",
         "rawType": "int64",
         "type": "integer"
        },
        {
         "name": "N_223",
         "rawType": "int64",
         "type": "integer"
        },
        {
         "name": "N_224",
         "rawType": "int64",
         "type": "integer"
        },
        {
         "name": "N_225",
         "rawType": "int64",
         "type": "integer"
        },
        {
         "name": "N_226",
         "rawType": "int64",
         "type": "integer"
        },
        {
         "name": "N_227",
         "rawType": "int64",
         "type": "integer"
        },
        {
         "name": "N_228",
         "rawType": "int64",
         "type": "integer"
        },
        {
         "name": "N_229",
         "rawType": "int64",
         "type": "integer"
        },
        {
         "name": "N_230",
         "rawType": "int64",
         "type": "integer"
        },
        {
         "name": "N_231",
         "rawType": "int64",
         "type": "integer"
        },
        {
         "name": "N_232",
         "rawType": "int64",
         "type": "integer"
        },
        {
         "name": "N_233",
         "rawType": "int64",
         "type": "integer"
        },
        {
         "name": "N_234",
         "rawType": "int64",
         "type": "integer"
        },
        {
         "name": "N_235",
         "rawType": "int64",
         "type": "integer"
        },
        {
         "name": "N_236",
         "rawType": "int64",
         "type": "integer"
        },
        {
         "name": "N_237",
         "rawType": "float64",
         "type": "float"
        },
        {
         "name": "N_238",
         "rawType": "int64",
         "type": "integer"
        },
        {
         "name": "N_239",
         "rawType": "int64",
         "type": "integer"
        },
        {
         "name": "N_240",
         "rawType": "int64",
         "type": "integer"
        },
        {
         "name": "N_241",
         "rawType": "int64",
         "type": "integer"
        },
        {
         "name": "N_242",
         "rawType": "int64",
         "type": "integer"
        },
        {
         "name": "N_243",
         "rawType": "int64",
         "type": "integer"
        },
        {
         "name": "N_244",
         "rawType": "float64",
         "type": "float"
        },
        {
         "name": "N_245",
         "rawType": "int64",
         "type": "integer"
        },
        {
         "name": "N_246",
         "rawType": "int64",
         "type": "integer"
        },
        {
         "name": "N_247",
         "rawType": "int64",
         "type": "integer"
        },
        {
         "name": "N_248",
         "rawType": "int64",
         "type": "integer"
        },
        {
         "name": "N_249",
         "rawType": "int64",
         "type": "integer"
        },
        {
         "name": "N_250",
         "rawType": "int64",
         "type": "integer"
        },
        {
         "name": "N_251",
         "rawType": "int64",
         "type": "integer"
        },
        {
         "name": "N_252",
         "rawType": "int64",
         "type": "integer"
        },
        {
         "name": "N_253",
         "rawType": "int64",
         "type": "integer"
        },
        {
         "name": "N_254",
         "rawType": "int64",
         "type": "integer"
        },
        {
         "name": "N_255",
         "rawType": "int64",
         "type": "integer"
        },
        {
         "name": "N_256",
         "rawType": "int64",
         "type": "integer"
        },
        {
         "name": "N_257",
         "rawType": "int64",
         "type": "integer"
        },
        {
         "name": "N_258",
         "rawType": "int64",
         "type": "integer"
        },
        {
         "name": "N_259",
         "rawType": "int64",
         "type": "integer"
        },
        {
         "name": "N_260",
         "rawType": "int64",
         "type": "integer"
        },
        {
         "name": "N_261",
         "rawType": "int64",
         "type": "integer"
        },
        {
         "name": "N_262",
         "rawType": "int64",
         "type": "integer"
        },
        {
         "name": "N_263",
         "rawType": "int64",
         "type": "integer"
        },
        {
         "name": "N_264",
         "rawType": "int64",
         "type": "integer"
        },
        {
         "name": "N_265",
         "rawType": "int64",
         "type": "integer"
        },
        {
         "name": "N_266",
         "rawType": "int64",
         "type": "integer"
        },
        {
         "name": "N_267",
         "rawType": "int64",
         "type": "integer"
        },
        {
         "name": "N_268",
         "rawType": "int64",
         "type": "integer"
        },
        {
         "name": "N_269",
         "rawType": "int64",
         "type": "integer"
        },
        {
         "name": "N_270",
         "rawType": "int64",
         "type": "integer"
        },
        {
         "name": "N_271",
         "rawType": "int64",
         "type": "integer"
        },
        {
         "name": "N_272",
         "rawType": "int64",
         "type": "integer"
        },
        {
         "name": "N_273",
         "rawType": "int64",
         "type": "integer"
        },
        {
         "name": "N_274",
         "rawType": "float64",
         "type": "float"
        },
        {
         "name": "N_275",
         "rawType": "int64",
         "type": "integer"
        },
        {
         "name": "N_276",
         "rawType": "int64",
         "type": "integer"
        },
        {
         "name": "N_277",
         "rawType": "float64",
         "type": "float"
        },
        {
         "name": "N_278",
         "rawType": "int64",
         "type": "integer"
        },
        {
         "name": "N_279",
         "rawType": "int64",
         "type": "integer"
        },
        {
         "name": "N_280",
         "rawType": "int64",
         "type": "integer"
        },
        {
         "name": "N_281",
         "rawType": "int64",
         "type": "integer"
        },
        {
         "name": "N_282",
         "rawType": "int64",
         "type": "integer"
        },
        {
         "name": "N_283",
         "rawType": "int64",
         "type": "integer"
        },
        {
         "name": "N_284",
         "rawType": "int64",
         "type": "integer"
        },
        {
         "name": "N_285",
         "rawType": "int64",
         "type": "integer"
        },
        {
         "name": "N_286",
         "rawType": "int64",
         "type": "integer"
        },
        {
         "name": "N_287",
         "rawType": "int64",
         "type": "integer"
        },
        {
         "name": "N_288",
         "rawType": "int64",
         "type": "integer"
        },
        {
         "name": "N_289",
         "rawType": "int64",
         "type": "integer"
        },
        {
         "name": "N_290",
         "rawType": "int64",
         "type": "integer"
        },
        {
         "name": "N_291",
         "rawType": "int64",
         "type": "integer"
        },
        {
         "name": "N_292",
         "rawType": "float64",
         "type": "float"
        },
        {
         "name": "N_293",
         "rawType": "int64",
         "type": "integer"
        },
        {
         "name": "N_294",
         "rawType": "int64",
         "type": "integer"
        },
        {
         "name": "N_295",
         "rawType": "int64",
         "type": "integer"
        },
        {
         "name": "N_296",
         "rawType": "int64",
         "type": "integer"
        },
        {
         "name": "N_297",
         "rawType": "int64",
         "type": "integer"
        },
        {
         "name": "N_298",
         "rawType": "int64",
         "type": "integer"
        },
        {
         "name": "N_299",
         "rawType": "int64",
         "type": "integer"
        },
        {
         "name": "N_300",
         "rawType": "int64",
         "type": "integer"
        },
        {
         "name": "N_301",
         "rawType": "int64",
         "type": "integer"
        },
        {
         "name": "N_302",
         "rawType": "int64",
         "type": "integer"
        },
        {
         "name": "N_303",
         "rawType": "int64",
         "type": "integer"
        },
        {
         "name": "N_304",
         "rawType": "int64",
         "type": "integer"
        },
        {
         "name": "N_305",
         "rawType": "int64",
         "type": "integer"
        },
        {
         "name": "N_306",
         "rawType": "int64",
         "type": "integer"
        },
        {
         "name": "N_307",
         "rawType": "int64",
         "type": "integer"
        },
        {
         "name": "N_308",
         "rawType": "int64",
         "type": "integer"
        },
        {
         "name": "N_309",
         "rawType": "int64",
         "type": "integer"
        },
        {
         "name": "N_310",
         "rawType": "int64",
         "type": "integer"
        },
        {
         "name": "N_311",
         "rawType": "int64",
         "type": "integer"
        },
        {
         "name": "N_312",
         "rawType": "int64",
         "type": "integer"
        },
        {
         "name": "N_313",
         "rawType": "int64",
         "type": "integer"
        },
        {
         "name": "N_314",
         "rawType": "int64",
         "type": "integer"
        },
        {
         "name": "N_315",
         "rawType": "int64",
         "type": "integer"
        },
        {
         "name": "N_316",
         "rawType": "int64",
         "type": "integer"
        },
        {
         "name": "N_317",
         "rawType": "int64",
         "type": "integer"
        },
        {
         "name": "N_318",
         "rawType": "int64",
         "type": "integer"
        },
        {
         "name": "N_319",
         "rawType": "int64",
         "type": "integer"
        },
        {
         "name": "N_320",
         "rawType": "int64",
         "type": "integer"
        },
        {
         "name": "N_321",
         "rawType": "int64",
         "type": "integer"
        },
        {
         "name": "N_322",
         "rawType": "int64",
         "type": "integer"
        },
        {
         "name": "N_323",
         "rawType": "int64",
         "type": "integer"
        },
        {
         "name": "N_324",
         "rawType": "int64",
         "type": "integer"
        },
        {
         "name": "N_325",
         "rawType": "int64",
         "type": "integer"
        },
        {
         "name": "N_326",
         "rawType": "int64",
         "type": "integer"
        },
        {
         "name": "N_327",
         "rawType": "int64",
         "type": "integer"
        },
        {
         "name": "N_328",
         "rawType": "float64",
         "type": "float"
        },
        {
         "name": "N_329",
         "rawType": "int64",
         "type": "integer"
        },
        {
         "name": "N_330",
         "rawType": "int64",
         "type": "integer"
        },
        {
         "name": "N_331",
         "rawType": "int64",
         "type": "integer"
        },
        {
         "name": "N_332",
         "rawType": "int64",
         "type": "integer"
        },
        {
         "name": "N_333",
         "rawType": "int64",
         "type": "integer"
        },
        {
         "name": "N_334",
         "rawType": "int64",
         "type": "integer"
        },
        {
         "name": "N_335",
         "rawType": "int64",
         "type": "integer"
        },
        {
         "name": "N_336",
         "rawType": "int64",
         "type": "integer"
        },
        {
         "name": "N_337",
         "rawType": "int64",
         "type": "integer"
        },
        {
         "name": "N_338",
         "rawType": "int64",
         "type": "integer"
        },
        {
         "name": "N_339",
         "rawType": "int64",
         "type": "integer"
        },
        {
         "name": "N_340",
         "rawType": "int64",
         "type": "integer"
        },
        {
         "name": "N_341",
         "rawType": "int64",
         "type": "integer"
        },
        {
         "name": "N_342",
         "rawType": "int64",
         "type": "integer"
        },
        {
         "name": "N_343",
         "rawType": "int64",
         "type": "integer"
        },
        {
         "name": "N_344",
         "rawType": "int64",
         "type": "integer"
        },
        {
         "name": "N_345",
         "rawType": "int64",
         "type": "integer"
        },
        {
         "name": "N_346",
         "rawType": "int64",
         "type": "integer"
        },
        {
         "name": "N_347",
         "rawType": "int64",
         "type": "integer"
        },
        {
         "name": "N_348",
         "rawType": "int64",
         "type": "integer"
        },
        {
         "name": "N_349",
         "rawType": "int64",
         "type": "integer"
        },
        {
         "name": "N_350",
         "rawType": "int64",
         "type": "integer"
        },
        {
         "name": "N_351",
         "rawType": "int64",
         "type": "integer"
        },
        {
         "name": "N_352",
         "rawType": "int64",
         "type": "integer"
        },
        {
         "name": "N_353",
         "rawType": "int64",
         "type": "integer"
        },
        {
         "name": "N_354",
         "rawType": "int64",
         "type": "integer"
        },
        {
         "name": "N_355",
         "rawType": "int64",
         "type": "integer"
        },
        {
         "name": "N_356",
         "rawType": "int64",
         "type": "integer"
        },
        {
         "name": "N_357",
         "rawType": "int64",
         "type": "integer"
        },
        {
         "name": "N_358",
         "rawType": "int64",
         "type": "integer"
        },
        {
         "name": "N_359",
         "rawType": "int64",
         "type": "integer"
        },
        {
         "name": "N_360",
         "rawType": "int64",
         "type": "integer"
        },
        {
         "name": "N_361",
         "rawType": "int64",
         "type": "integer"
        },
        {
         "name": "N_362",
         "rawType": "int64",
         "type": "integer"
        },
        {
         "name": "N_363",
         "rawType": "int64",
         "type": "integer"
        },
        {
         "name": "N_364",
         "rawType": "int64",
         "type": "integer"
        },
        {
         "name": "N_365",
         "rawType": "int64",
         "type": "integer"
        },
        {
         "name": "N_366",
         "rawType": "int64",
         "type": "integer"
        },
        {
         "name": "N_367",
         "rawType": "int64",
         "type": "integer"
        },
        {
         "name": "N_368",
         "rawType": "int64",
         "type": "integer"
        },
        {
         "name": "N_369",
         "rawType": "int64",
         "type": "integer"
        },
        {
         "name": "N_370",
         "rawType": "int64",
         "type": "integer"
        },
        {
         "name": "N_371",
         "rawType": "int64",
         "type": "integer"
        },
        {
         "name": "N_372",
         "rawType": "int64",
         "type": "integer"
        },
        {
         "name": "N_373",
         "rawType": "int64",
         "type": "integer"
        },
        {
         "name": "N_374",
         "rawType": "int64",
         "type": "integer"
        },
        {
         "name": "N_375",
         "rawType": "int64",
         "type": "integer"
        },
        {
         "name": "N_376",
         "rawType": "int64",
         "type": "integer"
        },
        {
         "name": "N_377",
         "rawType": "int64",
         "type": "integer"
        },
        {
         "name": "N_378",
         "rawType": "int64",
         "type": "integer"
        },
        {
         "name": "N_379",
         "rawType": "int64",
         "type": "integer"
        },
        {
         "name": "N_380",
         "rawType": "int64",
         "type": "integer"
        },
        {
         "name": "N_381",
         "rawType": "int64",
         "type": "integer"
        },
        {
         "name": "N_382",
         "rawType": "int64",
         "type": "integer"
        },
        {
         "name": "N_383",
         "rawType": "int64",
         "type": "integer"
        },
        {
         "name": "N_384",
         "rawType": "int64",
         "type": "integer"
        },
        {
         "name": "N_385",
         "rawType": "int64",
         "type": "integer"
        },
        {
         "name": "N_386",
         "rawType": "int64",
         "type": "integer"
        },
        {
         "name": "N_387",
         "rawType": "int64",
         "type": "integer"
        },
        {
         "name": "N_388",
         "rawType": "int64",
         "type": "integer"
        },
        {
         "name": "N_389",
         "rawType": "int64",
         "type": "integer"
        },
        {
         "name": "N_390",
         "rawType": "int64",
         "type": "integer"
        },
        {
         "name": "N_391",
         "rawType": "int64",
         "type": "integer"
        },
        {
         "name": "N_392",
         "rawType": "int64",
         "type": "integer"
        },
        {
         "name": "N_393",
         "rawType": "int64",
         "type": "integer"
        },
        {
         "name": "N_394",
         "rawType": "int64",
         "type": "integer"
        },
        {
         "name": "N_395",
         "rawType": "int64",
         "type": "integer"
        },
        {
         "name": "N_396",
         "rawType": "int64",
         "type": "integer"
        },
        {
         "name": "N_397",
         "rawType": "int64",
         "type": "integer"
        },
        {
         "name": "N_398",
         "rawType": "int64",
         "type": "integer"
        },
        {
         "name": "N_399",
         "rawType": "int64",
         "type": "integer"
        },
        {
         "name": "N_400",
         "rawType": "int64",
         "type": "integer"
        },
        {
         "name": "N_401",
         "rawType": "int64",
         "type": "integer"
        },
        {
         "name": "N_402",
         "rawType": "int64",
         "type": "integer"
        },
        {
         "name": "N_403",
         "rawType": "int64",
         "type": "integer"
        },
        {
         "name": "N_404",
         "rawType": "int64",
         "type": "integer"
        },
        {
         "name": "N_405",
         "rawType": "int64",
         "type": "integer"
        },
        {
         "name": "N_406",
         "rawType": "int64",
         "type": "integer"
        },
        {
         "name": "N_407",
         "rawType": "int64",
         "type": "integer"
        },
        {
         "name": "N_408",
         "rawType": "int64",
         "type": "integer"
        },
        {
         "name": "N_409",
         "rawType": "int64",
         "type": "integer"
        },
        {
         "name": "N_410",
         "rawType": "int64",
         "type": "integer"
        },
        {
         "name": "N_411",
         "rawType": "int64",
         "type": "integer"
        },
        {
         "name": "N_412",
         "rawType": "int64",
         "type": "integer"
        },
        {
         "name": "N_413",
         "rawType": "int64",
         "type": "integer"
        },
        {
         "name": "N_414",
         "rawType": "int64",
         "type": "integer"
        },
        {
         "name": "N_415",
         "rawType": "int64",
         "type": "integer"
        },
        {
         "name": "N_416",
         "rawType": "int64",
         "type": "integer"
        },
        {
         "name": "N_417",
         "rawType": "int64",
         "type": "integer"
        },
        {
         "name": "N_418",
         "rawType": "int64",
         "type": "integer"
        },
        {
         "name": "N_419",
         "rawType": "int64",
         "type": "integer"
        },
        {
         "name": "N_420",
         "rawType": "int64",
         "type": "integer"
        },
        {
         "name": "N_421",
         "rawType": "int64",
         "type": "integer"
        },
        {
         "name": "N_422",
         "rawType": "int64",
         "type": "integer"
        },
        {
         "name": "N_423",
         "rawType": "int64",
         "type": "integer"
        },
        {
         "name": "N_424",
         "rawType": "int64",
         "type": "integer"
        },
        {
         "name": "N_425",
         "rawType": "int64",
         "type": "integer"
        },
        {
         "name": "N_426",
         "rawType": "int64",
         "type": "integer"
        },
        {
         "name": "N_427",
         "rawType": "int64",
         "type": "integer"
        },
        {
         "name": "N_428",
         "rawType": "int64",
         "type": "integer"
        },
        {
         "name": "N_429",
         "rawType": "float64",
         "type": "float"
        },
        {
         "name": "N_430",
         "rawType": "int64",
         "type": "integer"
        },
        {
         "name": "N_431",
         "rawType": "int64",
         "type": "integer"
        },
        {
         "name": "N_432",
         "rawType": "int64",
         "type": "integer"
        },
        {
         "name": "N_433",
         "rawType": "int64",
         "type": "integer"
        },
        {
         "name": "N_434",
         "rawType": "int64",
         "type": "integer"
        },
        {
         "name": "N_435",
         "rawType": "int64",
         "type": "integer"
        },
        {
         "name": "N_436",
         "rawType": "int64",
         "type": "integer"
        },
        {
         "name": "N_437",
         "rawType": "int64",
         "type": "integer"
        },
        {
         "name": "N_438",
         "rawType": "int64",
         "type": "integer"
        },
        {
         "name": "N_439",
         "rawType": "int64",
         "type": "integer"
        },
        {
         "name": "N_440",
         "rawType": "int64",
         "type": "integer"
        },
        {
         "name": "N_441",
         "rawType": "int64",
         "type": "integer"
        },
        {
         "name": "N_442",
         "rawType": "float64",
         "type": "float"
        },
        {
         "name": "N_443",
         "rawType": "int64",
         "type": "integer"
        },
        {
         "name": "N_444",
         "rawType": "int64",
         "type": "integer"
        },
        {
         "name": "N_445",
         "rawType": "int64",
         "type": "integer"
        },
        {
         "name": "N_446",
         "rawType": "int64",
         "type": "integer"
        },
        {
         "name": "N_447",
         "rawType": "int64",
         "type": "integer"
        },
        {
         "name": "N_448",
         "rawType": "int64",
         "type": "integer"
        },
        {
         "name": "N_449",
         "rawType": "int64",
         "type": "integer"
        },
        {
         "name": "N_450",
         "rawType": "int64",
         "type": "integer"
        },
        {
         "name": "N_451",
         "rawType": "int64",
         "type": "integer"
        },
        {
         "name": "N_452",
         "rawType": "int64",
         "type": "integer"
        },
        {
         "name": "N_453",
         "rawType": "int64",
         "type": "integer"
        },
        {
         "name": "N_454",
         "rawType": "int64",
         "type": "integer"
        },
        {
         "name": "N_455",
         "rawType": "int64",
         "type": "integer"
        },
        {
         "name": "N_456",
         "rawType": "int64",
         "type": "integer"
        },
        {
         "name": "N_457",
         "rawType": "float64",
         "type": "float"
        },
        {
         "name": "N_458",
         "rawType": "int64",
         "type": "integer"
        },
        {
         "name": "N_459",
         "rawType": "int64",
         "type": "integer"
        },
        {
         "name": "N_460",
         "rawType": "int64",
         "type": "integer"
        },
        {
         "name": "N_461",
         "rawType": "int64",
         "type": "integer"
        },
        {
         "name": "N_462",
         "rawType": "int64",
         "type": "integer"
        },
        {
         "name": "N_463",
         "rawType": "int64",
         "type": "integer"
        },
        {
         "name": "N_464",
         "rawType": "int64",
         "type": "integer"
        },
        {
         "name": "N_465",
         "rawType": "int64",
         "type": "integer"
        },
        {
         "name": "N_466",
         "rawType": "int64",
         "type": "integer"
        },
        {
         "name": "N_467",
         "rawType": "int64",
         "type": "integer"
        },
        {
         "name": "N_468",
         "rawType": "int64",
         "type": "integer"
        },
        {
         "name": "N_469",
         "rawType": "int64",
         "type": "integer"
        },
        {
         "name": "N_470",
         "rawType": "int64",
         "type": "integer"
        },
        {
         "name": "N_471",
         "rawType": "int64",
         "type": "integer"
        },
        {
         "name": "N_472",
         "rawType": "int64",
         "type": "integer"
        },
        {
         "name": "N_473",
         "rawType": "int64",
         "type": "integer"
        },
        {
         "name": "N_474",
         "rawType": "int64",
         "type": "integer"
        },
        {
         "name": "N_475",
         "rawType": "int64",
         "type": "integer"
        },
        {
         "name": "N_476",
         "rawType": "int64",
         "type": "integer"
        },
        {
         "name": "N_477",
         "rawType": "int64",
         "type": "integer"
        },
        {
         "name": "N_478",
         "rawType": "int64",
         "type": "integer"
        },
        {
         "name": "N_479",
         "rawType": "int64",
         "type": "integer"
        },
        {
         "name": "N_480",
         "rawType": "int64",
         "type": "integer"
        },
        {
         "name": "N_481",
         "rawType": "int64",
         "type": "integer"
        },
        {
         "name": "N_482",
         "rawType": "float64",
         "type": "float"
        },
        {
         "name": "N_483",
         "rawType": "int64",
         "type": "integer"
        },
        {
         "name": "N_484",
         "rawType": "float64",
         "type": "float"
        },
        {
         "name": "N_485",
         "rawType": "int64",
         "type": "integer"
        },
        {
         "name": "N_486",
         "rawType": "float64",
         "type": "float"
        },
        {
         "name": "N_487",
         "rawType": "float64",
         "type": "float"
        },
        {
         "name": "N_488",
         "rawType": "float64",
         "type": "float"
        },
        {
         "name": "N_489",
         "rawType": "float64",
         "type": "float"
        },
        {
         "name": "N_490",
         "rawType": "float64",
         "type": "float"
        },
        {
         "name": "N_491",
         "rawType": "float64",
         "type": "float"
        },
        {
         "name": "N_492",
         "rawType": "int64",
         "type": "integer"
        },
        {
         "name": "N_493",
         "rawType": "float64",
         "type": "float"
        },
        {
         "name": "N_494",
         "rawType": "float64",
         "type": "float"
        },
        {
         "name": "N_495",
         "rawType": "float64",
         "type": "float"
        },
        {
         "name": "N_496",
         "rawType": "int64",
         "type": "integer"
        },
        {
         "name": "N_497",
         "rawType": "float64",
         "type": "float"
        },
        {
         "name": "N_498",
         "rawType": "int64",
         "type": "integer"
        },
        {
         "name": "N_499",
         "rawType": "float64",
         "type": "float"
        },
        {
         "name": "N_500",
         "rawType": "float64",
         "type": "float"
        },
        {
         "name": "N_501",
         "rawType": "float64",
         "type": "float"
        },
        {
         "name": "N_502",
         "rawType": "float64",
         "type": "float"
        },
        {
         "name": "N_503",
         "rawType": "int64",
         "type": "integer"
        },
        {
         "name": "N_504",
         "rawType": "float64",
         "type": "float"
        },
        {
         "name": "N_505",
         "rawType": "float64",
         "type": "float"
        },
        {
         "name": "N_506",
         "rawType": "float64",
         "type": "float"
        },
        {
         "name": "N_507",
         "rawType": "float64",
         "type": "float"
        },
        {
         "name": "N_508",
         "rawType": "float64",
         "type": "float"
        },
        {
         "name": "N_509",
         "rawType": "float64",
         "type": "float"
        },
        {
         "name": "N_510",
         "rawType": "float64",
         "type": "float"
        },
        {
         "name": "N_511",
         "rawType": "int64",
         "type": "integer"
        },
        {
         "name": "N_512",
         "rawType": "float64",
         "type": "float"
        },
        {
         "name": "N_513",
         "rawType": "int64",
         "type": "integer"
        },
        {
         "name": "N_514",
         "rawType": "float64",
         "type": "float"
        },
        {
         "name": "N_515",
         "rawType": "float64",
         "type": "float"
        },
        {
         "name": "N_516",
         "rawType": "float64",
         "type": "float"
        },
        {
         "name": "N_517",
         "rawType": "float64",
         "type": "float"
        },
        {
         "name": "N_518",
         "rawType": "float64",
         "type": "float"
        },
        {
         "name": "N_519",
         "rawType": "int64",
         "type": "integer"
        },
        {
         "name": "N_520",
         "rawType": "float64",
         "type": "float"
        },
        {
         "name": "N_521",
         "rawType": "float64",
         "type": "float"
        },
        {
         "name": "N_522",
         "rawType": "int64",
         "type": "integer"
        },
        {
         "name": "N_523",
         "rawType": "float64",
         "type": "float"
        },
        {
         "name": "N_524",
         "rawType": "float64",
         "type": "float"
        },
        {
         "name": "N_525",
         "rawType": "float64",
         "type": "float"
        },
        {
         "name": "N_526",
         "rawType": "int64",
         "type": "integer"
        },
        {
         "name": "N_527",
         "rawType": "float64",
         "type": "float"
        },
        {
         "name": "N_528",
         "rawType": "int64",
         "type": "integer"
        },
        {
         "name": "N_529",
         "rawType": "float64",
         "type": "float"
        },
        {
         "name": "N_530",
         "rawType": "float64",
         "type": "float"
        },
        {
         "name": "N_531",
         "rawType": "float64",
         "type": "float"
        },
        {
         "name": "N_532",
         "rawType": "float64",
         "type": "float"
        },
        {
         "name": "N_533",
         "rawType": "float64",
         "type": "float"
        },
        {
         "name": "N_534",
         "rawType": "float64",
         "type": "float"
        },
        {
         "name": "N_535",
         "rawType": "float64",
         "type": "float"
        },
        {
         "name": "N_536",
         "rawType": "int64",
         "type": "integer"
        },
        {
         "name": "N_537",
         "rawType": "float64",
         "type": "float"
        },
        {
         "name": "N_538",
         "rawType": "float64",
         "type": "float"
        },
        {
         "name": "N_539",
         "rawType": "float64",
         "type": "float"
        },
        {
         "name": "N_540",
         "rawType": "float64",
         "type": "float"
        },
        {
         "name": "N_541",
         "rawType": "float64",
         "type": "float"
        },
        {
         "name": "N_542",
         "rawType": "float64",
         "type": "float"
        },
        {
         "name": "N_543",
         "rawType": "int64",
         "type": "integer"
        },
        {
         "name": "N_544",
         "rawType": "float64",
         "type": "float"
        },
        {
         "name": "N_545",
         "rawType": "int64",
         "type": "integer"
        },
        {
         "name": "N_546",
         "rawType": "int64",
         "type": "integer"
        },
        {
         "name": "N_547",
         "rawType": "float64",
         "type": "float"
        },
        {
         "name": "N_548",
         "rawType": "int64",
         "type": "integer"
        },
        {
         "name": "N_549",
         "rawType": "int64",
         "type": "integer"
        },
        {
         "name": "N_550",
         "rawType": "float64",
         "type": "float"
        },
        {
         "name": "N_551",
         "rawType": "int64",
         "type": "integer"
        },
        {
         "name": "N_552",
         "rawType": "float64",
         "type": "float"
        },
        {
         "name": "N_553",
         "rawType": "float64",
         "type": "float"
        },
        {
         "name": "N_554",
         "rawType": "float64",
         "type": "float"
        },
        {
         "name": "N_555",
         "rawType": "float64",
         "type": "float"
        },
        {
         "name": "N_556",
         "rawType": "float64",
         "type": "float"
        },
        {
         "name": "N_557",
         "rawType": "float64",
         "type": "float"
        },
        {
         "name": "N_558",
         "rawType": "float64",
         "type": "float"
        },
        {
         "name": "N_559",
         "rawType": "int64",
         "type": "integer"
        },
        {
         "name": "N_560",
         "rawType": "int64",
         "type": "integer"
        },
        {
         "name": "N_561",
         "rawType": "float64",
         "type": "float"
        },
        {
         "name": "N_562",
         "rawType": "int64",
         "type": "integer"
        },
        {
         "name": "N_563",
         "rawType": "float64",
         "type": "float"
        },
        {
         "name": "N_564",
         "rawType": "float64",
         "type": "float"
        },
        {
         "name": "N_565",
         "rawType": "float64",
         "type": "float"
        },
        {
         "name": "N_566",
         "rawType": "float64",
         "type": "float"
        },
        {
         "name": "N_567",
         "rawType": "float64",
         "type": "float"
        },
        {
         "name": "N_568",
         "rawType": "float64",
         "type": "float"
        },
        {
         "name": "N_569",
         "rawType": "float64",
         "type": "float"
        },
        {
         "name": "N_570",
         "rawType": "float64",
         "type": "float"
        },
        {
         "name": "N_571",
         "rawType": "float64",
         "type": "float"
        },
        {
         "name": "N_572",
         "rawType": "float64",
         "type": "float"
        },
        {
         "name": "N_573",
         "rawType": "int64",
         "type": "integer"
        },
        {
         "name": "N_574",
         "rawType": "float64",
         "type": "float"
        },
        {
         "name": "N_575",
         "rawType": "float64",
         "type": "float"
        },
        {
         "name": "N_576",
         "rawType": "int64",
         "type": "integer"
        },
        {
         "name": "N_577",
         "rawType": "float64",
         "type": "float"
        },
        {
         "name": "N_578",
         "rawType": "float64",
         "type": "float"
        },
        {
         "name": "N_579",
         "rawType": "int64",
         "type": "integer"
        },
        {
         "name": "N_580",
         "rawType": "float64",
         "type": "float"
        },
        {
         "name": "N_581",
         "rawType": "float64",
         "type": "float"
        },
        {
         "name": "N_582",
         "rawType": "float64",
         "type": "float"
        },
        {
         "name": "N_583",
         "rawType": "float64",
         "type": "float"
        },
        {
         "name": "N_584",
         "rawType": "float64",
         "type": "float"
        },
        {
         "name": "N_585",
         "rawType": "int64",
         "type": "integer"
        },
        {
         "name": "N_586",
         "rawType": "float64",
         "type": "float"
        },
        {
         "name": "N_587",
         "rawType": "float64",
         "type": "float"
        },
        {
         "name": "N_588",
         "rawType": "float64",
         "type": "float"
        },
        {
         "name": "N_589",
         "rawType": "float64",
         "type": "float"
        },
        {
         "name": "N_590",
         "rawType": "int64",
         "type": "integer"
        },
        {
         "name": "N_591",
         "rawType": "float64",
         "type": "float"
        },
        {
         "name": "N_592",
         "rawType": "int64",
         "type": "integer"
        },
        {
         "name": "N_593",
         "rawType": "float64",
         "type": "float"
        },
        {
         "name": "N_594",
         "rawType": "int64",
         "type": "integer"
        },
        {
         "name": "N_595",
         "rawType": "float64",
         "type": "float"
        },
        {
         "name": "N_596",
         "rawType": "int64",
         "type": "integer"
        },
        {
         "name": "N_597",
         "rawType": "float64",
         "type": "float"
        },
        {
         "name": "N_598",
         "rawType": "float64",
         "type": "float"
        },
        {
         "name": "N_599",
         "rawType": "int64",
         "type": "integer"
        },
        {
         "name": "N_600",
         "rawType": "float64",
         "type": "float"
        },
        {
         "name": "N_601",
         "rawType": "float64",
         "type": "float"
        },
        {
         "name": "N_602",
         "rawType": "float64",
         "type": "float"
        },
        {
         "name": "N_603",
         "rawType": "float64",
         "type": "float"
        },
        {
         "name": "N_604",
         "rawType": "float64",
         "type": "float"
        },
        {
         "name": "N_605",
         "rawType": "float64",
         "type": "float"
        },
        {
         "name": "N_606",
         "rawType": "int64",
         "type": "integer"
        },
        {
         "name": "N_607",
         "rawType": "float64",
         "type": "float"
        },
        {
         "name": "N_608",
         "rawType": "float64",
         "type": "float"
        },
        {
         "name": "N_609",
         "rawType": "float64",
         "type": "float"
        },
        {
         "name": "N_610",
         "rawType": "float64",
         "type": "float"
        },
        {
         "name": "N_611",
         "rawType": "int64",
         "type": "integer"
        },
        {
         "name": "N_612",
         "rawType": "int64",
         "type": "integer"
        },
        {
         "name": "N_613",
         "rawType": "float64",
         "type": "float"
        },
        {
         "name": "N_614",
         "rawType": "int64",
         "type": "integer"
        },
        {
         "name": "N_615",
         "rawType": "float64",
         "type": "float"
        },
        {
         "name": "N_616",
         "rawType": "int64",
         "type": "integer"
        },
        {
         "name": "N_617",
         "rawType": "float64",
         "type": "float"
        },
        {
         "name": "N_618",
         "rawType": "float64",
         "type": "float"
        },
        {
         "name": "N_619",
         "rawType": "float64",
         "type": "float"
        },
        {
         "name": "N_620",
         "rawType": "float64",
         "type": "float"
        },
        {
         "name": "N_621",
         "rawType": "int64",
         "type": "integer"
        },
        {
         "name": "N_622",
         "rawType": "int64",
         "type": "integer"
        },
        {
         "name": "N_623",
         "rawType": "float64",
         "type": "float"
        },
        {
         "name": "N_624",
         "rawType": "int64",
         "type": "integer"
        },
        {
         "name": "N_625",
         "rawType": "float64",
         "type": "float"
        },
        {
         "name": "N_626",
         "rawType": "int64",
         "type": "integer"
        },
        {
         "name": "N_627",
         "rawType": "int64",
         "type": "integer"
        },
        {
         "name": "N_628",
         "rawType": "float64",
         "type": "float"
        },
        {
         "name": "N_629",
         "rawType": "float64",
         "type": "float"
        },
        {
         "name": "N_630",
         "rawType": "float64",
         "type": "float"
        },
        {
         "name": "N_631",
         "rawType": "int64",
         "type": "integer"
        },
        {
         "name": "N_632",
         "rawType": "int64",
         "type": "integer"
        },
        {
         "name": "N_633",
         "rawType": "float64",
         "type": "float"
        },
        {
         "name": "N_634",
         "rawType": "float64",
         "type": "float"
        },
        {
         "name": "N_635",
         "rawType": "int64",
         "type": "integer"
        },
        {
         "name": "N_636",
         "rawType": "float64",
         "type": "float"
        },
        {
         "name": "N_637",
         "rawType": "float64",
         "type": "float"
        },
        {
         "name": "N_638",
         "rawType": "float64",
         "type": "float"
        },
        {
         "name": "N_639",
         "rawType": "float64",
         "type": "float"
        },
        {
         "name": "N_640",
         "rawType": "float64",
         "type": "float"
        },
        {
         "name": "N_641",
         "rawType": "float64",
         "type": "float"
        },
        {
         "name": "N_642",
         "rawType": "float64",
         "type": "float"
        },
        {
         "name": "N_643",
         "rawType": "float64",
         "type": "float"
        },
        {
         "name": "N_644",
         "rawType": "int64",
         "type": "integer"
        },
        {
         "name": "N_645",
         "rawType": "int64",
         "type": "integer"
        },
        {
         "name": "N_646",
         "rawType": "int64",
         "type": "integer"
        },
        {
         "name": "N_647",
         "rawType": "float64",
         "type": "float"
        },
        {
         "name": "N_648",
         "rawType": "float64",
         "type": "float"
        },
        {
         "name": "N_649",
         "rawType": "float64",
         "type": "float"
        },
        {
         "name": "N_650",
         "rawType": "int64",
         "type": "integer"
        },
        {
         "name": "N_651",
         "rawType": "float64",
         "type": "float"
        },
        {
         "name": "N_652",
         "rawType": "float64",
         "type": "float"
        },
        {
         "name": "N_653",
         "rawType": "int64",
         "type": "integer"
        },
        {
         "name": "N_654",
         "rawType": "float64",
         "type": "float"
        },
        {
         "name": "N_655",
         "rawType": "float64",
         "type": "float"
        },
        {
         "name": "N_656",
         "rawType": "float64",
         "type": "float"
        },
        {
         "name": "N_657",
         "rawType": "float64",
         "type": "float"
        },
        {
         "name": "N_658",
         "rawType": "float64",
         "type": "float"
        },
        {
         "name": "N_659",
         "rawType": "float64",
         "type": "float"
        },
        {
         "name": "N_660",
         "rawType": "float64",
         "type": "float"
        },
        {
         "name": "N_661",
         "rawType": "int64",
         "type": "integer"
        },
        {
         "name": "N_662",
         "rawType": "float64",
         "type": "float"
        },
        {
         "name": "N_663",
         "rawType": "float64",
         "type": "float"
        },
        {
         "name": "N_664",
         "rawType": "float64",
         "type": "float"
        },
        {
         "name": "N_665",
         "rawType": "int64",
         "type": "integer"
        },
        {
         "name": "N_666",
         "rawType": "float64",
         "type": "float"
        },
        {
         "name": "N_667",
         "rawType": "float64",
         "type": "float"
        },
        {
         "name": "N_668",
         "rawType": "int64",
         "type": "integer"
        },
        {
         "name": "N_669",
         "rawType": "int64",
         "type": "integer"
        },
        {
         "name": "N_670",
         "rawType": "float64",
         "type": "float"
        },
        {
         "name": "N_671",
         "rawType": "float64",
         "type": "float"
        },
        {
         "name": "N_672",
         "rawType": "float64",
         "type": "float"
        },
        {
         "name": "N_673",
         "rawType": "float64",
         "type": "float"
        },
        {
         "name": "N_674",
         "rawType": "float64",
         "type": "float"
        },
        {
         "name": "N_675",
         "rawType": "int64",
         "type": "integer"
        },
        {
         "name": "N_676",
         "rawType": "float64",
         "type": "float"
        },
        {
         "name": "N_677",
         "rawType": "float64",
         "type": "float"
        },
        {
         "name": "N_678",
         "rawType": "float64",
         "type": "float"
        },
        {
         "name": "N_679",
         "rawType": "float64",
         "type": "float"
        },
        {
         "name": "N_680",
         "rawType": "float64",
         "type": "float"
        },
        {
         "name": "N_681",
         "rawType": "float64",
         "type": "float"
        },
        {
         "name": "N_682",
         "rawType": "int64",
         "type": "integer"
        },
        {
         "name": "N_683",
         "rawType": "float64",
         "type": "float"
        },
        {
         "name": "N_684",
         "rawType": "float64",
         "type": "float"
        },
        {
         "name": "N_685",
         "rawType": "float64",
         "type": "float"
        },
        {
         "name": "N_686",
         "rawType": "float64",
         "type": "float"
        },
        {
         "name": "N_687",
         "rawType": "int64",
         "type": "integer"
        },
        {
         "name": "N_688",
         "rawType": "float64",
         "type": "float"
        },
        {
         "name": "N_689",
         "rawType": "float64",
         "type": "float"
        },
        {
         "name": "N_690",
         "rawType": "float64",
         "type": "float"
        },
        {
         "name": "N_691",
         "rawType": "float64",
         "type": "float"
        },
        {
         "name": "N_692",
         "rawType": "int64",
         "type": "integer"
        },
        {
         "name": "N_693",
         "rawType": "float64",
         "type": "float"
        },
        {
         "name": "N_694",
         "rawType": "float64",
         "type": "float"
        },
        {
         "name": "N_695",
         "rawType": "float64",
         "type": "float"
        },
        {
         "name": "N_696",
         "rawType": "int64",
         "type": "integer"
        },
        {
         "name": "N_697",
         "rawType": "float64",
         "type": "float"
        },
        {
         "name": "N_698",
         "rawType": "float64",
         "type": "float"
        },
        {
         "name": "N_699",
         "rawType": "float64",
         "type": "float"
        },
        {
         "name": "N_700",
         "rawType": "float64",
         "type": "float"
        },
        {
         "name": "N_701",
         "rawType": "float64",
         "type": "float"
        },
        {
         "name": "N_702",
         "rawType": "float64",
         "type": "float"
        },
        {
         "name": "N_703",
         "rawType": "float64",
         "type": "float"
        },
        {
         "name": "N_704",
         "rawType": "float64",
         "type": "float"
        },
        {
         "name": "N_705",
         "rawType": "int64",
         "type": "integer"
        },
        {
         "name": "N_706",
         "rawType": "float64",
         "type": "float"
        },
        {
         "name": "N_707",
         "rawType": "float64",
         "type": "float"
        },
        {
         "name": "N_708",
         "rawType": "int64",
         "type": "integer"
        },
        {
         "name": "N_709",
         "rawType": "float64",
         "type": "float"
        },
        {
         "name": "N_710",
         "rawType": "float64",
         "type": "float"
        },
        {
         "name": "N_711",
         "rawType": "float64",
         "type": "float"
        },
        {
         "name": "N_712",
         "rawType": "int64",
         "type": "integer"
        },
        {
         "name": "N_713",
         "rawType": "float64",
         "type": "float"
        },
        {
         "name": "N_714",
         "rawType": "float64",
         "type": "float"
        },
        {
         "name": "N_715",
         "rawType": "int64",
         "type": "integer"
        },
        {
         "name": "N_716",
         "rawType": "int64",
         "type": "integer"
        },
        {
         "name": "N_717",
         "rawType": "float64",
         "type": "float"
        },
        {
         "name": "N_718",
         "rawType": "float64",
         "type": "float"
        },
        {
         "name": "N_719",
         "rawType": "int64",
         "type": "integer"
        },
        {
         "name": "N_720",
         "rawType": "float64",
         "type": "float"
        },
        {
         "name": "N_721",
         "rawType": "float64",
         "type": "float"
        },
        {
         "name": "N_722",
         "rawType": "float64",
         "type": "float"
        },
        {
         "name": "N_723",
         "rawType": "float64",
         "type": "float"
        },
        {
         "name": "N_724",
         "rawType": "float64",
         "type": "float"
        },
        {
         "name": "N_725",
         "rawType": "float64",
         "type": "float"
        },
        {
         "name": "N_726",
         "rawType": "float64",
         "type": "float"
        },
        {
         "name": "N_727",
         "rawType": "float64",
         "type": "float"
        },
        {
         "name": "N_728",
         "rawType": "float64",
         "type": "float"
        },
        {
         "name": "N_729",
         "rawType": "float64",
         "type": "float"
        },
        {
         "name": "N_730",
         "rawType": "float64",
         "type": "float"
        },
        {
         "name": "N_731",
         "rawType": "float64",
         "type": "float"
        },
        {
         "name": "N_732",
         "rawType": "int64",
         "type": "integer"
        },
        {
         "name": "N_733",
         "rawType": "float64",
         "type": "float"
        },
        {
         "name": "N_734",
         "rawType": "float64",
         "type": "float"
        },
        {
         "name": "N_735",
         "rawType": "float64",
         "type": "float"
        },
        {
         "name": "N_736",
         "rawType": "float64",
         "type": "float"
        },
        {
         "name": "N_737",
         "rawType": "float64",
         "type": "float"
        },
        {
         "name": "N_738",
         "rawType": "float64",
         "type": "float"
        },
        {
         "name": "N_739",
         "rawType": "float64",
         "type": "float"
        },
        {
         "name": "N_740",
         "rawType": "float64",
         "type": "float"
        },
        {
         "name": "N_741",
         "rawType": "float64",
         "type": "float"
        },
        {
         "name": "N_742",
         "rawType": "float64",
         "type": "float"
        },
        {
         "name": "N_743",
         "rawType": "float64",
         "type": "float"
        },
        {
         "name": "N_744",
         "rawType": "float64",
         "type": "float"
        },
        {
         "name": "N_745",
         "rawType": "float64",
         "type": "float"
        },
        {
         "name": "N_746",
         "rawType": "float64",
         "type": "float"
        },
        {
         "name": "N_747",
         "rawType": "int64",
         "type": "integer"
        },
        {
         "name": "N_748",
         "rawType": "float64",
         "type": "float"
        },
        {
         "name": "N_749",
         "rawType": "float64",
         "type": "float"
        },
        {
         "name": "N_750",
         "rawType": "float64",
         "type": "float"
        },
        {
         "name": "N_751",
         "rawType": "float64",
         "type": "float"
        },
        {
         "name": "N_752",
         "rawType": "float64",
         "type": "float"
        },
        {
         "name": "N_753",
         "rawType": "int64",
         "type": "integer"
        },
        {
         "name": "N_754",
         "rawType": "int64",
         "type": "integer"
        },
        {
         "name": "N_755",
         "rawType": "float64",
         "type": "float"
        },
        {
         "name": "N_756",
         "rawType": "int64",
         "type": "integer"
        },
        {
         "name": "N_757",
         "rawType": "float64",
         "type": "float"
        },
        {
         "name": "N_758",
         "rawType": "float64",
         "type": "float"
        },
        {
         "name": "N_759",
         "rawType": "int64",
         "type": "integer"
        },
        {
         "name": "N_760",
         "rawType": "float64",
         "type": "float"
        },
        {
         "name": "N_761",
         "rawType": "int64",
         "type": "integer"
        },
        {
         "name": "N_762",
         "rawType": "float64",
         "type": "float"
        },
        {
         "name": "N_763",
         "rawType": "int64",
         "type": "integer"
        },
        {
         "name": "N_764",
         "rawType": "float64",
         "type": "float"
        },
        {
         "name": "N_765",
         "rawType": "int64",
         "type": "integer"
        },
        {
         "name": "N_766",
         "rawType": "int64",
         "type": "integer"
        },
        {
         "name": "N_767",
         "rawType": "float64",
         "type": "float"
        },
        {
         "name": "N_768",
         "rawType": "float64",
         "type": "float"
        },
        {
         "name": "N_769",
         "rawType": "int64",
         "type": "integer"
        },
        {
         "name": "N_770",
         "rawType": "float64",
         "type": "float"
        },
        {
         "name": "N_771",
         "rawType": "float64",
         "type": "float"
        },
        {
         "name": "N_772",
         "rawType": "float64",
         "type": "float"
        },
        {
         "name": "N_773",
         "rawType": "int64",
         "type": "integer"
        },
        {
         "name": "N_774",
         "rawType": "int64",
         "type": "integer"
        },
        {
         "name": "N_775",
         "rawType": "float64",
         "type": "float"
        },
        {
         "name": "N_776",
         "rawType": "float64",
         "type": "float"
        },
        {
         "name": "N_777",
         "rawType": "float64",
         "type": "float"
        },
        {
         "name": "N_778",
         "rawType": "float64",
         "type": "float"
        },
        {
         "name": "N_779",
         "rawType": "int64",
         "type": "integer"
        },
        {
         "name": "N_780",
         "rawType": "float64",
         "type": "float"
        },
        {
         "name": "N_781",
         "rawType": "float64",
         "type": "float"
        },
        {
         "name": "N_782",
         "rawType": "float64",
         "type": "float"
        },
        {
         "name": "N_783",
         "rawType": "float64",
         "type": "float"
        },
        {
         "name": "N_784",
         "rawType": "float64",
         "type": "float"
        },
        {
         "name": "N_785",
         "rawType": "float64",
         "type": "float"
        },
        {
         "name": "N_786",
         "rawType": "int64",
         "type": "integer"
        },
        {
         "name": "N_787",
         "rawType": "int64",
         "type": "integer"
        },
        {
         "name": "N_788",
         "rawType": "float64",
         "type": "float"
        },
        {
         "name": "N_789",
         "rawType": "float64",
         "type": "float"
        },
        {
         "name": "N_790",
         "rawType": "float64",
         "type": "float"
        },
        {
         "name": "N_791",
         "rawType": "float64",
         "type": "float"
        },
        {
         "name": "N_792",
         "rawType": "int64",
         "type": "integer"
        },
        {
         "name": "N_793",
         "rawType": "float64",
         "type": "float"
        },
        {
         "name": "N_794",
         "rawType": "float64",
         "type": "float"
        },
        {
         "name": "N_795",
         "rawType": "float64",
         "type": "float"
        },
        {
         "name": "N_796",
         "rawType": "float64",
         "type": "float"
        },
        {
         "name": "N_797",
         "rawType": "float64",
         "type": "float"
        },
        {
         "name": "N_798",
         "rawType": "float64",
         "type": "float"
        },
        {
         "name": "N_799",
         "rawType": "float64",
         "type": "float"
        },
        {
         "name": "N_800",
         "rawType": "float64",
         "type": "float"
        },
        {
         "name": "N_801",
         "rawType": "int64",
         "type": "integer"
        },
        {
         "name": "N_802",
         "rawType": "float64",
         "type": "float"
        },
        {
         "name": "N_803",
         "rawType": "int64",
         "type": "integer"
        },
        {
         "name": "N_804",
         "rawType": "float64",
         "type": "float"
        },
        {
         "name": "N_805",
         "rawType": "int64",
         "type": "integer"
        },
        {
         "name": "N_806",
         "rawType": "int64",
         "type": "integer"
        },
        {
         "name": "N_807",
         "rawType": "float64",
         "type": "float"
        },
        {
         "name": "N_808",
         "rawType": "int64",
         "type": "integer"
        },
        {
         "name": "N_809",
         "rawType": "float64",
         "type": "float"
        },
        {
         "name": "N_810",
         "rawType": "float64",
         "type": "float"
        },
        {
         "name": "N_811",
         "rawType": "float64",
         "type": "float"
        },
        {
         "name": "N_812",
         "rawType": "int64",
         "type": "integer"
        },
        {
         "name": "N_813",
         "rawType": "int64",
         "type": "integer"
        },
        {
         "name": "N_814",
         "rawType": "int64",
         "type": "integer"
        },
        {
         "name": "N_815",
         "rawType": "float64",
         "type": "float"
        },
        {
         "name": "N_816",
         "rawType": "float64",
         "type": "float"
        },
        {
         "name": "N_817",
         "rawType": "float64",
         "type": "float"
        },
        {
         "name": "N_818",
         "rawType": "float64",
         "type": "float"
        },
        {
         "name": "N_819",
         "rawType": "float64",
         "type": "float"
        },
        {
         "name": "N_820",
         "rawType": "float64",
         "type": "float"
        },
        {
         "name": "N_821",
         "rawType": "float64",
         "type": "float"
        },
        {
         "name": "N_822",
         "rawType": "float64",
         "type": "float"
        },
        {
         "name": "N_823",
         "rawType": "int64",
         "type": "integer"
        },
        {
         "name": "N_824",
         "rawType": "float64",
         "type": "float"
        },
        {
         "name": "N_825",
         "rawType": "int64",
         "type": "integer"
        },
        {
         "name": "N_826",
         "rawType": "float64",
         "type": "float"
        },
        {
         "name": "N_827",
         "rawType": "float64",
         "type": "float"
        },
        {
         "name": "N_828",
         "rawType": "float64",
         "type": "float"
        },
        {
         "name": "N_829",
         "rawType": "float64",
         "type": "float"
        },
        {
         "name": "N_830",
         "rawType": "float64",
         "type": "float"
        },
        {
         "name": "N_831",
         "rawType": "float64",
         "type": "float"
        },
        {
         "name": "N_832",
         "rawType": "float64",
         "type": "float"
        },
        {
         "name": "N_833",
         "rawType": "float64",
         "type": "float"
        },
        {
         "name": "N_834",
         "rawType": "float64",
         "type": "float"
        },
        {
         "name": "N_835",
         "rawType": "float64",
         "type": "float"
        },
        {
         "name": "N_836",
         "rawType": "float64",
         "type": "float"
        },
        {
         "name": "N_837",
         "rawType": "float64",
         "type": "float"
        },
        {
         "name": "N_838",
         "rawType": "float64",
         "type": "float"
        },
        {
         "name": "N_839",
         "rawType": "float64",
         "type": "float"
        },
        {
         "name": "N_840",
         "rawType": "float64",
         "type": "float"
        },
        {
         "name": "N_841",
         "rawType": "float64",
         "type": "float"
        },
        {
         "name": "N_842",
         "rawType": "float64",
         "type": "float"
        },
        {
         "name": "N_843",
         "rawType": "float64",
         "type": "float"
        },
        {
         "name": "N_844",
         "rawType": "float64",
         "type": "float"
        },
        {
         "name": "N_845",
         "rawType": "float64",
         "type": "float"
        },
        {
         "name": "N_846",
         "rawType": "float64",
         "type": "float"
        },
        {
         "name": "N_847",
         "rawType": "int64",
         "type": "integer"
        },
        {
         "name": "N_848",
         "rawType": "float64",
         "type": "float"
        },
        {
         "name": "N_849",
         "rawType": "float64",
         "type": "float"
        },
        {
         "name": "N_850",
         "rawType": "int64",
         "type": "integer"
        },
        {
         "name": "N_851",
         "rawType": "float64",
         "type": "float"
        },
        {
         "name": "N_852",
         "rawType": "float64",
         "type": "float"
        },
        {
         "name": "N_853",
         "rawType": "int64",
         "type": "integer"
        },
        {
         "name": "N_854",
         "rawType": "float64",
         "type": "float"
        },
        {
         "name": "N_855",
         "rawType": "float64",
         "type": "float"
        },
        {
         "name": "N_856",
         "rawType": "int64",
         "type": "integer"
        },
        {
         "name": "N_857",
         "rawType": "int64",
         "type": "integer"
        },
        {
         "name": "N_858",
         "rawType": "float64",
         "type": "float"
        },
        {
         "name": "N_859",
         "rawType": "float64",
         "type": "float"
        },
        {
         "name": "N_860",
         "rawType": "float64",
         "type": "float"
        },
        {
         "name": "N_861",
         "rawType": "float64",
         "type": "float"
        },
        {
         "name": "N_862",
         "rawType": "int64",
         "type": "integer"
        },
        {
         "name": "N_863",
         "rawType": "float64",
         "type": "float"
        },
        {
         "name": "N_864",
         "rawType": "float64",
         "type": "float"
        },
        {
         "name": "N_865",
         "rawType": "float64",
         "type": "float"
        },
        {
         "name": "N_866",
         "rawType": "float64",
         "type": "float"
        },
        {
         "name": "N_867",
         "rawType": "float64",
         "type": "float"
        },
        {
         "name": "N_868",
         "rawType": "int64",
         "type": "integer"
        },
        {
         "name": "N_869",
         "rawType": "float64",
         "type": "float"
        },
        {
         "name": "N_870",
         "rawType": "int64",
         "type": "integer"
        },
        {
         "name": "N_871",
         "rawType": "float64",
         "type": "float"
        },
        {
         "name": "N_872",
         "rawType": "float64",
         "type": "float"
        },
        {
         "name": "N_873",
         "rawType": "float64",
         "type": "float"
        },
        {
         "name": "N_874",
         "rawType": "float64",
         "type": "float"
        },
        {
         "name": "N_875",
         "rawType": "int64",
         "type": "integer"
        },
        {
         "name": "N_876",
         "rawType": "float64",
         "type": "float"
        },
        {
         "name": "N_877",
         "rawType": "float64",
         "type": "float"
        },
        {
         "name": "N_878",
         "rawType": "float64",
         "type": "float"
        },
        {
         "name": "N_879",
         "rawType": "float64",
         "type": "float"
        },
        {
         "name": "N_880",
         "rawType": "float64",
         "type": "float"
        },
        {
         "name": "N_881",
         "rawType": "int64",
         "type": "integer"
        },
        {
         "name": "N_882",
         "rawType": "int64",
         "type": "integer"
        },
        {
         "name": "N_883",
         "rawType": "float64",
         "type": "float"
        },
        {
         "name": "N_884",
         "rawType": "float64",
         "type": "float"
        },
        {
         "name": "N_885",
         "rawType": "int64",
         "type": "integer"
        },
        {
         "name": "N_886",
         "rawType": "float64",
         "type": "float"
        },
        {
         "name": "N_887",
         "rawType": "float64",
         "type": "float"
        },
        {
         "name": "N_888",
         "rawType": "int64",
         "type": "integer"
        },
        {
         "name": "N_889",
         "rawType": "float64",
         "type": "float"
        },
        {
         "name": "N_890",
         "rawType": "int64",
         "type": "integer"
        },
        {
         "name": "N_891",
         "rawType": "float64",
         "type": "float"
        },
        {
         "name": "N_892",
         "rawType": "float64",
         "type": "float"
        },
        {
         "name": "N_893",
         "rawType": "int64",
         "type": "integer"
        },
        {
         "name": "N_894",
         "rawType": "int64",
         "type": "integer"
        },
        {
         "name": "N_895",
         "rawType": "float64",
         "type": "float"
        },
        {
         "name": "N_896",
         "rawType": "float64",
         "type": "float"
        },
        {
         "name": "N_897",
         "rawType": "float64",
         "type": "float"
        },
        {
         "name": "N_898",
         "rawType": "float64",
         "type": "float"
        },
        {
         "name": "N_899",
         "rawType": "float64",
         "type": "float"
        },
        {
         "name": "N_900",
         "rawType": "int64",
         "type": "integer"
        }
       ],
       "conversionMethod": "pd.DataFrame",
       "ref": "19c3123d-aa26-4d06-8f77-abe43688e09f",
       "rows": [
        [
         "0",
         "1554",
         "100.0",
         "100",
         "100",
         "100",
         "100",
         "100",
         "100",
         "100",
         "100",
         "100",
         "100",
         "100",
         "100",
         "100",
         "100",
         "100",
         "100",
         "100",
         "100",
         "100",
         "100",
         "100",
         "100",
         "100",
         "100",
         "100",
         "100",
         "100",
         "100",
         "100",
         "100",
         "83.19659642",
         "100",
         "100",
         "100",
         "100",
         "100",
         "100",
         "100.0",
         "100",
         "100",
         "100",
         "100",
         "100",
         "100",
         "100",
         "100",
         "100",
         "100",
         "100",
         "100",
         "100",
         "100",
         "100.0",
         "100",
         "100",
         "100",
         "100",
         "100",
         "100",
         "100",
         "100",
         "100",
         "100",
         "100",
         "100",
         "100",
         "100",
         "100",
         "100",
         "100",
         "100",
         "100",
         "100",
         "100",
         "100",
         "100",
         "100",
         "100",
         "100",
         "100",
         "100",
         "100",
         "100",
         "100",
         "100",
         "100",
         "100",
         "100",
         "100",
         "100",
         "100",
         "100",
         "100",
         "100",
         "100",
         "100",
         "100",
         "100",
         "100",
         "100",
         "100",
         "100",
         "100",
         "100",
         "100",
         "100",
         "100",
         "100",
         "100",
         "100",
         "100.0",
         "100",
         "100",
         "100",
         "100",
         "100",
         "100",
         "100",
         "100",
         "100",
         "100",
         "100",
         "100",
         "100",
         "100",
         "100",
         "100",
         "100",
         "100",
         "100",
         "100",
         "100",
         "100",
         "100",
         "100",
         "100",
         "100",
         "100",
         "100",
         "100",
         "100",
         "100",
         "100",
         "100",
         "100",
         "100",
         "100",
         "100",
         "100",
         "100",
         "100",
         "100",
         "100",
         "100",
         "100",
         "100",
         "100",
         "100",
         "100",
         "100",
         "100",
         "100",
         "100",
         "100",
         "100",
         "100",
         "100",
         "100",
         "100",
         "100",
         "100",
         "100",
         "100",
         "100",
         "100",
         "100",
         "100",
         "100",
         "100",
         "100",
         "100",
         "100",
         "100",
         "100",
         "100",
         "100",
         "100",
         "100",
         "100",
         "100",
         "100",
         "100",
         "100",
         "100",
         "100",
         "100",
         "100",
         "100",
         "100",
         "100",
         "100",
         "99.51638523",
         "100",
         "100",
         "100",
         "100",
         "100",
         "100",
         "100",
         "100",
         "100",
         "100",
         "100",
         "100",
         "100",
         "100",
         "100",
         "100",
         "100",
         "100",
         "100",
         "100",
         "100",
         "100",
         "100",
         "100",
         "100",
         "100",
         "100",
         "100",
         "100",
         "100",
         "100",
         "100",
         "100",
         "99.53914084",
         "100",
         "100",
         "100",
         "100",
         "100",
         "100",
         "100.0",
         "100",
         "100",
         "100",
         "100",
         "100",
         "100",
         "100",
         "100",
         "100",
         "100",
         "100",
         "100",
         "100",
         "100",
         "100",
         "100",
         "100",
         "100",
         "100",
         "100",
         "100",
         "100",
         "100",
         "100",
         "100",
         "100",
         "100",
         "100",
         "100",
         "100.0",
         "100",
         "100",
         "73.15704789",
         "100",
         "100",
         "100",
         "100",
         "100",
         "100",
         "100",
         "100",
         "100",
         "100",
         "100",
         "100",
         "100",
         "100",
         "73.44120231",
         "100",
         "100",
         "100",
         "100",
         "100",
         "100",
         "100",
         "100",
         "100",
         "100",
         "100",
         "100",
         "100",
         "100",
         "100",
         "100",
         "100",
         "100",
         "100",
         "100",
         "100",
         "100",
         "100",
         "100",
         "100",
         "100",
         "100",
         "100",
         "100",
         "100",
         "100",
         "100",
         "100",
         "100",
         "100",
         "100.0",
         "100",
         "100",
         "100",
         "100",
         "100",
         "100",
         "100",
         "100",
         "100",
         "100",
         "100",
         "100",
         "100",
         "100",
         "100",
         "100",
         "100",
         "100",
         "100",
         "100",
         "100",
         "100",
         "100",
         "100",
         "100",
         "100",
         "100",
         "100",
         "100",
         "100",
         "100",
         "100",
         "100",
         "100",
         "100",
         "100",
         "100",
         "100",
         "100",
         "100",
         "100",
         "100",
         "100",
         "100",
         "100",
         "100",
         "100",
         "100",
         "100",
         "100",
         "100",
         "100",
         "100",
         "100",
         "100",
         "100",
         "100",
         "100",
         "100",
         "100",
         "100",
         "100",
         "100",
         "100",
         "100",
         "100",
         "100",
         "100",
         "100",
         "100",
         "100",
         "100",
         "100",
         "100",
         "100",
         "100",
         "100",
         "100",
         "100",
         "100",
         "100",
         "100",
         "100",
         "100",
         "100",
         "100",
         "100",
         "100",
         "100",
         "100",
         "100",
         "100",
         "100",
         "100",
         "100",
         "100",
         "100",
         "100",
         "100",
         "100",
         "94.63854383",
         "100",
         "100",
         "100",
         "100",
         "100",
         "100",
         "100",
         "100",
         "100",
         "100",
         "100",
         "100",
         "100.0",
         "100",
         "100",
         "100",
         "100",
         "100",
         "100",
         "100",
         "100",
         "100",
         "100",
         "100",
         "100",
         "100",
         "100",
         "100.0",
         "100",
         "100",
         "100",
         "100",
         "100",
         "100",
         "100",
         "100",
         "100",
         "100",
         "100",
         "100",
         "100",
         "100",
         "100",
         "100",
         "100",
         "100",
         "100",
         "100",
         "100",
         "100",
         "100",
         "100",
         "100.0",
         "100",
         "76.38305247",
         "100",
         "96.40992674",
         "99.93361445",
         "99.69054078",
         "96.42865633",
         "100.0",
         "100.0",
         "100",
         "78.45810644",
         "91.79758681",
         "100.0",
         "100",
         "100.0",
         "100",
         "99.54269847",
         "99.97320042",
         "76.25765632",
         "100.0",
         "100",
         "94.5239794",
         "100.0",
         "100.0",
         "99.63331925",
         "99.98080785",
         "99.99893575",
         "100.0",
         "100",
         "100.0",
         "100",
         "99.66292719",
         "97.9432718",
         "100.0",
         "93.47698665",
         "73.763098688",
         "100",
         "100.0",
         "99.89882454",
         "100",
         "100.0",
         "100.0",
         "99.78739437",
         "100",
         "73.03109258",
         "100",
         "99.97173971",
         "80.87905052",
         "100.0",
         "100.0",
         "100.0",
         "100.0",
         "100.0",
         "100",
         "99.62826727",
         "99.94310054",
         "100.0",
         "100.0",
         "99.45968569",
         "99.8214577",
         "100",
         "99.7992038",
         "100",
         "100",
         "99.83392088",
         "100",
         "100",
         "100.0",
         "100",
         "73.05094244",
         "83.20736536",
         "100.0",
         "100.0",
         "100.0",
         "80.95178991",
         "92.95081227",
         "100",
         "100",
         "99.98039656",
         "100",
         "74.60883939",
         "100.0",
         "99.79253338",
         "76.07917029",
         "99.84176116",
         "99.65889325",
         "75.43079701",
         "93.6385206",
         "99.6320671",
         "99.96896989",
         "100",
         "72.99431692",
         "99.5847534",
         "100",
         "100.0",
         "100.0",
         "100",
         "77.54454625",
         "75.43173275",
         "100.0",
         "99.87799687",
         "100.0",
         "100",
         "100.0",
         "99.76716992",
         "100.0",
         "100.0",
         "100",
         "75.28569393",
         "100",
         "80.71795236",
         "100",
         "100.0",
         "100",
         "81.15172197",
         "84.97475261",
         "100",
         "75.41147199",
         "99.85470661",
         "73.5411866",
         "100.0",
         "94.01686527",
         "100.0",
         "100",
         "100.0",
         "75.50735443",
         "99.87090754",
         "74.00963005",
         "100",
         "100",
         "99.62108531",
         "100",
         "99.53685535",
         "100",
         "73.81717892",
         "73.55968704",
         "99.51455314",
         "79.48037246",
         "100",
         "100",
         "99.99633199",
         "100",
         "100.0",
         "100",
         "100",
         "86.55799571",
         "99.57759473",
         "99.88268624",
         "100",
         "100",
         "99.91719849",
         "99.57281484",
         "100",
         "73.9522834",
         "99.79046225",
         "99.99801057",
         "100.0",
         "100.0",
         "96.1310257",
         "73.4637085",
         "99.62427866",
         "100",
         "100",
         "100",
         "100.0",
         "99.98531092",
         "73.72962549",
         "100",
         "100.0",
         "94.38920046",
         "100",
         "100.0",
         "100.0",
         "100.0",
         "99.96020092",
         "99.68435277",
         "86.6186379",
         "100.0",
         "100",
         "99.60034563",
         "99.54540217",
         "99.56689503",
         "100",
         "100.0",
         "96.99841112",
         "100",
         "100",
         "99.59668322",
         "100.0",
         "94.72389645",
         "99.66276581",
         "99.62861869",
         "100",
         "99.9852623",
         "99.99715161",
         "100.0",
         "77.22653648",
         "99.56105437",
         "99.50927271",
         "100",
         "73.59910085",
         "100.0",
         "99.73890485",
         "100.0",
         "100",
         "74.85647785",
         "75.52478123",
         "100.0",
         "74.91240686",
         "100",
         "75.86256581",
         "100.0",
         "74.08116666",
         "100",
         "100.0",
         "99.75549921",
         "74.18516775",
         "99.67834416",
         "74.45912541",
         "91.98953625",
         "100.0",
         "99.98025892",
         "100",
         "99.93503109",
         "100.0",
         "100",
         "92.56294122",
         "100.0",
         "100.0",
         "100",
         "79.01869425",
         "99.90761306",
         "100",
         "100",
         "96.52473953",
         "95.32481417",
         "100",
         "80.90623914",
         "100.0",
         "73.63453273",
         "100.0",
         "100.0",
         "99.59288658",
         "99.87682728",
         "99.97134073",
         "100.0",
         "100.0",
         "100.0",
         "100.0",
         "100",
         "100.0",
         "100.0",
         "100.0",
         "100.0",
         "100.0",
         "100.0",
         "100.0",
         "99.65876687",
         "89.91649204",
         "100.0",
         "81.20021098",
         "100.0",
         "99.67055703",
         "87.40759456",
         "100",
         "74.26614906",
         "73.52413741",
         "100.0",
         "76.08042089",
         "100.0",
         "100",
         "100",
         "100.0",
         "100",
         "100.0",
         "74.95928062",
         "100",
         "100.0",
         "100",
         "100.0",
         "100",
         "75.70290294",
         "100",
         "100",
         "100.0",
         "100.0",
         "100",
         "100.0",
         "100.0",
         "100.0",
         "100",
         "100",
         "99.99328887",
         "99.93424817",
         "100.0",
         "100.0",
         "100",
         "99.36799489",
         "100.0",
         "76.78637992",
         "100.0",
         "99.5714767",
         "100.0",
         "100",
         "100",
         "100.0",
         "99.89119098",
         "100.0",
         "82.5059575",
         "100",
         "99.91766693",
         "100.0",
         "100.0",
         "100.0",
         "80.95220529",
         "100.0",
         "100.0",
         "99.67109073",
         "100",
         "100.0",
         "100",
         "73.06983772",
         "100",
         "100",
         "99.92843533",
         "100",
         "99.99122129",
         "74.81794772",
         "84.40358875",
         "100",
         "100",
         "100",
         "99.78980909",
         "99.88360006",
         "100.0",
         "93.40686981",
         "100.0",
         "99.82885883",
         "99.89762889",
         "73.79677525",
         "100",
         "100.0",
         "100",
         "95.5501435",
         "95.24679023",
         "100.0",
         "100.0",
         "74.86004007",
         "73.18788664",
         "100.0",
         "100.0",
         "100.0",
         "73.83668045",
         "99.51593622",
         "74.15673486",
         "100.0",
         "88.44104544",
         "99.5187805",
         "99.74419533",
         "100.0",
         "100.0",
         "72.99450789",
         "99.92597519",
         "99.96706714",
         "100",
         "100.0",
         "76.06559148",
         "100",
         "100.0",
         "90.71740466",
         "100",
         "73.53240826",
         "74.35353813",
         "100",
         "100",
         "99.89593333",
         "100.0",
         "99.75411619",
         "90.78741156",
         "100",
         "99.73704974",
         "100.0",
         "77.46604272",
         "81.22435181",
         "100.0",
         "100",
         "99.48359901",
         "100",
         "95.06003233",
         "100.0",
         "100.0",
         "100.0",
         "100",
         "77.38549147",
         "100.0",
         "99.5287916",
         "100.0",
         "73.54607701",
         "100",
         "100",
         "100.0",
         "100.0",
         "100",
         "99.49640565",
         "99.72217624",
         "100",
         "99.46831034",
         "100",
         "78.85319552",
         "100.0",
         "100",
         "100",
         "99.83246876",
         "77.87268165",
         "99.68261777",
         "100.0",
         "77.46550834",
         "100"
        ],
        [
         "1",
         "1556",
         "100.0",
         "100",
         "100",
         "100",
         "100",
         "100",
         "100",
         "100",
         "100",
         "100",
         "100",
         "100",
         "100",
         "100",
         "100",
         "100",
         "100",
         "100",
         "100",
         "100",
         "100",
         "100",
         "100",
         "100",
         "100",
         "100",
         "100",
         "100",
         "100",
         "100",
         "100",
         "83.22831023",
         "100",
         "100",
         "100",
         "100",
         "100",
         "100",
         "100.0",
         "100",
         "100",
         "100",
         "100",
         "100",
         "100",
         "100",
         "100",
         "100",
         "100",
         "100",
         "100",
         "100",
         "100",
         "100.0",
         "100",
         "100",
         "100",
         "100",
         "100",
         "100",
         "100",
         "100",
         "100",
         "100",
         "100",
         "100",
         "100",
         "100",
         "100",
         "100",
         "100",
         "100",
         "100",
         "100",
         "100",
         "100",
         "100",
         "100",
         "100",
         "100",
         "100",
         "100",
         "100",
         "100",
         "100",
         "100",
         "100",
         "100",
         "100",
         "100",
         "100",
         "100",
         "100",
         "100",
         "100",
         "100",
         "100",
         "100",
         "100",
         "100",
         "100",
         "100",
         "100",
         "100",
         "100",
         "100",
         "100",
         "100",
         "100",
         "100",
         "100",
         "100.0",
         "100",
         "100",
         "100",
         "100",
         "100",
         "100",
         "100",
         "100",
         "100",
         "100",
         "100",
         "100",
         "100",
         "100",
         "100",
         "100",
         "100",
         "100",
         "100",
         "100",
         "100",
         "100",
         "100",
         "100",
         "100",
         "100",
         "100",
         "100",
         "100",
         "100",
         "100",
         "100",
         "100",
         "100",
         "100",
         "100",
         "100",
         "100",
         "100",
         "100",
         "100",
         "100",
         "100",
         "100",
         "100",
         "100",
         "100",
         "100",
         "100",
         "100",
         "100",
         "100",
         "100",
         "100",
         "100",
         "100",
         "100",
         "100",
         "100",
         "100",
         "100",
         "100",
         "100",
         "100",
         "100",
         "100",
         "100",
         "100",
         "100",
         "100",
         "100",
         "100",
         "100",
         "100",
         "100",
         "100",
         "100",
         "100",
         "100",
         "100",
         "100",
         "100",
         "100",
         "100",
         "100",
         "100",
         "100",
         "100",
         "100",
         "100",
         "99.51587245",
         "100",
         "100",
         "100",
         "100",
         "100",
         "100",
         "100",
         "100",
         "100",
         "100",
         "100",
         "100",
         "100",
         "100",
         "100",
         "100",
         "100",
         "100",
         "100",
         "100",
         "100",
         "100",
         "100",
         "100",
         "100",
         "100",
         "100",
         "100",
         "100",
         "100",
         "100",
         "100",
         "100",
         "99.53887609",
         "100",
         "100",
         "100",
         "100",
         "100",
         "100",
         "100.0",
         "100",
         "100",
         "100",
         "100",
         "100",
         "100",
         "100",
         "100",
         "100",
         "100",
         "100",
         "100",
         "100",
         "100",
         "100",
         "100",
         "100",
         "100",
         "100",
         "100",
         "100",
         "100",
         "100",
         "100",
         "100",
         "100",
         "100",
         "100",
         "100",
         "100.0",
         "100",
         "100",
         "73.15741005",
         "100",
         "100",
         "100",
         "100",
         "100",
         "100",
         "100",
         "100",
         "100",
         "100",
         "100",
         "100",
         "100",
         "100",
         "74.09626772",
         "100",
         "100",
         "100",
         "100",
         "100",
         "100",
         "100",
         "100",
         "100",
         "100",
         "100",
         "100",
         "100",
         "100",
         "100",
         "100",
         "100",
         "100",
         "100",
         "100",
         "100",
         "100",
         "100",
         "100",
         "100",
         "100",
         "100",
         "100",
         "100",
         "100",
         "100",
         "100",
         "100",
         "100",
         "100",
         "100.0",
         "100",
         "100",
         "100",
         "100",
         "100",
         "100",
         "100",
         "100",
         "100",
         "100",
         "100",
         "100",
         "100",
         "100",
         "100",
         "100",
         "100",
         "100",
         "100",
         "100",
         "100",
         "100",
         "100",
         "100",
         "100",
         "100",
         "100",
         "100",
         "100",
         "100",
         "100",
         "100",
         "100",
         "100",
         "100",
         "100",
         "100",
         "100",
         "100",
         "100",
         "100",
         "100",
         "100",
         "100",
         "100",
         "100",
         "100",
         "100",
         "100",
         "100",
         "100",
         "100",
         "100",
         "100",
         "100",
         "100",
         "100",
         "100",
         "100",
         "100",
         "100",
         "100",
         "100",
         "100",
         "100",
         "100",
         "100",
         "100",
         "100",
         "100",
         "100",
         "100",
         "100",
         "100",
         "100",
         "100",
         "100",
         "100",
         "100",
         "100",
         "100",
         "100",
         "100",
         "100",
         "100",
         "100",
         "100",
         "100",
         "100",
         "100",
         "100",
         "100",
         "100",
         "100",
         "100",
         "100",
         "100",
         "100",
         "100",
         "100",
         "94.63619306",
         "100",
         "100",
         "100",
         "100",
         "100",
         "100",
         "100",
         "100",
         "100",
         "100",
         "100",
         "100",
         "100.0",
         "100",
         "100",
         "100",
         "100",
         "100",
         "100",
         "100",
         "100",
         "100",
         "100",
         "100",
         "100",
         "100",
         "100",
         "100.0",
         "100",
         "100",
         "100",
         "100",
         "100",
         "100",
         "100",
         "100",
         "100",
         "100",
         "100",
         "100",
         "100",
         "100",
         "100",
         "100",
         "100",
         "100",
         "100",
         "100",
         "100",
         "100",
         "100",
         "100",
         "100.0",
         "100",
         "76.38896925",
         "100",
         "96.41000534",
         "99.93297301",
         "99.69003922",
         "96.42745927",
         "100.0",
         "100.0",
         "100",
         "78.63022599",
         "91.79935999",
         "100.0",
         "100",
         "100.0",
         "100",
         "99.54246583",
         "99.9727995",
         "76.35256195",
         "100.0",
         "100",
         "94.52448918",
         "100.0",
         "100.0",
         "99.63271601",
         "99.98013985",
         "99.99879742",
         "100.0",
         "100",
         "100.0",
         "100",
         "99.66284157",
         "97.94531262",
         "100.0",
         "93.47462352",
         "74.364052836",
         "100",
         "100.0",
         "99.89825676",
         "100",
         "100.0",
         "100.0",
         "99.78686997",
         "100",
         "73.03484264",
         "100",
         "99.97148502",
         "81.06762621",
         "100.0",
         "100.0",
         "100.0",
         "100.0",
         "100.0",
         "100",
         "99.62814817",
         "99.94276083",
         "100.0",
         "100.0",
         "99.45918353",
         "99.8213694",
         "100",
         "99.79879513",
         "100",
         "100",
         "99.83335064",
         "100",
         "100",
         "100.0",
         "100",
         "73.23560877",
         "83.23421261",
         "100.0",
         "100.0",
         "100.0",
         "81.25664367",
         "92.95322057",
         "100",
         "100",
         "99.98020632",
         "100",
         "74.71850664",
         "100.0",
         "99.79188237",
         "76.13069353",
         "99.84111565",
         "99.65846912",
         "75.43907782",
         "93.64070682",
         "99.63159816",
         "99.96833416",
         "100",
         "73.02098409",
         "99.58423283",
         "100",
         "100.0",
         "100.0",
         "100",
         "77.63301726",
         "75.45983914",
         "100.0",
         "99.87792274",
         "100.0",
         "100",
         "100.0",
         "99.76665989",
         "100.0",
         "100.0",
         "100",
         "75.31127346",
         "100",
         "80.99112775",
         "100",
         "100.0",
         "100",
         "81.18434933",
         "84.98768037",
         "100",
         "75.43273365",
         "99.8540881",
         "73.83952497",
         "100.0",
         "94.0197192",
         "100.0",
         "100",
         "100.0",
         "75.5174931",
         "99.87026286",
         "74.14702717",
         "100",
         "100",
         "99.62041996",
         "100",
         "99.53648242",
         "100",
         "74.05114673",
         "73.56232061",
         "99.51437396",
         "79.52139355",
         "100",
         "100",
         "99.99566083",
         "100",
         "100.0",
         "100",
         "100",
         "86.57360105",
         "99.5770202",
         "99.88275479",
         "100",
         "100",
         "99.91663383",
         "99.57236655",
         "100",
         "73.95330085",
         "99.79001248",
         "99.99743336",
         "100.0",
         "100.0",
         "96.13114809",
         "73.46780421",
         "99.62402521",
         "100",
         "100",
         "100",
         "100.0",
         "99.98504655",
         "73.87480382",
         "100",
         "100.0",
         "94.39010844",
         "100",
         "100.0",
         "100.0",
         "100.0",
         "99.95957252",
         "99.68388981",
         "86.63696003",
         "100.0",
         "100",
         "99.59978596",
         "99.54496587",
         "99.56629288",
         "100",
         "100.0",
         "96.99893213",
         "100",
         "100",
         "99.59660925",
         "100.0",
         "94.72019673",
         "99.66238697",
         "99.62833013",
         "100",
         "99.98512162",
         "99.99648625",
         "100.0",
         "77.29222096",
         "99.56067482",
         "99.50869944",
         "100",
         "73.71966",
         "100.0",
         "99.7382446",
         "100.0",
         "100",
         "75.22565457",
         "75.62609194",
         "100.0",
         "74.91352082",
         "100",
         "76.253280506",
         "100.0",
         "74.58922356",
         "100",
         "100.0",
         "99.7549732",
         "74.6416019",
         "99.67808624",
         "74.82984047",
         "91.98615532",
         "100.0",
         "99.97962484",
         "100",
         "99.93455129",
         "100.0",
         "100",
         "92.56262769",
         "100.0",
         "100.0",
         "100",
         "79.07166866",
         "99.90697068",
         "100",
         "100",
         "96.52481444",
         "95.32655084",
         "100",
         "81.16525282",
         "100.0",
         "74.30487964",
         "100.0",
         "100.0",
         "99.5924216",
         "99.87626591",
         "99.97085552",
         "100.0",
         "100.0",
         "100.0",
         "100.0",
         "100",
         "100.0",
         "100.0",
         "100.0",
         "100.0",
         "100.0",
         "100.0",
         "100.0",
         "99.65831596",
         "89.92560775",
         "100.0",
         "81.7521696",
         "100.0",
         "99.67038298",
         "87.40590124",
         "100",
         "74.27575481",
         "73.52476853",
         "100.0",
         "76.14417375",
         "100.0",
         "100",
         "100",
         "100.0",
         "100",
         "100.0",
         "74.96126488",
         "100",
         "100.0",
         "100",
         "100.0",
         "100",
         "75.89300721",
         "100",
         "100",
         "100.0",
         "100.0",
         "100",
         "100.0",
         "100.0",
         "100.0",
         "100",
         "100",
         "99.99270246",
         "99.93362427",
         "100.0",
         "100.0",
         "100",
         "99.36751083",
         "100.0",
         "76.91872233",
         "100.0",
         "99.57129164",
         "100.0",
         "100",
         "100",
         "100.0",
         "99.89061757",
         "100.0",
         "82.53620897",
         "100",
         "99.91715604",
         "100.0",
         "100.0",
         "100.0",
         "81.28423583",
         "100.0",
         "100.0",
         "99.67063575",
         "100",
         "100.0",
         "100",
         "73.07232757",
         "100",
         "100",
         "99.92849345",
         "100",
         "99.9904875",
         "74.82537922",
         "84.41151804",
         "100",
         "100",
         "100",
         "99.78974661",
         "99.8830039",
         "100.0",
         "93.4070137",
         "100.0",
         "99.82825283",
         "99.89697465",
         "73.95996944",
         "100",
         "100.0",
         "100",
         "95.55276963",
         "95.24609944",
         "100.0",
         "100.0",
         "74.97190204",
         "73.57512042",
         "100.0",
         "100.0",
         "100.0",
         "74.28047398",
         "99.51523338",
         "74.2698177",
         "100.0",
         "88.44433348",
         "99.51841647",
         "99.74403691",
         "100.0",
         "100.0",
         "72.99489019",
         "99.92549932",
         "99.96702032",
         "100",
         "100.0",
         "76.11769423",
         "100",
         "100.0",
         "90.71668882",
         "100",
         "74.28725653",
         "74.35431591",
         "100",
         "100",
         "99.89556259",
         "100.0",
         "99.75349827",
         "90.78730833",
         "100",
         "99.73651919",
         "100.0",
         "77.60412853",
         "81.23392107",
         "100.0",
         "100",
         "99.48313647",
         "100",
         "95.05856321",
         "100.0",
         "100.0",
         "100.0",
         "100",
         "77.44116352",
         "100.0",
         "99.52839844",
         "100.0",
         "74.32642548",
         "100",
         "100",
         "100.0",
         "100.0",
         "100",
         "99.49581039",
         "99.72181733",
         "100",
         "99.46787028",
         "100",
         "78.86172945",
         "100.0",
         "100",
         "100",
         "99.83229685",
         "77.87443249",
         "99.6820587",
         "100.0",
         "78.12319079",
         "100"
        ],
        [
         "2",
         "1558",
         "100.0",
         "100",
         "100",
         "100",
         "100",
         "100",
         "100",
         "100",
         "100",
         "100",
         "100",
         "100",
         "100",
         "100",
         "100",
         "100",
         "100",
         "100",
         "100",
         "100",
         "100",
         "100",
         "100",
         "100",
         "100",
         "100",
         "100",
         "100",
         "100",
         "100",
         "100",
         "83.26954057",
         "100",
         "100",
         "100",
         "100",
         "100",
         "100",
         "100.0",
         "100",
         "100",
         "100",
         "100",
         "100",
         "100",
         "100",
         "100",
         "100",
         "100",
         "100",
         "100",
         "100",
         "100",
         "100.0",
         "100",
         "100",
         "100",
         "100",
         "100",
         "100",
         "100",
         "100",
         "100",
         "100",
         "100",
         "100",
         "100",
         "100",
         "100",
         "100",
         "100",
         "100",
         "100",
         "100",
         "100",
         "100",
         "100",
         "100",
         "100",
         "100",
         "100",
         "100",
         "100",
         "100",
         "100",
         "100",
         "100",
         "100",
         "100",
         "100",
         "100",
         "100",
         "100",
         "100",
         "100",
         "100",
         "100",
         "100",
         "100",
         "100",
         "100",
         "100",
         "100",
         "100",
         "100",
         "100",
         "100",
         "100",
         "100",
         "100",
         "100",
         "100.0",
         "100",
         "100",
         "100",
         "100",
         "100",
         "100",
         "100",
         "100",
         "100",
         "100",
         "100",
         "100",
         "100",
         "100",
         "100",
         "100",
         "100",
         "100",
         "100",
         "100",
         "100",
         "100",
         "100",
         "100",
         "100",
         "100",
         "100",
         "100",
         "100",
         "100",
         "100",
         "100",
         "100",
         "100",
         "100",
         "100",
         "100",
         "100",
         "100",
         "100",
         "100",
         "100",
         "100",
         "100",
         "100",
         "100",
         "100",
         "100",
         "100",
         "100",
         "100",
         "100",
         "100",
         "100",
         "100",
         "100",
         "100",
         "100",
         "100",
         "100",
         "100",
         "100",
         "100",
         "100",
         "100",
         "100",
         "100",
         "100",
         "100",
         "100",
         "100",
         "100",
         "100",
         "100",
         "100",
         "100",
         "100",
         "100",
         "100",
         "100",
         "100",
         "100",
         "100",
         "100",
         "100",
         "100",
         "100",
         "100",
         "100",
         "100",
         "99.51540136",
         "100",
         "100",
         "100",
         "100",
         "100",
         "100",
         "100",
         "100",
         "100",
         "100",
         "100",
         "100",
         "100",
         "100",
         "100",
         "100",
         "100",
         "100",
         "100",
         "100",
         "100",
         "100",
         "100",
         "100",
         "100",
         "100",
         "100",
         "100",
         "100",
         "100",
         "100",
         "100",
         "100",
         "99.53890126",
         "100",
         "100",
         "100",
         "100",
         "100",
         "100",
         "100.0",
         "100",
         "100",
         "100",
         "100",
         "100",
         "100",
         "100",
         "100",
         "100",
         "100",
         "100",
         "100",
         "100",
         "100",
         "100",
         "100",
         "100",
         "100",
         "100",
         "100",
         "100",
         "100",
         "100",
         "100",
         "100",
         "100",
         "100",
         "100",
         "100",
         "100.0",
         "100",
         "100",
         "73.15776436",
         "100",
         "100",
         "100",
         "100",
         "100",
         "100",
         "100",
         "100",
         "100",
         "100",
         "100",
         "100",
         "100",
         "100",
         "74.62164528",
         "100",
         "100",
         "100",
         "100",
         "100",
         "100",
         "100",
         "100",
         "100",
         "100",
         "100",
         "100",
         "100",
         "100",
         "100",
         "100",
         "100",
         "100",
         "100",
         "100",
         "100",
         "100",
         "100",
         "100",
         "100",
         "100",
         "100",
         "100",
         "100",
         "100",
         "100",
         "100",
         "100",
         "100",
         "100",
         "100.0",
         "100",
         "100",
         "100",
         "100",
         "100",
         "100",
         "100",
         "100",
         "100",
         "100",
         "100",
         "100",
         "100",
         "100",
         "100",
         "100",
         "100",
         "100",
         "100",
         "100",
         "100",
         "100",
         "100",
         "100",
         "100",
         "100",
         "100",
         "100",
         "100",
         "100",
         "100",
         "100",
         "100",
         "100",
         "100",
         "100",
         "100",
         "100",
         "100",
         "100",
         "100",
         "100",
         "100",
         "100",
         "100",
         "100",
         "100",
         "100",
         "100",
         "100",
         "100",
         "100",
         "100",
         "100",
         "100",
         "100",
         "100",
         "100",
         "100",
         "100",
         "100",
         "100",
         "100",
         "100",
         "100",
         "100",
         "100",
         "100",
         "100",
         "100",
         "100",
         "100",
         "100",
         "100",
         "100",
         "100",
         "100",
         "100",
         "100",
         "100",
         "100",
         "100",
         "100",
         "100",
         "100",
         "100",
         "100",
         "100",
         "100",
         "100",
         "100",
         "100",
         "100",
         "100",
         "100",
         "100",
         "100",
         "100",
         "100",
         "100",
         "94.63385605",
         "100",
         "100",
         "100",
         "100",
         "100",
         "100",
         "100",
         "100",
         "100",
         "100",
         "100",
         "100",
         "100.0",
         "100",
         "100",
         "100",
         "100",
         "100",
         "100",
         "100",
         "100",
         "100",
         "100",
         "100",
         "100",
         "100",
         "100",
         "100.0",
         "100",
         "100",
         "100",
         "100",
         "100",
         "100",
         "100",
         "100",
         "100",
         "100",
         "100",
         "100",
         "100",
         "100",
         "100",
         "100",
         "100",
         "100",
         "100",
         "100",
         "100",
         "100",
         "100",
         "100",
         "100.0",
         "100",
         "76.39757033",
         "100",
         "96.41092009",
         "99.93237678",
         "99.6895734",
         "96.42691476",
         "100.0",
         "100.0",
         "100",
         "78.81850214",
         "91.80147404",
         "100.0",
         "100",
         "100.0",
         "100",
         "99.54246916",
         "99.97245649",
         "76.47035899",
         "100.0",
         "100",
         "94.52611926",
         "100.0",
         "100.0",
         "99.63212023",
         "99.97948218",
         "99.99879741",
         "100.0",
         "100",
         "100.0",
         "100",
         "99.66302834",
         "97.94778151",
         "100.0",
         "93.47340616",
         "74.846130922",
         "100",
         "100.0",
         "99.89784053",
         "100",
         "100.0",
         "100.0",
         "99.78639434",
         "100",
         "73.04071069",
         "100",
         "99.97127461",
         "81.28383432",
         "100.0",
         "100.0",
         "100.0",
         "100.0",
         "100.0",
         "100",
         "99.62827724",
         "99.94263825",
         "100.0",
         "100.0",
         "99.45878254",
         "99.82150213",
         "100",
         "99.798509",
         "100",
         "100",
         "99.83291599",
         "100",
         "100",
         "100.0",
         "100",
         "73.43737102",
         "83.26864445",
         "100.0",
         "100.0",
         "100.0",
         "81.54699427",
         "92.9572752",
         "100",
         "100",
         "99.98020561",
         "100",
         "74.85750117",
         "100.0",
         "99.7912922",
         "76.2039227",
         "99.84050151",
         "99.65826918",
         "75.44966788",
         "93.64420905",
         "99.63137467",
         "99.9677164",
         "100",
         "73.06293444",
         "99.58371698",
         "100",
         "100.0",
         "100.0",
         "100",
         "77.74569545",
         "75.49507067",
         "100.0",
         "99.87805092",
         "100.0",
         "100",
         "100.0",
         "99.76619853",
         "100.0",
         "100.0",
         "100",
         "75.34784837",
         "100",
         "81.26208891",
         "100",
         "100.0",
         "100",
         "81.22938257",
         "85.00771506",
         "100",
         "75.46117388",
         "99.85352327",
         "74.12978946",
         "100.0",
         "94.02271001",
         "100.0",
         "100",
         "100.0",
         "75.52766292",
         "99.86978389",
         "74.28019185",
         "100",
         "100",
         "99.61980885",
         "100",
         "99.53639038",
         "100",
         "74.29595025",
         "73.56647431",
         "99.51443394",
         "79.58402413",
         "100",
         "100",
         "99.995023",
         "100",
         "100.0",
         "100",
         "100",
         "86.59763362",
         "99.5765753",
         "99.88301693",
         "100",
         "100",
         "99.91618908",
         "99.57199722",
         "100",
         "73.95431722",
         "99.78972664",
         "99.99689536",
         "100.0",
         "100.0",
         "96.13203938",
         "73.47285501",
         "99.62397861",
         "100",
         "100",
         "100",
         "100.0",
         "99.98480669",
         "74.06283731",
         "100",
         "100.0",
         "94.3918056",
         "100",
         "100.0",
         "100.0",
         "100.0",
         "99.95894629",
         "99.68347474",
         "86.6608792",
         "100.0",
         "100",
         "99.59927194",
         "99.54473429",
         "99.56569735",
         "100",
         "100.0",
         "97.00038427",
         "100",
         "100",
         "99.59688372",
         "100.0",
         "94.71722635",
         "99.66203915",
         "99.62827933",
         "100",
         "99.98509397",
         "99.99588129",
         "100.0",
         "77.38701244",
         "99.56055952",
         "99.5082815",
         "100",
         "73.87602634",
         "100.0",
         "99.73759116",
         "100.0",
         "100",
         "75.53899689",
         "75.73618033",
         "100.0",
         "74.91463617",
         "100",
         "76.58424147",
         "100.0",
         "75.00159778",
         "100",
         "100.0",
         "99.7544919",
         "75.04633117",
         "99.67810078",
         "75.14333801",
         "91.98356705",
         "100.0",
         "99.97907175",
         "100",
         "99.93413629",
         "100.0",
         "100",
         "92.56399388",
         "100.0",
         "100.0",
         "100",
         "79.13824853",
         "99.90640519",
         "100",
         "100",
         "96.5248967",
         "95.32948783",
         "100",
         "81.42194124",
         "100.0",
         "74.83487947",
         "100.0",
         "100.0",
         "99.59196123",
         "99.87574676",
         "99.97047829",
         "100.0",
         "100.0",
         "100.0",
         "100.0",
         "100",
         "100.0",
         "100.0",
         "100.0",
         "100.0",
         "100.0",
         "100.0",
         "100.0",
         "99.65814059",
         "89.93811508",
         "100.0",
         "82.18363825",
         "100.0",
         "99.67050742",
         "87.40467061",
         "100",
         "74.28910199",
         "73.52539302",
         "100.0",
         "76.23390328",
         "100.0",
         "100",
         "100",
         "100.0",
         "100",
         "100.0",
         "74.96337698",
         "100",
         "100.0",
         "100",
         "100.0",
         "100",
         "76.07090387",
         "100",
         "100",
         "100.0",
         "100.0",
         "100",
         "100.0",
         "100.0",
         "100.0",
         "100",
         "100",
         "99.99219518",
         "99.93300688",
         "100.0",
         "100.0",
         "100",
         "99.36708567",
         "100.0",
         "77.05922088",
         "100.0",
         "99.57133313",
         "100.0",
         "100",
         "100",
         "100.0",
         "99.89013241",
         "100.0",
         "82.58022395",
         "100",
         "99.91684462",
         "100.0",
         "100.0",
         "100.0",
         "81.59204306",
         "100.0",
         "100.0",
         "99.67039642",
         "100",
         "100.0",
         "100",
         "73.07652876",
         "100",
         "100",
         "99.92875364",
         "100",
         "99.98981689",
         "74.83825813",
         "84.41946087",
         "100",
         "100",
         "100",
         "99.78990569",
         "99.88251744",
         "100.0",
         "93.40792018",
         "100.0",
         "99.82785872",
         "99.89642857",
         "74.1565478",
         "100",
         "100.0",
         "100",
         "95.55645921",
         "95.24544088",
         "100.0",
         "100.0",
         "75.10688098",
         "73.93833457",
         "100.0",
         "100.0",
         "100.0",
         "74.66025479",
         "99.51453465",
         "74.41860915",
         "100.0",
         "88.44805411",
         "99.51835553",
         "99.7440874",
         "100.0",
         "100.0",
         "72.9952645",
         "99.92508398",
         "99.96732024",
         "100",
         "100.0",
         "76.19119314",
         "100",
         "100.0",
         "90.71828699",
         "100",
         "74.87323979",
         "74.35513631",
         "100",
         "100",
         "99.8953289",
         "100.0",
         "99.75288847",
         "90.78922766",
         "100",
         "99.73612632",
         "100.0",
         "77.77041374",
         "81.24711603",
         "100.0",
         "100",
         "99.48292095",
         "100",
         "95.05823599",
         "100.0",
         "100.0",
         "100.0",
         "100",
         "77.51246831",
         "100.0",
         "99.52829988",
         "100.0",
         "74.93217674",
         "100",
         "100",
         "100.0",
         "100.0",
         "100",
         "99.49530753",
         "99.72150152",
         "100",
         "99.46747493",
         "100",
         "78.87133888",
         "100.0",
         "100",
         "100",
         "99.83241204",
         "77.87620101",
         "99.68151199",
         "100.0",
         "78.6313595",
         "100"
        ],
        [
         "3",
         "1560",
         "100.0",
         "100",
         "100",
         "100",
         "100",
         "100",
         "100",
         "100",
         "100",
         "100",
         "100",
         "100",
         "100",
         "100",
         "100",
         "100",
         "100",
         "100",
         "100",
         "100",
         "100",
         "100",
         "100",
         "100",
         "100",
         "100",
         "100",
         "100",
         "100",
         "100",
         "100",
         "83.31722379",
         "100",
         "100",
         "100",
         "100",
         "100",
         "100",
         "100.0",
         "100",
         "100",
         "100",
         "100",
         "100",
         "100",
         "100",
         "100",
         "100",
         "100",
         "100",
         "100",
         "100",
         "100",
         "100.0",
         "100",
         "100",
         "100",
         "100",
         "100",
         "100",
         "100",
         "100",
         "100",
         "100",
         "100",
         "100",
         "100",
         "100",
         "100",
         "100",
         "100",
         "100",
         "100",
         "100",
         "100",
         "100",
         "100",
         "100",
         "100",
         "100",
         "100",
         "100",
         "100",
         "100",
         "100",
         "100",
         "100",
         "100",
         "100",
         "100",
         "100",
         "100",
         "100",
         "100",
         "100",
         "100",
         "100",
         "100",
         "100",
         "100",
         "100",
         "100",
         "100",
         "100",
         "100",
         "100",
         "100",
         "100",
         "100",
         "100",
         "100",
         "100.0",
         "100",
         "100",
         "100",
         "100",
         "100",
         "100",
         "100",
         "100",
         "100",
         "100",
         "100",
         "100",
         "100",
         "100",
         "100",
         "100",
         "100",
         "100",
         "100",
         "100",
         "100",
         "100",
         "100",
         "100",
         "100",
         "100",
         "100",
         "100",
         "100",
         "100",
         "100",
         "100",
         "100",
         "100",
         "100",
         "100",
         "100",
         "100",
         "100",
         "100",
         "100",
         "100",
         "100",
         "100",
         "100",
         "100",
         "100",
         "100",
         "100",
         "100",
         "100",
         "100",
         "100",
         "100",
         "100",
         "100",
         "100",
         "100",
         "100",
         "100",
         "100",
         "100",
         "100",
         "100",
         "100",
         "100",
         "100",
         "100",
         "100",
         "100",
         "100",
         "100",
         "100",
         "100",
         "100",
         "100",
         "100",
         "100",
         "100",
         "100",
         "100",
         "100",
         "100",
         "100",
         "100",
         "100",
         "100",
         "100",
         "100",
         "100",
         "99.51499264",
         "100",
         "100",
         "100",
         "100",
         "100",
         "100",
         "100",
         "100",
         "100",
         "100",
         "100",
         "100",
         "100",
         "100",
         "100",
         "100",
         "100",
         "100",
         "100",
         "100",
         "100",
         "100",
         "100",
         "100",
         "100",
         "100",
         "100",
         "100",
         "100",
         "100",
         "100",
         "100",
         "100",
         "99.53923788",
         "100",
         "100",
         "100",
         "100",
         "100",
         "100",
         "100.0",
         "100",
         "100",
         "100",
         "100",
         "100",
         "100",
         "100",
         "100",
         "100",
         "100",
         "100",
         "100",
         "100",
         "100",
         "100",
         "100",
         "100",
         "100",
         "100",
         "100",
         "100",
         "100",
         "100",
         "100",
         "100",
         "100",
         "100",
         "100",
         "100",
         "100.0",
         "100",
         "100",
         "73.15811232",
         "100",
         "100",
         "100",
         "100",
         "100",
         "100",
         "100",
         "100",
         "100",
         "100",
         "100",
         "100",
         "100",
         "100",
         "75.0570299",
         "100",
         "100",
         "100",
         "100",
         "100",
         "100",
         "100",
         "100",
         "100",
         "100",
         "100",
         "100",
         "100",
         "100",
         "100",
         "100",
         "100",
         "100",
         "100",
         "100",
         "100",
         "100",
         "100",
         "100",
         "100",
         "100",
         "100",
         "100",
         "100",
         "100",
         "100",
         "100",
         "100",
         "100",
         "100",
         "100.0",
         "100",
         "100",
         "100",
         "100",
         "100",
         "100",
         "100",
         "100",
         "100",
         "100",
         "100",
         "100",
         "100",
         "100",
         "100",
         "100",
         "100",
         "100",
         "100",
         "100",
         "100",
         "100",
         "100",
         "100",
         "100",
         "100",
         "100",
         "100",
         "100",
         "100",
         "100",
         "100",
         "100",
         "100",
         "100",
         "100",
         "100",
         "100",
         "100",
         "100",
         "100",
         "100",
         "100",
         "100",
         "100",
         "100",
         "100",
         "100",
         "100",
         "100",
         "100",
         "100",
         "100",
         "100",
         "100",
         "100",
         "100",
         "100",
         "100",
         "100",
         "100",
         "100",
         "100",
         "100",
         "100",
         "100",
         "100",
         "100",
         "100",
         "100",
         "100",
         "100",
         "100",
         "100",
         "100",
         "100",
         "100",
         "100",
         "100",
         "100",
         "100",
         "100",
         "100",
         "100",
         "100",
         "100",
         "100",
         "100",
         "100",
         "100",
         "100",
         "100",
         "100",
         "100",
         "100",
         "100",
         "100",
         "100",
         "100",
         "100",
         "94.63153272",
         "100",
         "100",
         "100",
         "100",
         "100",
         "100",
         "100",
         "100",
         "100",
         "100",
         "100",
         "100",
         "100.0",
         "100",
         "100",
         "100",
         "100",
         "100",
         "100",
         "100",
         "100",
         "100",
         "100",
         "100",
         "100",
         "100",
         "100",
         "100.0",
         "100",
         "100",
         "100",
         "100",
         "100",
         "100",
         "100",
         "100",
         "100",
         "100",
         "100",
         "100",
         "100",
         "100",
         "100",
         "100",
         "100",
         "100",
         "100",
         "100",
         "100",
         "100",
         "100",
         "100",
         "100.0",
         "100",
         "76.40910974",
         "100",
         "96.41277113",
         "99.9318585",
         "99.68916721",
         "96.42706514",
         "100.0",
         "100.0",
         "100",
         "79.00847407",
         "91.80406904",
         "100.0",
         "100",
         "100.0",
         "100",
         "99.54275264",
         "99.97219864",
         "76.59922787",
         "100.0",
         "100",
         "94.52892948",
         "100.0",
         "100.0",
         "99.63153561",
         "99.97885248",
         "99.99898715",
         "100.0",
         "100",
         "100.0",
         "100",
         "99.66354462",
         "97.9507182",
         "100.0",
         "93.47315979",
         "75.24633628",
         "100",
         "100.0",
         "99.89763859",
         "100",
         "100.0",
         "100.0",
         "99.78599457",
         "100",
         "73.04943403",
         "100",
         "99.97113038",
         "81.5048278",
         "100.0",
         "100.0",
         "100.0",
         "100.0",
         "100.0",
         "100",
         "99.62871538",
         "99.94280718",
         "100.0",
         "100.0",
         "99.45851257",
         "99.82192315",
         "100",
         "99.79837734",
         "100",
         "100",
         "99.83269793",
         "100",
         "100",
         "100.0",
         "100",
         "73.638892",
         "83.3077227",
         "100.0",
         "100.0",
         "100.0",
         "81.81396081",
         "92.96300013",
         "100",
         "100",
         "99.98046926",
         "100",
         "75.01029392",
         "100.0",
         "99.79080571",
         "76.2933475",
         "99.83994968",
         "99.65837086",
         "75.4630745",
         "93.64905899",
         "99.63142295",
         "99.96713677",
         "100",
         "73.11674897",
         "99.58320689",
         "100",
         "100.0",
         "100.0",
         "100",
         "77.87094874",
         "75.53530968",
         "100.0",
         "99.87844536",
         "100.0",
         "100",
         "100.0",
         "99.76580813",
         "100.0",
         "100.0",
         "100",
         "75.393549",
         "100",
         "81.51707977",
         "100",
         "100.0",
         "100",
         "81.28399955",
         "85.03342383",
         "100",
         "75.49539296",
         "99.85304762",
         "74.40331036",
         "100.0",
         "94.02591171",
         "100.0",
         "100",
         "100.0",
         "75.53791558",
         "99.86954236",
         "74.40744552",
         "100",
         "100",
         "99.61928319",
         "100",
         "99.53659195",
         "100",
         "74.53589047",
         "73.57263677",
         "99.5147662",
         "79.66313305",
         "100",
         "100",
         "99.99444868",
         "100",
         "100.0",
         "100",
         "100",
         "86.62865944",
         "99.57630112",
         "99.88352571",
         "100",
         "100",
         "99.91593965",
         "99.57173385",
         "100",
         "73.95535057",
         "99.78967597",
         "99.99642348",
         "100.0",
         "100.0",
         "96.13374295",
         "73.47929839",
         "99.6241857",
         "100",
         "100",
         "100",
         "100.0",
         "99.98461798",
         "74.27099018",
         "100",
         "100.0",
         "94.39440569",
         "100",
         "100.0",
         "100.0",
         "100.0",
         "99.95832374",
         "99.68313191",
         "86.68843984",
         "100.0",
         "100",
         "99.59882722",
         "99.54476866",
         "99.56511204",
         "100",
         "100.0",
         "97.00285447",
         "100",
         "100",
         "99.59758069",
         "100.0",
         "94.71506203",
         "99.66173918",
         "99.62851838",
         "100",
         "99.98522812",
         "99.9953711",
         "100.0",
         "77.50140739",
         "99.5607141",
         "99.50805101",
         "100",
         "74.04897634",
         "100.0",
         "99.7369472",
         "100.0",
         "100",
         "75.81014884",
         "75.84935208",
         "100.0",
         "74.91576941",
         "100",
         "76.871810256",
         "100.0",
         "75.34849531",
         "100",
         "100.0",
         "99.75408329",
         "75.4031113",
         "99.67842585",
         "75.41617707",
         "91.98185349",
         "100.0",
         "99.97865354",
         "100",
         "99.93382946",
         "100.0",
         "100",
         "92.56707637",
         "100.0",
         "100.0",
         "100",
         "79.21208329",
         "99.90597215",
         "100",
         "100",
         "96.52499175",
         "95.33359357",
         "100",
         "81.66477242",
         "100.0",
         "75.26996226",
         "100.0",
         "100.0",
         "99.59150766",
         "99.87529922",
         "99.97025896",
         "100.0",
         "100.0",
         "100.0",
         "100.0",
         "100",
         "100.0",
         "100.0",
         "100.0",
         "100.0",
         "100.0",
         "100.0",
         "100.0",
         "99.65826924",
         "89.95342655",
         "100.0",
         "82.53453451",
         "100.0",
         "99.67096264",
         "87.4041015",
         "100",
         "74.30636632",
         "73.52602036",
         "100.0",
         "76.34109531",
         "100.0",
         "100",
         "100",
         "100.0",
         "100",
         "100.0",
         "74.96571248",
         "100",
         "100.0",
         "100",
         "100.0",
         "100",
         "76.23795035",
         "100",
         "100",
         "100.0",
         "100.0",
         "100",
         "100.0",
         "100.0",
         "100.0",
         "100",
         "100",
         "99.99181848",
         "99.93239985",
         "100.0",
         "100.0",
         "100",
         "99.36674707",
         "100.0",
         "77.20252905",
         "100.0",
         "99.57163588",
         "100.0",
         "100",
         "100",
         "100.0",
         "99.88979161",
         "100.0",
         "82.63441091",
         "100",
         "99.91680413",
         "100.0",
         "100.0",
         "100.0",
         "81.87152713",
         "100.0",
         "100.0",
         "99.67042587",
         "100",
         "100.0",
         "100",
         "73.08292219",
         "100",
         "100",
         "99.9292715",
         "100",
         "99.98926012",
         "74.85744645",
         "84.42744634",
         "100",
         "100",
         "100",
         "99.79035005",
         "99.88220754",
         "100.0",
         "93.40970216",
         "100.0",
         "99.82775353",
         "99.89606418",
         "74.36425087",
         "100",
         "100.0",
         "100",
         "95.56106746",
         "95.24483617",
         "100.0",
         "100.0",
         "75.25100083",
         "74.27035684",
         "100.0",
         "100.0",
         "100.0",
         "74.99170811",
         "99.51384078",
         "74.58622228",
         "100.0",
         "88.45235975",
         "99.51860539",
         "99.74440925",
         "100.0",
         "100.0",
         "72.99564139",
         "99.92476269",
         "99.96800702",
         "100",
         "100.0",
         "76.27873054",
         "100",
         "100.0",
         "90.72182545",
         "100",
         "75.34717846",
         "74.35606475",
         "100",
         "100",
         "99.89526911",
         "100.0",
         "99.7522881",
         "90.79325225",
         "100",
         "99.73593626",
         "100.0",
         "77.94395648",
         "81.2648767",
         "100.0",
         "100",
         "99.48300621",
         "100",
         "95.05897973",
         "100.0",
         "100.0",
         "100.0",
         "100",
         "77.59274649",
         "100.0",
         "99.52855527",
         "100.0",
         "75.41958786",
         "100",
         "100",
         "100.0",
         "100.0",
         "100",
         "99.49492535",
         "99.72125064",
         "100",
         "99.46715033",
         "100",
         "78.88256342",
         "100.0",
         "100",
         "100",
         "99.8329261",
         "77.8780138",
         "99.68098468",
         "100.0",
         "79.04195545",
         "100"
        ],
        [
         "4",
         "1563",
         "100.0",
         "100",
         "100",
         "100",
         "100",
         "100",
         "100",
         "100",
         "100",
         "100",
         "100",
         "100",
         "100",
         "100",
         "100",
         "100",
         "100",
         "100",
         "100",
         "100",
         "100",
         "100",
         "100",
         "100",
         "100",
         "100",
         "100",
         "100",
         "100",
         "100",
         "100",
         "83.39650529",
         "100",
         "100",
         "100",
         "100",
         "100",
         "100",
         "100.0",
         "100",
         "100",
         "100",
         "100",
         "100",
         "100",
         "100",
         "100",
         "100",
         "100",
         "100",
         "100",
         "100",
         "100",
         "100.0",
         "100",
         "100",
         "100",
         "100",
         "100",
         "100",
         "100",
         "100",
         "100",
         "100",
         "100",
         "100",
         "100",
         "100",
         "100",
         "100",
         "100",
         "100",
         "100",
         "100",
         "100",
         "100",
         "100",
         "100",
         "100",
         "100",
         "100",
         "100",
         "100",
         "100",
         "100",
         "100",
         "100",
         "100",
         "100",
         "100",
         "100",
         "100",
         "100",
         "100",
         "100",
         "100",
         "100",
         "100",
         "100",
         "100",
         "100",
         "100",
         "100",
         "100",
         "100",
         "100",
         "100",
         "100",
         "100",
         "100",
         "100",
         "100.0",
         "100",
         "100",
         "100",
         "100",
         "100",
         "100",
         "100",
         "100",
         "100",
         "100",
         "100",
         "100",
         "100",
         "100",
         "100",
         "100",
         "100",
         "100",
         "100",
         "100",
         "100",
         "100",
         "100",
         "100",
         "100",
         "100",
         "100",
         "100",
         "100",
         "100",
         "100",
         "100",
         "100",
         "100",
         "100",
         "100",
         "100",
         "100",
         "100",
         "100",
         "100",
         "100",
         "100",
         "100",
         "100",
         "100",
         "100",
         "100",
         "100",
         "100",
         "100",
         "100",
         "100",
         "100",
         "100",
         "100",
         "100",
         "100",
         "100",
         "100",
         "100",
         "100",
         "100",
         "100",
         "100",
         "100",
         "100",
         "100",
         "100",
         "100",
         "100",
         "100",
         "100",
         "100",
         "100",
         "100",
         "100",
         "100",
         "100",
         "100",
         "100",
         "100",
         "100",
         "100",
         "100",
         "100",
         "100",
         "100",
         "100",
         "100",
         "99.51457269",
         "100",
         "100",
         "100",
         "100",
         "100",
         "100",
         "100",
         "100",
         "100",
         "100",
         "100",
         "100",
         "100",
         "100",
         "100",
         "100",
         "100",
         "100",
         "100",
         "100",
         "100",
         "100",
         "100",
         "100",
         "100",
         "100",
         "100",
         "100",
         "100",
         "100",
         "100",
         "100",
         "100",
         "99.54038302",
         "100",
         "100",
         "100",
         "100",
         "100",
         "100",
         "100.0",
         "100",
         "100",
         "100",
         "100",
         "100",
         "100",
         "100",
         "100",
         "100",
         "100",
         "100",
         "100",
         "100",
         "100",
         "100",
         "100",
         "100",
         "100",
         "100",
         "100",
         "100",
         "100",
         "100",
         "100",
         "100",
         "100",
         "100",
         "100",
         "100",
         "100.0",
         "100",
         "100",
         "73.15862775",
         "100",
         "100",
         "100",
         "100",
         "100",
         "100",
         "100",
         "100",
         "100",
         "100",
         "100",
         "100",
         "100",
         "100",
         "75.57855816",
         "100",
         "100",
         "100",
         "100",
         "100",
         "100",
         "100",
         "100",
         "100",
         "100",
         "100",
         "100",
         "100",
         "100",
         "100",
         "100",
         "100",
         "100",
         "100",
         "100",
         "100",
         "100",
         "100",
         "100",
         "100",
         "100",
         "100",
         "100",
         "100",
         "100",
         "100",
         "100",
         "100",
         "100",
         "100",
         "100.0",
         "100",
         "100",
         "100",
         "100",
         "100",
         "100",
         "100",
         "100",
         "100",
         "100",
         "100",
         "100",
         "100",
         "100",
         "100",
         "100",
         "100",
         "100",
         "100",
         "100",
         "100",
         "100",
         "100",
         "100",
         "100",
         "100",
         "100",
         "100",
         "100",
         "100",
         "100",
         "100",
         "100",
         "100",
         "100",
         "100",
         "100",
         "100",
         "100",
         "100",
         "100",
         "100",
         "100",
         "100",
         "100",
         "100",
         "100",
         "100",
         "100",
         "100",
         "100",
         "100",
         "100",
         "100",
         "100",
         "100",
         "100",
         "100",
         "100",
         "100",
         "100",
         "100",
         "100",
         "100",
         "100",
         "100",
         "100",
         "100",
         "100",
         "100",
         "100",
         "100",
         "100",
         "100",
         "100",
         "100",
         "100",
         "100",
         "100",
         "100",
         "100",
         "100",
         "100",
         "100",
         "100",
         "100",
         "100",
         "100",
         "100",
         "100",
         "100",
         "100",
         "100",
         "100",
         "100",
         "100",
         "100",
         "100",
         "100",
         "100",
         "94.62808306",
         "100",
         "100",
         "100",
         "100",
         "100",
         "100",
         "100",
         "100",
         "100",
         "100",
         "100",
         "100",
         "100.0",
         "100",
         "100",
         "100",
         "100",
         "100",
         "100",
         "100",
         "100",
         "100",
         "100",
         "100",
         "100",
         "100",
         "100",
         "100.0",
         "100",
         "100",
         "100",
         "100",
         "100",
         "100",
         "100",
         "100",
         "100",
         "100",
         "100",
         "100",
         "100",
         "100",
         "100",
         "100",
         "100",
         "100",
         "100",
         "100",
         "100",
         "100",
         "100",
         "100",
         "100.0",
         "100",
         "76.43231631",
         "100",
         "96.41745717",
         "99.93134585",
         "99.68877769",
         "96.42871313",
         "100.0",
         "100.0",
         "100",
         "79.27806042",
         "91.80932412",
         "100.0",
         "100",
         "100.0",
         "100",
         "99.54381016",
         "99.97209038",
         "76.7980514",
         "100.0",
         "100",
         "94.53549883",
         "100.0",
         "100.0",
         "99.63069827",
         "99.97803738",
         "99.99980494",
         "100.0",
         "100",
         "100.0",
         "100",
         "99.66510503",
         "97.95610267",
         "100.0",
         "93.47445617",
         "75.727431958",
         "100",
         "100.0",
         "99.89793578",
         "100",
         "100.0",
         "100.0",
         "99.78563294",
         "100",
         "73.0698176",
         "100",
         "99.97114568",
         "81.81836257",
         "100.0",
         "100.0",
         "100.0",
         "100.0",
         "100.0",
         "100",
         "99.63012426",
         "99.94382906",
         "100.0",
         "100.0",
         "99.45843997",
         "99.82330977",
         "100",
         "99.79858554",
         "100",
         "100",
         "99.83303735",
         "100",
         "100",
         "100.0",
         "100",
         "73.92199806",
         "83.3710839",
         "100.0",
         "100.0",
         "100.0",
         "82.16085641",
         "92.97477306",
         "100",
         "100",
         "99.98160101",
         "100",
         "75.24398445",
         "100.0",
         "99.79042721",
         "76.44746819",
         "99.83936447",
         "99.65929633",
         "75.49007349",
         "93.65902518",
         "99.6320933",
         "99.96642341",
         "100",
         "73.21381976",
         "99.58245905",
         "100",
         "100.0",
         "100.0",
         "100",
         "78.06636018",
         "75.60285334",
         "100.0",
         "99.87974821",
         "100.0",
         "100",
         "100.0",
         "99.76544758",
         "100.0",
         "100.0",
         "100",
         "75.47591088",
         "100",
         "81.85485051",
         "100",
         "100.0",
         "100",
         "81.37837729",
         "85.07987925",
         "100",
         "75.55614154",
         "99.85263346",
         "74.77035164",
         "100.0",
         "94.03137879",
         "100.0",
         "100",
         "100.0",
         "75.55367829",
         "99.86983351",
         "74.58557283",
         "100",
         "100",
         "99.61876771",
         "100",
         "99.53749162",
         "100",
         "74.86939159",
         "73.58689664",
         "99.51586902",
         "79.80220168",
         "100",
         "100",
         "99.99381758",
         "100",
         "100.0",
         "100",
         "100",
         "86.6852989",
         "99.5763218",
         "99.88492572",
         "100",
         "100",
         "99.91618669",
         "99.57163262",
         "100",
         "73.95702952",
         "99.79025719",
         "99.99594436",
         "100.0",
         "100.0",
         "96.13797611",
         "73.49291123",
         "99.62510162",
         "100",
         "100",
         "100",
         "100.0",
         "99.98453164",
         "74.58942543",
         "100",
         "100.0",
         "94.40024008",
         "100",
         "100.0",
         "100.0",
         "100.0",
         "99.95740415",
         "99.682844",
         "86.7339474",
         "100.0",
         "100",
         "99.59837495",
         "99.54547182",
         "99.56427089",
         "100",
         "100.0",
         "97.00861068",
         "100",
         "100",
         "99.59959296",
         "100.0",
         "94.71351467",
         "99.66144991",
         "99.62956768",
         "100",
         "99.98589256",
         "99.99489763",
         "100.0",
         "77.69392647",
         "99.56149443",
         "99.50814115",
         "100",
         "74.31290715",
         "100.0",
         "99.7360136",
         "100.0",
         "100",
         "76.15030252",
         "76.01671528",
         "100.0",
         "74.91758735",
         "100",
         "77.23467217",
         "100.0",
         "75.77277681",
         "100",
         "100.0",
         "99.75371431",
         "75.85216119",
         "99.67961763",
         "75.76261659",
         "91.98114689",
         "100.0",
         "99.97846656",
         "100",
         "99.93373977",
         "100.0",
         "100",
         "92.5748985",
         "100.0",
         "100.0",
         "100",
         "79.32849403",
         "99.90576435",
         "100",
         "100",
         "96.52518749",
         "95.34195164",
         "100",
         "81.98933141",
         "100.0",
         "75.78635983",
         "100.0",
         "100.0",
         "99.59085252",
         "99.87488173",
         "99.97038904",
         "100.0",
         "100.0",
         "100.0",
         "100.0",
         "100",
         "100.0",
         "100.0",
         "100.0",
         "100.0",
         "100.0",
         "100.0",
         "100.0",
         "99.65911606",
         "89.98047827",
         "100.0",
         "82.9465937",
         "100.0",
         "99.67236818",
         "87.40516638",
         "100",
         "74.3402264",
         "73.52702057",
         "100.0",
         "76.51975316",
         "100.0",
         "100",
         "100",
         "100.0",
         "100",
         "100.0",
         "74.96999365",
         "100",
         "100.0",
         "100",
         "100.0",
         "100",
         "76.46689999",
         "100",
         "100",
         "100.0",
         "100.0",
         "100",
         "100.0",
         "100.0",
         "100.0",
         "100",
         "100",
         "99.99167569",
         "99.93152859",
         "100.0",
         "100.0",
         "100",
         "99.36649601",
         "100.0",
         "77.4137042",
         "100.0",
         "99.57267888",
         "100.0",
         "100",
         "100",
         "100.0",
         "99.88973901",
         "100.0",
         "82.72810251",
         "100",
         "99.91744811",
         "100.0",
         "100.0",
         "100.0",
         "82.23220638",
         "100.0",
         "100.0",
         "99.67113382",
         "100",
         "100.0",
         "100",
         "73.09778459",
         "100",
         "100",
         "99.93069873",
         "100",
         "99.98880956",
         "74.90044372",
         "84.43964258",
         "100",
         "100",
         "100",
         "99.79174103",
         "99.88228943",
         "100.0",
         "93.41432173",
         "100.0",
         "99.82834661",
         "99.89611467",
         "74.66937863",
         "100",
         "100.0",
         "100",
         "95.56951734",
         "95.24411612",
         "100.0",
         "100.0",
         "75.46749001",
         "74.70101188",
         "100.0",
         "100.0",
         "100.0",
         "75.41004765",
         "99.51281499",
         "74.84862852",
         "100.0",
         "88.46033584",
         "99.51960106",
         "99.74557535",
         "100.0",
         "100.0",
         "72.99626968",
         "99.92459466",
         "99.96986067",
         "100",
         "100.0",
         "76.4235034",
         "100",
         "100.0",
         "90.73027489",
         "100",
         "75.90118039",
         "74.35793973",
         "100",
         "100",
         "99.89563634",
         "100.0",
         "99.75141472",
         "90.80338496",
         "100",
         "99.73623207",
         "100.0",
         "78.19402563",
         "81.30133577",
         "100.0",
         "100",
         "99.48382793",
         "100",
         "95.06207213",
         "100.0",
         "100.0",
         "100.0",
         "100",
         "77.72040207",
         "100.0",
         "99.52973886",
         "100.0",
         "75.984757",
         "100",
         "100",
         "100.0",
         "100.0",
         "100",
         "99.49466231",
         "99.72110289",
         "100",
         "99.46688584",
         "100",
         "78.90415628",
         "100.0",
         "100",
         "100",
         "99.83475861",
         "77.88092967",
         "99.68026332",
         "100.0",
         "79.52195776",
         "100"
        ]
       ],
       "shape": {
        "columns": 901,
        "rows": 5
       }
      },
      "text/html": [
       "<div>\n",
       "<style scoped>\n",
       "    .dataframe tbody tr th:only-of-type {\n",
       "        vertical-align: middle;\n",
       "    }\n",
       "\n",
       "    .dataframe tbody tr th {\n",
       "        vertical-align: top;\n",
       "    }\n",
       "\n",
       "    .dataframe thead th {\n",
       "        text-align: right;\n",
       "    }\n",
       "</style>\n",
       "<table border=\"1\" class=\"dataframe\">\n",
       "  <thead>\n",
       "    <tr style=\"text-align: right;\">\n",
       "      <th></th>\n",
       "      <th>M.Time[d]</th>\n",
       "      <th>N_1</th>\n",
       "      <th>N_2</th>\n",
       "      <th>N_3</th>\n",
       "      <th>N_4</th>\n",
       "      <th>N_5</th>\n",
       "      <th>N_6</th>\n",
       "      <th>N_7</th>\n",
       "      <th>N_8</th>\n",
       "      <th>N_9</th>\n",
       "      <th>...</th>\n",
       "      <th>N_891</th>\n",
       "      <th>N_892</th>\n",
       "      <th>N_893</th>\n",
       "      <th>N_894</th>\n",
       "      <th>N_895</th>\n",
       "      <th>N_896</th>\n",
       "      <th>N_897</th>\n",
       "      <th>N_898</th>\n",
       "      <th>N_899</th>\n",
       "      <th>N_900</th>\n",
       "    </tr>\n",
       "  </thead>\n",
       "  <tbody>\n",
       "    <tr>\n",
       "      <th>0</th>\n",
       "      <td>1554</td>\n",
       "      <td>100.0</td>\n",
       "      <td>100</td>\n",
       "      <td>100</td>\n",
       "      <td>100</td>\n",
       "      <td>100</td>\n",
       "      <td>100</td>\n",
       "      <td>100</td>\n",
       "      <td>100</td>\n",
       "      <td>100</td>\n",
       "      <td>...</td>\n",
       "      <td>78.853196</td>\n",
       "      <td>100.0</td>\n",
       "      <td>100</td>\n",
       "      <td>100</td>\n",
       "      <td>99.832469</td>\n",
       "      <td>77.872682</td>\n",
       "      <td>99.682618</td>\n",
       "      <td>100.0</td>\n",
       "      <td>77.465508</td>\n",
       "      <td>100</td>\n",
       "    </tr>\n",
       "    <tr>\n",
       "      <th>1</th>\n",
       "      <td>1556</td>\n",
       "      <td>100.0</td>\n",
       "      <td>100</td>\n",
       "      <td>100</td>\n",
       "      <td>100</td>\n",
       "      <td>100</td>\n",
       "      <td>100</td>\n",
       "      <td>100</td>\n",
       "      <td>100</td>\n",
       "      <td>100</td>\n",
       "      <td>...</td>\n",
       "      <td>78.861729</td>\n",
       "      <td>100.0</td>\n",
       "      <td>100</td>\n",
       "      <td>100</td>\n",
       "      <td>99.832297</td>\n",
       "      <td>77.874432</td>\n",
       "      <td>99.682059</td>\n",
       "      <td>100.0</td>\n",
       "      <td>78.123191</td>\n",
       "      <td>100</td>\n",
       "    </tr>\n",
       "    <tr>\n",
       "      <th>2</th>\n",
       "      <td>1558</td>\n",
       "      <td>100.0</td>\n",
       "      <td>100</td>\n",
       "      <td>100</td>\n",
       "      <td>100</td>\n",
       "      <td>100</td>\n",
       "      <td>100</td>\n",
       "      <td>100</td>\n",
       "      <td>100</td>\n",
       "      <td>100</td>\n",
       "      <td>...</td>\n",
       "      <td>78.871339</td>\n",
       "      <td>100.0</td>\n",
       "      <td>100</td>\n",
       "      <td>100</td>\n",
       "      <td>99.832412</td>\n",
       "      <td>77.876201</td>\n",
       "      <td>99.681512</td>\n",
       "      <td>100.0</td>\n",
       "      <td>78.631360</td>\n",
       "      <td>100</td>\n",
       "    </tr>\n",
       "    <tr>\n",
       "      <th>3</th>\n",
       "      <td>1560</td>\n",
       "      <td>100.0</td>\n",
       "      <td>100</td>\n",
       "      <td>100</td>\n",
       "      <td>100</td>\n",
       "      <td>100</td>\n",
       "      <td>100</td>\n",
       "      <td>100</td>\n",
       "      <td>100</td>\n",
       "      <td>100</td>\n",
       "      <td>...</td>\n",
       "      <td>78.882563</td>\n",
       "      <td>100.0</td>\n",
       "      <td>100</td>\n",
       "      <td>100</td>\n",
       "      <td>99.832926</td>\n",
       "      <td>77.878014</td>\n",
       "      <td>99.680985</td>\n",
       "      <td>100.0</td>\n",
       "      <td>79.041955</td>\n",
       "      <td>100</td>\n",
       "    </tr>\n",
       "    <tr>\n",
       "      <th>4</th>\n",
       "      <td>1563</td>\n",
       "      <td>100.0</td>\n",
       "      <td>100</td>\n",
       "      <td>100</td>\n",
       "      <td>100</td>\n",
       "      <td>100</td>\n",
       "      <td>100</td>\n",
       "      <td>100</td>\n",
       "      <td>100</td>\n",
       "      <td>100</td>\n",
       "      <td>...</td>\n",
       "      <td>78.904156</td>\n",
       "      <td>100.0</td>\n",
       "      <td>100</td>\n",
       "      <td>100</td>\n",
       "      <td>99.834759</td>\n",
       "      <td>77.880930</td>\n",
       "      <td>99.680263</td>\n",
       "      <td>100.0</td>\n",
       "      <td>79.521958</td>\n",
       "      <td>100</td>\n",
       "    </tr>\n",
       "  </tbody>\n",
       "</table>\n",
       "<p>5 rows × 901 columns</p>\n",
       "</div>"
      ],
      "text/plain": [
       "   M.Time[d]    N_1  N_2  N_3  N_4  N_5  N_6  N_7  N_8  N_9  ...      N_891  \\\n",
       "0       1554  100.0  100  100  100  100  100  100  100  100  ...  78.853196   \n",
       "1       1556  100.0  100  100  100  100  100  100  100  100  ...  78.861729   \n",
       "2       1558  100.0  100  100  100  100  100  100  100  100  ...  78.871339   \n",
       "3       1560  100.0  100  100  100  100  100  100  100  100  ...  78.882563   \n",
       "4       1563  100.0  100  100  100  100  100  100  100  100  ...  78.904156   \n",
       "\n",
       "   N_892  N_893  N_894      N_895      N_896      N_897  N_898      N_899  \\\n",
       "0  100.0    100    100  99.832469  77.872682  99.682618  100.0  77.465508   \n",
       "1  100.0    100    100  99.832297  77.874432  99.682059  100.0  78.123191   \n",
       "2  100.0    100    100  99.832412  77.876201  99.681512  100.0  78.631360   \n",
       "3  100.0    100    100  99.832926  77.878014  99.680985  100.0  79.041955   \n",
       "4  100.0    100    100  99.834759  77.880930  99.680263  100.0  79.521958   \n",
       "\n",
       "   N_900  \n",
       "0    100  \n",
       "1    100  \n",
       "2    100  \n",
       "3    100  \n",
       "4    100  \n",
       "\n",
       "[5 rows x 901 columns]"
      ]
     },
     "metadata": {},
     "output_type": "display_data"
    }
   ],
   "source": [
    "if humidity_train.isna().all().any():\n",
    "    ## It is essential to keep the dimensions so we will fill empty columns with values of the next column \n",
    "    humidity_train = func.fill_NaN_columns(\n",
    "        K = 5,\n",
    "        df = humidity_train,\n",
    "        imputer = imputer,\n",
    "        coords = coordinates_train\n",
    "    )\n",
    "\n",
    "if humidity_pred.isna().all().any():\n",
    "    humidity_pred = func.fill_NaN_columns(\n",
    "        K = 5,\n",
    "        df = humidity_pred,\n",
    "        imputer = imputer,\n",
    "        coords = coordinates_pred\n",
    "    )\n",
    "\n",
    "\n",
    "## Imputing the missing data\n",
    "if humidity_train.isna().sum().sum() != 0: \n",
    "    humidity_train.interpolate(method='linear', axis=0, limit_direction='both', inplace=True)\n",
    "\n",
    "if humidity_pred.isna().sum().sum() != 0: \n",
    "    humidity_pred.interpolate(method='linear', axis=0, limit_direction='both', inplace=True)\n",
    "    \n",
    "\n",
    "# Visualize distribution with a histogram (code provided by ChatGPT)\n",
    "sensor_data = humidity_train.iloc[:,1:]\n",
    "all_values = sensor_data.values.flatten()\n",
    "plt.figure(figsize=(12, 6))\n",
    "plt.hist(all_values, bins = np.arange(all_values.min(), all_values.max() + 1, 1), edgecolor='black')\n",
    "plt.title('Distribution of All Sensor Values')\n",
    "plt.xlabel('Humidity Value')\n",
    "plt.ylabel('Frequency')\n",
    "plt.grid(True)\n",
    "plt.show()\n",
    "\n",
    "display(humidity_train.head(5))"
   ]
  },
  {
   "cell_type": "code",
   "execution_count": 10,
   "id": "459b6ffb",
   "metadata": {},
   "outputs": [
    {
     "data": {
      "image/png": "[encoded data removed]",
      "text/plain": [
       "<Figure size 1200x600 with 1 Axes>"
      ]
     },
     "metadata": {},
     "output_type": "display_data"
    }
   ],
   "source": [
    "# Visualize distribution with a histogram (code provided by ChatGPT)\n",
    "sensor_data = humidity_pred.iloc[:,1:]\n",
    "all_values = sensor_data.values.flatten()\n",
    "plt.figure(figsize=(12, 6))\n",
    "plt.hist(all_values, bins = np.arange(all_values.min(), all_values.max() + 1, 1), edgecolor='black')\n",
    "plt.title('Distribution of All Sensor Values')\n",
    "plt.xlabel('Humidity Value')\n",
    "plt.ylabel('Frequency')\n",
    "plt.grid(True)\n",
    "plt.show()\n"
   ]
  },
  {
   "cell_type": "markdown",
   "id": "c230ab0f",
   "metadata": {},
   "source": [
    "There are some values that appear rarely but they are very realistic so we decided not to clip them."
   ]
  },
  {
   "cell_type": "markdown",
   "id": "de17625c",
   "metadata": {},
   "source": [
    "#### **Temperature**"
   ]
  },
  {
   "cell_type": "raw",
   "id": "2a13c920",
   "metadata": {
    "vscode": {
     "languageId": "raw"
    }
   },
   "source": [
    "display(temperature_train.head(5))\n",
    "print(temperature_train.shape)"
   ]
  },
  {
   "cell_type": "markdown",
   "id": "578d6cb6",
   "metadata": {},
   "source": [
    "Here we notice sudden spikes in the temperature going from about 20 to 2'000+ (the mineral would most likely melt at that temperature) and going back down to 20 a few days later. We can consider those value as measurement errors. We can replace those outliers by the mean of the 2 nearest neighbors if they are above a threshold of 60 (we can see it should work well by looking at the graph below), this is called value cliping."
   ]
  },
  {
   "cell_type": "code",
   "execution_count": 11,
   "id": "2f629ff6",
   "metadata": {},
   "outputs": [
    {
     "data": {
      "image/png": "[encoded data removed]",
      "text/plain": [
       "<Figure size 1200x600 with 1 Axes>"
      ]
     },
     "metadata": {},
     "output_type": "display_data"
    },
    {
     "name": "stdout",
     "output_type": "stream",
     "text": [
      "temperature_train shape: (32, 901)\n",
      "empty columns: 0\n"
     ]
    }
   ],
   "source": [
    "## It is essential to keep the dimensions so we will fill empty columns with values of the next column \n",
    "temperature_train = func.fill_NaN_columns(\n",
    "    K = 5,\n",
    "    df = temperature_train,\n",
    "    imputer = imputer,\n",
    "    coords = coordinates_train\n",
    ")\n",
    "\n",
    "## We impute the missing data with the 2 nearest neighbors to view the distribution\n",
    "## limit_direction='both' allows to impute data on the edges\n",
    "temperature_train.interpolate(method='linear', axis=0, limit_direction='both', inplace=True)\n",
    "\n",
    "# Visualize the distribution with a histogram (code provided by ChatGPT)\n",
    "sensor_data = temperature_train.iloc[:,1:]\n",
    "all_values = sensor_data.values.flatten()\n",
    "plt.figure(figsize=(12, 6))\n",
    "plt.hist(all_values, bins = np.arange(all_values.min(), 100, 1), edgecolor='black')\n",
    "plt.title('Distribution of All Sensor Values')\n",
    "plt.xlabel('Temperature Value')\n",
    "plt.ylabel('Frequency')\n",
    "plt.grid(True)\n",
    "plt.show()\n",
    "\n",
    "## Applying the filter:\n",
    "temperature_train.iloc[:,1:] = temperature_train.iloc[:,1:].mask(temperature_train.iloc[:,1:] >= 100, np.nan) ## set filter to 100 to see\n",
    "\n",
    "## Initial shape: \n",
    "print(f'temperature_train shape: {temperature_train.shape}')\n",
    "print(f'empty columns: {temperature_train.isnull().all().sum()}')\n",
    "\n",
    "## We impute the missing data with the 2 nearest neighbors as done with the pressure\n",
    "temperature_train.interpolate(method='linear', axis=0, limit_direction='both', inplace=True)\n"
   ]
  },
  {
   "cell_type": "markdown",
   "id": "057ca1fb",
   "metadata": {},
   "source": [
    "### **Data augmentation** "
   ]
  },
  {
   "cell_type": "raw",
   "id": "fd378bb6",
   "metadata": {
    "vscode": {
     "languageId": "raw"
    }
   },
   "source": [
    "#new_times = np.array([1630, 1650, 1680, 1710, 1750, 1800, 1860, 1940, 2010, 2050, 2070, 2150, 2280, 2320, 2470, 2550, 2700, 2800, 2950, 3100, 3300, 3400, 3500, 3800, 4000, 5000, 5200, 5800, 6100, 6700, 6800])\n",
    "# new_times = np.array([1630, 1640,  1650, 1660, 1680, 1690, 1710, 1720, 1750, 1770, 1800, 1830, 1860, 1900, 1940, 1980, 2010, 2040, 2050, 2060, 2070, 2100, 2150, 2200, 2280, 2300,  2320, 2400, 2470, 2500, 2550, 2600, 2700, 2750, 2800, 2900, 2950, 3000, 3100, 3200, 3300, 3350, 3400, 3450, 3500, 3600, 3800, 3900, 4000, 4500, 5000, 5200, 5800, 6100, 6700, 6800])\n",
    "time = np.union1d(time, new_times)\n",
    "\n",
    "## Add new rows:  \n",
    "pressure_train = pressure_train.set_index('M.Time[d]').reindex(time).interpolate(method='linear').reset_index()\n",
    "humidity_train = humidity_train.set_index('M.Time[d]').reindex(time).interpolate(method='linear').reset_index()\n",
    "temperature_train = temperature_train.set_index('M.Time[d]').reindex(time).interpolate(method='linear').reset_index()\n",
    "## As the data has been cleared from outliers we can use the pandas interpolation without fearing new outliers (hopefully)"
   ]
  },
  {
   "cell_type": "markdown",
   "id": "345906c1",
   "metadata": {},
   "source": [
    "### **Feature engineering**\n",
    "\n",
    "#### **Data normalization**"
   ]
  },
  {
   "cell_type": "markdown",
   "id": "685bfd07",
   "metadata": {},
   "source": [
    "Data normalization is essential for a faster convergence of the descent methods and an appropriate penalization of the weights. We will use a z-score scaling technique as a min-max scaling would be scalled up by the few outliers left and concentrate the values too much. We'll then make sure the data is not too heavy-tailed for the scaling to work best."
   ]
  },
  {
   "cell_type": "code",
   "execution_count": 12,
   "id": "ba281a86",
   "metadata": {},
   "outputs": [],
   "source": [
    "## Mean and standard deviation are always computed on the training data\n",
    "## axis = None computes the mean over the entire DataFrame with our current version of pandas: 2.0.3\n",
    "## but it doesn't work with the std: \n",
    "#  https://stackoverflow.com/questions/25140998/pandas-compute-mean-or-std-standard-deviation-over-entire-dataframe\n",
    "\n",
    "pressure_mean = pressure_train.iloc[:,1:].mean(axis=None) \n",
    "pressure_std = pressure_train.iloc[:,1:].values.std()\n",
    "\n",
    "humidity_mean = humidity_train.iloc[:,1:].mean(axis=None) \n",
    "humidity_std = humidity_train.iloc[:,1:].values.std()\n",
    "\n",
    "temperature_mean = temperature_train.iloc[:,1:].mean(axis=None)\n",
    "temperature_std = temperature_train.iloc[:,1:].values.std()\n",
    "\n",
    "coordinates_mean = coordinates_train[[\"x\",\"y\",\"z\",\"r\"]].mean(axis=0)\n",
    "coordinates_std = coordinates_train[[\"x\",\"y\",\"z\",\"r\"]].std(axis=0)\n",
    "\n",
    "# print(f'Mean pressure: {pressure_mean}')\n",
    "# print(f'SD of pressure: {pressure_std}')\n",
    "\n",
    "# print(f'Mean humidity: {humidity_mean}')\n",
    "# print(f'SD of humidity: {humidity_std}')\n",
    "\n",
    "# print(f'Mean temperature: {temperature_mean}')\n",
    "# print(f'SD of temperature: {temperature_std}')\n",
    "\n",
    "pressure_train.iloc[:,1:] -= pressure_mean\n",
    "pressure_train.iloc[:,1:] /= pressure_std\n",
    "pressure_pred.iloc[:,1:] -= pressure_mean\n",
    "pressure_pred.iloc[:,1:] /= pressure_std\n",
    "\n",
    "humidity_train.iloc[:,1:] -= humidity_mean\n",
    "humidity_train.iloc[:,1:] /= humidity_std\n",
    "humidity_pred.iloc[:,1:] -= humidity_mean\n",
    "humidity_pred.iloc[:,1:] /= humidity_std\n",
    "\n",
    "temperature_train.iloc[:,1:] -= temperature_mean\n",
    "temperature_train.iloc[:,1:] /= temperature_std\n",
    "\n",
    "coordinates_train[[\"x\",\"y\",\"z\",\"r\"]] -= coordinates_mean\n",
    "coordinates_train[[\"x\",\"y\",\"z\",\"r\"]] /= coordinates_std\n",
    "coordinates_pred[[\"x\",\"y\",\"z\",\"r\"]] -= coordinates_mean\n",
    "coordinates_pred[[\"x\",\"y\",\"z\",\"r\"]] /= coordinates_std\n",
    "\n",
    "## Check that the values now follow a normal distribution : \n",
    "## (the test sets will be off obviously)\n",
    "assert np.isclose(pressure_train.iloc[:,1:].mean(axis=None), 0)\n",
    "assert np.isclose(pressure_train.iloc[:,1:].values.std(), 1)\n",
    "\n",
    "assert np.isclose(humidity_train.iloc[:,1:].mean(axis=None), 0)\n",
    "assert np.isclose(humidity_train.iloc[:,1:].values.std(), 1)\n",
    "\n",
    "assert np.isclose(temperature_train.iloc[:,1:].mean(axis=None), 0)\n",
    "assert np.isclose(temperature_train.iloc[:,1:].values.std(), 1)\n",
    "\n",
    "assert np.allclose(coordinates_train[[\"x\",\"y\",\"z\",\"r\"]].mean(axis=0), 0)\n",
    "assert np.allclose(coordinates_train[[\"x\",\"y\",\"z\",\"r\"]].std(axis=0), 1)\n",
    "\n"
   ]
  },
  {
   "cell_type": "markdown",
   "id": "c4bfc150",
   "metadata": {},
   "source": [
    "Let's visualize our data before making it into numpy arrays :"
   ]
  },
  {
   "cell_type": "code",
   "execution_count": 13,
   "id": "dd47a78b",
   "metadata": {},
   "outputs": [
    {
     "name": "stdout",
     "output_type": "stream",
     "text": [
      "Pressure's shape: (32, 901)\n",
      "Humidity's shape: (32, 901)\n",
      "Coordinates' shape: (900, 12)\n",
      "Temperature's shape: (32, 901)\n"
     ]
    }
   ],
   "source": [
    "# display(pressure_train.head(5))\n",
    "# display(humidity_train.head(5))\n",
    "# display(coordinates_train.head(5))\n",
    "# display(temperature_train.head(5))\n",
    "\n",
    "print(f\"Pressure's shape: {pressure_train.shape}\")\n",
    "print(f\"Humidity's shape: {humidity_train.shape}\")\n",
    "print(f\"Coordinates' shape: {coordinates_train.shape}\")\n",
    "print(f\"Temperature's shape: {temperature_train.shape}\")\n",
    "\n",
    "## Verify that we no longer have missing values: \n",
    "assert pressure_train.isnull().any().sum() == 0\n",
    "assert pressure_pred.isnull().any().sum() == 0\n",
    "assert humidity_train.isnull().any().sum() == 0\n",
    "assert humidity_pred.isnull().any().sum() == 0\n",
    "assert coordinates_train.isnull().any().sum() == 0\n",
    "assert coordinates_pred.isnull().any().sum() == 0\n",
    "assert temperature_train.isnull().any().sum() == 0"
   ]
  },
  {
   "cell_type": "markdown",
   "id": "727de64f",
   "metadata": {},
   "source": [
    "##### **Visualizing the data**"
   ]
  },
  {
   "cell_type": "code",
   "execution_count": 14,
   "id": "69259c2e",
   "metadata": {},
   "outputs": [
    {
     "data": {
      "image/png": "[encoded data removed]",
      "text/plain": [
       "<Figure size 1200x600 with 1 Axes>"
      ]
     },
     "metadata": {},
     "output_type": "display_data"
    }
   ],
   "source": [
    "# Visualize distribution with a histogram again(code provided by ChatGPT)\n",
    "sensor_data = pressure_train.iloc[:,1:]\n",
    "all_values = sensor_data.values.flatten()\n",
    "plt.figure(figsize=(12, 6))\n",
    "plt.hist(all_values, bins = np.arange(all_values.min(), all_values.max() + 1, 0.1), edgecolor='black')\n",
    "plt.title('Distribution of All Sensor Values')\n",
    "plt.xlabel('Pressure Train Values')\n",
    "plt.ylabel('Frequency')\n",
    "plt.grid(True)\n",
    "plt.show()"
   ]
  },
  {
   "cell_type": "code",
   "execution_count": 15,
   "id": "01f6981f",
   "metadata": {},
   "outputs": [
    {
     "data": {
      "image/png": "[encoded data removed]",
      "text/plain": [
       "<Figure size 1200x600 with 1 Axes>"
      ]
     },
     "metadata": {},
     "output_type": "display_data"
    }
   ],
   "source": [
    "sensor_data = pressure_pred.iloc[:,1:]\n",
    "all_values = sensor_data.values.flatten()\n",
    "plt.figure(figsize=(12, 6))\n",
    "plt.hist(all_values, bins = np.arange(all_values.min(), all_values.max() + 1, 0.1), edgecolor='black')\n",
    "plt.title('Distribution of All Sensor Values')\n",
    "plt.xlabel('Pressure Pred Values')\n",
    "plt.ylabel('Frequency')\n",
    "plt.grid(True)\n",
    "plt.show()"
   ]
  },
  {
   "cell_type": "markdown",
   "id": "40925eb6",
   "metadata": {},
   "source": [
    "<font color='red'> The distributions are very different and it might explain why the model performs very well on the validation set but not on the test set (Kaggle score): This is called distribution mismatch. Maybe cloning (in time) values "
   ]
  },
  {
   "cell_type": "code",
   "execution_count": 16,
   "id": "45c24e79",
   "metadata": {},
   "outputs": [
    {
     "data": {
      "image/png": "[encoded data removed]",
      "text/plain": [
       "<Figure size 1200x600 with 1 Axes>"
      ]
     },
     "metadata": {},
     "output_type": "display_data"
    }
   ],
   "source": [
    "# Visualize the distribution with a histogram (code provided by ChatGPT)\n",
    "sensor_data = humidity_train.iloc[:,1:]\n",
    "all_values = sensor_data.values.flatten()\n",
    "plt.figure(figsize=(12, 6))\n",
    "plt.hist(all_values, bins = np.arange(all_values.min(), all_values.max() + 1, 0.1), edgecolor='black')\n",
    "plt.title('Distribution of All Sensor Values')\n",
    "plt.xlabel('Humidity Train Values')\n",
    "plt.ylabel('Frequency')\n",
    "plt.grid(True)\n",
    "plt.show()"
   ]
  },
  {
   "cell_type": "code",
   "execution_count": 17,
   "id": "47f23ba4",
   "metadata": {},
   "outputs": [
    {
     "data": {
      "image/png": "[encoded data removed]",
      "text/plain": [
       "<Figure size 1200x600 with 1 Axes>"
      ]
     },
     "metadata": {},
     "output_type": "display_data"
    }
   ],
   "source": [
    "# Visualize the distribution with a histogram (code provided by ChatGPT)\n",
    "sensor_data = humidity_pred.iloc[:,1:]\n",
    "all_values = sensor_data.values.flatten()\n",
    "plt.figure(figsize=(12, 6))\n",
    "plt.hist(all_values, bins = np.arange(all_values.min(), all_values.max() + 1, 0.1), edgecolor='black')\n",
    "plt.title('Distribution of All Sensor Values')\n",
    "plt.xlabel('Humidity Pred Values')\n",
    "plt.ylabel('Frequency')\n",
    "plt.grid(True)\n",
    "plt.show()"
   ]
  },
  {
   "cell_type": "code",
   "execution_count": 18,
   "id": "915a6e2c",
   "metadata": {},
   "outputs": [
    {
     "data": {
      "image/png": "[encoded data removed]",
      "text/plain": [
       "<Figure size 1200x600 with 1 Axes>"
      ]
     },
     "metadata": {},
     "output_type": "display_data"
    }
   ],
   "source": [
    "# Visualize the distribution with a histogram (code provided by ChatGPT)\n",
    "sensor_data = temperature_train.iloc[:,1:]\n",
    "all_values = sensor_data.values.flatten()\n",
    "plt.figure(figsize=(12, 6))\n",
    "plt.hist(all_values, bins = np.arange(all_values.min(), all_values.max() + 1, 0.1), edgecolor='black')\n",
    "plt.title('Distribution of All Sensor Values')\n",
    "plt.xlabel('Temperature Value')\n",
    "plt.ylabel('Frequency')\n",
    "plt.grid(True)\n",
    "plt.show()\n"
   ]
  },
  {
   "cell_type": "code",
   "execution_count": 19,
   "id": "f8bdf0d2",
   "metadata": {},
   "outputs": [
    {
     "data": {
      "text/plain": [
       "Text(0.5, 0.92, '3D Temperature Distribution')"
      ]
     },
     "execution_count": 19,
     "metadata": {},
     "output_type": "execute_result"
    },
    {
     "data": {
      "image/png": "[encoded data removed]",
      "text/plain": [
       "<Figure size 640x480 with 2 Axes>"
      ]
     },
     "metadata": {},
     "output_type": "display_data"
    }
   ],
   "source": [
    "T = temperature_train.iloc[-1,1:].to_numpy()\n",
    "x = coordinates_train[\"x\"].to_numpy()\n",
    "y = coordinates_train[\"y\"].to_numpy()\n",
    "z = coordinates_train[\"z\"].to_numpy()\n",
    "\n",
    "# Create 3D scatter plot\n",
    "fig = plt.figure()\n",
    "ax = fig.add_subplot(111, projection='3d')\n",
    "sc = ax.scatter(x, y, z, c=T, cmap='hot', marker='o')\n",
    "\n",
    "# Add colorbar to show temperature scale\n",
    "plt.colorbar(sc, label='Temperature')\n",
    "\n",
    "# Add labels\n",
    "ax.set_xlabel('X')\n",
    "ax.set_ylabel('Y')\n",
    "ax.set_zlabel('Z')\n",
    "ax.set_title('3D Temperature Distribution')\n"
   ]
  },
  {
   "cell_type": "markdown",
   "id": "36127055",
   "metadata": {},
   "source": [
    "All the chapes are matching, we can assume that indices match between each DataFrame"
   ]
  },
  {
   "cell_type": "markdown",
   "id": "fa38b364",
   "metadata": {},
   "source": [
    "#### **Splitting data**  \n",
    "\n",
    "We will first split the data into 3 sets with an arbitrary split: \n",
    "- Train set\n",
    "- Validation set \n",
    "- Test set  \n",
    "\n",
    "Later we'll implement a cross-validation for a better training."
   ]
  },
  {
   "cell_type": "code",
   "execution_count": 20,
   "id": "072c2467",
   "metadata": {},
   "outputs": [
    {
     "name": "stdout",
     "output_type": "stream",
     "text": [
      "Size of X: (28800, 14)\n"
     ]
    }
   ],
   "source": [
    "## The idea is to have a DataFrame for each time stamp as follows: \n",
    "\n",
    "#           | pressure | humidity | x | y | z | r |  materials... | t |\n",
    "# ----------+----------+----------+---+---+---+---+---------------+---+\n",
    "# N_1       |          |          |   |   |   |   |               |   |\n",
    "# ...       |          |          |   |   |   |   |               |   |\n",
    "# N_900     |          |          |   |   |   |   |               |   |\n",
    "\n",
    "## We will create a dictionary with each timestamp and then stack them into one array\n",
    "X_t: dict = {}\n",
    "y_t: dict = {}\n",
    "\n",
    "for i, t in enumerate(pressure_train['M.Time[d]']): \n",
    "    \n",
    "    ## First, select the pressure data at the time:\n",
    "    P = pressure_train.iloc[i, 1:]\n",
    "\n",
    "    ## Then the humidity:\n",
    "    H = humidity_train.iloc[i,1:]\n",
    "\n",
    "    ## Then transpose those as we need the sensors as rows, not columns:\n",
    "    P = P.T\n",
    "    H = H.T\n",
    "\n",
    "    ## We need to reshape them to concatenate well (n_sensors, 1):   \n",
    "    P = np.reshape(P, (P.shape[0], 1)) \n",
    "    H = np.reshape(H, (H.shape[0], 1))\n",
    "\n",
    "    ## Take coordinates and material features:\n",
    "    coords = coordinates_train.iloc[:,1:].to_numpy()\n",
    "\n",
    "    ## Adding the normalized time as a feature in the last row:\n",
    "    X_i = np.concatenate([P, H, coords, np.ones((P.shape[0], 1))*(t-time_mean)/time_std], axis = 1)\n",
    "\n",
    "    ## Add it to the dictionnary\n",
    "    X_t[t] = X_i\n",
    "\n",
    "for i, t in enumerate(time): \n",
    "    ## for each time we have the solution of the 900 sensors in a vector\n",
    "    y = temperature_train.iloc[i, 1:]\n",
    "    y_t[t] = y.to_numpy()\n",
    "\n",
    "## grouping all the data in one array: \n",
    "X = np.vstack([matrix for matrix in X_t.values()])\n",
    "y = np.vstack([vector.reshape((vector.shape[0], 1)) for vector in y_t.values()])\n",
    "assert X.shape[0] == y.shape[0], \"Mismatch in number of samples\"\n",
    "\n",
    "## Shuffling the rows so the data is well-mixed\n",
    "## Else the model could have an unrepresentative timestamp in one epoch and mess the learning.\n",
    "## First, generate a permutation of indices:\n",
    "permutation = np.random.permutation(X.shape[0])\n",
    "# Then shuffle both X and y using the same permutation\n",
    "X = X[permutation]\n",
    "y = y[permutation]\n",
    "\n",
    "## defining the number of features (useful later for the NN):\n",
    "n_samples, n_features = X.shape\n",
    "print(f\"Size of X: {X.shape}\")"
   ]
  },
  {
   "cell_type": "markdown",
   "id": "827ba9bb",
   "metadata": {},
   "source": [
    "### **Creating the model**  \n",
    "\n",
    "For this project we will first try to use a vanilla neural network"
   ]
  },
  {
   "cell_type": "markdown",
   "id": "df76f8bf",
   "metadata": {},
   "source": [
    "#### **The model**"
   ]
  },
  {
   "cell_type": "code",
   "execution_count": 21,
   "id": "16366c6b",
   "metadata": {},
   "outputs": [],
   "source": [
    "\n",
    "## weight decay is the (L2) regularization strengh\n",
    "## the optimizer parameters are optimal after some testing: lr=1e-3, weight_decay=2e-3\n",
    "\n",
    "## The neural net below was inspired by one we found online and we wanted to test: \n",
    "## https://github.com/GuillaumeJadot/ML_project \n",
    "## We saw that a bigger net had better results on the training and validation sets.\n",
    "\n",
    "class ThreeLayerNet(nn.Module):\n",
    "    \"\"\"\n",
    "    Neural network model class. \n",
    "    \"\"\"\n",
    "    def __init__(self, input_size = 14, hidden_size = 30, middle_size=25, output_size=1, dropout_rate=0.4):\n",
    "        \"\"\"\n",
    "        Initialize the model by setting up the layers.\n",
    "        \"\"\"\n",
    "        super(ThreeLayerNet, self).__init__()\n",
    "        self.fc1 = nn.Linear(input_size, hidden_size)\n",
    "        self.fc2 = nn.Linear(hidden_size, middle_size)\n",
    "        self.fc3 = nn.Linear(middle_size, 32)\n",
    "        self.fc4 = nn.Linear(32, output_size)\n",
    "        self.bn1 = nn.LayerNorm(hidden_size)\n",
    "        self.bn2 = nn.LayerNorm(middle_size)\n",
    "        self.bn3 = nn.LayerNorm(32)\n",
    "        self.dropout = nn.Dropout(dropout_rate)\n",
    "\n",
    "        # Apply Kaiming (He) initialization\n",
    "        nn.init.kaiming_normal_(self.fc1.weight, nonlinearity='relu')\n",
    "        nn.init.kaiming_normal_(self.fc2.weight, nonlinearity='relu')\n",
    "        nn.init.kaiming_normal_(self.fc3.weight, nonlinearity='relu')\n",
    "        nn.init.kaiming_normal_(self.fc4.weight, nonlinearity='relu')\n",
    "\n",
    "    def forward(self, x):\n",
    "        \"\"\"\n",
    "        Perform a forward pass of our model on input features, x.\n",
    "        \"\"\"\n",
    "        x = F.relu(self.bn1(self.fc1(x)))\n",
    "        x = F.relu(self.bn2(self.fc2(x)))\n",
    "        x = F.relu(self.bn3(self.fc3(x)))\n",
    "        x = self.dropout(x)\n",
    "        out = self.fc4(x)\n",
    "        return out\n",
    "    \n"
   ]
  },
  {
   "cell_type": "markdown",
   "id": "3e5dd35e",
   "metadata": {},
   "source": [
    "### **Validation**"
   ]
  },
  {
   "cell_type": "code",
   "execution_count": 22,
   "id": "366605d6",
   "metadata": {},
   "outputs": [],
   "source": [
    "\n",
    "def validate(\n",
    "        model: torch.nn.Module, \n",
    "        loss_fn: torch.nn.Module, \n",
    "        X_val: np.ndarray, \n",
    "        y_val: np.ndarray,\n",
    "\n",
    ") -> float:\n",
    "    \"\"\"Validate the model and return the average loss.\"\"\"\n",
    "\n",
    "    # Initialize metrics for loss:\n",
    "    loss_metric = metrics.LossMetric()\n",
    "    loss_metric.reset()\n",
    "\n",
    "    # Set the model to evaluation mode\n",
    "    model.eval()  \n",
    "\n",
    "    with torch.no_grad():  # Disable gradient calculation for validation\n",
    "\n",
    "        X = X_val\n",
    "        y = y_val\n",
    "\n",
    "        assert X.shape[0] == y.shape[0], f\"Size mismatch between X and y: {X.shape[0]}, {y.shape[0]}\"\n",
    "\n",
    "        for i in range(X.shape[0]):\n",
    "            data = torch.from_numpy(np.array(X[i,:], dtype=np.float32)).unsqueeze(0).to(device) \n",
    "            target = torch.from_numpy(np.array(y[i], dtype=np.float32)).view(1, 1).to(device)\n",
    "\n",
    "            # Forward pass\n",
    "            out = model.forward(data)\n",
    "            loss = loss_fn(out, target)\n",
    "            \n",
    "            # Update metrics & progress bar\n",
    "            ## As the batch size in the validation is 1, it can be more precise than the training and have a better score\n",
    "            loss_metric.update(loss.item(), batch_size=1)\n",
    "                \n",
    "        final_loss = loss_metric.compute()\n",
    "        loss_metric.reset()\n",
    "        return final_loss"
   ]
  },
  {
   "cell_type": "markdown",
   "id": "6de875d6",
   "metadata": {},
   "source": [
    "### **Training**\n",
    "  \n",
    "Each timestamp represents an epoch: data of the ~900 sensors."
   ]
  },
  {
   "cell_type": "code",
   "execution_count": 23,
   "id": "c25cecbc",
   "metadata": {},
   "outputs": [],
   "source": [
    "def train(\n",
    "        model: torch.nn.Module, \n",
    "        optimizer: torch.optim.Optimizer,\n",
    "        loss_fn: torch.nn.Module,\n",
    "        X_train: np.ndarray, \n",
    "        y_train: np.ndarray,\n",
    "        X_val: np.ndarray,\n",
    "        y_val: np.ndarray,\n",
    "        epochs = 5,\n",
    "        batch_size=10\n",
    "):\n",
    "\n",
    "    # Initialize metrics for loss:\n",
    "    loss_metric = metrics.LossMetric()\n",
    "    loss_metric.reset()\n",
    "\n",
    "    ## set the module into training mode: \n",
    "    model.train()\n",
    "\n",
    "    for epoch in range(1, epochs+1):\n",
    "\n",
    "        X_i = X_train\n",
    "        y_i = y_train\n",
    "\n",
    "        ## Set the batch indices: \n",
    "        batch_indices = func.get_batch_indices(X_i.shape[0], batch_size)\n",
    "\n",
    "        ## Set up the progress bar: \n",
    "        pbar = tqdm(total=len(batch_indices), leave=True)\n",
    "        pbar.set_description(f\"epoch: {epoch}\")\n",
    "\n",
    "        ## Iterate through the data:\n",
    "        for i,j in batch_indices:\n",
    "\n",
    "            data = torch.from_numpy( np.array( X_i[i:j,:], dtype=np.float32 ) ).to(device)  #.reshape(batch_size, n_features)\n",
    "            target = torch.from_numpy( np.array( y_i[i:j], dtype=np.float32 ) ).to(device) #.reshape(batch_size, 1)\n",
    "\n",
    "            # Zero-out the gradients\n",
    "            optimizer.zero_grad()\n",
    "\n",
    "            # Forward pass\n",
    "            out = model(data)\n",
    "\n",
    "            # Compute loss\n",
    "            loss = loss_fn(out, target)\n",
    "\n",
    "            # Backward pass\n",
    "            loss.backward()\n",
    "            \n",
    "            # Optimizer step\n",
    "            optimizer.step()\n",
    "\n",
    "            # Update metrics & progress bar\n",
    "            ## Check that the batch indices did not go out of bounds: \n",
    "            assert data.shape[0] != 0, f\"i: {i}, j: {j}, X_i: {X_i.shape}, data: {data}\"\n",
    "            loss_metric.update(loss.item(), batch_size=data.shape[0])\n",
    "            pbar.update()\n",
    "\n",
    "        val_loss = validate(\n",
    "            model=model,\n",
    "            loss_fn=loss_fn,\n",
    "            X_val=X_val,\n",
    "            y_val=y_val\n",
    "        )\n",
    "                \n",
    "        # End of epoch, show loss and acc\n",
    "        pbar.set_postfix_str(f\"Train loss: {loss_metric.compute():.3f} | Validation loss: {val_loss:.3f}\")\n",
    "        loss_metric.reset()\n",
    "                "
   ]
  },
  {
   "cell_type": "code",
   "execution_count": 24,
   "id": "feb070fc",
   "metadata": {},
   "outputs": [
    {
     "name": "stdout",
     "output_type": "stream",
     "text": [
      "\n",
      "=== Fold 1 ===\n"
     ]
    },
    {
     "data": {
      "application/vnd.jupyter.widget-view+json": {
       "model_id": "df2dd74802ec40999320c8f1864d4165",
       "version_major": 2,
       "version_minor": 0
      },
      "text/plain": [
       "  0%|          | 0/840 [00:00<?, ?it/s]"
      ]
     },
     "metadata": {},
     "output_type": "display_data"
    },
    {
     "data": {
      "application/vnd.jupyter.widget-view+json": {
       "model_id": "49ba3cb2a5b04c9f892966b7d3e465c8",
       "version_major": 2,
       "version_minor": 0
      },
      "text/plain": [
       "  0%|          | 0/840 [00:00<?, ?it/s]"
      ]
     },
     "metadata": {},
     "output_type": "display_data"
    },
    {
     "data": {
      "application/vnd.jupyter.widget-view+json": {
       "model_id": "2ebafeb8514b42bc93503f586817261e",
       "version_major": 2,
       "version_minor": 0
      },
      "text/plain": [
       "  0%|          | 0/840 [00:00<?, ?it/s]"
      ]
     },
     "metadata": {},
     "output_type": "display_data"
    },
    {
     "data": {
      "application/vnd.jupyter.widget-view+json": {
       "model_id": "1bf1677e6cc34f0494b58f5d59a40671",
       "version_major": 2,
       "version_minor": 0
      },
      "text/plain": [
       "  0%|          | 0/840 [00:00<?, ?it/s]"
      ]
     },
     "metadata": {},
     "output_type": "display_data"
    },
    {
     "data": {
      "application/vnd.jupyter.widget-view+json": {
       "model_id": "28baf707cd3f463a9a292860b1b1b4e2",
       "version_major": 2,
       "version_minor": 0
      },
      "text/plain": [
       "  0%|          | 0/840 [00:00<?, ?it/s]"
      ]
     },
     "metadata": {},
     "output_type": "display_data"
    },
    {
     "data": {
      "application/vnd.jupyter.widget-view+json": {
       "model_id": "7b3242687c704311b654e14e4abdfcb5",
       "version_major": 2,
       "version_minor": 0
      },
      "text/plain": [
       "  0%|          | 0/840 [00:00<?, ?it/s]"
      ]
     },
     "metadata": {},
     "output_type": "display_data"
    },
    {
     "data": {
      "application/vnd.jupyter.widget-view+json": {
       "model_id": "a192c67bd4df428e8dca88b2ec2effdf",
       "version_major": 2,
       "version_minor": 0
      },
      "text/plain": [
       "  0%|          | 0/840 [00:00<?, ?it/s]"
      ]
     },
     "metadata": {},
     "output_type": "display_data"
    },
    {
     "data": {
      "application/vnd.jupyter.widget-view+json": {
       "model_id": "4aae8d35f78c4867a6c3e27915b64975",
       "version_major": 2,
       "version_minor": 0
      },
      "text/plain": [
       "  0%|          | 0/840 [00:00<?, ?it/s]"
      ]
     },
     "metadata": {},
     "output_type": "display_data"
    },
    {
     "data": {
      "application/vnd.jupyter.widget-view+json": {
       "model_id": "19f2c06cbe2b431f8467cc4b89a774f2",
       "version_major": 2,
       "version_minor": 0
      },
      "text/plain": [
       "  0%|          | 0/840 [00:00<?, ?it/s]"
      ]
     },
     "metadata": {},
     "output_type": "display_data"
    },
    {
     "data": {
      "application/vnd.jupyter.widget-view+json": {
       "model_id": "bdcc3fc48d6b4681afc9bd16bfd53871",
       "version_major": 2,
       "version_minor": 0
      },
      "text/plain": [
       "  0%|          | 0/840 [00:00<?, ?it/s]"
      ]
     },
     "metadata": {},
     "output_type": "display_data"
    },
    {
     "data": {
      "application/vnd.jupyter.widget-view+json": {
       "model_id": "30084766e9454f7c804efbcb69d74f71",
       "version_major": 2,
       "version_minor": 0
      },
      "text/plain": [
       "  0%|          | 0/840 [00:00<?, ?it/s]"
      ]
     },
     "metadata": {},
     "output_type": "display_data"
    },
    {
     "data": {
      "application/vnd.jupyter.widget-view+json": {
       "model_id": "01bdebde6d474f9785aa00a2461cb7b4",
       "version_major": 2,
       "version_minor": 0
      },
      "text/plain": [
       "  0%|          | 0/840 [00:00<?, ?it/s]"
      ]
     },
     "metadata": {},
     "output_type": "display_data"
    },
    {
     "data": {
      "application/vnd.jupyter.widget-view+json": {
       "model_id": "06e5fe2dc51145ec9ac3b7e77d8725ab",
       "version_major": 2,
       "version_minor": 0
      },
      "text/plain": [
       "  0%|          | 0/840 [00:00<?, ?it/s]"
      ]
     },
     "metadata": {},
     "output_type": "display_data"
    },
    {
     "data": {
      "application/vnd.jupyter.widget-view+json": {
       "model_id": "832c41e2f6704830a521184c4e6a51a3",
       "version_major": 2,
       "version_minor": 0
      },
      "text/plain": [
       "  0%|          | 0/840 [00:00<?, ?it/s]"
      ]
     },
     "metadata": {},
     "output_type": "display_data"
    },
    {
     "data": {
      "application/vnd.jupyter.widget-view+json": {
       "model_id": "7fd9412c4c1b42d4b600cbe2f142e534",
       "version_major": 2,
       "version_minor": 0
      },
      "text/plain": [
       "  0%|          | 0/840 [00:00<?, ?it/s]"
      ]
     },
     "metadata": {},
     "output_type": "display_data"
    },
    {
     "data": {
      "application/vnd.jupyter.widget-view+json": {
       "model_id": "52ab525b1d9e4bcda0ff47b53c6a25eb",
       "version_major": 2,
       "version_minor": 0
      },
      "text/plain": [
       "  0%|          | 0/840 [00:00<?, ?it/s]"
      ]
     },
     "metadata": {},
     "output_type": "display_data"
    },
    {
     "data": {
      "application/vnd.jupyter.widget-view+json": {
       "model_id": "38b84d79313a4e64a339fb7a8325d25c",
       "version_major": 2,
       "version_minor": 0
      },
      "text/plain": [
       "  0%|          | 0/840 [00:00<?, ?it/s]"
      ]
     },
     "metadata": {},
     "output_type": "display_data"
    },
    {
     "data": {
      "application/vnd.jupyter.widget-view+json": {
       "model_id": "0f2d7b3f241448b293bbfb8684af5509",
       "version_major": 2,
       "version_minor": 0
      },
      "text/plain": [
       "  0%|          | 0/840 [00:00<?, ?it/s]"
      ]
     },
     "metadata": {},
     "output_type": "display_data"
    },
    {
     "data": {
      "application/vnd.jupyter.widget-view+json": {
       "model_id": "dc8db86365c84aceb33863b71cd795c1",
       "version_major": 2,
       "version_minor": 0
      },
      "text/plain": [
       "  0%|          | 0/840 [00:00<?, ?it/s]"
      ]
     },
     "metadata": {},
     "output_type": "display_data"
    },
    {
     "data": {
      "application/vnd.jupyter.widget-view+json": {
       "model_id": "b6158887fa90431da42aa87fe25cdbfb",
       "version_major": 2,
       "version_minor": 0
      },
      "text/plain": [
       "  0%|          | 0/840 [00:00<?, ?it/s]"
      ]
     },
     "metadata": {},
     "output_type": "display_data"
    },
    {
     "data": {
      "application/vnd.jupyter.widget-view+json": {
       "model_id": "539798ba49a94470800971dbf44ea2ee",
       "version_major": 2,
       "version_minor": 0
      },
      "text/plain": [
       "  0%|          | 0/840 [00:00<?, ?it/s]"
      ]
     },
     "metadata": {},
     "output_type": "display_data"
    },
    {
     "data": {
      "application/vnd.jupyter.widget-view+json": {
       "model_id": "88f2e19ec80141e79a00b85f57aa5efa",
       "version_major": 2,
       "version_minor": 0
      },
      "text/plain": [
       "  0%|          | 0/840 [00:00<?, ?it/s]"
      ]
     },
     "metadata": {},
     "output_type": "display_data"
    },
    {
     "data": {
      "application/vnd.jupyter.widget-view+json": {
       "model_id": "a95a27d51c9e4ae58f5f8f0f26fe5aca",
       "version_major": 2,
       "version_minor": 0
      },
      "text/plain": [
       "  0%|          | 0/840 [00:00<?, ?it/s]"
      ]
     },
     "metadata": {},
     "output_type": "display_data"
    },
    {
     "data": {
      "application/vnd.jupyter.widget-view+json": {
       "model_id": "aa3fde7596514719ab507ce1f0e201c3",
       "version_major": 2,
       "version_minor": 0
      },
      "text/plain": [
       "  0%|          | 0/840 [00:00<?, ?it/s]"
      ]
     },
     "metadata": {},
     "output_type": "display_data"
    },
    {
     "data": {
      "application/vnd.jupyter.widget-view+json": {
       "model_id": "edcba2590d87411ab8300f50f2b15bf0",
       "version_major": 2,
       "version_minor": 0
      },
      "text/plain": [
       "  0%|          | 0/840 [00:00<?, ?it/s]"
      ]
     },
     "metadata": {},
     "output_type": "display_data"
    },
    {
     "name": "stdout",
     "output_type": "stream",
     "text": [
      "\n",
      "Average Validation Loss: 0.087 ± 0.000\n"
     ]
    }
   ],
   "source": [
    "fold_results = []\n",
    "\n",
    "for fold_idx, (train_idx, val_idx) in enumerate(k_fold.split(X, y)):\n",
    "\n",
    "    if fold_idx <= 0:\n",
    "        print(f\"\\n=== Fold {fold_idx + 1} ===\")\n",
    "\n",
    "        ## Build fold-specific datasets\n",
    "        X_train = X[train_idx]\n",
    "        y_train = y[train_idx]\n",
    "        X_val = X[val_idx]\n",
    "        y_val = y[val_idx]\n",
    "\n",
    "        ## Reinitialize the model\n",
    "        model = ThreeLayerNet().to(device)\n",
    "\n",
    "        ## Loss & Optimizer:\n",
    "        loss_fn = nn.MSELoss()\n",
    "        optimizer = optim.SGD(model.parameters(), lr=1e-3, weight_decay=2e-3)\n",
    "\n",
    "\n",
    "        # Train and validate\n",
    "        train(\n",
    "            model=model,\n",
    "            optimizer=optimizer,\n",
    "            loss_fn=loss_fn,\n",
    "            X_train=X_train,\n",
    "            y_train=y_train,\n",
    "            X_val=X_val,\n",
    "            y_val=y_val,\n",
    "            epochs=25,\n",
    "            batch_size=30\n",
    "        )\n",
    "\n",
    "        val_loss = validate(model, loss_fn, X_val, y_val)\n",
    "        \n",
    "        fold_results.append(val_loss)\n",
    "\n",
    "print(f\"\\nAverage Validation Loss: {np.mean(fold_results):.3f} ± {np.std(fold_results):.3f}\")\n",
    "\n",
    "## best train loss: 0.038\n",
    "## best cross val loss: 0.076"
   ]
  },
  {
   "cell_type": "markdown",
   "id": "0ea7729d",
   "metadata": {},
   "source": [
    "### **Testing**\n",
    "\n",
    "let's do only one prediction first to see how it goes"
   ]
  },
  {
   "cell_type": "raw",
   "id": "dceb3c5d",
   "metadata": {
    "vscode": {
     "languageId": "raw"
    }
   },
   "source": [
    "# lets try a few predictions : \n",
    "for i in range(5):\n",
    "    k = random.randint(0,X.shape[0])\n",
    "    data = X[k,:]\n",
    "    label = y[k]\n",
    "    pred = np.array([])\n",
    "\n",
    "    for i in range(len(y)): \n",
    "        data = torch.from_numpy( np.array( X[i,:], dtype=np.float32 ) ) \n",
    "        pred = np.append(pred, model(data).detach().numpy()[0])\n",
    "\n",
    "    print(pred[:6])\n",
    "    print(y[:6])\n",
    "    print(f\"Error: {np.sqrt(func.MSE(pred*temperature_std + temperature_mean ,y*temperature_std + temperature_mean)):.3f} [°C]\")"
   ]
  },
  {
   "cell_type": "markdown",
   "id": "fe9f1d3e",
   "metadata": {},
   "source": [
    "### **Making a submission**"
   ]
  },
  {
   "cell_type": "code",
   "execution_count": 25,
   "id": "406e611a",
   "metadata": {},
   "outputs": [],
   "source": [
    "X_t_pred = {}\n",
    "\n",
    "## Change the sensor_IDs to the prediction ones (N_>900)\n",
    "sensor_IDs = pressure_pred.columns[1:]\n",
    "pred = pd.DataFrame(data = sensor_IDs, columns=[\"id\"])\n",
    "\n",
    "for i, t in enumerate(pressure_pred['M.Time[d]']): \n",
    "    ## first, select the pressure data at the time\n",
    "    P = pressure_pred.iloc[i, 1:]\n",
    "    H = humidity_pred.iloc[i,1:]\n",
    "    ## then transpose as we need the sensor as rows, not columns\n",
    "    P = P.T\n",
    "    H = H.T\n",
    "    P = np.reshape(P, (P.shape[0], 1)) # for some reason it didn't work without reshaping to (n, 1)\n",
    "    H = np.reshape(H, (H.shape[0], 1))\n",
    "\n",
    "    ## then add the coordinates and material features to the array \n",
    "    coords = coordinates_pred.iloc[:,1:].to_numpy()\n",
    "    X = np.concatenate([P,H,coords,np.ones((P.shape[0], 1))*(t-time_mean)/time_std], axis = 1)\n",
    "    ## add it to the dictionnary\n",
    "    X_t_pred[t] = X\n",
    "\n",
    "for t in pressure_pred[\"M.Time[d]\"]:\n",
    "\n",
    "    X = X_t_pred[t]\n",
    "    y_i = []\n",
    "\n",
    "    for i in range(X.shape[0]): \n",
    "        data = torch.from_numpy(np.array( X[i,:], dtype=np.float32 ) ) \n",
    "        y_i.append(model(data).detach().numpy()[0]*temperature_std + temperature_mean)\n",
    "\n",
    "    pred[str(int(t))] = y_i\n",
    "    y_i.clear()    \n",
    "\n",
    "# display(pred)\n",
    "pred.to_csv(\"data\\\\submission.csv\", index=False)"
   ]
  },
  {
   "cell_type": "code",
   "execution_count": 26,
   "id": "1486f81a",
   "metadata": {},
   "outputs": [
    {
     "name": "stdout",
     "output_type": "stream",
     "text": [
      "145\n"
     ]
    },
    {
     "data": {
      "text/plain": [
       "Text(0.5, 0.92, '3D Temperature Distribution')"
      ]
     },
     "execution_count": 26,
     "metadata": {},
     "output_type": "execute_result"
    },
    {
     "data": {
      "image/png": "[encoded data removed]",
      "text/plain": [
       "<Figure size 640x480 with 2 Axes>"
      ]
     },
     "metadata": {},
     "output_type": "display_data"
    }
   ],
   "source": [
    "print(len(pred))\n",
    "T = pred.iloc[:, -20].to_numpy()\n",
    "x = coordinates_pred[\"x\"].to_numpy()\n",
    "y = coordinates_pred[\"y\"].to_numpy()\n",
    "z = coordinates_pred[\"z\"].to_numpy()\n",
    "\n",
    "# Create 3D scatter plot\n",
    "fig = plt.figure()\n",
    "ax = fig.add_subplot(111, projection='3d')\n",
    "sc = ax.scatter(x, y, z, c=T, cmap='hot', marker='o')\n",
    "\n",
    "# Add colorbar to show temperature scale\n",
    "plt.colorbar(sc, label='Temperature')\n",
    "\n",
    "# Add labels\n",
    "ax.set_xlabel('X')\n",
    "ax.set_ylabel('Y')\n",
    "ax.set_zlabel('Z')\n",
    "ax.set_title('3D Temperature Distribution')"
   ]
  },
  {
   "cell_type": "code",
   "execution_count": 27,
   "id": "30bea1ac",
   "metadata": {},
   "outputs": [
    {
     "data": {
      "image/png": "[encoded data removed]",
      "text/plain": [
       "<Figure size 1200x600 with 1 Axes>"
      ]
     },
     "metadata": {},
     "output_type": "display_data"
    }
   ],
   "source": [
    "# Visualize the distribution with a histogram (code provided by ChatGPT)\n",
    "sensor_data = pred.iloc[:,1:]\n",
    "all_values = sensor_data.values.flatten()\n",
    "plt.figure(figsize=(12, 6))\n",
    "plt.hist(all_values, bins = np.arange(all_values.min(), all_values.max() + 1, 0.1), edgecolor='black')\n",
    "plt.title('Distribution of All Sensor Values')\n",
    "plt.xlabel('Temperature Value')\n",
    "plt.ylabel('Frequency')\n",
    "plt.grid(True)\n",
    "plt.show()\n"
   ]
  },
  {
   "cell_type": "code",
   "execution_count": null,
   "id": "126f19bd",
   "metadata": {},
   "outputs": [],
   "source": []
  }
 ],
 "metadata": {
  "kernelspec": {
   "display_name": "introml",
   "language": "python",
   "name": "python3"
  },
  "language_info": {
   "codemirror_mode": {
    "name": "ipython",
    "version": 3
   },
   "file_extension": ".py",
   "mimetype": "text/x-python",
   "name": "python",
   "nbconvert_exporter": "python",
   "pygments_lexer": "ipython3",
   "version": "3.8.20"
  }
 },
 "nbformat": 4,
 "nbformat_minor": 5
}
