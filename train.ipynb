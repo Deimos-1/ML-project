{
 "cells": [
  {
   "cell_type": "markdown",
   "id": "5a80cafc",
   "metadata": {},
   "source": [
    "## Predicting Temperature of Nuclear Waste Canisters ##\n",
    "\n",
    "This file contains the code to run, with a few comments. For more details please refer to the logs.ipynb file."
   ]
  },
  {
   "cell_type": "markdown",
   "id": "04a50af7",
   "metadata": {},
   "source": [
    "### **Imports** "
   ]
  },
  {
   "cell_type": "code",
   "execution_count": 2,
   "id": "639caf9d",
   "metadata": {},
   "outputs": [],
   "source": [
    "import numpy as np\n",
    "import pandas as pd"
   ]
  },
  {
   "cell_type": "markdown",
   "id": "90135bc6",
   "metadata": {},
   "source": [
    "### **Loading of the datasets** "
   ]
  },
  {
   "cell_type": "code",
   "execution_count": 3,
   "id": "e385e896",
   "metadata": {},
   "outputs": [],
   "source": [
    "coordinates_test = pd.read_csv(\"data/Coordinates_Test.csv\")\n",
    "coordinates_train = pd.read_csv(\"data/Coordinates_Training.csv\")\n",
    "humidity_test = pd.read_csv(\"data/Test_Time_humidity.csv\")\n",
    "pressure_test = pd.read_csv(\"data/Test_Time_pressure.csv\")\n",
    "humidity_train = pd.read_csv(\"data/Training_data_humidity.csv\")\n",
    "pressure_train = pd.read_csv(\"data/Training_data_pressure.csv\")\n",
    "temperature_train = pd.read_csv(\"data/Training_data_temperature.csv\")"
   ]
  },
  {
   "cell_type": "markdown",
   "id": "fb0a0efa",
   "metadata": {},
   "source": [
    "### **Visualizing the datasets**"
   ]
  },
  {
   "cell_type": "code",
   "execution_count": null,
   "id": "ef7fbf9c",
   "metadata": {},
   "outputs": [],
   "source": []
  },
  {
   "cell_type": "markdown",
   "id": "c567a792",
   "metadata": {},
   "source": [
    "### **Feature engineering**"
   ]
  },
  {
   "cell_type": "markdown",
   "id": "769e6dc5",
   "metadata": {},
   "source": []
  }
 ],
 "metadata": {
  "kernelspec": {
   "display_name": "introml",
   "language": "python",
   "name": "python3"
  },
  "language_info": {
   "codemirror_mode": {
    "name": "ipython",
    "version": 3
   },
   "file_extension": ".py",
   "mimetype": "text/x-python",
   "name": "python",
   "nbconvert_exporter": "python",
   "pygments_lexer": "ipython3",
   "version": "3.8.20"
  }
 },
 "nbformat": 4,
 "nbformat_minor": 5
}
